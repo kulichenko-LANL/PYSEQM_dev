{
 "cells": [
  {
   "cell_type": "markdown",
   "id": "fcfb8b0a-1b5d-4de4-97f1-9228b2dffcbc",
   "metadata": {
    "tags": []
   },
   "source": [
    "# Example of geometry optimization\n",
    "## Batch of two molecules"
   ]
  },
  {
   "cell_type": "code",
   "execution_count": 1,
   "id": "af25061b-d7f2-407c-8cb0-130049fcc6cb",
   "metadata": {},
   "outputs": [
    {
     "name": "stderr",
     "output_type": "stream",
     "text": [
      "/home/maxim/anaconda3/envs/hipnn_1/lib/python3.9/site-packages/tqdm/auto.py:21: TqdmWarning: IProgress not found. Please update jupyter and ipywidgets. See https://ipywidgets.readthedocs.io/en/stable/user_install.html\n",
      "  from .autonotebook import tqdm as notebook_tqdm\n"
     ]
    }
   ],
   "source": [
    "import sys\n",
    "### path to PYSEQM ###\n",
    "sys.path.insert(1, \"/home/maxim/Projects/git2/PYSEQM_dev/\")\n",
    "import torch\n",
    "from seqm.seqm_functions.constants import Constants\n",
    "from seqm.Molecule import Molecule\n",
    "from seqm.MolecularDynamics import Geometry_Optimization_SD\n",
    "from seqm.seqm_functions.read_xyz import read_xyz\n",
    "from seqm.seqm_functions.save_xyz import save_xyz\n",
    "torch.set_default_dtype(torch.float64)\n",
    "if torch.cuda.is_available():\n",
    "    device = torch.device('cuda')\n",
    "else:\n",
    "    device = torch.device('cpu')"
   ]
  },
  {
   "cell_type": "code",
   "execution_count": 2,
   "id": "b30a529c-d535-4226-915e-b4aa69cd4600",
   "metadata": {
    "scrolled": true,
    "tags": []
   },
   "outputs": [
    {
     "name": "stdout",
     "output_type": "stream",
     "text": [
      "Step,  Max_Force,      Etot(eV),     dE(eV)\n"
     ]
    },
    {
     "name": "stderr",
     "output_type": "stream",
     "text": [
      "/home/maxim/Projects/git2/PYSEQM_dev/seqm/seqm_functions/diag_d.py:109: UserWarning: torch.symeig is deprecated in favor of torch.linalg.eigh and will be removed in a future PyTorch release.\n",
      "The default behavior has changed from using the upper triangular portion of the matrix by default to using the lower triangular portion.\n",
      "L, _ = torch.symeig(A, upper=upper)\n",
      "should be replaced with\n",
      "L = torch.linalg.eigvalsh(A, UPLO='U' if upper else 'L')\n",
      "and\n",
      "L, V = torch.symeig(A, eigenvectors=True)\n",
      "should be replaced with\n",
      "L, V = torch.linalg.eigh(A, UPLO='U' if upper else 'L') (Triggered internally at /opt/conda/conda-bld/pytorch_1670525551200/work/aten/src/ATen/native/BatchLinearAlgebra.cpp:2794.)\n",
      "  e0,v = torch.symeig(x0,eigenvectors=True,upper=True)\n"
     ]
    },
    {
     "name": "stdout",
     "output_type": "stream",
     "text": [
      "1      1.219416e+00 ||-8.825343e-01 -8.825343e-01 ||-8.825343e-01 -8.825343e-01 ||-2.264059e+00 -2.264059e+00 \n",
      "2      1.014669e+00 ||-8.900513e-01 -7.516916e-03 ||-8.900513e-01 -7.516916e-03 ||-2.289391e+00 -2.533232e-02 \n",
      "3      8.510361e-01 ||-8.931340e-01 -3.082785e-03 ||-8.931340e-01 -3.082785e-03 ||-2.306793e+00 -1.740112e-02 \n",
      "4      7.184184e-01 ||-8.947297e-01 -1.595697e-03 ||-8.947297e-01 -1.595697e-03 ||-2.319093e+00 -1.230093e-02 \n",
      "5      6.097146e-01 ||-8.955843e-01 -8.545348e-04 ||-8.955843e-01 -8.545348e-04 ||-2.327960e+00 -8.866686e-03 \n",
      "6      5.198888e-01 ||-8.960444e-01 -4.601459e-04 ||-8.960444e-01 -4.601459e-04 ||-2.334447e+00 -6.486379e-03 \n",
      "7      4.451352e-01 ||-8.962926e-01 -2.481912e-04 ||-8.962926e-01 -2.481912e-04 ||-2.339251e+00 -4.804734e-03 \n",
      "8      3.825704e-01 ||-8.964269e-01 -1.342557e-04 ||-8.964269e-01 -1.342557e-04 ||-2.342850e+00 -3.598862e-03 \n",
      "9      3.299449e-01 ||-8.965000e-01 -7.309691e-05 ||-8.965000e-01 -7.309691e-05 ||-2.345573e+00 -2.722642e-03 \n",
      "10      2.854706e-01 ||-8.965402e-01 -4.026584e-05 ||-8.965402e-01 -4.026584e-05 ||-2.347651e+00 -2.078003e-03 \n",
      "11      2.477108e-01 ||-8.965628e-01 -2.256844e-05 ||-8.965628e-01 -2.256844e-05 ||-2.349248e+00 -1.597156e-03 \n",
      "12      2.155501e-01 ||-8.965758e-01 -1.297741e-05 ||-8.965758e-01 -1.297741e-05 ||-2.350483e+00 -1.235442e-03 \n",
      "13      1.880316e-01 ||-8.965835e-01 -7.730822e-06 ||-8.965835e-01 -7.730822e-06 ||-2.351444e+00 -9.602414e-04 \n",
      "14      1.643850e-01 ||-8.965883e-01 -4.818114e-06 ||-8.965883e-01 -4.818114e-06 ||-2.352193e+00 -7.489766e-04 \n",
      "15      1.439892e-01 ||-8.965915e-01 -3.164974e-06 ||-8.965915e-01 -3.164974e-06 ||-2.352778e+00 -5.856741e-04 \n",
      "16      1.263375e-01 ||-8.965937e-01 -2.197006e-06 ||-8.965937e-01 -2.197006e-06 ||-2.353237e+00 -4.587350e-04 \n",
      "17      1.110124e-01 ||-8.965953e-01 -1.606415e-06 ||-8.965953e-01 -1.606415e-06 ||-2.353597e+00 -3.596904e-04 \n",
      "18      9.766905e-02 ||-8.965965e-01 -1.229620e-06 ||-8.965965e-01 -1.229620e-06 ||-2.353879e+00 -2.822054e-04 \n",
      "19      8.602144e-02 ||-8.965975e-01 -9.712673e-07 ||-8.965975e-01 -9.712673e-07 ||-2.354100e+00 -2.214792e-04 \n",
      "20      7.583112e-02 ||-8.965983e-01 -7.874573e-07 ||-8.965983e-01 -7.874573e-07 ||-2.354274e+00 -1.738343e-04 \n",
      "21      6.689824e-02 ||-8.965989e-01 -6.494864e-07 ||-8.965989e-01 -6.494864e-07 ||-2.354411e+00 -1.364298e-04 \n",
      "22      5.905438e-02 ||-8.965995e-01 -5.419064e-07 ||-8.965995e-01 -5.419064e-07 ||-2.354518e+00 -1.070568e-04 \n",
      "23      5.215685e-02 ||-8.965999e-01 -4.555755e-07 ||-8.965999e-01 -4.555755e-07 ||-2.354602e+00 -8.398992e-05 \n",
      "24      4.609494e-02 ||-8.966003e-01 -3.848560e-07 ||-8.966003e-01 -3.848560e-07 ||-2.354668e+00 -6.592288e-05 \n",
      "25      4.074246e-02 ||-8.966006e-01 -3.261134e-07 ||-8.966006e-01 -3.261134e-07 ||-2.354719e+00 -5.167799e-05 \n",
      "26      3.602052e-02 ||-8.966009e-01 -2.768738e-07 ||-8.966009e-01 -2.768738e-07 ||-2.354760e+00 -4.050738e-05 \n",
      "27      3.185208e-02 ||-8.966012e-01 -2.353560e-07 ||-8.966012e-01 -2.353560e-07 ||-2.354792e+00 -3.174400e-05 \n",
      "28      2.817029e-02 ||-8.966014e-01 -2.002149e-07 ||-8.966014e-01 -2.002149e-07 ||-2.354816e+00 -2.487126e-05 \n",
      "29      2.491693e-02 ||-8.966015e-01 -1.704028e-07 ||-8.966015e-01 -1.704028e-07 ||-2.354836e+00 -1.948275e-05 \n",
      "30      2.204115e-02 ||-8.966017e-01 -1.450717e-07 ||-8.966017e-01 -1.450717e-07 ||-2.354851e+00 -1.525902e-05 \n",
      "31      1.949845e-02 ||-8.966018e-01 -1.235324e-07 ||-8.966018e-01 -1.235324e-07 ||-2.354863e+00 -1.194910e-05 \n",
      "32      1.724978e-02 ||-8.966019e-01 -1.052012e-07 ||-8.966019e-01 -1.052012e-07 ||-2.354872e+00 -9.355831e-06 \n",
      "33      1.526082e-02 ||-8.966020e-01 -8.959614e-08 ||-8.966020e-01 -8.959614e-08 ||-2.354880e+00 -7.324455e-06 \n",
      "34      1.351810e-02 ||-8.966021e-01 -7.631223e-08 ||-8.966021e-01 -7.631223e-08 ||-2.354885e+00 -5.715925e-06 \n",
      "35      1.196060e-02 ||-8.966021e-01 -6.499846e-08 ||-8.966021e-01 -6.499846e-08 ||-2.354890e+00 -4.501744e-06 \n",
      "36      1.058123e-02 ||-8.966022e-01 -5.536185e-08 ||-8.966022e-01 -5.536185e-08 ||-2.354894e+00 -3.521720e-06 \n",
      "37      9.360535e-03 ||-8.966022e-01 -4.715537e-08 ||-8.966022e-01 -4.715537e-08 ||-2.354896e+00 -2.754027e-06 \n",
      "converged with 37 step, Max Force = 9.360535e-03 (eV/Ang), dE = -9.494459e-07 (eV)\n",
      "CPU times: user 39.7 s, sys: 1.66 s, total: 41.4 s\n",
      "Wall time: 38.4 s\n"
     ]
    }
   ],
   "source": [
    "%%time\n",
    "\n",
    "species = torch.as_tensor([[8,6,1,1],\n",
    "                           [8,6,1,1],\n",
    "                           [8,1,1,0]], # zero-padding for batching\n",
    "                          dtype=torch.int64, device=device)\n",
    "\n",
    "coordinates = torch.tensor([\n",
    "                              [\n",
    "                               [0.00,    0.00,    0.00],\n",
    "                               [1.22,    0.00,    0.00],\n",
    "                               [1.82,    0.94,    0.00],\n",
    "                               [1.82,   -0.94,    0.00]\n",
    "                              ],\n",
    "                              [\n",
    "                               [0.00,    0.00,    0.00],\n",
    "                               [1.22,    0.00,    0.00],\n",
    "                               [1.82,    0.94,    0.00],\n",
    "                               [1.82,   -0.94,    0.00]\n",
    "                              ],\n",
    "                              [\n",
    "                               [ 0.00,    0.00,    0.00],\n",
    "                               [ 0.96,    0.00,    0.00],\n",
    "                               [-0.45,   -0.57,    0.67],\n",
    "                               [0.0,0.0,0.0]            # zero-padding for batching\n",
    "                              ]\n",
    "                            ], device=device)\n",
    "\n",
    "const = Constants().to(device)\n",
    "#may need to add scaling factor for length and energy on const, check constants.py\n",
    "\n",
    "elements = [0]+sorted(set(species.reshape(-1).tolist()))\n",
    "seqm_parameters = {\n",
    "                   'method' : 'PM6', # AM1, MNDO, PM3, PM6, PM6_SP. PM6_SP is PM6 without d-orbitals. Effectively, PM6 for the first two rows of periodic table\n",
    "                   'scf_eps' : 1.0e-6,  # unit eV, change of electric energy, as nuclear energy doesnt' change during SCF\n",
    "                   'scf_converger' : [1,0.0], # converger used for scf loop\n",
    "                                         # [0, 0.1], [0, alpha] constant mixing, P = alpha*P + (1.0-alpha)*Pnew\n",
    "                                         # [1], adaptive mixing\n",
    "                                         # [2], adaptive mixing, then pulay\n",
    "                   'sp2' : [False, 1.0e-5],  # whether to use sp2 algorithm in scf loop,\n",
    "                                            #[True, eps] or [False], eps for SP2 conve criteria\n",
    "                   'elements' : elements, #[0,1,6,8],\n",
    "                   'learned' : [], # learned parameters name list, e.g ['U_ss']\n",
    "                   #'parameter_file_dir' : '../seqm/params/', # file directory for other required parameters\n",
    "                   'pair_outer_cutoff' : 1.0e10, # consistent with the unit on coordinates\n",
    "                   'eig' : True\n",
    "                   }\n",
    "\n",
    "molecule = Molecule(const, seqm_parameters, coordinates, species).to(device)\n",
    "\n",
    "opt =  Geometry_Optimization_SD(seqm_parameters, alpha=0.008, force_tol=1.0e-2, max_evl=40).to(device)\n",
    "max_force, dE =  opt.run(molecule)"
   ]
  },
  {
   "cell_type": "markdown",
   "id": "154e82a3-bb82-4cb4-ba73-e680ce649487",
   "metadata": {},
   "source": [
    "### Final forces and optimized geometry"
   ]
  },
  {
   "cell_type": "code",
   "execution_count": 3,
   "id": "5d4a465c-c235-4388-bffd-ce3182b5a51a",
   "metadata": {},
   "outputs": [
    {
     "data": {
      "text/plain": [
       "tensor([[[ 7.3789e-04,  2.3870e-15, -1.7034e-14],\n",
       "         [ 7.6861e-04, -4.3779e-14,  1.3083e-14],\n",
       "         [-7.5325e-04,  1.2152e-03,  4.0286e-16],\n",
       "         [-7.5325e-04, -1.2152e-03,  3.5482e-15]],\n",
       "\n",
       "        [[ 7.3789e-04,  2.3870e-15, -1.7034e-14],\n",
       "         [ 7.6861e-04, -4.3779e-14,  1.3083e-14],\n",
       "         [-7.5325e-04,  1.2152e-03,  4.0286e-16],\n",
       "         [-7.5325e-04, -1.2152e-03,  3.5482e-15]],\n",
       "\n",
       "        [[-5.5423e-03,  5.8053e-03, -6.8237e-03],\n",
       "         [-3.8182e-03, -5.5440e-03,  6.5167e-03],\n",
       "         [ 9.3605e-03, -2.6124e-04,  3.0707e-04],\n",
       "         [-0.0000e+00, -0.0000e+00, -0.0000e+00]]], device='cuda:0')"
      ]
     },
     "execution_count": 3,
     "metadata": {},
     "output_type": "execute_result"
    }
   ],
   "source": [
    "molecule.force"
   ]
  },
  {
   "cell_type": "code",
   "execution_count": 4,
   "id": "a504df8b-e33d-4782-868c-c4e086d3bc2d",
   "metadata": {},
   "outputs": [
    {
     "data": {
      "text/plain": [
       "tensor([[[ 1.5829e-02,  5.5156e-16, -2.2297e-16],\n",
       "         [ 1.2266e+00, -6.0692e-16,  3.9896e-16],\n",
       "         [ 1.8088e+00,  9.3016e-01, -5.4734e-16],\n",
       "         [ 1.8088e+00, -9.3016e-01,  3.7135e-16]],\n",
       "\n",
       "        [[ 1.5829e-02,  5.5156e-16, -2.2297e-16],\n",
       "         [ 1.2266e+00, -6.0692e-16,  3.9896e-16],\n",
       "         [ 1.8088e+00,  9.3016e-01, -5.4734e-16],\n",
       "         [ 1.8088e+00, -9.3016e-01,  3.7135e-16]],\n",
       "\n",
       "        [[-2.6254e-02,  1.5565e-02, -1.8296e-02],\n",
       "         [ 9.1955e-01, -3.1656e-02,  3.7210e-02],\n",
       "         [-3.8329e-01, -5.5391e-01,  6.5109e-01],\n",
       "         [ 0.0000e+00,  0.0000e+00,  0.0000e+00]]], device='cuda:0',\n",
       "       requires_grad=True)"
      ]
     },
     "execution_count": 4,
     "metadata": {},
     "output_type": "execute_result"
    }
   ],
   "source": [
    "molecule.coordinates"
   ]
  },
  {
   "cell_type": "markdown",
   "id": "c8cffcd0-cef3-46e3-adca-f480ac24bd2a",
   "metadata": {
    "tags": []
   },
   "source": [
    "### Save optimized geometries to .xyz files without final forces."
   ]
  },
  {
   "cell_type": "code",
   "execution_count": 5,
   "id": "743749ab-4b83-4e80-9187-ae058890ee07",
   "metadata": {},
   "outputs": [],
   "source": [
    "save_xyz(molecule, 'XYZ', Forces=False)"
   ]
  },
  {
   "cell_type": "markdown",
   "id": "7135cc73-c007-421f-a320-6d78fc013113",
   "metadata": {},
   "source": [
    "## Reading starting geometries from .xyz\n",
    "### Only molecules of the same length are supported for batched xyz_reader."
   ]
  },
  {
   "cell_type": "code",
   "execution_count": 9,
   "id": "6a917094-7115-4f17-9d7d-b851c79551bd",
   "metadata": {
    "scrolled": true,
    "tags": []
   },
   "outputs": [
    {
     "name": "stdout",
     "output_type": "stream",
     "text": [
      "Step,  Max_Force,      Etot(eV),     dE(eV)\n",
      "1      6.241720e-01 ||4.242794e+00 4.242794e+00 ||4.242794e+00 4.242794e+00 \n",
      "2      2.836076e-01 ||4.190713e+00 -5.208102e-02 ||4.190713e+00 -5.208102e-02 \n",
      "3      1.641281e-01 ||4.181992e+00 -8.720535e-03 ||4.181992e+00 -8.720532e-03 \n",
      "4      1.098067e-01 ||4.178762e+00 -3.229772e-03 ||4.178762e+00 -3.229775e-03 \n",
      "5      7.981583e-02 ||4.177235e+00 -1.527291e-03 ||4.177235e+00 -1.527290e-03 \n",
      "6      6.580419e-02 ||4.176424e+00 -8.111486e-04 ||4.176424e+00 -8.111624e-04 \n",
      "7      5.633106e-02 ||4.175942e+00 -4.824328e-04 ||4.175942e+00 -4.824390e-04 \n",
      "8      5.242781e-02 ||4.175611e+00 -3.307275e-04 ||4.175611e+00 -3.307071e-04 \n",
      "9      4.830436e-02 ||4.175357e+00 -2.537246e-04 ||4.175357e+00 -2.537422e-04 \n",
      "10      4.553573e-02 ||4.175151e+00 -2.064744e-04 ||4.175151e+00 -2.064600e-04 \n",
      "11      4.362772e-02 ||4.174967e+00 -1.836379e-04 ||4.174967e+00 -1.836198e-04 \n",
      "12      4.173173e-02 ||4.174802e+00 -1.647795e-04 ||4.174802e+00 -1.647987e-04 \n",
      "13      4.000233e-02 ||4.174652e+00 -1.500676e-04 ||4.174652e+00 -1.500304e-04 \n",
      "14      3.839603e-02 ||4.174514e+00 -1.378575e-04 ||4.174514e+00 -1.378797e-04 \n",
      "15      3.676085e-02 ||4.174388e+00 -1.263598e-04 ||4.174388e+00 -1.263664e-04 \n",
      "16      3.526035e-02 ||4.174271e+00 -1.165020e-04 ||4.174271e+00 -1.165277e-04 \n",
      "17      3.386333e-02 ||4.174164e+00 -1.079072e-04 ||4.174164e+00 -1.078721e-04 \n",
      "18      3.254909e-02 ||4.174063e+00 -1.000169e-04 ||4.174063e+00 -1.000165e-04 \n",
      "19      3.130385e-02 ||4.173971e+00 -9.280506e-05 ||4.173971e+00 -9.279543e-05 \n",
      "20      3.011850e-02 ||4.173885e+00 -8.617068e-05 ||4.173885e+00 -8.619008e-05 \n",
      "21      2.885514e-02 ||4.173805e+00 -7.920840e-05 ||4.173805e+00 -7.921386e-05 \n",
      "22      2.769253e-02 ||4.173732e+00 -7.331670e-05 ||4.173732e+00 -7.331907e-05 \n",
      "23      2.674536e-02 ||4.173663e+00 -6.900380e-05 ||4.173663e+00 -6.896302e-05 \n",
      "24      2.567786e-02 ||4.173599e+00 -6.353645e-05 ||4.173599e+00 -6.359564e-05 \n",
      "25      2.468328e-02 ||4.173540e+00 -5.898084e-05 ||4.173540e+00 -5.895525e-05 \n",
      "26      2.378585e-02 ||4.173486e+00 -5.480564e-05 ||4.173486e+00 -5.484771e-05 \n",
      "27      2.294334e-02 ||4.173435e+00 -5.107148e-05 ||4.173435e+00 -5.105302e-05 \n",
      "28      2.199527e-02 ||4.173388e+00 -4.669241e-05 ||4.173388e+00 -4.667121e-05 \n",
      "29      2.127959e-02 ||4.173344e+00 -4.415255e-05 ||4.173344e+00 -4.413518e-05 \n",
      "30      2.056692e-02 ||4.173302e+00 -4.126977e-05 ||4.173302e+00 -4.129756e-05 \n",
      "31      1.973852e-02 ||4.173265e+00 -3.773536e-05 ||4.173265e+00 -3.769543e-05 \n",
      "32      1.898059e-02 ||4.173230e+00 -3.494537e-05 ||4.173230e+00 -3.499400e-05 \n",
      "33      1.841216e-02 ||4.173196e+00 -3.340770e-05 ||4.173196e+00 -3.339541e-05 \n",
      "34      1.769835e-02 ||4.173166e+00 -3.053001e-05 ||4.173166e+00 -3.054266e-05 \n",
      "35      1.703857e-02 ||4.173137e+00 -2.837529e-05 ||4.173137e+00 -2.836870e-05 \n",
      "36      1.641650e-02 ||4.173111e+00 -2.641245e-05 ||4.173111e+00 -2.639683e-05 \n",
      "37      1.583140e-02 ||4.173086e+00 -2.468793e-05 ||4.173086e+00 -2.467124e-05 \n",
      "38      1.527237e-02 ||4.173063e+00 -2.303801e-05 ||4.173063e+00 -2.304596e-05 \n",
      "39      1.474080e-02 ||4.173042e+00 -2.153528e-05 ||4.173042e+00 -2.154419e-05 \n",
      "40      1.408354e-02 ||4.173023e+00 -1.926281e-05 ||4.173023e+00 -1.925306e-05 \n",
      "41      1.364366e-02 ||4.173004e+00 -1.869818e-05 ||4.173004e+00 -1.872156e-05 \n",
      "42      1.320252e-02 ||4.172986e+00 -1.758654e-05 ||4.172986e+00 -1.759433e-05 \n",
      "43      1.262883e-02 ||4.172971e+00 -1.566098e-05 ||4.172971e+00 -1.562942e-05 \n",
      "44      1.225776e-02 ||4.172955e+00 -1.536312e-05 ||4.172955e+00 -1.536308e-05 \n",
      "45      1.173522e-02 ||4.172942e+00 -1.359634e-05 ||4.172942e+00 -1.362467e-05 \n",
      "46      1.140859e-02 ||4.172928e+00 -1.350278e-05 ||4.172928e+00 -1.349584e-05 \n",
      "47      1.092911e-02 ||4.172916e+00 -1.188590e-05 ||4.172916e+00 -1.188623e-05 \n",
      "48      1.049532e-02 ||4.172905e+00 -1.105229e-05 ||4.172905e+00 -1.104940e-05 \n",
      "49      1.023242e-02 ||4.172894e+00 -1.113718e-05 ||4.172894e+00 -1.114023e-05 \n",
      "50      9.816291e-03 ||4.172884e+00 -9.777446e-06 ||4.172884e+00 -9.717719e-06 \n",
      "converged with 50 step, Max Force = 9.816291e-03 (eV/Ang), dE = -9.747582e-06 (eV)\n",
      "CPU times: user 22 s, sys: 19.8 ms, total: 22 s\n",
      "Wall time: 22 s\n"
     ]
    }
   ],
   "source": [
    "%%time\n",
    "torch.manual_seed(0)\n",
    "files = ['coronene.xyz', 'coronene.xyz']\n",
    "\n",
    "species, coordinates = read_xyz(files)\n",
    "species = torch.as_tensor(species,dtype=torch.int64, device=device)[:]\n",
    "coordinates = torch.tensor(coordinates, device=device)[:]\n",
    "const = Constants().to(device)\n",
    "#may need to add scaling factor for length and energy on const, check constants.py\n",
    "\n",
    "elements = [0]+sorted(set(species.reshape(-1).tolist()))\n",
    "seqm_parameters = {\n",
    "                   'method' : 'AM1',  # AM1, MNDO, PM3, PM6, PM6_SP. PM6_SP is PM6 without d-orbitals. Effectively, PM6 for the first two rows of periodic table\n",
    "                   'scf_eps' : 1.0e-6,  # unit eV, change of electric energy, as nuclear energy doesnt' change during SCF\n",
    "                   'scf_converger' : [2,0.0], # converger used for scf loop\n",
    "                                         # [0, 0.1], [0, alpha] constant mixing, P = alpha*P + (1.0-alpha)*Pnew\n",
    "                                         # [1], adaptive mixing\n",
    "                                         # [2], adaptive mixing, then pulay\n",
    "                   'sp2' : [False, 1.0e-5],  # whether to use sp2 algorithm in scf loop,\n",
    "                                            #[True, eps] or [False], eps for SP2 conve criteria\n",
    "                   'elements' : elements, #[0,1,6,8],\n",
    "                   'learned' : [], # learned parameters name list, e.g ['U_ss']\n",
    "                   #'parameter_file_dir' : '../seqm/params/', # file directory for other required parameters\n",
    "                   'pair_outer_cutoff' : 1.0e10, # consistent with the unit on coordinates\n",
    "                   'eig' : True\n",
    "                   }\n",
    "\n",
    "molecule = Molecule(const, seqm_parameters, coordinates, species).to(device)\n",
    "\n",
    "opt =  Geometry_Optimization_SD(seqm_parameters, alpha=0.007, force_tol=1.0e-2, max_evl=60).to(device)\n",
    "max_force, dE =  opt.run(molecule)"
   ]
  },
  {
   "cell_type": "markdown",
   "id": "b929e41f-c665-41fc-9dc2-74321ccb7e7a",
   "metadata": {},
   "source": [
    "### Alternatively, use zero-padding in .xyz files for molecules of different lengths."
   ]
  },
  {
   "cell_type": "code",
   "execution_count": 10,
   "id": "c9ede1a5-90b8-4f84-a3ae-ef539f1901eb",
   "metadata": {
    "scrolled": true,
    "tags": []
   },
   "outputs": [
    {
     "name": "stdout",
     "output_type": "stream",
     "text": [
      "Step,  Max_Force,      Etot(eV),     dE(eV)\n",
      "1      6.241720e-01 ||4.242794e+00 4.242794e+00 ||9.740017e-01 9.740017e-01 \n",
      "2      2.836076e-01 ||4.190713e+00 -5.208102e-02 ||9.609449e-01 -1.305688e-02 \n",
      "3      1.721170e-01 ||4.181992e+00 -8.720531e-03 ||9.589003e-01 -2.044565e-03 \n",
      "4      1.372997e-01 ||4.178762e+00 -3.229780e-03 ||9.576902e-01 -1.210146e-03 \n",
      "5      1.150457e-01 ||4.177235e+00 -1.527303e-03 ||9.568571e-01 -8.330147e-04 \n",
      "6      9.455538e-02 ||4.176424e+00 -8.111480e-04 ||9.562795e-01 -5.776414e-04 \n",
      "7      7.870863e-02 ||4.175942e+00 -4.824371e-04 ||9.558831e-01 -3.964276e-04 \n",
      "8      6.568225e-02 ||4.175611e+00 -3.307098e-04 ||9.556053e-01 -2.777277e-04 \n",
      "9      5.474883e-02 ||4.175357e+00 -2.537479e-04 ||9.554117e-01 -1.936680e-04 \n",
      "10      4.557411e-02 ||4.175151e+00 -2.064323e-04 ||9.552771e-01 -1.346051e-04 \n",
      "11      4.362692e-02 ||4.174967e+00 -1.836520e-04 ||9.551830e-01 -9.410634e-05 \n",
      "12      4.173192e-02 ||4.174802e+00 -1.647843e-04 ||9.551176e-01 -6.534846e-05 \n",
      "13      4.000240e-02 ||4.174652e+00 -1.500489e-04 ||9.550718e-01 -4.582042e-05 \n",
      "14      3.839605e-02 ||4.174514e+00 -1.378683e-04 ||9.550394e-01 -3.237368e-05 \n",
      "15      3.676112e-02 ||4.174388e+00 -1.263692e-04 ||9.550172e-01 -2.222069e-05 \n",
      "16      3.526030e-02 ||4.174271e+00 -1.165225e-04 ||9.550016e-01 -1.562750e-05 \n",
      "17      3.386246e-02 ||4.174164e+00 -1.078802e-04 ||9.549905e-01 -1.111873e-05 \n",
      "18      3.254831e-02 ||4.174064e+00 -1.000017e-04 ||9.549824e-01 -8.007529e-06 \n",
      "19      3.130282e-02 ||4.173971e+00 -9.282190e-05 ||9.549766e-01 -5.839551e-06 \n",
      "20      3.011763e-02 ||4.173885e+00 -8.617206e-05 ||9.549723e-01 -4.312630e-06 \n",
      "21      2.885399e-02 ||4.173805e+00 -7.920157e-05 ||9.549691e-01 -3.224828e-06 \n",
      "22      2.769159e-02 ||4.173732e+00 -7.332905e-05 ||9.549666e-01 -2.440452e-06 \n",
      "23      2.674466e-02 ||4.173663e+00 -6.898922e-05 ||9.549648e-01 -1.867777e-06 \n",
      "24      2.567623e-02 ||4.173599e+00 -6.353066e-05 ||9.549633e-01 -1.444369e-06 \n",
      "25      2.468272e-02 ||4.173540e+00 -5.899646e-05 ||9.549622e-01 -1.127410e-06 \n",
      "26      2.378602e-02 ||4.173486e+00 -5.484095e-05 ||9.549613e-01 -8.872867e-07 \n",
      "27      2.294153e-02 ||4.173435e+00 -5.102001e-05 ||9.549606e-01 -7.033027e-07 \n",
      "28      2.199646e-02 ||4.173388e+00 -4.673662e-05 ||9.549600e-01 -5.608681e-07 \n",
      "29      2.127782e-02 ||4.173344e+00 -4.412068e-05 ||9.549596e-01 -4.495655e-07 \n",
      "30      2.056619e-02 ||4.173302e+00 -4.126906e-05 ||9.549592e-01 -3.618647e-07 \n",
      "31      1.973859e-02 ||4.173265e+00 -3.771439e-05 ||9.549589e-01 -2.922720e-07 \n",
      "32      1.898115e-02 ||4.173230e+00 -3.499214e-05 ||9.549587e-01 -2.367074e-07 \n",
      "33      1.841162e-02 ||4.173196e+00 -3.340610e-05 ||9.549585e-01 -1.921185e-07 \n",
      "34      1.769641e-02 ||4.173166e+00 -3.050618e-05 ||9.549584e-01 -1.561862e-07 \n",
      "35      1.703889e-02 ||4.173137e+00 -2.837163e-05 ||9.549582e-01 -1.271342e-07 \n",
      "36      1.641735e-02 ||4.173111e+00 -2.643232e-05 ||9.549581e-01 -1.035764e-07 \n",
      "37      1.583019e-02 ||4.173086e+00 -2.467051e-05 ||9.549580e-01 -8.443976e-08 \n",
      "38      1.527096e-02 ||4.173063e+00 -2.306169e-05 ||9.549580e-01 -6.886467e-08 \n",
      "39      1.473712e-02 ||4.173042e+00 -2.149372e-05 ||9.549579e-01 -5.617130e-08 \n",
      "40      1.408390e-02 ||4.173023e+00 -1.930558e-05 ||9.549579e-01 -4.582398e-08 \n",
      "41      1.364190e-02 ||4.173004e+00 -1.870774e-05 ||9.549578e-01 -3.737841e-08 \n",
      "42      1.320075e-02 ||4.172986e+00 -1.758163e-05 ||9.549578e-01 -3.048717e-08 \n",
      "43      1.262837e-02 ||4.172971e+00 -1.561182e-05 ||9.549578e-01 -2.485740e-08 \n",
      "44      1.225864e-02 ||4.172955e+00 -1.537446e-05 ||9.549578e-01 -2.026400e-08 \n",
      "45      1.173561e-02 ||4.172942e+00 -1.360525e-05 ||9.549577e-01 -1.651415e-08 \n",
      "46      1.141011e-02 ||4.172928e+00 -1.352520e-05 ||9.549577e-01 -1.345279e-08 \n",
      "47      1.092891e-02 ||4.172916e+00 -1.189319e-05 ||9.549577e-01 -1.095395e-08 \n",
      "48      1.049298e-02 ||4.172905e+00 -1.101577e-05 ||9.549577e-01 -8.918505e-09 \n",
      "49      1.023407e-02 ||4.172894e+00 -1.118498e-05 ||9.549577e-01 -7.255494e-09 \n",
      "50      9.814251e-03 ||4.172884e+00 -9.688719e-06 ||9.549577e-01 -5.901256e-09 \n",
      "converged with 50 step, Max Force = 9.814251e-03 (eV/Ang), dE = -4.847310e-06 (eV)\n",
      "CPU times: user 20.7 s, sys: 120 ms, total: 20.9 s\n",
      "Wall time: 20.8 s\n"
     ]
    }
   ],
   "source": [
    "%%time\n",
    "torch.manual_seed(0)\n",
    "files = ['coronene.xyz', 'benzene_zero_pad.xyz']\n",
    "\n",
    "species, coordinates = read_xyz(files)\n",
    "species = torch.as_tensor(species,dtype=torch.int64, device=device)[:]\n",
    "coordinates = torch.tensor(coordinates, device=device)[:]\n",
    "const = Constants().to(device)\n",
    "#may need to add scaling factor for length and energy on const, check constants.py\n",
    "\n",
    "elements = [0]+sorted(set(species.reshape(-1).tolist()))\n",
    "seqm_parameters = {\n",
    "                   'method' : 'AM1',  # AM1, MNDO, PM3, PM6, PM6_SP. PM6_SP is PM6 without d-orbitals. Effectively, PM6 for the first two rows of periodic table\n",
    "                   'scf_eps' : 1.0e-6,  # unit eV, change of electric energy, as nuclear energy doesnt' change during SCF\n",
    "                   'scf_converger' : [2,0.0], # converger used for scf loop\n",
    "                                         # [0, 0.1], [0, alpha] constant mixing, P = alpha*P + (1.0-alpha)*Pnew\n",
    "                                         # [1], adaptive mixing\n",
    "                                         # [2], adaptive mixing, then pulay\n",
    "                   'sp2' : [False, 1.0e-5],  # whether to use sp2 algorithm in scf loop,\n",
    "                                            #[True, eps] or [False], eps for SP2 conve criteria\n",
    "                   'elements' : elements, #[0,1,6,8],\n",
    "                   'learned' : [], # learned parameters name list, e.g ['U_ss']\n",
    "                   #'parameter_file_dir' : '../seqm/params/', # file directory for other required parameters\n",
    "                   'pair_outer_cutoff' : 1.0e10, # consistent with the unit on coordinates\n",
    "                   'eig' : True\n",
    "                   }\n",
    "\n",
    "molecule = Molecule(const, seqm_parameters, coordinates, species).to(device)\n",
    "\n",
    "opt =  Geometry_Optimization_SD(seqm_parameters, alpha=0.007, force_tol=1.0e-2, max_evl=60).to(device)\n",
    "max_force, dE =  opt.run(molecule)"
   ]
  },
  {
   "cell_type": "code",
   "execution_count": null,
   "id": "b7aef50c-0262-40cd-9891-36214370b605",
   "metadata": {},
   "outputs": [],
   "source": []
  }
 ],
 "metadata": {
  "kernelspec": {
   "display_name": "hipnn_1",
   "language": "python",
   "name": "hipnn_1"
  },
  "language_info": {
   "codemirror_mode": {
    "name": "ipython",
    "version": 3
   },
   "file_extension": ".py",
   "mimetype": "text/x-python",
   "name": "python",
   "nbconvert_exporter": "python",
   "pygments_lexer": "ipython3",
   "version": "3.9.16"
  }
 },
 "nbformat": 4,
 "nbformat_minor": 5
}
