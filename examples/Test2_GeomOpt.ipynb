{
 "cells": [
  {
   "cell_type": "markdown",
   "id": "fcfb8b0a-1b5d-4de4-97f1-9228b2dffcbc",
   "metadata": {
    "tags": []
   },
   "source": [
    "# Example of geometry optimization\n",
    "## Batch of two molecules"
   ]
  },
  {
   "cell_type": "code",
   "execution_count": 2,
   "id": "af25061b-d7f2-407c-8cb0-130049fcc6cb",
   "metadata": {},
   "outputs": [
    {
     "name": "stderr",
     "output_type": "stream",
     "text": [
      "/home/maxim/anaconda3/envs/hipnn_1/lib/python3.9/site-packages/tqdm/auto.py:21: TqdmWarning: IProgress not found. Please update jupyter and ipywidgets. See https://ipywidgets.readthedocs.io/en/stable/user_install.html\n",
      "  from .autonotebook import tqdm as notebook_tqdm\n"
     ]
    },
    {
     "name": "stdout",
     "output_type": "stream",
     "text": [
      "Decorating your function! <function KSA_XL_BOMD.one_step at 0x7f997d56fca0>\n"
     ]
    }
   ],
   "source": [
    "import sys\n",
    "### path to PYSEQM ###\n",
    "sys.path.insert(1, \"/home/maxim/Projects/git2/PYSEQM_dev/\")\n",
    "\n",
    "import torch\n",
    "from seqm.seqm_functions.constants import Constants\n",
    "from seqm.Molecule import Molecule\n",
    "from seqm.MolecularDynamics import Geometry_Optimization_SD\n",
    "from seqm.seqm_functions.read_xyz import read_xyz\n",
    "from seqm.seqm_functions.save_xyz import save_xyz\n",
    "\n",
    "\n",
    "torch.set_default_dtype(torch.float64)\n",
    "if torch.cuda.is_available():\n",
    "    device = torch.device('cuda')\n",
    "else:\n",
    "    device = torch.device('cpu')"
   ]
  },
  {
   "cell_type": "code",
   "execution_count": 3,
   "id": "b30a529c-d535-4226-915e-b4aa69cd4600",
   "metadata": {
    "scrolled": true,
    "tags": []
   },
   "outputs": [
    {
     "name": "stdout",
     "output_type": "stream",
     "text": [
      "Step,  Max_Force,      Etot(eV),     dE(eV)\n",
      "1      1.796740e+00 ||-1.362046e+00 -1.362046e+00 ||-1.362046e+00 -1.362046e+00 ||-2.392370e+00 -2.392370e+00 \n",
      "2      1.401060e+00 ||-1.363449e+00 -1.402605e-03 ||-1.363449e+00 -1.402605e-03 ||-2.449958e+00 -5.758791e-02 \n",
      "3      1.153534e+00 ||-1.364404e+00 -9.549086e-04 ||-1.364404e+00 -9.549086e-04 ||-2.485704e+00 -3.574574e-02 \n",
      "4      9.614630e-01 ||-1.364852e+00 -4.476405e-04 ||-1.364852e+00 -4.476405e-04 ||-2.510561e+00 -2.485719e-02 \n",
      "5      8.052293e-01 ||-1.365099e+00 -2.469197e-04 ||-1.365099e+00 -2.469197e-04 ||-2.527962e+00 -1.740040e-02 \n",
      "6      6.744733e-01 ||-1.365228e+00 -1.298780e-04 ||-1.365228e+00 -1.298780e-04 ||-2.540177e+00 -1.221528e-02 \n",
      "7      5.646864e-01 ||-1.365311e+00 -8.232415e-05 ||-1.365311e+00 -8.232415e-05 ||-2.548744e+00 -8.566691e-03 \n",
      "8      4.726775e-01 ||-1.365357e+00 -4.610113e-05 ||-1.365357e+00 -4.610113e-05 ||-2.554749e+00 -6.004965e-03 \n",
      "9      3.954160e-01 ||-1.365386e+00 -2.896401e-05 ||-1.365386e+00 -2.896401e-05 ||-2.558957e+00 -4.208262e-03 \n",
      "10      3.307838e-01 ||-1.365402e+00 -1.572670e-05 ||-1.365402e+00 -1.572670e-05 ||-2.561906e+00 -2.948735e-03 \n",
      "11      2.766745e-01 ||-1.365412e+00 -1.086147e-05 ||-1.365412e+00 -1.086147e-05 ||-2.563973e+00 -2.067045e-03 \n",
      "12      2.313619e-01 ||-1.365419e+00 -6.136876e-06 ||-1.365419e+00 -6.136876e-06 ||-2.565422e+00 -1.449275e-03 \n",
      "13      1.934007e-01 ||-1.365422e+00 -3.266698e-06 ||-1.365422e+00 -3.266698e-06 ||-2.566438e+00 -1.016302e-03 \n",
      "14      1.615746e-01 ||-1.365423e+00 -1.584927e-06 ||-1.365423e+00 -1.584927e-06 ||-2.567151e+00 -7.126937e-04 \n",
      "15      1.350594e-01 ||-1.365426e+00 -2.156813e-06 ||-1.365426e+00 -2.156813e-06 ||-2.567651e+00 -5.005724e-04 \n",
      "16      1.173937e-01 ||-1.365427e+00 -1.492921e-06 ||-1.365427e+00 -1.492921e-06 ||-2.568004e+00 -3.520901e-04 \n",
      "17      1.212747e-01 ||-1.365428e+00 -9.882529e-07 ||-1.365428e+00 -9.882529e-07 ||-2.568251e+00 -2.477161e-04 \n",
      "18      1.176559e-01 ||-1.365428e+00 1.248391e-07 ||-1.365428e+00 1.248391e-07 ||-2.568426e+00 -1.751128e-04 \n",
      "19      1.210793e-01 ||-1.365428e+00 -4.641320e-07 ||-1.365428e+00 -4.641320e-07 ||-2.568550e+00 -1.233473e-04 \n",
      "20      1.180000e-01 ||-1.365428e+00 1.121765e-07 ||-1.365428e+00 1.121765e-07 ||-2.568637e+00 -8.731949e-05 \n",
      "21      1.208837e-01 ||-1.365429e+00 -3.510531e-07 ||-1.365429e+00 -3.510531e-07 ||-2.568699e+00 -6.200683e-05 \n",
      "22      1.183131e-01 ||-1.365428e+00 1.520334e-07 ||-1.365428e+00 1.520334e-07 ||-2.568743e+00 -4.404730e-05 \n",
      "23      1.207233e-01 ||-1.365429e+00 -3.079418e-07 ||-1.365429e+00 -3.079418e-07 ||-2.568774e+00 -3.120357e-05 \n",
      "24      1.185852e-01 ||-1.365429e+00 1.923729e-07 ||-1.365429e+00 1.923729e-07 ||-2.568797e+00 -2.286868e-05 \n",
      "25      1.205976e-01 ||-1.365429e+00 -2.857163e-07 ||-1.365429e+00 -2.857163e-07 ||-2.568813e+00 -1.621434e-05 \n",
      "26      1.188210e-01 ||-1.365429e+00 2.241438e-07 ||-1.365429e+00 2.241438e-07 ||-2.568825e+00 -1.120607e-05 \n",
      "27      1.205015e-01 ||-1.365429e+00 -2.730706e-07 ||-1.365429e+00 -2.730706e-07 ||-2.568833e+00 -8.328049e-06 \n",
      "28      1.190261e-01 ||-1.365429e+00 2.478848e-07 ||-1.365429e+00 2.478848e-07 ||-2.568839e+00 -6.385418e-06 \n",
      "29      1.204302e-01 ||-1.365429e+00 -2.658925e-07 ||-1.365429e+00 -2.658925e-07 ||-2.568843e+00 -4.099222e-06 \n",
      "30      1.192056e-01 ||-1.365429e+00 2.654612e-07 ||-1.365429e+00 2.654612e-07 ||-2.568847e+00 -4.068693e-06 \n",
      "31      1.203795e-01 ||-1.365429e+00 -2.620953e-07 ||-1.365429e+00 -2.620953e-07 ||-2.568850e+00 -2.507779e-06 \n",
      "32      1.193638e-01 ||-1.365429e+00 2.785216e-07 ||-1.365429e+00 2.785216e-07 ||-2.568852e+00 -2.023467e-06 \n",
      "33      1.203460e-01 ||-1.365429e+00 -2.604283e-07 ||-1.365429e+00 -2.604283e-07 ||-2.568854e+00 -1.691367e-06 \n",
      "34      1.195043e-01 ||-1.365429e+00 2.883074e-07 ||-1.365429e+00 2.883074e-07 ||-2.568855e+00 -1.456044e-06 \n",
      "35      1.203268e-01 ||-1.365429e+00 -2.600862e-07 ||-1.365429e+00 -2.600862e-07 ||-2.568856e+00 -1.283861e-06 \n",
      "36      1.196300e-01 ||-1.365429e+00 2.957160e-07 ||-1.365429e+00 2.957160e-07 ||-2.568858e+00 -1.153384e-06 \n",
      "37      1.203195e-01 ||-1.365429e+00 -2.605443e-07 ||-1.365429e+00 -2.605443e-07 ||-2.568859e+00 -1.050814e-06 \n",
      "38      1.197435e-01 ||-1.365429e+00 3.013909e-07 ||-1.365429e+00 3.013909e-07 ||-2.568860e+00 -9.672111e-07 \n",
      "39      1.203222e-01 ||-1.365429e+00 -2.614594e-07 ||-1.365429e+00 -2.614594e-07 ||-2.568860e+00 -8.967558e-07 \n",
      "40      1.198467e-01 ||-1.365429e+00 3.057960e-07 ||-1.365429e+00 3.057960e-07 ||-2.568861e+00 -8.356386e-07 \n",
      "not converged within 40 step\n",
      "CPU times: user 28 s, sys: 776 ms, total: 28.8 s\n",
      "Wall time: 28.8 s\n"
     ]
    }
   ],
   "source": [
    "%%time\n",
    "\n",
    "species = torch.as_tensor([[8,6,1,1],\n",
    "                           [8,6,1,1],\n",
    "                           [8,1,1,0]], # zero-padding for batching\n",
    "                          dtype=torch.int64, device=device)\n",
    "\n",
    "coordinates = torch.tensor([\n",
    "                              [\n",
    "                               [0.00,    0.00,    0.00],\n",
    "                               [1.22,    0.00,    0.00],\n",
    "                               [1.82,    0.94,    0.00],\n",
    "                               [1.82,   -0.94,    0.00]\n",
    "                              ],\n",
    "                              [\n",
    "                               [0.00,    0.00,    0.00],\n",
    "                               [1.22,    0.00,    0.00],\n",
    "                               [1.82,    0.94,    0.00],\n",
    "                               [1.82,   -0.94,    0.00]\n",
    "                              ],\n",
    "                              [\n",
    "                               [ 0.00,    0.00,    0.00],\n",
    "                               [ 0.96,    0.00,    0.00],\n",
    "                               [-0.45,   -0.57,    0.67],\n",
    "                               [0.0,0.0,0.0]            # zero-padding for batching\n",
    "                              ]\n",
    "                            ], device=device)\n",
    "\n",
    "const = Constants().to(device)\n",
    "#may need to add scaling factor for length and energy on const, check constants.py\n",
    "\n",
    "elements = [0]+sorted(set(species.reshape(-1).tolist()))\n",
    "seqm_parameters = {\n",
    "                   'method' : 'AM1',  # AM1, MNDO, PM#\n",
    "                   'scf_eps' : 1.0e-6,  # unit eV, change of electric energy, as nuclear energy doesnt' change during SCF\n",
    "                   'scf_converger' : [2,0.0], # converger used for scf loop\n",
    "                                         # [0, 0.1], [0, alpha] constant mixing, P = alpha*P + (1.0-alpha)*Pnew\n",
    "                                         # [1], adaptive mixing\n",
    "                                         # [2], adaptive mixing, then pulay\n",
    "                   'sp2' : [False, 1.0e-5],  # whether to use sp2 algorithm in scf loop,\n",
    "                                            #[True, eps] or [False], eps for SP2 conve criteria\n",
    "                   'elements' : elements, #[0,1,6,8],\n",
    "                   'learned' : [], # learned parameters name list, e.g ['U_ss']\n",
    "                   #'parameter_file_dir' : '../seqm/params/', # file directory for other required parameters\n",
    "                   'pair_outer_cutoff' : 1.0e10, # consistent with the unit on coordinates\n",
    "                   'eig' : True\n",
    "                   }\n",
    "\n",
    "molecule = Molecule(const, seqm_parameters, coordinates, species).to(device)\n",
    "\n",
    "opt =  Geometry_Optimization_SD(seqm_parameters, alpha=0.008, force_tol=1.0e-2, max_evl=40).to(device)\n",
    "max_force, dE =  opt.run(molecule)"
   ]
  },
  {
   "cell_type": "markdown",
   "id": "154e82a3-bb82-4cb4-ba73-e680ce649487",
   "metadata": {},
   "source": [
    "### Final forces and optimized geometry"
   ]
  },
  {
   "cell_type": "code",
   "execution_count": 4,
   "id": "5d4a465c-c235-4388-bffd-ce3182b5a51a",
   "metadata": {},
   "outputs": [
    {
     "data": {
      "text/plain": [
       "tensor([[[ 1.1220e-01,  2.1649e-14, -0.0000e+00],\n",
       "         [-1.1985e-01, -1.1922e-13, -0.0000e+00],\n",
       "         [ 3.8227e-03,  5.5900e-03, -0.0000e+00],\n",
       "         [ 3.8227e-03, -5.5900e-03, -0.0000e+00]],\n",
       "\n",
       "        [[ 1.1220e-01,  2.1649e-14, -0.0000e+00],\n",
       "         [-1.1985e-01, -1.1922e-13, -0.0000e+00],\n",
       "         [ 3.8227e-03,  5.5900e-03, -0.0000e+00],\n",
       "         [ 3.8227e-03, -5.5900e-03, -0.0000e+00]],\n",
       "\n",
       "        [[-8.8427e-04,  9.2631e-04, -1.0888e-03],\n",
       "         [-1.2419e-03, -1.1381e-03,  1.3378e-03],\n",
       "         [ 2.1261e-03,  2.1182e-04, -2.4899e-04],\n",
       "         [-0.0000e+00, -0.0000e+00, -0.0000e+00]]], device='cuda:0')"
      ]
     },
     "execution_count": 4,
     "metadata": {},
     "output_type": "execute_result"
    }
   ],
   "source": [
    "molecule.force"
   ]
  },
  {
   "cell_type": "code",
   "execution_count": 5,
   "id": "a504df8b-e33d-4782-868c-c4e086d3bc2d",
   "metadata": {},
   "outputs": [
    {
     "data": {
      "text/plain": [
       "tensor([[[-1.1328e-03, -1.0836e-16,  0.0000e+00],\n",
       "         [ 1.2253e+00,  5.3681e-16,  0.0000e+00],\n",
       "         [ 1.8179e+00,  9.3940e-01,  0.0000e+00],\n",
       "         [ 1.8179e+00, -9.3940e-01,  0.0000e+00]],\n",
       "\n",
       "        [[-1.1328e-03, -1.0836e-16,  0.0000e+00],\n",
       "         [ 1.2253e+00,  5.3681e-16,  0.0000e+00],\n",
       "         [ 1.8179e+00,  9.3940e-01,  0.0000e+00],\n",
       "         [ 1.8179e+00, -9.3940e-01,  0.0000e+00]],\n",
       "\n",
       "        [[-3.8495e-02,  2.8406e-02, -3.3390e-02],\n",
       "         [ 9.1661e-01, -4.1732e-02,  4.9053e-02],\n",
       "         [-3.6811e-01, -5.5667e-01,  6.5434e-01],\n",
       "         [ 0.0000e+00,  0.0000e+00,  0.0000e+00]]], device='cuda:0',\n",
       "       requires_grad=True)"
      ]
     },
     "execution_count": 5,
     "metadata": {},
     "output_type": "execute_result"
    }
   ],
   "source": [
    "molecule.coordinates"
   ]
  },
  {
   "cell_type": "markdown",
   "id": "c8cffcd0-cef3-46e3-adca-f480ac24bd2a",
   "metadata": {
    "tags": []
   },
   "source": [
    "### Save optimized geometries to .xyz files without final forces."
   ]
  },
  {
   "cell_type": "code",
   "execution_count": 6,
   "id": "743749ab-4b83-4e80-9187-ae058890ee07",
   "metadata": {},
   "outputs": [],
   "source": [
    "save_xyz(molecule, 'XYZ', Forces=False)"
   ]
  },
  {
   "cell_type": "markdown",
   "id": "7135cc73-c007-421f-a320-6d78fc013113",
   "metadata": {},
   "source": [
    "## Reading starting geometries from .xyz\n",
    "### Only molecules of the same length are currently supported for batched xyz_reader."
   ]
  },
  {
   "cell_type": "code",
   "execution_count": 7,
   "id": "6a917094-7115-4f17-9d7d-b851c79551bd",
   "metadata": {
    "scrolled": true,
    "tags": []
   },
   "outputs": [
    {
     "name": "stdout",
     "output_type": "stream",
     "text": [
      "Step,  Max_Force,      Etot(eV),     dE(eV)\n",
      "1      6.209117e-01 ||4.242853e+00 4.242853e+00 ||4.242853e+00 4.242853e+00 \n",
      "2      3.736704e-01 ||4.186088e+00 -5.676525e-02 ||4.186088e+00 -5.676525e-02 \n",
      "3      1.331077e-01 ||4.178330e+00 -7.758023e-03 ||4.178330e+00 -7.757888e-03 \n",
      "4      1.012998e-01 ||4.176495e+00 -1.834690e-03 ||4.176493e+00 -1.837155e-03 \n",
      "5      7.110089e-02 ||4.175770e+00 -7.258296e-04 ||4.175768e+00 -7.248595e-04 \n",
      "6      6.372146e-02 ||4.175331e+00 -4.382871e-04 ||4.175330e+00 -4.381247e-04 \n",
      "7      5.409485e-02 ||4.174989e+00 -3.418729e-04 ||4.174988e+00 -3.416071e-04 \n",
      "8      5.027508e-02 ||4.174702e+00 -2.873046e-04 ||4.174701e+00 -2.870889e-04 \n",
      "9      4.573716e-02 ||4.174461e+00 -2.415052e-04 ||4.174460e+00 -2.415047e-04 \n",
      "10      4.420287e-02 ||4.174251e+00 -2.098692e-04 ||4.174250e+00 -2.100555e-04 \n",
      "11      4.173205e-02 ||4.174071e+00 -1.793280e-04 ||4.174071e+00 -1.792012e-04 \n",
      "12      4.157369e-02 ||4.173914e+00 -1.572261e-04 ||4.173914e+00 -1.570691e-04 \n",
      "13      4.041226e-02 ||4.173780e+00 -1.344430e-04 ||4.173779e+00 -1.343858e-04 \n",
      "14      4.080538e-02 ||4.173660e+00 -1.196418e-04 ||4.173660e+00 -1.195314e-04 \n",
      "15      4.023286e-02 ||4.173558e+00 -1.022682e-04 ||4.173557e+00 -1.023247e-04 \n",
      "16      4.109909e-02 ||4.173467e+00 -9.103119e-05 ||4.173466e+00 -9.110560e-05 \n",
      "17      4.076885e-02 ||4.173388e+00 -7.839935e-05 ||4.173388e+00 -7.848353e-05 \n",
      "18      4.153943e-02 ||4.173318e+00 -7.065414e-05 ||4.173317e+00 -7.077398e-05 \n",
      "19      4.102714e-02 ||4.173256e+00 -6.143832e-05 ||4.173256e+00 -6.049438e-05 \n",
      "20      4.175828e-02 ||4.173201e+00 -5.555691e-05 ||4.173202e+00 -5.476071e-05 \n",
      "21      4.117194e-02 ||4.173154e+00 -4.661028e-05 ||4.173154e+00 -4.770797e-05 \n",
      "22      4.174458e-02 ||4.173112e+00 -4.260365e-05 ||4.173111e+00 -4.333932e-05 \n",
      "23      4.121176e-02 ||4.173074e+00 -3.711219e-05 ||4.173074e+00 -3.692250e-05 \n",
      "24      4.164032e-02 ||4.173041e+00 -3.384169e-05 ||4.173040e+00 -3.391322e-05 \n",
      "25      4.156287e-02 ||4.173012e+00 -2.869912e-05 ||4.173012e+00 -2.767371e-05 \n",
      "26      4.253514e-02 ||4.172985e+00 -2.651759e-05 ||4.172988e+00 -2.460938e-05 \n",
      "27      4.229403e-02 ||4.172964e+00 -2.133754e-05 ||4.172966e+00 -2.158986e-05 \n",
      "28      4.261783e-02 ||4.172945e+00 -1.891237e-05 ||4.172945e+00 -2.072894e-05 \n",
      "29      4.246377e-02 ||4.172928e+00 -1.664472e-05 ||4.172928e+00 -1.723747e-05 \n",
      "30      4.275942e-02 ||4.172912e+00 -1.623685e-05 ||4.172912e+00 -1.622418e-05 \n",
      "31      4.249016e-02 ||4.172899e+00 -1.344434e-05 ||4.172898e+00 -1.344587e-05 \n",
      "32      4.278831e-02 ||4.172886e+00 -1.274775e-05 ||4.172886e+00 -1.264489e-05 \n",
      "33      4.261286e-02 ||4.172876e+00 -1.049810e-05 ||4.172875e+00 -1.057796e-05 \n",
      "34      4.329068e-02 ||4.172866e+00 -9.120184e-06 ||4.172866e+00 -9.289077e-06 \n",
      "35      4.330011e-02 ||4.172859e+00 -7.371563e-06 ||4.172858e+00 -7.335697e-06 \n",
      "36      4.351210e-02 ||4.172851e+00 -8.144445e-06 ||4.172850e+00 -8.082036e-06 \n",
      "37      4.343313e-02 ||4.172845e+00 -6.283521e-06 ||4.172844e+00 -6.223988e-06 \n",
      "38      4.409246e-02 ||4.172839e+00 -5.350226e-06 ||4.172839e+00 -5.270599e-06 \n",
      "39      4.427925e-02 ||4.172835e+00 -4.146004e-06 ||4.172835e+00 -4.018242e-06 \n",
      "40      4.451950e-02 ||4.172830e+00 -5.195820e-06 ||4.172830e+00 -4.876470e-06 \n",
      "not converged within 40 step\n",
      "CPU times: user 47.5 s, sys: 23.9 ms, total: 47.5 s\n",
      "Wall time: 47.5 s\n"
     ]
    }
   ],
   "source": [
    "%%time\n",
    "torch.manual_seed(0)\n",
    "files = ['coronene.xyz', 'coronene.xyz']\n",
    "\n",
    "species, coordinates = read_xyz(files)\n",
    "species = torch.as_tensor(species,dtype=torch.int64, device=device)[:]\n",
    "coordinates = torch.tensor(coordinates, device=device)[:]\n",
    "const = Constants().to(device)\n",
    "#may need to add scaling factor for length and energy on const, check constants.py\n",
    "\n",
    "elements = [0]+sorted(set(species.reshape(-1).tolist()))\n",
    "seqm_parameters = {\n",
    "                   'method' : 'AM1',  # AM1, MNDO, PM#\n",
    "                   'scf_eps' : 1.0e-6,  # unit eV, change of electric energy, as nuclear energy doesnt' change during SCF\n",
    "                   'scf_converger' : [2,0.0], # converger used for scf loop\n",
    "                                         # [0, 0.1], [0, alpha] constant mixing, P = alpha*P + (1.0-alpha)*Pnew\n",
    "                                         # [1], adaptive mixing\n",
    "                                         # [2], adaptive mixing, then pulay\n",
    "                   'sp2' : [False, 1.0e-5],  # whether to use sp2 algorithm in scf loop,\n",
    "                                            #[True, eps] or [False], eps for SP2 conve criteria\n",
    "                   'elements' : elements, #[0,1,6,8],\n",
    "                   'learned' : [], # learned parameters name list, e.g ['U_ss']\n",
    "                   #'parameter_file_dir' : '../seqm/params/', # file directory for other required parameters\n",
    "                   'pair_outer_cutoff' : 1.0e10, # consistent with the unit on coordinates\n",
    "                   'eig' : True\n",
    "                   }\n",
    "\n",
    "molecule = Molecule(const, seqm_parameters, coordinates, species).to(device)\n",
    "\n",
    "opt =  Geometry_Optimization_SD(seqm_parameters, alpha=0.012, force_tol=1.0e-2, max_evl=40).to(device)\n",
    "max_force, dE =  opt.run(molecule)"
   ]
  },
  {
   "cell_type": "markdown",
   "id": "b929e41f-c665-41fc-9dc2-74321ccb7e7a",
   "metadata": {},
   "source": [
    "### Alternatively, use zero-padding in .xyz files for molecules of different lengths."
   ]
  },
  {
   "cell_type": "code",
   "execution_count": 8,
   "id": "c9ede1a5-90b8-4f84-a3ae-ef539f1901eb",
   "metadata": {
    "scrolled": true,
    "tags": []
   },
   "outputs": [
    {
     "name": "stdout",
     "output_type": "stream",
     "text": [
      "Step,  Max_Force,      Etot(eV),     dE(eV)\n",
      "1      6.209117e-01 ||4.242853e+00 4.242853e+00 ||9.740017e-01 9.740017e-01 \n",
      "2      3.736704e-01 ||4.186088e+00 -5.676525e-02 ||9.610107e-01 -1.299108e-02 \n",
      "3      1.613409e-01 ||4.178331e+00 -7.757548e-03 ||9.573871e-01 -3.623593e-03 \n",
      "4      9.913528e-02 ||4.176486e+00 -1.845041e-03 ||9.560962e-01 -1.290899e-03 \n",
      "5      6.973712e-02 ||4.175764e+00 -7.215104e-04 ||9.555285e-01 -5.676752e-04 \n",
      "6      6.273803e-02 ||4.175326e+00 -4.375414e-04 ||9.552564e-01 -2.720852e-04 \n",
      "7      5.321673e-02 ||4.174986e+00 -3.408211e-04 ||9.551178e-01 -1.386395e-04 \n",
      "8      4.951309e-02 ||4.174699e+00 -2.869109e-04 ||9.550473e-01 -7.043321e-05 \n",
      "9      4.506003e-02 ||4.174458e+00 -2.410167e-04 ||9.550108e-01 -3.650346e-05 \n",
      "10      4.388346e-02 ||4.174249e+00 -2.086205e-04 ||9.549919e-01 -1.892004e-05 \n",
      "11      4.171999e-02 ||4.174071e+00 -1.782727e-04 ||9.549814e-01 -1.052970e-05 \n",
      "12      4.150482e-02 ||4.173914e+00 -1.573058e-04 ||9.549760e-01 -5.370674e-06 \n",
      "13      4.038283e-02 ||4.173779e+00 -1.343715e-04 ||9.549728e-01 -3.181382e-06 \n",
      "14      4.075164e-02 ||4.173659e+00 -1.196880e-04 ||9.549708e-01 -2.071708e-06 \n",
      "15      4.021517e-02 ||4.173557e+00 -1.022613e-04 ||9.549693e-01 -1.491194e-06 \n",
      "16      4.107216e-02 ||4.173466e+00 -9.104930e-05 ||9.549681e-01 -1.167152e-06 \n",
      "17      4.079473e-02 ||4.173388e+00 -7.844534e-05 ||9.549671e-01 -9.719533e-07 \n",
      "18      4.156043e-02 ||4.173317e+00 -7.069825e-05 ||9.549663e-01 -8.404004e-07 \n",
      "19      4.117321e-02 ||4.173256e+00 -6.055557e-05 ||9.549656e-01 -7.407134e-07 \n",
      "20      4.190733e-02 ||4.173202e+00 -5.483095e-05 ||9.549649e-01 -6.543169e-07 \n",
      "21      4.136817e-02 ||4.173154e+00 -4.775240e-05 ||9.549643e-01 -5.683919e-07 \n",
      "22      4.184112e-02 ||4.173111e+00 -4.335292e-05 ||9.549639e-01 -4.692020e-07 \n",
      "23      4.182077e-02 ||4.173075e+00 -3.593505e-05 ||9.549635e-01 -3.366476e-07 \n",
      "24      4.248823e-02 ||4.173042e+00 -3.297801e-05 ||9.549634e-01 -1.366202e-07 \n",
      "25      4.205419e-02 ||4.173013e+00 -2.888057e-05 ||9.549636e-01 1.934577e-07 \n",
      "26      4.248845e-02 ||4.172986e+00 -2.640356e-05 ||9.549643e-01 7.663334e-07 \n",
      "27      4.218343e-02 ||4.172964e+00 -2.225216e-05 ||9.549661e-01 1.795481e-06 \n",
      "28      4.257847e-02 ||4.172943e+00 -2.058865e-05 ||9.549698e-01 3.662918e-06 \n",
      "29      4.230743e-02 ||4.172926e+00 -1.725759e-05 ||9.549769e-01 7.107139e-06 \n",
      "30      4.760307e-02 ||4.172911e+00 -1.515569e-05 ||9.549903e-01 1.341630e-05 \n",
      "31      5.737335e-02 ||4.172898e+00 -1.269705e-05 ||9.550069e-01 1.660044e-05 \n",
      "32      5.981560e-02 ||4.172885e+00 -1.298498e-05 ||9.550134e-01 6.506685e-06 \n",
      "33      5.826189e-02 ||4.172875e+00 -1.038488e-05 ||9.550119e-01 -1.510472e-06 \n",
      "34      5.716909e-02 ||4.172866e+00 -9.116378e-06 ||9.550096e-01 -2.351327e-06 \n",
      "35      5.578750e-02 ||4.172859e+00 -7.286716e-06 ||9.550074e-01 -2.145990e-06 \n",
      "36      5.522492e-02 ||4.172851e+00 -8.065308e-06 ||9.550060e-01 -1.378166e-06 \n",
      "37      5.488400e-02 ||4.172844e+00 -6.242462e-06 ||9.550056e-01 -4.180324e-07 \n",
      "38      5.451930e-02 ||4.172839e+00 -5.313661e-06 ||9.550048e-01 -8.138636e-07 \n",
      "39      5.472801e-02 ||4.172835e+00 -4.049122e-06 ||9.550052e-01 3.843675e-07 \n",
      "40      5.534192e-02 ||4.172830e+00 -5.087044e-06 ||9.550061e-01 8.999405e-07 \n",
      "not converged within 40 step\n",
      "CPU times: user 37.3 s, sys: 59.9 ms, total: 37.4 s\n",
      "Wall time: 37.3 s\n"
     ]
    }
   ],
   "source": [
    "%%time\n",
    "torch.manual_seed(0)\n",
    "files = ['coronene.xyz', 'benzene_zero_pad.xyz']\n",
    "\n",
    "species, coordinates = read_xyz(files)\n",
    "species = torch.as_tensor(species,dtype=torch.int64, device=device)[:]\n",
    "coordinates = torch.tensor(coordinates, device=device)[:]\n",
    "const = Constants().to(device)\n",
    "#may need to add scaling factor for length and energy on const, check constants.py\n",
    "\n",
    "elements = [0]+sorted(set(species.reshape(-1).tolist()))\n",
    "seqm_parameters = {\n",
    "                   'method' : 'AM1',  # AM1, MNDO, PM#\n",
    "                   'scf_eps' : 1.0e-6,  # unit eV, change of electric energy, as nuclear energy doesnt' change during SCF\n",
    "                   'scf_converger' : [2,0.0], # converger used for scf loop\n",
    "                                         # [0, 0.1], [0, alpha] constant mixing, P = alpha*P + (1.0-alpha)*Pnew\n",
    "                                         # [1], adaptive mixing\n",
    "                                         # [2], adaptive mixing, then pulay\n",
    "                   'sp2' : [False, 1.0e-5],  # whether to use sp2 algorithm in scf loop,\n",
    "                                            #[True, eps] or [False], eps for SP2 conve criteria\n",
    "                   'elements' : elements, #[0,1,6,8],\n",
    "                   'learned' : [], # learned parameters name list, e.g ['U_ss']\n",
    "                   #'parameter_file_dir' : '../seqm/params/', # file directory for other required parameters\n",
    "                   'pair_outer_cutoff' : 1.0e10, # consistent with the unit on coordinates\n",
    "                   'eig' : True\n",
    "                   }\n",
    "\n",
    "molecule = Molecule(const, seqm_parameters, coordinates, species).to(device)\n",
    "\n",
    "opt =  Geometry_Optimization_SD(seqm_parameters, alpha=0.012, force_tol=1.0e-2, max_evl=40).to(device)\n",
    "max_force, dE =  opt.run(molecule)"
   ]
  },
  {
   "cell_type": "code",
   "execution_count": null,
   "id": "b7aef50c-0262-40cd-9891-36214370b605",
   "metadata": {},
   "outputs": [],
   "source": []
  }
 ],
 "metadata": {
  "kernelspec": {
   "display_name": "hipnn_1",
   "language": "python",
   "name": "hipnn_1"
  },
  "language_info": {
   "codemirror_mode": {
    "name": "ipython",
    "version": 3
   },
   "file_extension": ".py",
   "mimetype": "text/x-python",
   "name": "python",
   "nbconvert_exporter": "python",
   "pygments_lexer": "ipython3",
   "version": "3.9.16"
  }
 },
 "nbformat": 4,
 "nbformat_minor": 5
}
