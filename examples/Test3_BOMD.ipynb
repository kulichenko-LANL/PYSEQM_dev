{
 "cells": [
  {
   "cell_type": "markdown",
   "id": "92d836e4-8b96-4f27-9183-4101b05062d2",
   "metadata": {},
   "source": [
    "# Example of BOMD MD (NVE, NVT)"
   ]
  },
  {
   "cell_type": "code",
   "execution_count": 1,
   "id": "a5d16b3b-5b0b-49b7-998e-957f67350f12",
   "metadata": {},
   "outputs": [
    {
     "name": "stderr",
     "output_type": "stream",
     "text": [
      "/home/maxim/anaconda3/envs/hipnn_1/lib/python3.9/site-packages/tqdm/auto.py:21: TqdmWarning: IProgress not found. Please update jupyter and ipywidgets. See https://ipywidgets.readthedocs.io/en/stable/user_install.html\n",
      "  from .autonotebook import tqdm as notebook_tqdm\n"
     ]
    },
    {
     "name": "stdout",
     "output_type": "stream",
     "text": [
      "Decorating your function! <function KSA_XL_BOMD.one_step at 0x7f645632a790>\n"
     ]
    }
   ],
   "source": [
    "import sys\n",
    "### path to PYSEQM ###\n",
    "sys.path.insert(1, \"/home/maxim/Projects/git2/PYSEQM_dev/\")\n",
    "\n",
    "import torch\n",
    "from seqm.seqm_functions.constants import Constants\n",
    "from seqm.Molecule import Molecule\n",
    "from seqm.MolecularDynamics import Molecular_Dynamics_Basic, Molecular_Dynamics_Langevin\n",
    "\n",
    "torch.set_default_dtype(torch.float64)\n",
    "if torch.cuda.is_available():\n",
    "    device = torch.device('cuda')\n",
    "else:\n",
    "    device = torch.device('cpu')"
   ]
  },
  {
   "cell_type": "code",
   "execution_count": 2,
   "id": "1104f502-e6e6-46c0-9829-740177ef7b48",
   "metadata": {},
   "outputs": [
    {
     "name": "stdout",
     "output_type": "stream",
     "text": [
      "Initialize velocities: zero_com\n",
      "Step,    Temp,    E(kinetic),  E(potential),  E(total)\n",
      "     1   562.77   2.909726e-01 -1.364080e+00 -1.073107e+00 ||    210.05   1.086065e-01 1.426851e+00 1.535457e+00 || \n",
      "     2   537.09   2.776984e-01 -1.350657e+00 -1.072959e+00 ||    246.38   1.273909e-01 1.407842e+00 1.535232e+00 || \n",
      "     3   485.90   2.512280e-01 -1.323939e+00 -1.072711e+00 ||    302.32   1.563108e-01 1.378571e+00 1.534882e+00 || \n",
      "     4   416.33   2.152570e-01 -1.287662e+00 -1.072405e+00 ||    368.71   1.906365e-01 1.343809e+00 1.534446e+00 || \n",
      "     5   337.35   1.744240e-01 -1.246514e+00 -1.072090e+00 ||    434.22   2.245069e-01 1.309479e+00 1.533986e+00 || \n",
      "     6   258.22   1.335114e-01 -1.205345e+00 -1.071834e+00 ||    487.20   2.519035e-01 1.281676e+00 1.533579e+00 || \n",
      "     7   187.13   9.675234e-02 -1.168441e+00 -1.071688e+00 ||    518.00   2.678274e-01 1.265481e+00 1.533308e+00 || \n",
      "     8   130.03   6.722996e-02 -1.138860e+00 -1.071630e+00 ||    521.16   2.694583e-01 1.263770e+00 1.533228e+00 || \n",
      "     9    90.06   4.656580e-02 -1.118218e+00 -1.071652e+00 ||    497.00   2.569667e-01 1.276383e+00 1.533349e+00 || \n",
      "    10    67.77   3.504002e-02 -1.106771e+00 -1.071731e+00 ||    451.79   2.335952e-01 1.300027e+00 1.533622e+00 || \n",
      "CPU times: user 13.6 s, sys: 744 ms, total: 14.4 s\n",
      "Wall time: 14.4 s\n"
     ]
    }
   ],
   "source": [
    "%%time\n",
    "species = torch.as_tensor([[8,6,1,1],[5,1,1,1]],dtype=torch.int64, device=device)[:]\n",
    "coordinates = torch.tensor([\n",
    "                  [\n",
    "                   [ 0.00,  0.0,  0.0],\n",
    "                   [ 1.22,  0.0,  0.0],\n",
    "                   [ 1.82,  0.94, 0.0],\n",
    "                   [ 1.82, -0.94, 0.0]\n",
    "                  ],\n",
    "                  [\n",
    "                   [ 0.00,  0.00,  0.00],\n",
    "                   [ 1.20,  0.00,  0.00],\n",
    "                   [-0.60,  1.03,  0.00],\n",
    "                   [-0.60, -1.03,  0.00]\n",
    "                  ]\n",
    "                 ], device=device)[:]\n",
    "\n",
    "const = Constants().to(device)\n",
    "\n",
    "elements = [0]+sorted(set(species.reshape(-1).tolist()))\n",
    "seqm_parameters = {\n",
    "                   'method' : 'AM1',  # AM1, MNDO, PM#\n",
    "                   'scf_eps' : 1.0e-6,  # unit eV, change of electric energy, as nuclear energy doesnt' change during SCF\n",
    "                   'scf_converger' : [2,0.0], # converger used for scf loop\n",
    "                                         # [0, 0.1], [0, alpha] constant mixing, P = alpha*P + (1.0-alpha)*Pnew\n",
    "                                         # [1], adaptive mixing\n",
    "                                         # [2], adaptive mixing, then pulay\n",
    "                   'sp2' : [False, 1.0e-5],  # whether to use sp2 algorithm in scf loop,\n",
    "                                            #[True, eps] or [False], eps for SP2 conve criteria\n",
    "                   'elements' : elements, #[0,1,6,8],\n",
    "                   'learned' : [], # learned parameters name list, e.g ['U_ss']\n",
    "                   #'parameter_file_dir' : '../seqm/params/', # file directory for other required parameters\n",
    "                   'pair_outer_cutoff' : 1.0e10, # consistent with the unit on coordinates\n",
    "                   'eig' : True\n",
    "                   }\n",
    "\n",
    "output={'molid':[0, 1], 'thermo':1, 'dump':1, 'prefix':'Outputs/3_MD_BOMD_Basic'}\n",
    "molecule = Molecule(const, seqm_parameters, coordinates, species).to(device)\n",
    "\n",
    "md =  Molecular_Dynamics_Basic(seqm_parameters=seqm_parameters, Temp=400.0, timestep=0.4, output=output).to(device)\n",
    "md.initialize_velocity(molecule )\n",
    "#remove center of mass velocity\n",
    "# Info_log flag generates .txt wtih additional info for every step (orbital energies, dipole)\n",
    "_ = md.run(molecule, 10, remove_com=[True, 1], Info_log=True)"
   ]
  },
  {
   "cell_type": "markdown",
   "id": "7009434b-aff2-4218-85e2-1fcbc3e01f0b",
   "metadata": {},
   "source": [
    "## *MD_BOMD_BASIC.0.xyz* and *MD_BOMD_BASIC.1.xyz* files with general info for each step are created. Coordinates, velocities, forces and charges are recorded in the following sequence: x y z vx vy vz fx fy fz q.\n",
    "\n",
    "## *MD_BOMD_BASIC.Info.0.txt* and *MD_BOMD_BASIC.Info.1.txt* contain additional info for each step (orbital energies, dipole)."
   ]
  },
  {
   "cell_type": "markdown",
   "id": "c8882565-c2e2-4ca3-9c98-d0744c222606",
   "metadata": {},
   "source": [
    "## Scale velocities to adjust kinetic energy and compenstate the energy shift"
   ]
  },
  {
   "cell_type": "code",
   "execution_count": 3,
   "id": "039fc1c6-a9b8-4bd5-a261-83c400c8c31d",
   "metadata": {},
   "outputs": [
    {
     "name": "stdout",
     "output_type": "stream",
     "text": [
      "Initialize velocities: zero_com\n",
      "Step,    Temp,    E(kinetic),  E(potential),  E(total)\n",
      "     1   331.23   1.712617e-01 -6.518024e-02 1.060815e-01 ||    285.13   1.474213e-01 2.071960e+00 2.219381e+00 || \n",
      "     2   325.11   1.680973e-01 -6.201581e-02 1.060815e-01 ||    507.37   2.623320e-01 1.957049e+00 2.219381e+00 || \n",
      "     3   371.63   1.921463e-01 -8.606480e-02 1.060815e-01 ||    793.00   4.100139e-01 1.809367e+00 2.219381e+00 || \n",
      "     4   475.13   2.456623e-01 -1.395808e-01 1.060815e-01 ||   1118.98   5.785589e-01 1.640822e+00 2.219381e+00 || \n",
      "     5   637.26   3.294909e-01 -2.234095e-01 1.060815e-01 ||   1452.93   7.512242e-01 1.468157e+00 2.219381e+00 || \n",
      "     6   855.74   4.424532e-01 -3.363717e-01 1.060815e-01 ||   1752.69   9.062129e-01 1.313168e+00 2.219381e+00 || \n",
      "     7  1123.42   5.808509e-01 -4.747694e-01 1.060815e-01 ||   1967.62   1.017339e+00 1.202042e+00 2.219381e+00 || \n",
      "     8  1427.58   7.381148e-01 -6.320333e-01 1.060815e-01 ||   2043.95   1.056802e+00 1.162580e+00 2.219381e+00 || \n",
      "     9  1749.65   9.046371e-01 -7.985556e-01 1.060815e-01 ||   1937.11   1.001564e+00 1.217818e+00 2.219381e+00 || \n",
      "    10  2065.36   1.067874e+00 -9.617921e-01 1.060815e-01 ||   1632.41   8.440196e-01 1.375362e+00 2.219381e+00 || \n",
      "CPU times: user 12.2 s, sys: 15.5 ms, total: 12.2 s\n",
      "Wall time: 12.2 s\n"
     ]
    }
   ],
   "source": [
    "%%time\n",
    "species = torch.as_tensor([[8,6,1,1],[5,1,1,1]],dtype=torch.int64, device=device)[:]\n",
    "coordinates = torch.tensor([\n",
    "                  [\n",
    "                   [ 1.40,  0.0,  0.0],\n",
    "                   [ 0.00,  0.0,  0.0],\n",
    "                   [-0.60,  0.94, 0.0],\n",
    "                   [-0.60, -0.94, 0.0]\n",
    "                  ],\n",
    "                  [\n",
    "                   [ 0.00,  0.00,  0.00],\n",
    "                   [ 1.40,  0.00,  0.00],\n",
    "                   [-0.60,  1.03,  0.00],\n",
    "                   [-0.60, -1.03,  0.00]\n",
    "                  ]\n",
    "                 ], device=device)[:]\n",
    "\n",
    "const = Constants().to(device)\n",
    "\n",
    "elements = [0]+sorted(set(species.reshape(-1).tolist()))\n",
    "seqm_parameters = {\n",
    "                   'method' : 'AM1',  # AM1, MNDO, PM#\n",
    "                   'scf_eps' : 1.0e-6,  # unit eV, change of electric energy, as nuclear energy doesnt' change during SCF\n",
    "                   'scf_converger' : [2,0.0], # converger used for scf loop\n",
    "                                         # [0, 0.1], [0, alpha] constant mixing, P = alpha*P + (1.0-alpha)*Pnew\n",
    "                                         # [1], adaptive mixing\n",
    "                                         # [2], adaptive mixing, then pulay\n",
    "                   'sp2' : [False, 1.0e-5],  # whether to use sp2 algorithm in scf loop,\n",
    "                                            #[True, eps] or [False], eps for SP2 conve criteria\n",
    "                   'elements' : elements, #[0,1,6,8],\n",
    "                   'learned' : [], # learned parameters name list, e.g ['U_ss']\n",
    "                   #'parameter_file_dir' : '../seqm/params/', # file directory for other required parameters\n",
    "                   'pair_outer_cutoff' : 1.0e10, # consistent with the unit on coordinates\n",
    "                   'eig' : True\n",
    "                   }\n",
    "\n",
    "output={'molid':[0, 1], 'thermo':1, 'dump':1, 'prefix':'Outputs/3_MD_BOMD_Basic_E_cntrl'}\n",
    "molecule = Molecule(const, seqm_parameters, coordinates, species).to(device)\n",
    "\n",
    "md =  Molecular_Dynamics_Basic(seqm_parameters=seqm_parameters, Temp=400.0, timestep=0.4, output=output).to(device)\n",
    "md.initialize_velocity(molecule )\n",
    "#remove center of mass velocity\n",
    "# Info_log flag generates .txt wtih additional info for every step (orbital energies, dipole)\n",
    "_ = md.run(molecule, 10, control_energy_shift=True, remove_com=[True, 1], Info_log=True)"
   ]
  },
  {
   "cell_type": "markdown",
   "id": "37fb7512-49d6-4c21-af85-74bbe7473aac",
   "metadata": {},
   "source": [
    "## Scale velocities to control temperature"
   ]
  },
  {
   "cell_type": "code",
   "execution_count": 4,
   "id": "15890b1f-7d82-4540-a295-edc2a73508b1",
   "metadata": {},
   "outputs": [
    {
     "name": "stdout",
     "output_type": "stream",
     "text": [
      "Initialize velocities: zero_com\n",
      "Step,    Temp,    E(kinetic),  E(potential),  E(total)\n",
      "     1   400.00   2.068160e-01 -1.186363e-02 1.949524e-01 ||    400.00   2.068160e-01 2.186814e+00 2.393630e+00 || \n",
      "     2   400.00   2.068160e-01 3.204960e-02 2.388656e-01 ||    400.00   2.068160e-01 2.191146e+00 2.397962e+00 || \n",
      "     3   400.00   2.068160e-01 5.558028e-02 2.623963e-01 ||    400.00   2.068160e-01 2.154663e+00 2.361479e+00 || \n",
      "     4   400.00   2.068160e-01 5.275909e-02 2.595751e-01 ||    400.00   2.068160e-01 2.085426e+00 2.292242e+00 || \n",
      "     5   400.00   2.068160e-01 1.820372e-02 2.250197e-01 ||    400.00   2.068160e-01 1.994933e+00 2.201749e+00 || \n",
      "     6   400.00   2.068160e-01 -4.921782e-02 1.575982e-01 ||    400.00   2.068160e-01 1.893530e+00 2.100346e+00 || \n",
      "     7   400.00   2.068160e-01 -1.441194e-01 6.269661e-02 ||    400.00   2.068160e-01 1.788786e+00 1.995602e+00 || \n",
      "     8   400.00   2.068160e-01 -2.565661e-01 -4.975014e-02 ||    400.00   2.068160e-01 1.685829e+00 1.892645e+00 || \n",
      "     9   400.00   2.068160e-01 -3.762620e-01 -1.694460e-01 ||    400.00   2.068160e-01 1.588070e+00 1.794886e+00 || \n",
      "    10   400.00   2.068160e-01 -4.953768e-01 -2.885608e-01 ||    400.00   2.068160e-01 1.497874e+00 1.704690e+00 || \n",
      "CPU times: user 12.1 s, sys: 19.4 ms, total: 12.1 s\n",
      "Wall time: 12.1 s\n"
     ]
    }
   ],
   "source": [
    "%%time\n",
    "species = torch.as_tensor([[8,6,1,1],[5,1,1,1]],dtype=torch.int64, device=device)[:]\n",
    "coordinates = torch.tensor([\n",
    "                  [\n",
    "                   [ 1.40,  0.0,  0.0],\n",
    "                   [ 0.00,  0.0,  0.0],\n",
    "                   [-0.60,  0.94, 0.0],\n",
    "                   [-0.60, -0.94, 0.0]\n",
    "                  ],\n",
    "                  [\n",
    "                   [ 0.00,  0.00,  0.00],\n",
    "                   [ 1.40,  0.00,  0.00],\n",
    "                   [-0.60,  1.03,  0.00],\n",
    "                   [-0.60, -1.03,  0.00]\n",
    "                  ]\n",
    "                 ], device=device)[:]\n",
    "\n",
    "const = Constants().to(device)\n",
    "\n",
    "elements = [0]+sorted(set(species.reshape(-1).tolist()))\n",
    "seqm_parameters = {\n",
    "                   'method' : 'AM1',  # AM1, MNDO, PM#\n",
    "                   'scf_eps' : 1.0e-6,  # unit eV, change of electric energy, as nuclear energy doesnt' change during SCF\n",
    "                   'scf_converger' : [2,0.0], # converger used for scf loop\n",
    "                                         # [0, 0.1], [0, alpha] constant mixing, P = alpha*P + (1.0-alpha)*Pnew\n",
    "                                         # [1], adaptive mixing\n",
    "                                         # [2], adaptive mixing, then pulay\n",
    "                   'sp2' : [False, 1.0e-5],  # whether to use sp2 algorithm in scf loop,\n",
    "                                            #[True, eps] or [False], eps for SP2 conve criteria\n",
    "                   'elements' : elements, #[0,1,6,8],\n",
    "                   'learned' : [], # learned parameters name list, e.g ['U_ss']\n",
    "                   #'parameter_file_dir' : '../seqm/params/', # file directory for other required parameters\n",
    "                   'pair_outer_cutoff' : 1.0e10, # consistent with the unit on coordinates\n",
    "                   'eig' : True\n",
    "                   }\n",
    "\n",
    "output={'molid':[0, 1], 'thermo':1, 'dump':1, 'prefix':'Outputs/3_MD_BOMD_Basic_T_cntrl'}\n",
    "molecule = Molecule(const, seqm_parameters, coordinates, species).to(device)\n",
    "\n",
    "md =  Molecular_Dynamics_Basic(seqm_parameters=seqm_parameters, Temp=400.0, timestep=0.4, output=output).to(device)\n",
    "md.initialize_velocity(molecule )\n",
    "#remove center of mass velocity\n",
    "# Info_log flag generates .txt wtih additional info for every step (orbital energies, dipole)\n",
    "_ = md.run(molecule, 10, scale_vel=[1,400], remove_com=[True, 1], Info_log=True)"
   ]
  },
  {
   "cell_type": "markdown",
   "id": "28917924-2e5a-49a9-86fb-f1ea809c45f3",
   "metadata": {},
   "source": [
    "## Langevin Thermostat"
   ]
  },
  {
   "cell_type": "code",
   "execution_count": 5,
   "id": "34485db3-0514-41d2-9507-e4e630dfa1c2",
   "metadata": {},
   "outputs": [
    {
     "name": "stdout",
     "output_type": "stream",
     "text": [
      "Initialize velocities: zero_com\n",
      "Step,    Temp,    E(kinetic),  E(potential),  E(total)\n",
      "     1   353.46   1.827534e-01 -1.358699e+00 -1.175945e+00 ||    379.02   1.959708e-01 1.498579e+00 1.694550e+00 || \n",
      "     2   324.89   1.679815e-01 -1.345874e+00 -1.177893e+00 ||    257.96   1.333752e-01 1.548020e+00 1.681395e+00 || \n",
      "     3   276.14   1.427738e-01 -1.326710e+00 -1.183937e+00 ||    191.61   9.906993e-02 1.581930e+00 1.681000e+00 || \n",
      "     4   223.36   1.154839e-01 -1.305012e+00 -1.189528e+00 ||    179.74   9.293357e-02 1.594758e+00 1.687691e+00 || \n",
      "     5   187.08   9.672554e-02 -1.282685e+00 -1.185960e+00 ||    209.93   1.085402e-01 1.586147e+00 1.694687e+00 || \n",
      "     6   154.21   7.973507e-02 -1.262094e+00 -1.182359e+00 ||    264.09   1.365459e-01 1.558987e+00 1.695533e+00 || \n",
      "     7   136.96   7.081249e-02 -1.243525e+00 -1.172712e+00 ||    335.74   1.735921e-01 1.520398e+00 1.693990e+00 || \n",
      "     8   124.82   6.453435e-02 -1.227091e+00 -1.162557e+00 ||    429.95   2.223005e-01 1.474295e+00 1.696596e+00 || \n",
      "     9    99.98   5.169436e-02 -1.215175e+00 -1.163480e+00 ||    556.91   2.879444e-01 1.423954e+00 1.711898e+00 || \n",
      "    10    82.99   4.290728e-02 -1.207650e+00 -1.164743e+00 ||    684.50   3.539115e-01 1.377903e+00 1.731815e+00 || \n",
      "CPU times: user 12.3 s, sys: 31.8 ms, total: 12.4 s\n",
      "Wall time: 12.4 s\n"
     ]
    }
   ],
   "source": [
    "%%time\n",
    "species = torch.as_tensor([[8,6,1,1],[5,1,1,1]],dtype=torch.int64, device=device)[:]\n",
    "coordinates = torch.tensor([\n",
    "                  [\n",
    "                   [ 0.00,  0.0,  0.0],\n",
    "                   [ 1.22,  0.0,  0.0],\n",
    "                   [ 1.82,  0.94, 0.0],\n",
    "                   [ 1.82, -0.94, 0.0]\n",
    "                  ],\n",
    "                  [\n",
    "                   [ 0.00,  0.00,  0.00],\n",
    "                   [ 1.20,  0.00,  0.00],\n",
    "                   [-0.60,  1.03,  0.00],\n",
    "                   [-0.60, -1.03,  0.00]\n",
    "                  ]\n",
    "                 ], device=device)[:]\n",
    "\n",
    "const = Constants().to(device)\n",
    "\n",
    "elements = [0]+sorted(set(species.reshape(-1).tolist()))\n",
    "seqm_parameters = {\n",
    "                   'method' : 'AM1',  # AM1, MNDO, PM#\n",
    "                   'scf_eps' : 1.0e-6,  # unit eV, change of electric energy, as nuclear energy doesnt' change during SCF\n",
    "                   'scf_converger' : [2,0.0], # converger used for scf loop\n",
    "                                         # [0, 0.1], [0, alpha] constant mixing, P = alpha*P + (1.0-alpha)*Pnew\n",
    "                                         # [1], adaptive mixing\n",
    "                                         # [2], adaptive mixing, then pulay\n",
    "                   'sp2' : [False, 1.0e-5],  # whether to use sp2 algorithm in scf loop,\n",
    "                                            #[True, eps] or [False], eps for SP2 conve criteria\n",
    "                   'elements' : elements, #[0,1,6,8],\n",
    "                   'learned' : [], # learned parameters name list, e.g ['U_ss']\n",
    "                   #'parameter_file_dir' : '../seqm/params/', # file directory for other required parameters\n",
    "                   'pair_outer_cutoff' : 1.0e10, # consistent with the unit on coordinates\n",
    "                   'eig' : True\n",
    "                   }\n",
    "\n",
    "output={'molid':[0, 1], 'thermo':1, 'dump':1, 'prefix':'Outputs/3_MD_BOMD_Langevin'}\n",
    "molecule = Molecule(const, seqm_parameters, coordinates, species).to(device)\n",
    "\n",
    "# specify damping factor\n",
    "md =  Molecular_Dynamics_Langevin(damp = 100.0, seqm_parameters=seqm_parameters, Temp=400.0, timestep=0.4, output=output).to(device)\n",
    "md.initialize_velocity(molecule )\n",
    "#remove center of mass velocity\n",
    "# Info_log flag generates .txt wtih additional info for every step (orbital energies, dipole)\n",
    "_ = md.run(molecule, 10, remove_com=[True, 1], Info_log=True)"
   ]
  },
  {
   "cell_type": "code",
   "execution_count": null,
   "id": "5156a4ba-6fc2-4104-9a37-8caed3d3c67a",
   "metadata": {},
   "outputs": [],
   "source": []
  }
 ],
 "metadata": {
  "kernelspec": {
   "display_name": "hipnn_1",
   "language": "python",
   "name": "hipnn_1"
  },
  "language_info": {
   "codemirror_mode": {
    "name": "ipython",
    "version": 3
   },
   "file_extension": ".py",
   "mimetype": "text/x-python",
   "name": "python",
   "nbconvert_exporter": "python",
   "pygments_lexer": "ipython3",
   "version": "3.9.16"
  }
 },
 "nbformat": 4,
 "nbformat_minor": 5
}
