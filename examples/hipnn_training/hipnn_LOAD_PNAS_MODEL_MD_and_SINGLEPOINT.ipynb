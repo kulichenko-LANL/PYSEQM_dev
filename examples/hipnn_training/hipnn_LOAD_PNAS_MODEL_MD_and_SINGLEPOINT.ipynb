{
 "cells": [
  {
   "cell_type": "markdown",
   "id": "c3e27d55-e598-44e6-9f01-32933dd1ceeb",
   "metadata": {},
   "source": [
    "# Example to load model from https://doi.org/10.1073/pnas.2120333119"
   ]
  },
  {
   "cell_type": "code",
   "execution_count": 1,
   "id": "e6771d89-983d-4603-b865-cf7ad9af784a",
   "metadata": {},
   "outputs": [
    {
     "name": "stderr",
     "output_type": "stream",
     "text": [
      "/home/maxim/anaconda3/envs/hipnn_1/lib/python3.9/site-packages/tqdm/auto.py:21: TqdmWarning: IProgress not found. Please update jupyter and ipywidgets. See https://ipywidgets.readthedocs.io/en/stable/user_install.html\n",
      "  from .autonotebook import tqdm as notebook_tqdm\n"
     ]
    }
   ],
   "source": [
    "import os\n",
    "import sys\n",
    "\n",
    "### path to PYSEQM ###\n",
    "import torch\n",
    "\n",
    "### path to PYSEQM ###\n",
    "sys.path.insert(1, '.../PYSEQM_dev/')\n",
    "\n",
    "### path to HIPNN ###\n",
    "sys.path.append('.../hippynn/')\n",
    "\n",
    "\n",
    "from seqm.seqm_functions.constants import Constants\n",
    "from seqm.MolecularDynamics import Molecular_Dynamics_Basic, Molecular_Dynamics_Langevin\n",
    "from seqm.MolecularDynamics import XL_BOMD\n",
    "from seqm.MolecularDynamics import KSA_XL_BOMD\n",
    "from hippynn.interfaces.pyseqm_interface.gen_par_full_model import gen_par_full_model\n",
    "\n",
    "from seqm.Molecule import Molecule\n",
    "from seqm.ElectronicStructure import Electronic_Structure\n",
    "\n",
    "torch.set_default_dtype(torch.float64)\n",
    "if torch.cuda.is_available():\n",
    "    device = torch.device(\"cuda\")\n",
    "else:\n",
    "    device = torch.device(\"cpu\")"
   ]
  },
  {
   "cell_type": "code",
   "execution_count": 2,
   "id": "e768926e-d5b7-45af-a106-303669ded662",
   "metadata": {},
   "outputs": [
    {
     "name": "stdout",
     "output_type": "stream",
     "text": [
      "Determined Inputs: [\"Positions(db_name='R')\", \"Species(db_name='Z_long')\"]\n",
      "Determined Outputs: ['SEQM_Atom_Params.atom_charges']\n",
      "Determined Targets: []\n",
      "Device was not specified. Attempting to default to device: cuda:0\n"
     ]
    }
   ],
   "source": [
    "### ML part ###\n",
    "model_file = \"PNAS_model.pt\"\n",
    "par_atom_node_name = \"SEQM_Atom_Params\"\n",
    "seqm_node_name = \"SEQM_Energy\"\n",
    "\n",
    "### This one goes to MD driver and generates HIPNN-SEQM parameters in dynamics\n",
    "leared_par_generator = gen_par_full_model(model_file, par_atom_node_name, seqm_node_name, device)\n",
    "\n",
    "from hippynn.experiment.serialization import load_checkpoint\n",
    "model = torch.load(model_file, map_location=device).to(device)\n",
    "model.eval()\n",
    "seqm_parameters0 = model.node_from_name(seqm_node_name).torch_module.energy.seqm_parameters\n",
    "del model"
   ]
  },
  {
   "cell_type": "markdown",
   "id": "5ea65115-24dc-4d7a-8afd-242b956ddd25",
   "metadata": {},
   "source": [
    "## Single point"
   ]
  },
  {
   "cell_type": "code",
   "execution_count": 3,
   "id": "bf7f7bdc-8ce4-470f-9685-da2ba8b5e700",
   "metadata": {},
   "outputs": [],
   "source": [
    "### create molecule object:\n",
    "species = torch.as_tensor([[8,6,1,1],\n",
    "                           [8,6,1,1],\n",
    "                           [8,8,6,0]], # zero-padding for batching\n",
    "                          dtype=torch.int64, device=device)\n",
    "\n",
    "coordinates = torch.tensor([\n",
    "                              [\n",
    "                               [0.00,    0.00,    0.00],\n",
    "                               [1.22,    0.00,    0.00],\n",
    "                               [1.82,    0.94,    0.00],\n",
    "                               [1.82,   -0.94,    0.00]\n",
    "                              ],\n",
    "                              [\n",
    "                               [0.00,    0.00,    0.00],\n",
    "                               [1.22,    0.00,    0.00],\n",
    "                               [1.82,    0.94,    0.00],\n",
    "                               [1.82,   -0.94,    0.00]\n",
    "                              ],\n",
    "                              [\n",
    "                               [0.00,    0.00,    0.00],\n",
    "                               [1.23,    0.00,    0.00],\n",
    "                               [1.82,    0.94,    0.00],\n",
    "                               [0.0,0.0,0.0]            # zero-padding for batching\n",
    "                              ]\n",
    "                            ], device=device)\n",
    "\n",
    "const = Constants().to(device)\n",
    "\n",
    "elements = [0]+sorted(set(species.reshape(-1).tolist()))\n",
    "\n",
    "seqm_parameters = {\n",
    "    \"method\": 'PM3', #seqm_parameters0[\"method\"],  # AM1, MNDO, PM#\n",
    "    \"scf_eps\": 1.0e-6,  # unit eV, change of electric energy, as nuclear energy doesnt' change during SCF\n",
    "    \"scf_converger\": [1, 0.0],  # converger used for scf loop\n",
    "    \"sp2\": [False, 1.0e-5],  # whether to use sp2 algorithm in scf loop,\n",
    "    \"elements\": seqm_parameters0[\"elements\"],  # [0,1,6,8],\n",
    "    \"learned\": seqm_parameters0[\"learned\"],  # learned parameters name list, e.g ['U_ss']\n",
    "    #\"parameter_file_dir\": '.../PYSEQM_dev/seqm/params/',  # file directory for other required parameters\n",
    "    \"pair_outer_cutoff\": 1.0e10,  # consistent with the unit on coordinates\n",
    "    'eig' : True,\n",
    "    'UHF' : False,\n",
    "}\n",
    "\n",
    "molecules = Molecule(const, seqm_parameters, coordinates, species, learned_parameters=leared_par_generator).to(device)\n",
    "\n",
    "### Create electronic structure driver:\n",
    "esdriver = Electronic_Structure(seqm_parameters).to(device)\n",
    "\n",
    "### Run esdriver on molecules:\n",
    "esdriver(molecules,learned_parameters=leared_par_generator)"
   ]
  },
  {
   "cell_type": "code",
   "execution_count": 4,
   "id": "d73cab03-fa7f-4f3a-b9a5-0c0a98919b13",
   "metadata": {},
   "outputs": [
    {
     "data": {
      "text/plain": [
       "tensor([-441.0159, -441.0159, -694.1156], device='cuda:0')"
      ]
     },
     "execution_count": 4,
     "metadata": {},
     "output_type": "execute_result"
    }
   ],
   "source": [
    "molecules.Etot"
   ]
  },
  {
   "cell_type": "code",
   "execution_count": 5,
   "id": "8ee1964b-e994-4ecc-9ef2-3dada1c2d49a",
   "metadata": {},
   "outputs": [
    {
     "data": {
      "text/plain": [
       "tensor([[[ 1.0288e+01, -1.1970e-15, -0.0000e+00],\n",
       "         [-8.0646e+00,  8.1116e-14, -0.0000e+00],\n",
       "         [-1.1116e+00, -1.5929e+00, -0.0000e+00],\n",
       "         [-1.1116e+00,  1.5929e+00, -0.0000e+00]],\n",
       "\n",
       "        [[ 1.0288e+01, -1.1241e-15, -0.0000e+00],\n",
       "         [-8.0646e+00,  8.1421e-14, -0.0000e+00],\n",
       "         [-1.1116e+00, -1.5929e+00, -0.0000e+00],\n",
       "         [-1.1116e+00,  1.5929e+00, -0.0000e+00]],\n",
       "\n",
       "        [[ 5.9416e+01,  1.0721e+00, -2.8026e-14],\n",
       "         [-9.1345e+01, -5.4177e+01,  2.5216e-14],\n",
       "         [ 3.1929e+01,  5.3105e+01,  2.8103e-15],\n",
       "         [-0.0000e+00, -0.0000e+00, -0.0000e+00]]], device='cuda:0')"
      ]
     },
     "execution_count": 5,
     "metadata": {},
     "output_type": "execute_result"
    }
   ],
   "source": [
    "molecules.force"
   ]
  },
  {
   "cell_type": "markdown",
   "id": "f33f8083-53dd-4150-a87c-0523fd28a11a",
   "metadata": {
    "tags": []
   },
   "source": [
    "## MD"
   ]
  },
  {
   "cell_type": "code",
   "execution_count": 6,
   "id": "e4bfea5a-9bf7-40da-a3d5-2ab29d99e00e",
   "metadata": {},
   "outputs": [],
   "source": [
    "### create molecule object ###\n",
    "\n",
    "species = torch.as_tensor([[8, 6, 1, 1],\n",
    "                           [8, 6, 1, 1]], dtype=torch.int64, device=device)\n",
    "\n",
    "coordinates = torch.tensor(\n",
    "                            [\n",
    "                                [[0.014,  0.001,  0.001],\n",
    "                                 [1.336,  0.001,  0.001],\n",
    "                                 [1.757,  1.039, -0.001],\n",
    "                                 [1.757, -1.039,  0.000]],\n",
    "\n",
    "                                [[0.014,  0.001,  0.001],\n",
    "                                 [1.336,  0.001,  0.001],\n",
    "                                 [1.757,  1.039, -0.001],\n",
    "                                 [1.757, -1.039,  0.000]],\n",
    "                            ],\n",
    "                            device=device,\n",
    "                        )\n",
    "\n",
    "const = Constants().to(device)\n",
    "seqm_parameters = {\n",
    "    \"method\": 'PM3', # seqm_parameters0[\"method\"],  # AM1, MNDO, PM#\n",
    "    \"scf_eps\": 1.0e-6,  # unit eV, change of electric energy, as nuclear energy doesnt' change during SCF\n",
    "    \"scf_converger\": [0, 0.1],  # converger used for scf loop\n",
    "                                # [0, 0.1], [0, alpha] constant mixing, P = alpha*P + (1.0-alpha)*Pnew\n",
    "                                # [1], adaptive mixing\n",
    "                                # [2], adaptive mixing, then pulay\n",
    "    \"sp2\": [False, 1.0e-5],  # whether to use sp2 algorithm in scf loop,\n",
    "    \"elements\": seqm_parameters0[\"elements\"],  # [0,1,6,8],\n",
    "    \"learned\": seqm_parameters0[\"learned\"],  # learned parameters name list, e.g ['U_ss']\n",
    "    #\"parameter_file_dir\": '.../PYSEQM_dev/seqm/params/',  # file directory for other required parameters\n",
    "    \"pair_outer_cutoff\": 1.0e10,  # consistent with the unit on coordinates\n",
    "    'eig' : True,\n",
    "    'UHF' : False,\n",
    "}\n",
    "\n",
    "### Pass charges and multiplicity if 'UHF':True. Otherwise, neutral singlet is the default setting\n",
    "### XL-BOMD supports only closed shell systems at the moment!\n",
    "\n",
    "# charges = torch.tensor([0,0],dtype=torch.int64, device=device)\n",
    "# mult = torch.tensor([1,3], device=device)\n",
    "# molecule = Molecule(const, seqm_parameters, coordinates, species, charges, mult).to(device)\n",
    "\n",
    "molecule = Molecule(const, seqm_parameters, coordinates, species, learned_parameters=leared_par_generator).to(device)"
   ]
  },
  {
   "cell_type": "markdown",
   "id": "941c413d-79e5-4f6c-b8e5-7e0acaf6edd4",
   "metadata": {},
   "source": [
    "### BOMD, NVE"
   ]
  },
  {
   "cell_type": "code",
   "execution_count": 7,
   "id": "46e2d158-5cbb-4793-9646-6f3ffb453916",
   "metadata": {},
   "outputs": [
    {
     "name": "stdout",
     "output_type": "stream",
     "text": [
      "Initialize velocities: zero_com\n",
      "Step,    Temp,    E(kinetic),  E(potential),  E(total)\n",
      "     1   331.26   1.712752e-01 1.683752e+00 1.855027e+00 ||    412.43   2.132418e-01 1.718149e+00 1.931391e+00 || \n",
      "     2   362.83   1.875982e-01 1.664978e+00 1.852576e+00 ||    383.89   1.984875e-01 1.733946e+00 1.932434e+00 || \n",
      "     3   397.39   2.054646e-01 1.644547e+00 1.850011e+00 ||    357.96   1.850788e-01 1.748268e+00 1.933347e+00 || \n",
      "     4   435.04   2.249344e-01 1.622467e+00 1.847401e+00 ||    334.65   1.730288e-01 1.761127e+00 1.934155e+00 || \n",
      "     5   475.95   2.460839e-01 1.598751e+00 1.844835e+00 ||    314.00   1.623530e-01 1.772536e+00 1.934889e+00 || \n"
     ]
    }
   ],
   "source": [
    "dt = 0.1\n",
    "\n",
    "# create MD object and output files\n",
    "output={'molid':[0, 1], 'thermo':1, 'dump':1, 'prefix':'BOMD'}\n",
    "md0 =  Molecular_Dynamics_Basic(seqm_parameters=seqm_parameters, Temp=400.0, timestep=dt, output=output).to(device)\n",
    "\n",
    "# initialize velocities with predefined randomization seed.\n",
    "torch.manual_seed(0)\n",
    "md0.initialize_velocity(molecule )\n",
    "\n",
    "# run\n",
    "_ = md0.run(molecule, 5, remove_com=[True, 1], Info_log=True, learned_parameters=leared_par_generator)"
   ]
  },
  {
   "cell_type": "markdown",
   "id": "57c1d398-ef98-4f04-8c1e-1f55112a98f3",
   "metadata": {},
   "source": [
    "### XL-BOMD, NVE"
   ]
  },
  {
   "cell_type": "code",
   "execution_count": 8,
   "id": "32c01b1d-410f-4165-b5be-9a803646abf2",
   "metadata": {},
   "outputs": [
    {
     "name": "stdout",
     "output_type": "stream",
     "text": [
      "Initialize velocities: zero_com\n",
      "Doing initialization\n",
      "Step,    Temp,    E(kinetic),  E(potential),  E(total)\n",
      "     1   331.22   1.712540e-01 1.683773e+00 1.855027e+00 ||    412.37   2.132094e-01 1.718182e+00 1.931391e+00 || \n",
      "     2   362.70   1.875308e-01 1.665003e+00 1.852533e+00 ||    383.71   1.983952e-01 1.733976e+00 1.932371e+00 || \n",
      "     3   397.19   2.053656e-01 1.644557e+00 1.849923e+00 ||    357.73   1.849597e-01 1.748264e+00 1.933224e+00 || \n",
      "     4   434.87   2.248440e-01 1.622490e+00 1.847334e+00 ||    334.48   1.729373e-01 1.761139e+00 1.934076e+00 || \n",
      "     5   475.84   2.460288e-01 1.598780e+00 1.844809e+00 ||    313.93   1.623151e-01 1.772553e+00 1.934869e+00 || \n"
     ]
    }
   ],
   "source": [
    "### XL-BOMD supports only closed shell systems at the moment!\n",
    "\n",
    "species = torch.as_tensor([[8, 6, 1, 1],\n",
    "                           [8, 6, 1, 1]], dtype=torch.int64, device=device)\n",
    "\n",
    "coordinates = torch.tensor(\n",
    "    [\n",
    "        [[0.014,  0.001,  0.001],\n",
    "         [1.336,  0.001,  0.001],\n",
    "         [1.757,  1.039, -0.001],\n",
    "         [1.757, -1.039,  0.000]],\n",
    "        \n",
    "        [[0.014,  0.001,  0.001],\n",
    "         [1.336,  0.001,  0.001],\n",
    "         [1.757,  1.039, -0.001],\n",
    "         [1.757, -1.039,  0.000]],\n",
    "    ],\n",
    "    device=device,\n",
    ")\n",
    "\n",
    "### Pass charges if 'UHF':True. Otherwise, neutral singlet is the default setting\n",
    "### XL-BOMD supports only closed shell systems at the moment!\n",
    "\n",
    "#charges = torch.tensor([0,2],dtype=torch.int64, device=device)\n",
    "#molecule = Molecule(const, seqm_parameters, coordinates, species, charges).to(device)\n",
    "\n",
    "molecule = Molecule(const, seqm_parameters, coordinates, species, learned_parameters=leared_par_generator).to(device)\n",
    "\n",
    "dt = 0.1\n",
    "\n",
    "xl_bomd_params={'k':6}\n",
    "\n",
    "output={'molid':[0, 1], 'thermo':1, 'dump':1, 'prefix':'XL-BOMD'}\n",
    "md2 =  XL_BOMD(xl_bomd_params=xl_bomd_params,\n",
    "              seqm_parameters=seqm_parameters, Temp=400.0, timestep=dt, output=output).to(device)\n",
    "\n",
    "torch.manual_seed(0)\n",
    "md2.initialize_velocity(molecule )\n",
    "_ = md2.run(molecule, 5, remove_com=[True, 1], Info_log=False, learned_parameters=leared_par_generator)"
   ]
  },
  {
   "cell_type": "code",
   "execution_count": null,
   "id": "5d64213a-6110-469b-88b3-6112e4b1113f",
   "metadata": {},
   "outputs": [],
   "source": []
  }
 ],
 "metadata": {
  "kernelspec": {
   "display_name": "hipnn_1",
   "language": "python",
   "name": "hipnn_1"
  },
  "language_info": {
   "codemirror_mode": {
    "name": "ipython",
    "version": 3
   },
   "file_extension": ".py",
   "mimetype": "text/x-python",
   "name": "python",
   "nbconvert_exporter": "python",
   "pygments_lexer": "ipython3",
   "version": "3.9.16"
  }
 },
 "nbformat": 4,
 "nbformat_minor": 5
}
