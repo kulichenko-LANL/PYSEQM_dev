{
 "cells": [
  {
   "cell_type": "markdown",
   "id": "538eccc9-8c06-466d-9632-698bbbe8403a",
   "metadata": {},
   "source": [
    "# Example to load newly trained model"
   ]
  },
  {
   "cell_type": "code",
   "execution_count": 2,
   "id": "e6771d89-983d-4603-b865-cf7ad9af784a",
   "metadata": {},
   "outputs": [],
   "source": [
    "import os\n",
    "import sys\n",
    "import torch\n",
    "### path to PYSEQM ###\n",
    "sys.path.insert(1, \"/home/maxim/Projects/git2/PYSEQM_dev/\")\n",
    "#sys.path.insert(1, '/home/maxim/Projects/pyseqm_d/My_d_combined/PYSEQM_dev/')\n",
    "\n",
    "### path to HIPNN ###\n",
    "sys.path.append('/home/maxim/Projects/hipnn/hippynn_restricted/')\n",
    "\n",
    "from seqm.seqm_functions.constants import Constants\n",
    "from seqm.MolecularDynamics import Molecular_Dynamics_Basic, Molecular_Dynamics_Langevin\n",
    "from seqm.MolecularDynamics import XL_BOMD\n",
    "from seqm.MolecularDynamics import KSA_XL_BOMD\n",
    "from hippynn.interfaces.pyseqm_interface.gen_par import gen_par\n",
    "from hippynn.interfaces.pyseqm_interface.gen_par_full_model import gen_par_full_model\n",
    "from seqm.Molecule import Molecule\n",
    "from seqm.ElectronicStructure import Electronic_Structure\n",
    "\n",
    "torch.set_default_dtype(torch.float64)\n",
    "if torch.cuda.is_available():\n",
    "    device = torch.device(\"cuda\")\n",
    "else:\n",
    "    device = torch.device(\"cpu\")"
   ]
  },
  {
   "cell_type": "code",
   "execution_count": 3,
   "id": "1500acd8-4c6c-41a5-8493-e431dc370e97",
   "metadata": {},
   "outputs": [
    {
     "ename": "FileNotFoundError",
     "evalue": "[Errno 2] No such file or directory: './TEST1/experiment_structure.pt'",
     "output_type": "error",
     "traceback": [
      "\u001b[0;31m---------------------------------------------------------------------------\u001b[0m",
      "\u001b[0;31mFileNotFoundError\u001b[0m                         Traceback (most recent call last)",
      "Cell \u001b[0;32mIn[3], line 8\u001b[0m\n\u001b[1;32m      5\u001b[0m seqm_node_name \u001b[38;5;241m=\u001b[39m \u001b[38;5;124m\"\u001b[39m\u001b[38;5;124mSEQM_Energy\u001b[39m\u001b[38;5;124m\"\u001b[39m\n\u001b[1;32m      7\u001b[0m \u001b[38;5;66;03m### This one goes to MD driver and generates HIPNN-SEQM parameters in dynamics\u001b[39;00m\n\u001b[0;32m----> 8\u001b[0m leared_par_generator \u001b[38;5;241m=\u001b[39m \u001b[43mgen_par\u001b[49m\u001b[43m(\u001b[49m\u001b[43mmodel_file\u001b[49m\u001b[43m,\u001b[49m\u001b[43m \u001b[49m\u001b[43mstate_file\u001b[49m\u001b[43m,\u001b[49m\u001b[43m \u001b[49m\u001b[43mpar_atom_node_name\u001b[49m\u001b[43m,\u001b[49m\u001b[43m \u001b[49m\u001b[43mseqm_node_name\u001b[49m\u001b[43m,\u001b[49m\u001b[43m \u001b[49m\u001b[43mdevice\u001b[49m\u001b[43m)\u001b[49m\n\u001b[1;32m     10\u001b[0m \u001b[38;5;28;01mfrom\u001b[39;00m \u001b[38;5;21;01mhippynn\u001b[39;00m\u001b[38;5;21;01m.\u001b[39;00m\u001b[38;5;21;01mexperiment\u001b[39;00m\u001b[38;5;21;01m.\u001b[39;00m\u001b[38;5;21;01mserialization\u001b[39;00m \u001b[38;5;28;01mimport\u001b[39;00m load_checkpoint\n\u001b[1;32m     11\u001b[0m model \u001b[38;5;241m=\u001b[39m load_checkpoint(model_file, state_file)[\u001b[38;5;124m\"\u001b[39m\u001b[38;5;124mtraining_modules\u001b[39m\u001b[38;5;124m\"\u001b[39m][\u001b[38;5;241m0\u001b[39m]\u001b[38;5;241m.\u001b[39mto(device)\n",
      "File \u001b[0;32m~/Projects/hipnn/hippynn_restricted/hippynn/interfaces/pyseqm_interface/gen_par.py:30\u001b[0m, in \u001b[0;36mgen_par.__init__\u001b[0;34m(self, model_file, state_file, par_atom_node_name, seqm_node_name, device)\u001b[0m\n\u001b[1;32m     28\u001b[0m \u001b[38;5;28mself\u001b[39m\u001b[38;5;241m.\u001b[39mpar_atom_node_name \u001b[38;5;241m=\u001b[39m par_atom_node_name\n\u001b[1;32m     29\u001b[0m \u001b[38;5;28mself\u001b[39m\u001b[38;5;241m.\u001b[39mseqm_node_name \u001b[38;5;241m=\u001b[39m seqm_node_name\n\u001b[0;32m---> 30\u001b[0m structure \u001b[38;5;241m=\u001b[39m \u001b[43mtorch\u001b[49m\u001b[38;5;241;43m.\u001b[39;49m\u001b[43mload\u001b[49m\u001b[43m(\u001b[49m\u001b[43mmodel_file\u001b[49m\u001b[43m,\u001b[49m\u001b[43m \u001b[49m\u001b[43mmap_location\u001b[49m\u001b[38;5;241;43m=\u001b[39;49m\u001b[43mdevice\u001b[49m\u001b[43m)\u001b[49m\n\u001b[1;32m     31\u001b[0m state \u001b[38;5;241m=\u001b[39m torch\u001b[38;5;241m.\u001b[39mload(state_file, map_location\u001b[38;5;241m=\u001b[39mdevice)\n\u001b[1;32m     32\u001b[0m structure[\u001b[38;5;124m\"\u001b[39m\u001b[38;5;124mtraining_modules\u001b[39m\u001b[38;5;124m\"\u001b[39m][\u001b[38;5;241m0\u001b[39m]\u001b[38;5;241m.\u001b[39mload_state_dict(state[\u001b[38;5;124m\"\u001b[39m\u001b[38;5;124mmodel\u001b[39m\u001b[38;5;124m\"\u001b[39m])\n",
      "File \u001b[0;32m~/anaconda3/envs/hipnn_1/lib/python3.9/site-packages/torch/serialization.py:771\u001b[0m, in \u001b[0;36mload\u001b[0;34m(f, map_location, pickle_module, weights_only, **pickle_load_args)\u001b[0m\n\u001b[1;32m    768\u001b[0m \u001b[38;5;28;01mif\u001b[39;00m \u001b[38;5;124m'\u001b[39m\u001b[38;5;124mencoding\u001b[39m\u001b[38;5;124m'\u001b[39m \u001b[38;5;129;01mnot\u001b[39;00m \u001b[38;5;129;01min\u001b[39;00m pickle_load_args\u001b[38;5;241m.\u001b[39mkeys():\n\u001b[1;32m    769\u001b[0m     pickle_load_args[\u001b[38;5;124m'\u001b[39m\u001b[38;5;124mencoding\u001b[39m\u001b[38;5;124m'\u001b[39m] \u001b[38;5;241m=\u001b[39m \u001b[38;5;124m'\u001b[39m\u001b[38;5;124mutf-8\u001b[39m\u001b[38;5;124m'\u001b[39m\n\u001b[0;32m--> 771\u001b[0m \u001b[38;5;28;01mwith\u001b[39;00m \u001b[43m_open_file_like\u001b[49m\u001b[43m(\u001b[49m\u001b[43mf\u001b[49m\u001b[43m,\u001b[49m\u001b[43m \u001b[49m\u001b[38;5;124;43m'\u001b[39;49m\u001b[38;5;124;43mrb\u001b[39;49m\u001b[38;5;124;43m'\u001b[39;49m\u001b[43m)\u001b[49m \u001b[38;5;28;01mas\u001b[39;00m opened_file:\n\u001b[1;32m    772\u001b[0m     \u001b[38;5;28;01mif\u001b[39;00m _is_zipfile(opened_file):\n\u001b[1;32m    773\u001b[0m         \u001b[38;5;66;03m# The zipfile reader is going to advance the current file position.\u001b[39;00m\n\u001b[1;32m    774\u001b[0m         \u001b[38;5;66;03m# If we want to actually tail call to torch.jit.load, we need to\u001b[39;00m\n\u001b[1;32m    775\u001b[0m         \u001b[38;5;66;03m# reset back to the original position.\u001b[39;00m\n\u001b[1;32m    776\u001b[0m         orig_position \u001b[38;5;241m=\u001b[39m opened_file\u001b[38;5;241m.\u001b[39mtell()\n",
      "File \u001b[0;32m~/anaconda3/envs/hipnn_1/lib/python3.9/site-packages/torch/serialization.py:270\u001b[0m, in \u001b[0;36m_open_file_like\u001b[0;34m(name_or_buffer, mode)\u001b[0m\n\u001b[1;32m    268\u001b[0m \u001b[38;5;28;01mdef\u001b[39;00m \u001b[38;5;21m_open_file_like\u001b[39m(name_or_buffer, mode):\n\u001b[1;32m    269\u001b[0m     \u001b[38;5;28;01mif\u001b[39;00m _is_path(name_or_buffer):\n\u001b[0;32m--> 270\u001b[0m         \u001b[38;5;28;01mreturn\u001b[39;00m \u001b[43m_open_file\u001b[49m\u001b[43m(\u001b[49m\u001b[43mname_or_buffer\u001b[49m\u001b[43m,\u001b[49m\u001b[43m \u001b[49m\u001b[43mmode\u001b[49m\u001b[43m)\u001b[49m\n\u001b[1;32m    271\u001b[0m     \u001b[38;5;28;01melse\u001b[39;00m:\n\u001b[1;32m    272\u001b[0m         \u001b[38;5;28;01mif\u001b[39;00m \u001b[38;5;124m'\u001b[39m\u001b[38;5;124mw\u001b[39m\u001b[38;5;124m'\u001b[39m \u001b[38;5;129;01min\u001b[39;00m mode:\n",
      "File \u001b[0;32m~/anaconda3/envs/hipnn_1/lib/python3.9/site-packages/torch/serialization.py:251\u001b[0m, in \u001b[0;36m_open_file.__init__\u001b[0;34m(self, name, mode)\u001b[0m\n\u001b[1;32m    250\u001b[0m \u001b[38;5;28;01mdef\u001b[39;00m \u001b[38;5;21m__init__\u001b[39m(\u001b[38;5;28mself\u001b[39m, name, mode):\n\u001b[0;32m--> 251\u001b[0m     \u001b[38;5;28msuper\u001b[39m(_open_file, \u001b[38;5;28mself\u001b[39m)\u001b[38;5;241m.\u001b[39m\u001b[38;5;21m__init__\u001b[39m(\u001b[38;5;28;43mopen\u001b[39;49m\u001b[43m(\u001b[49m\u001b[43mname\u001b[49m\u001b[43m,\u001b[49m\u001b[43m \u001b[49m\u001b[43mmode\u001b[49m\u001b[43m)\u001b[49m)\n",
      "\u001b[0;31mFileNotFoundError\u001b[0m: [Errno 2] No such file or directory: './TEST1/experiment_structure.pt'"
     ]
    }
   ],
   "source": [
    "### ML part ###\n",
    "model_file = \"./TEST1/experiment_structure.pt\" ###\n",
    "state_file = \"./TEST1/best_checkpoint.pt\" ###\n",
    "par_atom_node_name = \"SEQM_Atom_Params\"\n",
    "seqm_node_name = \"SEQM_Energy\"\n",
    "\n",
    "### This one goes to MD driver and generates HIPNN-SEQM parameters in dynamics\n",
    "leared_par_generator = gen_par(model_file, state_file, par_atom_node_name, seqm_node_name, device)\n",
    "\n",
    "from hippynn.experiment.serialization import load_checkpoint\n",
    "model = load_checkpoint(model_file, state_file)[\"training_modules\"][0].to(device)\n",
    "seqm_parameters0 = model.node_from_name(seqm_node_name).torch_module.energy.seqm_parameters\n",
    "del model"
   ]
  },
  {
   "cell_type": "markdown",
   "id": "5ce3f018-9922-4064-8f39-9f1cfac0e437",
   "metadata": {},
   "source": [
    "## Single point"
   ]
  },
  {
   "cell_type": "code",
   "execution_count": null,
   "id": "bf7f7bdc-8ce4-470f-9685-da2ba8b5e700",
   "metadata": {},
   "outputs": [],
   "source": [
    "### SINGLE POINT ###\n",
    "####################\n",
    "\n",
    "\n",
    "### create molecule object:\n",
    "species = torch.as_tensor([[8,6,1,1],\n",
    "                           [8,6,1,1],\n",
    "                           [8,8,6,0]], # zero-padding for batching\n",
    "                          dtype=torch.int64, device=device)\n",
    "\n",
    "coordinates = torch.tensor([\n",
    "                              [\n",
    "                               [0.00,    0.00,    0.00],\n",
    "                               [1.22,    0.00,    0.00],\n",
    "                               [1.82,    0.94,    0.00],\n",
    "                               [1.82,   -0.94,    0.00]\n",
    "                              ],\n",
    "                              [\n",
    "                               [0.00,    0.00,    0.00],\n",
    "                               [1.22,    0.00,    0.00],\n",
    "                               [1.82,    0.94,    0.00],\n",
    "                               [1.82,   -0.94,    0.00]\n",
    "                              ],\n",
    "                              [\n",
    "                               [0.00,    0.00,    0.00],\n",
    "                               [1.23,    0.00,    0.00],\n",
    "                               [1.82,    0.94,    0.00],\n",
    "                               [0.0,0.0,0.0]            # zero-padding for batching\n",
    "                              ]\n",
    "                            ], device=device)\n",
    "\n",
    "const = Constants().to(device)\n",
    "\n",
    "elements = [0]+sorted(set(species.reshape(-1).tolist()))\n",
    "\n",
    "seqm_parameters = {\n",
    "    \"method\": 'PM3', #seqm_parameters0[\"method\"],  # AM1, MNDO, PM#\n",
    "    \"scf_eps\": 1.0e-6,  # unit eV, change of electric energy, as nuclear energy doesnt' change during SCF\n",
    "    \"scf_converger\": [1, 0.0],  # converger used for scf loop\n",
    "    \"sp2\": [False, 1.0e-5],  # whether to use sp2 algorithm in scf loop,\n",
    "    \"elements\": seqm_parameters0[\"elements\"],  # [0,1,6,8],\n",
    "    \"learned\": seqm_parameters0[\"learned\"],  # learned parameters name list, e.g ['U_ss']\n",
    "    #\"parameter_file_dir\": '.../PYSEQM_dev/seqm/params/',  # file directory for other required parameters\n",
    "    \"pair_outer_cutoff\": 1.0e10,  # consistent with the unit on coordinates\n",
    "    'eig' : True,\n",
    "    'UHF' : False,\n",
    "}\n",
    "\n",
    "molecules = Molecule(const, seqm_parameters, coordinates, species).to(device)\n",
    "\n",
    "### Create electronic structure driver:\n",
    "esdriver = Electronic_Structure(seqm_parameters).to(device)\n",
    "\n",
    "### Run esdriver on molecules:\n",
    "esdriver(molecules,learned_parameters=leared_par_generator)"
   ]
  },
  {
   "cell_type": "code",
   "execution_count": null,
   "id": "d73cab03-fa7f-4f3a-b9a5-0c0a98919b13",
   "metadata": {},
   "outputs": [],
   "source": [
    "molecules.Etot"
   ]
  },
  {
   "cell_type": "code",
   "execution_count": null,
   "id": "8ee1964b-e994-4ecc-9ef2-3dada1c2d49a",
   "metadata": {},
   "outputs": [],
   "source": [
    "molecules.force"
   ]
  },
  {
   "cell_type": "markdown",
   "id": "5a635df1-61ca-40c3-b41b-54a63ff7df28",
   "metadata": {
    "tags": []
   },
   "source": [
    "## MD"
   ]
  },
  {
   "cell_type": "code",
   "execution_count": null,
   "id": "e48dc4d8-460e-47a3-9f07-8d34ecdc3b36",
   "metadata": {},
   "outputs": [],
   "source": [
    "species = torch.as_tensor([[8, 6, 1, 1],\n",
    "                           [8, 6, 1, 1]], dtype=torch.int64, device=device)\n",
    "\n",
    "coordinates = torch.tensor(\n",
    "    [\n",
    "        [[0.014,  0.001,  0.001],\n",
    "         [1.336,  0.001,  0.001],\n",
    "         [1.757,  1.039, -0.001],\n",
    "         [1.757, -1.039,  0.000]],\n",
    "        \n",
    "        [[0.014,  0.001,  0.001],\n",
    "         [1.336,  0.001,  0.001],\n",
    "         [1.757,  1.039, -0.001],\n",
    "         [1.757, -1.039,  0.000]],\n",
    "    ],\n",
    "    device=device,\n",
    ")\n",
    "\n",
    "const = Constants().to(device)\n",
    "seqm_parameters = {\n",
    "    \"method\": 'PM3', # seqm_parameters0[\"method\"],  # AM1, MNDO, PM#\n",
    "    \"scf_eps\": 1.0e-6,  # unit eV, change of electric energy, as nuclear energy doesnt' change during SCF\n",
    "    \"scf_converger\": [0, 0.1],  # converger used for scf loop\n",
    "                                # [0, 0.1], [0, alpha] constant mixing, P = alpha*P + (1.0-alpha)*Pnew\n",
    "                                # [1], adaptive mixing\n",
    "                                # [2], adaptive mixing, then pulay\n",
    "    \"sp2\": [False, 1.0e-5],  # whether to use sp2 algorithm in scf loop,\n",
    "    \"elements\": seqm_parameters0[\"elements\"],  # [0,1,6,8],\n",
    "    \"learned\": seqm_parameters0[\"learned\"],  # learned parameters name list, e.g ['U_ss']\n",
    "    #\"parameter_file_dir\": '.../PYSEQM_dev/seqm/params/',  # file directory for other required parameters\n",
    "    \"pair_outer_cutoff\": 1.0e10,  # consistent with the unit on coordinates\n",
    "    'eig' : True,\n",
    "    'UHF' : False,\n",
    "}\n",
    "\n",
    "\n",
    "### Pass charges and multiplicity if 'UHF':True. Otherwise, neutral singlet is the default setting\n",
    "### XL-BOMD supports only closed shell systems at the moment!\n",
    "\n",
    "# charges = torch.tensor([0,0],dtype=torch.int64, device=device)\n",
    "# mult = torch.tensor([1,3], device=device)\n",
    "# molecule = Molecule(const, seqm_parameters, coordinates, species, charges, mult).to(device)\n",
    "\n",
    "molecule = Molecule(const, seqm_parameters, coordinates, species).to(device)"
   ]
  },
  {
   "cell_type": "markdown",
   "id": "02b9be3c-607c-4048-9c49-40d073ea5814",
   "metadata": {},
   "source": [
    "### BOMD, NVE"
   ]
  },
  {
   "cell_type": "code",
   "execution_count": null,
   "id": "46e2d158-5cbb-4793-9646-6f3ffb453916",
   "metadata": {},
   "outputs": [],
   "source": [
    "dt = 0.1\n",
    "\n",
    "# create MD object and output files\n",
    "md0 =  Molecular_Dynamics_Basic(seqm_parameters=seqm_parameters, Temp=400.0, timestep=dt).to(device)\n",
    "\n",
    "# initialize velocities with predefined randomization seed.\n",
    "torch.manual_seed(0)\n",
    "md0.initialize_velocity(molecule )\n",
    "\n",
    "# run\n",
    "_ = md0.run(molecule, 5, remove_com=[True, 1], Info_log=False, learned_parameters=leared_par_generator)"
   ]
  },
  {
   "cell_type": "markdown",
   "id": "08587758-a18f-4833-9876-5c0f3a8977cf",
   "metadata": {},
   "source": [
    "### XL-BOMD, NVE"
   ]
  },
  {
   "cell_type": "code",
   "execution_count": null,
   "id": "32c01b1d-410f-4165-b5be-9a803646abf2",
   "metadata": {},
   "outputs": [],
   "source": [
    "### XL-BOMD supports only closed shell systems at the moment!\n",
    "\n",
    "coordinates = torch.tensor(\n",
    "    [\n",
    "        [[0.014,  0.001,  0.001],\n",
    "         [1.336,  0.001,  0.001],\n",
    "         [1.757,  1.039, -0.001],\n",
    "         [1.757, -1.039,  0.000]],\n",
    "        \n",
    "        [[0.014,  0.001,  0.001],\n",
    "         [1.336,  0.001,  0.001],\n",
    "         [1.757,  1.039, -0.001],\n",
    "         [1.757, -1.039,  0.000]],\n",
    "    ],\n",
    "    device=device,\n",
    ")\n",
    "\n",
    "### Pass charges if 'UHF':True. Otherwise, neutral singlet is the default setting\n",
    "### XL-BOMD supports only closed shell systems at the moment!\n",
    "\n",
    "#charges = torch.tensor([0,2],dtype=torch.int64, device=device)\n",
    "#molecule = Molecule(const, seqm_parameters, coordinates, species, charges).to(device)\n",
    "\n",
    "\n",
    "molecule = Molecule(const, seqm_parameters, coordinates, species).to(device)\n",
    "\n",
    "dt = 0.1\n",
    "\n",
    "xl_bomd_params={'k':6}\n",
    "\n",
    "md2 =  XL_BOMD(xl_bomd_params=xl_bomd_params,\n",
    "              seqm_parameters=seqm_parameters, Temp=400.0, timestep=dt).to(device)\n",
    "\n",
    "species = torch.as_tensor([[8, 6, 1, 1],\n",
    "                           [8, 6, 1, 1]], dtype=torch.int64, device=device)\n",
    "\n",
    "\n",
    "torch.manual_seed(0)\n",
    "md2.initialize_velocity(molecule )\n",
    "_ = md2.run(molecule, 5, remove_com=[True, 1], Info_log=False, learned_parameters=leared_par_generator)"
   ]
  },
  {
   "cell_type": "code",
   "execution_count": null,
   "id": "5d64213a-6110-469b-88b3-6112e4b1113f",
   "metadata": {},
   "outputs": [],
   "source": []
  }
 ],
 "metadata": {
  "kernelspec": {
   "display_name": "hipnn_1",
   "language": "python",
   "name": "hipnn_1"
  },
  "language_info": {
   "codemirror_mode": {
    "name": "ipython",
    "version": 3
   },
   "file_extension": ".py",
   "mimetype": "text/x-python",
   "name": "python",
   "nbconvert_exporter": "python",
   "pygments_lexer": "ipython3",
   "version": "3.9.16"
  }
 },
 "nbformat": 4,
 "nbformat_minor": 5
}
