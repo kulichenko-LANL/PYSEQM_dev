{
 "cells": [
  {
   "cell_type": "markdown",
   "id": "5e596866-8ca5-437f-ba60-8024305241d6",
   "metadata": {},
   "source": [
    "# XL-BOMD\n",
    "## see https://aip.scitation.org/doi/full/10.1063/1.3148075 for details."
   ]
  },
  {
   "cell_type": "code",
   "execution_count": 1,
   "id": "e7f5375b-e6f8-43c5-8812-00acdb615df1",
   "metadata": {},
   "outputs": [
    {
     "name": "stderr",
     "output_type": "stream",
     "text": [
      "/home/maxim/anaconda3/envs/hipnn_1/lib/python3.9/site-packages/tqdm/auto.py:21: TqdmWarning: IProgress not found. Please update jupyter and ipywidgets. See https://ipywidgets.readthedocs.io/en/stable/user_install.html\n",
      "  from .autonotebook import tqdm as notebook_tqdm\n"
     ]
    },
    {
     "name": "stdout",
     "output_type": "stream",
     "text": [
      "Decorating your function! <function KSA_XL_BOMD.one_step at 0x7ffadb6dcca0>\n"
     ]
    }
   ],
   "source": [
    "import sys\n",
    "sys.path.insert(1, \"/home/maxim/Projects/git2/PYSEQM_dev/\")\n",
    "\n",
    "import torch\n",
    "from seqm.seqm_functions.constants import Constants\n",
    "from seqm.Molecule import Molecule\n",
    "from seqm.MolecularDynamics import XL_BOMD\n",
    "\n",
    "torch.set_default_dtype(torch.float64)\n",
    "if torch.cuda.is_available():\n",
    "    device = torch.device('cuda')\n",
    "else:\n",
    "    device = torch.device('cpu')"
   ]
  },
  {
   "cell_type": "code",
   "execution_count": 7,
   "id": "7094efd9-0a57-4636-8583-e2d776da3684",
   "metadata": {},
   "outputs": [
    {
     "name": "stdout",
     "output_type": "stream",
     "text": [
      "Initialize velocities: zero_com\n",
      "Doing initialization\n",
      "Step,    Temp,    E(kinetic),  E(potential),  E(total)\n",
      "     1   279.98   1.447585e-01 -1.350261e+00 -1.205502e+00 ||    377.92   1.953992e-01 1.466852e+00 1.662251e+00 || \n",
      "     2   240.90   1.245575e-01 -1.330494e+00 -1.205936e+00 ||    338.35   1.749386e-01 1.487137e+00 1.662075e+00 || \n",
      "     3   191.92   9.922878e-02 -1.305360e+00 -1.206131e+00 ||    328.43   1.698119e-01 1.492034e+00 1.661846e+00 || \n",
      "     4   139.86   7.231308e-02 -1.277697e+00 -1.205384e+00 ||    346.89   1.793582e-01 1.482438e+00 1.661796e+00 || \n",
      "     5    90.98   4.704031e-02 -1.251801e+00 -1.204761e+00 ||    388.52   2.008808e-01 1.460645e+00 1.661526e+00 || \n",
      "     6    51.10   2.641887e-02 -1.230973e+00 -1.204554e+00 ||    445.38   2.302809e-01 1.430938e+00 1.661219e+00 || \n",
      "     7    25.42   1.314202e-02 -1.217666e+00 -1.204524e+00 ||    507.92   2.626136e-01 1.398362e+00 1.660976e+00 || \n",
      "     8    17.41   9.001535e-03 -1.213564e+00 -1.204563e+00 ||    566.07   2.926786e-01 1.367963e+00 1.660642e+00 || \n",
      "     9    27.67   1.430522e-02 -1.218859e+00 -1.204554e+00 ||    610.76   3.157868e-01 1.344499e+00 1.660286e+00 || \n",
      "    10    53.86   2.784772e-02 -1.232637e+00 -1.204789e+00 ||    635.31   3.284832e-01 1.331323e+00 1.659806e+00 || \n",
      "    11    91.50   4.730766e-02 -1.252442e+00 -1.205134e+00 ||    635.94   3.288061e-01 1.330798e+00 1.659604e+00 || \n",
      "    12   134.69   6.964221e-02 -1.275013e+00 -1.205371e+00 ||    611.27   3.160530e-01 1.343918e+00 1.659971e+00 || \n",
      "    13   176.83   9.142800e-02 -1.297106e+00 -1.205678e+00 ||    562.06   2.906069e-01 1.369678e+00 1.660285e+00 || \n",
      "    14   211.60   1.094046e-01 -1.315312e+00 -1.205907e+00 ||    491.89   2.543246e-01 1.406174e+00 1.660499e+00 || \n",
      "    15   234.43   1.212099e-01 -1.327174e+00 -1.205964e+00 ||    408.62   2.112732e-01 1.449565e+00 1.660839e+00 || \n",
      "    16   243.54   1.259175e-01 -1.331837e+00 -1.205919e+00 ||    324.97   1.680240e-01 1.493128e+00 1.661152e+00 || \n",
      "    17   239.99   1.240870e-01 -1.329789e+00 -1.205702e+00 ||    257.13   1.329463e-01 1.528764e+00 1.661710e+00 || \n",
      "    18   227.14   1.174394e-01 -1.322903e+00 -1.205464e+00 ||    221.62   1.145863e-01 1.547754e+00 1.662340e+00 || \n",
      "    19   209.60   1.083728e-01 -1.313664e+00 -1.205291e+00 ||    230.99   1.194314e-01 1.542973e+00 1.662404e+00 || \n",
      "    20   192.12   9.933445e-02 -1.304547e+00 -1.205212e+00 ||    288.98   1.494167e-01 1.512549e+00 1.661966e+00 || \n",
      "CPU times: user 7.35 s, sys: 19.8 ms, total: 7.37 s\n",
      "Wall time: 7.35 s\n"
     ]
    }
   ],
   "source": [
    "%%time\n",
    "torch.manual_seed(0)\n",
    "\n",
    "species = torch.as_tensor([[8,6,1,1],[5,1,1,1]],dtype=torch.int64, device=device)[:]\n",
    "coordinates = torch.tensor([\n",
    "                  [\n",
    "                   [ 0.00,  0.0,  0.0],\n",
    "                   [ 1.22,  0.0,  0.0],\n",
    "                   [ 1.82,  0.94, 0.0],\n",
    "                   [ 1.82, -0.94, 0.0]\n",
    "                  ],\n",
    "                  [\n",
    "                   [ 0.00,  0.00,  0.00],\n",
    "                   [ 1.20,  0.00,  0.00],\n",
    "                   [-0.60,  1.03,  0.00],\n",
    "                   [-0.60, -1.03,  0.00]\n",
    "                  ]\n",
    "                 ], device=device)[:]\n",
    "\n",
    "const = Constants().to(device)\n",
    "\n",
    "elements = [0]+sorted(set(species.reshape(-1).tolist()))\n",
    "seqm_parameters = {\n",
    "                   'method' : 'AM1',  # AM1, MNDO, PM#\n",
    "                   'scf_eps' : 1.0e-6,  # unit eV, change of electric energy, as nuclear energy doesnt' change during SCF\n",
    "                   'scf_converger' : [2,0.0], # converger used for scf loop\n",
    "                                         # [0, 0.1], [0, alpha] constant mixing, P = alpha*P + (1.0-alpha)*Pnew\n",
    "                                         # [1], adaptive mixing\n",
    "                                         # [2], adaptive mixing, then pulay\n",
    "                   'sp2' : [False, 1.0e-5],  # whether to use sp2 algorithm in scf loop,\n",
    "                                            #[True, eps] or [False], eps for SP2 conve criteria\n",
    "                   'elements' : elements, #[0,1,6,8],\n",
    "                   'learned' : [], # learned parameters name list, e.g ['U_ss']\n",
    "                   #'parameter_file_dir' : '../seqm/params/', # file directory for other required parameters\n",
    "                   'pair_outer_cutoff' : 1.0e10, # consistent with the unit on coordinates\n",
    "                   'eig' : True\n",
    "                   }\n",
    "\n",
    "molecule = Molecule(const, seqm_parameters, coordinates, species).to(device)\n",
    "\n",
    "# Set k for the dissipative electronic force term. See https://aip.scitation.org/doi/full/10.1063/1.3148075 for details.\n",
    "output={'molid':[0, 1], 'thermo':1, 'dump':1, 'prefix':'Outputs/4_XL-BOMD'}\n",
    "xl_bomd_params={'k':6}\n",
    "\n",
    "md =  XL_BOMD(xl_bomd_params=xl_bomd_params,\n",
    "              seqm_parameters=seqm_parameters, Temp=400.0, timestep=0.4, output=output).to(device)\n",
    "md.initialize_velocity(molecule )\n",
    "#remove center of mass velocity\n",
    "# Info_log flag generates .txt wtih additional info for every step (orbital energies, dipole)\n",
    "_ = md.run(molecule, 20, remove_com=[True, 1], Info_log=True)"
   ]
  },
  {
   "cell_type": "markdown",
   "id": "1d7b5fb6-e384-44c3-af15-e42702387697",
   "metadata": {},
   "source": [
    "## Damping (Langevin)"
   ]
  },
  {
   "cell_type": "code",
   "execution_count": 8,
   "id": "7a854fbc-f561-4fe9-9d6b-9bfde65e4dbd",
   "metadata": {},
   "outputs": [
    {
     "name": "stdout",
     "output_type": "stream",
     "text": [
      "Initialize velocities: zero_com\n",
      "Doing initialization\n",
      "Step,    Temp,    E(kinetic),  E(potential),  E(total)\n",
      "     1   285.76   1.477473e-01 -1.350201e+00 -1.202454e+00 ||    380.21   1.965831e-01 1.468533e+00 1.665116e+00 || \n",
      "     2   252.81   1.307145e-01 -1.329620e+00 -1.198905e+00 ||    364.04   1.882235e-01 1.489924e+00 1.678148e+00 || \n",
      "     3   212.53   1.098847e-01 -1.302999e+00 -1.193114e+00 ||    362.30   1.873239e-01 1.496206e+00 1.683530e+00 || \n",
      "     4   171.70   8.877810e-02 -1.271570e+00 -1.182792e+00 ||    394.23   2.038348e-01 1.487865e+00 1.691700e+00 || \n",
      "     5   123.86   6.403865e-02 -1.240548e+00 -1.176510e+00 ||    458.25   2.369353e-01 1.464608e+00 1.701544e+00 || \n",
      "     6    71.23   3.683039e-02 -1.213981e+00 -1.177150e+00 ||    515.31   2.664349e-01 1.435996e+00 1.702431e+00 || \n",
      "     7    29.91   1.546423e-02 -1.197947e+00 -1.182483e+00 ||    573.15   2.963393e-01 1.405454e+00 1.701793e+00 || \n",
      "     8    13.90   7.185755e-03 -1.192610e+00 -1.185424e+00 ||    611.40   3.161187e-01 1.377869e+00 1.693988e+00 || \n",
      "     9    23.89   1.235252e-02 -1.197590e+00 -1.185237e+00 ||    650.69   3.364352e-01 1.359266e+00 1.695701e+00 || \n",
      "    10    68.45   3.539216e-02 -1.213567e+00 -1.178175e+00 ||    695.35   3.595220e-01 1.351187e+00 1.710709e+00 || \n",
      "CPU times: user 6.21 s, sys: 7.65 ms, total: 6.21 s\n",
      "Wall time: 6.21 s\n"
     ]
    }
   ],
   "source": [
    "%%time\n",
    "torch.manual_seed(0)\n",
    "\n",
    "species = torch.as_tensor([[8,6,1,1],[5,1,1,1]],dtype=torch.int64, device=device)[:]\n",
    "coordinates = torch.tensor([\n",
    "                  [\n",
    "                   [ 0.00,  0.0,  0.0],\n",
    "                   [ 1.22,  0.0,  0.0],\n",
    "                   [ 1.82,  0.94, 0.0],\n",
    "                   [ 1.82, -0.94, 0.0]\n",
    "                  ],\n",
    "                  [\n",
    "                   [ 0.00,  0.00,  0.00],\n",
    "                   [ 1.20,  0.00,  0.00],\n",
    "                   [-0.60,  1.03,  0.00],\n",
    "                   [-0.60, -1.03,  0.00]\n",
    "                  ]\n",
    "                 ], device=device)[:]\n",
    "\n",
    "const = Constants().to(device)\n",
    "\n",
    "elements = [0]+sorted(set(species.reshape(-1).tolist()))\n",
    "seqm_parameters = {\n",
    "                   'method' : 'AM1',  # AM1, MNDO, PM#\n",
    "                   'scf_eps' : 1.0e-6,  # unit eV, change of electric energy, as nuclear energy doesnt' change during SCF\n",
    "                   'scf_converger' : [2,0.0], # converger used for scf loop\n",
    "                                         # [0, 0.1], [0, alpha] constant mixing, P = alpha*P + (1.0-alpha)*Pnew\n",
    "                                         # [1], adaptive mixing\n",
    "                                         # [2], adaptive mixing, then pulay\n",
    "                   'sp2' : [False, 1.0e-5],  # whether to use sp2 algorithm in scf loop,\n",
    "                                            #[True, eps] or [False], eps for SP2 conve criteria\n",
    "                   'elements' : elements, #[0,1,6,8],\n",
    "                   'learned' : [], # learned parameters name list, e.g ['U_ss']\n",
    "                   #'parameter_file_dir' : '../seqm/params/', # file directory for other required parameters\n",
    "                   'pair_outer_cutoff' : 1.0e10, # consistent with the unit on coordinates\n",
    "                   'eig' : True\n",
    "                   }\n",
    "\n",
    "\n",
    "molecule = Molecule(const, seqm_parameters, coordinates, species).to(device)\n",
    "\n",
    "# Set k for the dissipative electronic force term. See https://aip.scitation.org/doi/full/10.1063/1.3148075 for details.\n",
    "output={'molid':[0, 1], 'thermo':1, 'dump':1, 'prefix':'Outputs/4_XL-BOMD_damp'}\n",
    "xl_bomd_params={'k':6}\n",
    "\n",
    "md =  XL_BOMD(xl_bomd_params=xl_bomd_params, damp=100.0,\n",
    "              seqm_parameters=seqm_parameters, Temp=400.0, timestep=0.4, output=output).to(device)\n",
    "md.initialize_velocity(molecule )\n",
    "#remove center of mass velocity\n",
    "# Info_log flag generates .txt wtih additional info for every step (orbital energies, dipole)\n",
    "_ = md.run(molecule, 10, remove_com=[True, 1], Info_log=True)"
   ]
  },
  {
   "cell_type": "code",
   "execution_count": null,
   "id": "a73595d7-8d92-4adf-b283-3d7d4df8a061",
   "metadata": {},
   "outputs": [],
   "source": []
  }
 ],
 "metadata": {
  "kernelspec": {
   "display_name": "hipnn_1",
   "language": "python",
   "name": "hipnn_1"
  },
  "language_info": {
   "codemirror_mode": {
    "name": "ipython",
    "version": 3
   },
   "file_extension": ".py",
   "mimetype": "text/x-python",
   "name": "python",
   "nbconvert_exporter": "python",
   "pygments_lexer": "ipython3",
   "version": "3.9.16"
  }
 },
 "nbformat": 4,
 "nbformat_minor": 5
}
