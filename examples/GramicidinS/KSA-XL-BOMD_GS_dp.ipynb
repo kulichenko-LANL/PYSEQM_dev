{
 "cells": [
  {
   "cell_type": "code",
   "execution_count": 1,
   "id": "b63c7c84-ef3f-4bd0-9735-f52d4aeb2075",
   "metadata": {},
   "outputs": [
    {
     "name": "stderr",
     "output_type": "stream",
     "text": [
      "/home/maxim/anaconda3/envs/hipnn_1/lib/python3.9/site-packages/tqdm/auto.py:21: TqdmWarning: IProgress not found. Please update jupyter and ipywidgets. See https://ipywidgets.readthedocs.io/en/stable/user_install.html\n",
      "  from .autonotebook import tqdm as notebook_tqdm\n"
     ]
    }
   ],
   "source": [
    "import sys\n",
    "sys.path.insert(1, \"/home/maxim/Projects/git2/PYSEQM_dev/\")\n",
    "\n",
    "import torch\n",
    "from seqm.seqm_functions.constants import Constants\n",
    "from seqm.Molecule import Molecule\n",
    "from seqm.MolecularDynamics import KSA_XL_BOMD\n",
    "from seqm.seqm_functions.read_xyz import read_xyz\n",
    "from torch.profiler import profile, record_function, ProfilerActivity\n",
    "\n",
    "DTYPE = torch.float64\n",
    "torch.set_default_dtype(DTYPE)\n",
    "if torch.cuda.is_available():\n",
    "    device = torch.device('cuda')\n",
    "else:\n",
    "    device = torch.device('cpu')\n",
    "#device = torch.device('cpu')"
   ]
  },
  {
   "cell_type": "code",
   "execution_count": 2,
   "id": "bbd8b540-5e03-4564-aba1-020cffe84555",
   "metadata": {},
   "outputs": [
    {
     "name": "stdout",
     "output_type": "stream",
     "text": [
      "Initialize velocities: zero_com\n",
      "Doing initialization\n",
      "Step,    Temp,    E(kinetic),  E(potential),  E(total)\n",
      "     1   286.77   6.523865e+00 -5.382930e+00 1.140935e+00 || \n",
      "     2   282.86   6.434985e+00 -5.320241e+00 1.114744e+00 || \n",
      "     3   279.81   6.365638e+00 -5.215904e+00 1.149734e+00 || \n",
      "     4   273.65   6.225409e+00 -5.073449e+00 1.151960e+00 || \n",
      "     5   266.50   6.062900e+00 -4.903842e+00 1.159058e+00 || \n",
      "     6   259.21   5.896945e+00 -4.704383e+00 1.192561e+00 || \n",
      "     7   249.49   5.675781e+00 -4.487326e+00 1.188454e+00 || \n",
      "     8   239.40   5.446264e+00 -4.258289e+00 1.187974e+00 || \n",
      "     9   229.20   5.214244e+00 -4.021066e+00 1.193179e+00 || \n",
      "    10   219.47   4.992829e+00 -3.787770e+00 1.205059e+00 || \n",
      "CPU times: user 4.9 s, sys: 576 ms, total: 5.47 s\n",
      "Wall time: 5.49 s\n"
     ]
    }
   ],
   "source": [
    "%%time\n",
    "torch.manual_seed(0)\n",
    "\n",
    "files = ['GS_dp.xyz']\n",
    "species, coordinates = read_xyz(files)\n",
    "species = torch.as_tensor(species,dtype=torch.int64, device=device)[:]\n",
    "coordinates = torch.tensor(coordinates, device=device)[:]\n",
    "\n",
    "const = Constants().to(device)\n",
    "\n",
    "elements = [0]+sorted(set(species.reshape(-1).tolist()))\n",
    "seqm_parameters = {\n",
    "                   'method' : 'AM1',  # AM1, MNDO, PM#\n",
    "                   'scf_eps' : 1.0e-6,  # unit eV, change of electric energy, as nuclear energy doesnt' change during SCF\n",
    "                   'scf_converger' : [2,0.0], # converger used for scf loop\n",
    "                                         # [0, 0.1], [0, alpha] constant mixing, P = alpha*P + (1.0-alpha)*Pnew\n",
    "                                         # [1], adaptive mixing\n",
    "                                         # [2], adaptive mixing, then pulay\n",
    "                   'sp2' : [False, 1.0e-5],  # whether to use sp2 algorithm in scf loop,\n",
    "                                            #[True, eps] or [False], eps for SP2 conve criteria\n",
    "                   'elements' : elements, #[0,1,6,8],\n",
    "                   'learned' : [], # learned parameters name list, e.g ['U_ss']\n",
    "                   #'parameter_file_dir' : '../seqm/params/', # file directory for other required parameters\n",
    "                   'pair_outer_cutoff' : 1.0e10, # consistent with the unit on coordinates\n",
    "                   'eig' : True\n",
    "                   }\n",
    "\n",
    "# set charges\n",
    "charges = torch.tensor([2],dtype=torch.int64, device=device)\n",
    "molecule = Molecule(const, seqm_parameters, coordinates, species, charges).to(device)\n",
    "\n",
    "output={'molid':[0], 'thermo':1, 'dump':1, 'prefix':'KSA-XL-BOMD_GS_dp'}\n",
    "xl_bomd_params={'k':6, 'max_rank':2, 'err_threshold':0.0, 'T_el':1500}\n",
    "\n",
    "# Set k for the dissipative electronic force term. See https://aip.scitation.org/doi/full/10.1063/1.3148075 for details.\n",
    "md = KSA_XL_BOMD(xl_bomd_params, damp=100.0,\n",
    "                   seqm_parameters=seqm_parameters, Temp=300.0, timestep=0.2, output=output).to(device)\n",
    "md.initialize_velocity(molecule, vel_com=True )\n",
    "\n",
    "_ = md.run(molecule, 10, reuse_P=False, remove_com=[True, 1], Info_log=True)"
   ]
  },
  {
   "cell_type": "code",
   "execution_count": null,
   "id": "817ffab6-952e-4c47-9038-9f1e36192df3",
   "metadata": {},
   "outputs": [],
   "source": []
  }
 ],
 "metadata": {
  "kernelspec": {
   "display_name": "hipnn_1",
   "language": "python",
   "name": "hipnn_1"
  },
  "language_info": {
   "codemirror_mode": {
    "name": "ipython",
    "version": 3
   },
   "file_extension": ".py",
   "mimetype": "text/x-python",
   "name": "python",
   "nbconvert_exporter": "python",
   "pygments_lexer": "ipython3",
   "version": "3.9.16"
  }
 },
 "nbformat": 4,
 "nbformat_minor": 5
}
