{
 "cells": [
  {
   "cell_type": "code",
   "execution_count": 1,
   "id": "04aef426-ee13-4824-947c-ce8f62b3bac6",
   "metadata": {},
   "outputs": [
    {
     "name": "stderr",
     "output_type": "stream",
     "text": [
      "/home/maxim/anaconda3/envs/hipnn_1/lib/python3.9/site-packages/tqdm/auto.py:21: TqdmWarning: IProgress not found. Please update jupyter and ipywidgets. See https://ipywidgets.readthedocs.io/en/stable/user_install.html\n",
      "  from .autonotebook import tqdm as notebook_tqdm\n"
     ]
    },
    {
     "name": "stdout",
     "output_type": "stream",
     "text": [
      "Decorating your function! <function KSA_XL_BOMD.one_step at 0x7fc71f3b7550>\n"
     ]
    }
   ],
   "source": [
    "import torch\n",
    "\n",
    "import sys\n",
    "sys.path.insert(1, \"/home/maxim/Projects/git2/PYSEQM_dev/\") # PATH TO PYSEQM\n",
    "\n",
    "import seqm\n",
    "from seqm.seqm_functions.constants import Constants\n",
    "from seqm.seqm_functions.make_dm_guess import make_dm_guess\n",
    "from seqm.Molecule import Molecule\n",
    "from seqm.ElectronicStructure import Electronic_Structure\n",
    "from seqm.seqm_functions.read_xyz import read_xyz\n",
    "\n",
    "from matplotlib.ticker import MaxNLocator\n",
    "import matplotlib.pyplot as plt\n",
    "import matplotlib.ticker as ticker\n",
    "\n",
    "import os\n",
    "import numpy as np\n",
    "\n",
    "seqm.seqm_functions.scf_loop.debug=True\n",
    "seqm.seqm_functions.scf_loop.MAX_ITER=500\n",
    "\n",
    "DTYPE = torch.float64\n",
    "torch.set_default_dtype(DTYPE)\n",
    "if torch.cuda.is_available():\n",
    "    device = torch.device('cuda')\n",
    "else:\n",
    "    device = torch.device('cpu')"
   ]
  },
  {
   "cell_type": "code",
   "execution_count": 2,
   "id": "1b6aef5a-f107-4151-bd46-e19af5a759dc",
   "metadata": {
    "scrolled": true,
    "tags": []
   },
   "outputs": [
    {
     "name": "stderr",
     "output_type": "stream",
     "text": [
      "/home/maxim/Projects/git2/PYSEQM_dev/seqm/seqm_functions/diag_d.py:109: UserWarning: torch.symeig is deprecated in favor of torch.linalg.eigh and will be removed in a future PyTorch release.\n",
      "The default behavior has changed from using the upper triangular portion of the matrix by default to using the lower triangular portion.\n",
      "L, _ = torch.symeig(A, upper=upper)\n",
      "should be replaced with\n",
      "L = torch.linalg.eigvalsh(A, UPLO='U' if upper else 'L')\n",
      "and\n",
      "L, V = torch.symeig(A, eigenvectors=True)\n",
      "should be replaced with\n",
      "L, V = torch.linalg.eigh(A, UPLO='U' if upper else 'L') (Triggered internally at /opt/conda/conda-bld/pytorch_1670525551200/work/aten/src/ATen/native/BatchLinearAlgebra.cpp:2794.)\n",
      "  e0,v = torch.symeig(x0,eigenvectors=True,upper=True)\n"
     ]
    },
    {
     "name": "stdout",
     "output_type": "stream",
     "text": [
      "scf  0 81.77464670270234 5 0.7664718627929688\n",
      "scf  1 10.252213780863599 5 0.08469486236572266\n",
      "scf  2 23.774032921933326 5 0.12021541595458984\n",
      "scf  3 12.838189019431297 5 0.1258869171142578\n",
      "scf  4 16.877663926916853 5 0.12302637100219727\n",
      "scf  5 7.143621359420251 5 0.08651280403137207\n",
      "scf  6 11.713543523270971 5 0.0847170352935791\n",
      "scf  7 1.2483319276588531 5 0.11952424049377441\n",
      "scf  8 7.380488917169146 5 0.12572169303894043\n",
      "scf  9 1.9144973080698833 5 0.12337398529052734\n",
      "scf  10 4.0471069774570765 4 0.08586764335632324\n",
      "scf  11 2.0310655341724555 4 0.07078075408935547\n",
      "scf  12 1.7851383168917891 4 0.08732485771179199\n",
      "scf  13 0.9660046386065346 4 0.10678863525390625\n",
      "scf  14 0.5795287062667853 4 0.10695052146911621\n",
      "scf  15 0.48607489752069455 4 0.10007524490356445\n",
      "scf  16 0.6604478141878474 4 0.0711374282836914\n",
      "scf  17 0.7709383145672746 4 0.07080674171447754\n",
      "scf  18 0.7375803411068489 4 0.08192014694213867\n",
      "scf  19 0.58379801152509 4 0.10560154914855957\n",
      "scf  20 0.39829958300521184 4 0.10868501663208008\n",
      "scf  21 0.24445104253248928 3 0.10224127769470215\n",
      "scf  22 0.13948895643167702 3 0.057456016540527344\n",
      "scf  23 0.07574592949922021 3 0.05687141418457031\n",
      "scf  24 0.03977270340848804 3 0.056531667709350586\n",
      "scf  25 0.02041378734514865 2 0.07268667221069336\n",
      "scf  26 0.010316904255120107 2 0.06293320655822754\n",
      "scf  27 0.00807130620097496 2 0.06055116653442383\n",
      "scf  28 0.006544471776294358 2 0.06489777565002441\n",
      "scf  29 0.005293315348353644 2 0.05669593811035156\n",
      "scf  30 0.004271990104143697 2 0.06179499626159668\n",
      "scf  31 0.0034409932389962705 2 0.04381752014160156\n",
      "scf  32 0.0027668800004789773 2 0.0428767204284668\n",
      "scf  33 0.0022214564295950368 2 0.04290032386779785\n",
      "scf  34 0.001781176220163161 2 0.04280591011047363\n",
      "scf  35 0.00142648932234124 2 0.05121350288391113\n",
      "scf  36 0.0011412636214913618 1 0.0626378059387207\n",
      "scf  37 0.0009122522910729458 1 0.03931236267089844\n",
      "scf  38 0.0007286260592422877 1 0.03874087333679199\n",
      "scf  39 0.0005815652448291075 1 0.04310774803161621\n",
      "scf  40 0.0004639105122805631 1 0.04074597358703613\n",
      "scf  41 0.00036986679788242327 1 0.03902602195739746\n",
      "scf  42 0.0002947549166947283 1 0.04027700424194336\n",
      "scf  43 0.00023480476596660083 1 0.035787343978881836\n",
      "scf  44 0.0001869843435997609 1 0.02944779396057129\n",
      "scf  45 0.00014885916635876129 1 0.028827667236328125\n",
      "scf  46 0.00011847724601921072 1 0.029074907302856445\n",
      "scf  47 9.427535803752107e-05 1 0.029080867767333984\n",
      "scf  48 7.500293003204206e-05 1 0.029379606246948242\n",
      "scf  49 5.966042112959258e-05 1 0.0289003849029541\n",
      "scf  50 4.744956379454379e-05 1 0.03313326835632324\n",
      "scf  51 3.773327074441113e-05 1 0.04156136512756348\n",
      "scf  52 3.0003393248989596e-05 1 0.039701223373413086\n",
      "scf  53 2.385483281841516e-05 1 0.03930401802062988\n",
      "scf  54 1.896478846674654e-05 1 0.03972220420837402\n",
      "scf  55 1.5076136151037645e-05 1 0.04319930076599121\n",
      "scf  56 1.198413406200416e-05 1 0.04132413864135742\n",
      "scf  57 9.525799271159485e-06 0 0.03804898262023926\n"
     ]
    }
   ],
   "source": [
    "species = torch.as_tensor([[16,16],[22,22],[22,16],[35,17],[24,22]],dtype=torch.int64, device=device)\n",
    "\n",
    "coordinates = torch.tensor([\n",
    "        [[0.0000,    0.0,    0.0000],\n",
    "         [0.0000,    1.2,    0.0000]],\n",
    "    \n",
    "        [[0.0000,    0.0,    0.0000],\n",
    "         [0.0000,    1.2,    0.0000]],\n",
    "    \n",
    "        [[0.0000,    0.0,    0.0000],\n",
    "         [0.0000,    1.2,    0.0000]],\n",
    "    \n",
    "        [[0.0000,    0.0,    0.0000],\n",
    "         [0.0000,    1.2,    0.0000]],\n",
    "    \n",
    "        [[0.0000,    0.0,    0.0000],\n",
    "         [0.0000,    1.2,    0.0000]],\n",
    "                 ], device=device)\n",
    "\n",
    "\n",
    "# species = torch.as_tensor([[17,17,17,17,6]],dtype=torch.int64, device=device)\n",
    "\n",
    "# coordinates = torch.tensor([\n",
    "#                   [\n",
    "#                    [0.0000,    0.0000,    1.7700],\n",
    "#                    [1.7700,    0.0000,    0.0000],\n",
    "#                    [-1.250,    1.2500,    0.0000],\n",
    "#                    [-1.250,   -1.2500,    0.0000],\n",
    "#                    [0.0000,    0.0000,    0.0000]\n",
    "#                   ]\n",
    "#                  ], device=device)\n",
    "\n",
    "const = Constants().to(device)\n",
    "#may need to add scaling factor for length and energy on const, check constants.py\n",
    "\n",
    "elements = [0]+sorted(set(species.reshape(-1).tolist()))\n",
    "seqm_parameters = {\n",
    "                   'method' : 'PM6',  # AM1, MNDO, PM#\n",
    "                   'scf_eps' : 1.0e-5,  # unit eV, change of electric energy, as nuclear energy doesnt' change during SCF\n",
    "                   'scf_converger' : [0,0.2], # converger used for scf loop\n",
    "                                         # [0, 0.1], [0, alpha] constant mixing, P = alpha*P + (1.0-alpha)*Pnew\n",
    "                                         # [1], adaptive mixing\n",
    "                                         # [2], adaptive mixing, then pulay\n",
    "                   'sp2' : [False, 1.0e-5],  # whether to use sp2 algorithm in scf loop,\n",
    "                                            #[True, eps] or [False], eps for SP2 conve criteria\n",
    "                   'elements' : elements, #[0,1,6,8],\n",
    "                   'learned' : [], # learned parameters name list, e.g ['U_ss']\n",
    "                   #'parameter_file_dir' : '../seqm/params/', # file directory for other required parameters\n",
    "                   'pair_outer_cutoff' : 1.0e10, # consistent with the unit on coordinates\n",
    "                   'eig' : False,\n",
    "                    \"Hf_flag\": True,\n",
    "                    'scf_backward' : 0,\n",
    "                    'UHF' : False,\n",
    "                   }\n",
    "\n",
    "molecules = Molecule(const, seqm_parameters, coordinates, species).to(device)\n",
    "esdriver = Electronic_Structure(seqm_parameters).to(device)\n",
    "esdriver(molecules)"
   ]
  },
  {
   "cell_type": "markdown",
   "id": "6b1f1b1a-4e34-4e8f-8973-d7bcd081b103",
   "metadata": {},
   "source": [
    "# Total E"
   ]
  },
  {
   "cell_type": "code",
   "execution_count": 4,
   "id": "816c2ba7-1cec-43c5-9e9a-c2b582ceed4b",
   "metadata": {},
   "outputs": [
    {
     "data": {
      "text/plain": [
       "tensor(-333.8298, device='cuda:0')"
      ]
     },
     "execution_count": 4,
     "metadata": {},
     "output_type": "execute_result"
    }
   ],
   "source": [
    "molecules.Etot[0] # S2. MOPAC Etot = -333.8287 EV"
   ]
  },
  {
   "cell_type": "code",
   "execution_count": 6,
   "id": "cb7e8201-5cf4-4500-85da-16f93f0eb4ad",
   "metadata": {},
   "outputs": [
    {
     "data": {
      "text/plain": [
       "tensor(-120.0663, device='cuda:0')"
      ]
     },
     "execution_count": 6,
     "metadata": {},
     "output_type": "execute_result"
    }
   ],
   "source": [
    "molecules.Etot[1] # Ti2. MOPAC Etot = -120.0651 EV"
   ]
  },
  {
   "cell_type": "code",
   "execution_count": 7,
   "id": "f24a4e38-8197-449a-87a2-28e4930f8ecd",
   "metadata": {},
   "outputs": [
    {
     "data": {
      "text/plain": [
       "tensor(-221.2703, device='cuda:0')"
      ]
     },
     "execution_count": 7,
     "metadata": {},
     "output_type": "execute_result"
    }
   ],
   "source": [
    "molecules.Etot[2] # TiS. MOPAC Etot = -221.2701 EV  !!!!!!!!!!!!!!!!!!!!!"
   ]
  },
  {
   "cell_type": "code",
   "execution_count": 8,
   "id": "6a339a48-2992-479b-b6c1-6a31f170d5b7",
   "metadata": {},
   "outputs": [
    {
     "data": {
      "text/plain": [
       "tensor(-458.5839, device='cuda:0')"
      ]
     },
     "execution_count": 8,
     "metadata": {},
     "output_type": "execute_result"
    }
   ],
   "source": [
    "molecules.Etot[3] # BrCl. MOPAC Etot = -458.5855 EV"
   ]
  },
  {
   "cell_type": "code",
   "execution_count": 10,
   "id": "c1009387-c3e4-49b3-b17f-71c1ec716ced",
   "metadata": {},
   "outputs": [
    {
     "data": {
      "text/plain": [
       "tensor(-255.8132, device='cuda:0')"
      ]
     },
     "execution_count": 10,
     "metadata": {},
     "output_type": "execute_result"
    }
   ],
   "source": [
    "molecules.Etot[4] # CrTi. MOPAC Etot = -150.3163 EV  !!!!!!!!!!!!!!!!!!!!!"
   ]
  },
  {
   "cell_type": "code",
   "execution_count": null,
   "id": "0ee5f699-d1c9-488e-8be2-f136c75be7f4",
   "metadata": {},
   "outputs": [],
   "source": []
  },
  {
   "cell_type": "markdown",
   "id": "2abfacdd-f954-43d3-8986-7d00281f9411",
   "metadata": {},
   "source": [
    "# Nuclear repulsion"
   ]
  },
  {
   "cell_type": "code",
   "execution_count": 11,
   "id": "be316495-70b8-4949-91d4-4d93f53b0026",
   "metadata": {},
   "outputs": [
    {
     "data": {
      "text/plain": [
       "tensor(290.8621, device='cuda:0')"
      ]
     },
     "execution_count": 11,
     "metadata": {},
     "output_type": "execute_result"
    }
   ],
   "source": [
    "molecules.Enuc[0] # S2. MOPAC Enuc = 290.8693 EV"
   ]
  },
  {
   "cell_type": "code",
   "execution_count": 12,
   "id": "9337ff83-8f7b-4db4-a7cf-45545d04e355",
   "metadata": {},
   "outputs": [
    {
     "data": {
      "text/plain": [
       "tensor(97.3923, device='cuda:0')"
      ]
     },
     "execution_count": 12,
     "metadata": {},
     "output_type": "execute_result"
    }
   ],
   "source": [
    "molecules.Enuc[1] # Ti2. MOPAC Enuc = 97.3923 EV"
   ]
  },
  {
   "cell_type": "code",
   "execution_count": 13,
   "id": "917c576c-97a1-4c93-be8a-8163e3e54c9e",
   "metadata": {},
   "outputs": [
    {
     "data": {
      "text/plain": [
       "tensor(176.1491, device='cuda:0')"
      ]
     },
     "execution_count": 13,
     "metadata": {},
     "output_type": "execute_result"
    }
   ],
   "source": [
    "molecules.Enuc[2] # TiS. MOPAC Enuc = 176.1518 EV"
   ]
  },
  {
   "cell_type": "code",
   "execution_count": 14,
   "id": "c06f9c0d-8cb9-4534-b47d-986969d8478e",
   "metadata": {},
   "outputs": [
    {
     "data": {
      "text/plain": [
       "tensor(391.1087, device='cuda:0')"
      ]
     },
     "execution_count": 14,
     "metadata": {},
     "output_type": "execute_result"
    }
   ],
   "source": [
    "molecules.Enuc[3] # BrCl. MOPAC Enuc = 391.1161 EV"
   ]
  },
  {
   "cell_type": "code",
   "execution_count": 15,
   "id": "f8cf1105-3324-4f27-86c3-73f4dcdb7e25",
   "metadata": {},
   "outputs": [
    {
     "data": {
      "text/plain": [
       "tensor(145.6016, device='cuda:0')"
      ]
     },
     "execution_count": 15,
     "metadata": {},
     "output_type": "execute_result"
    }
   ],
   "source": [
    "molecules.Enuc[4] # CrTi. MOPAC Enuc = 251.0941 EV  !!!!!!!!!!!!!!!!!!!!!"
   ]
  },
  {
   "cell_type": "code",
   "execution_count": null,
   "id": "28472491-fcf9-4a2a-b2fd-104bf8565939",
   "metadata": {},
   "outputs": [],
   "source": []
  },
  {
   "cell_type": "code",
   "execution_count": null,
   "id": "ea263862-f1d2-4897-a96c-6392991cd81d",
   "metadata": {},
   "outputs": [],
   "source": []
  }
 ],
 "metadata": {
  "kernelspec": {
   "display_name": "hipnn_1",
   "language": "python",
   "name": "hipnn_1"
  },
  "language_info": {
   "codemirror_mode": {
    "name": "ipython",
    "version": 3
   },
   "file_extension": ".py",
   "mimetype": "text/x-python",
   "name": "python",
   "nbconvert_exporter": "python",
   "pygments_lexer": "ipython3",
   "version": "3.9.16"
  }
 },
 "nbformat": 4,
 "nbformat_minor": 5
}
