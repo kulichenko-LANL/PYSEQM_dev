{
 "cells": [
  {
   "cell_type": "code",
   "execution_count": 40,
   "id": "04aef426-ee13-4824-947c-ce8f62b3bac6",
   "metadata": {},
   "outputs": [],
   "source": [
    "import torch\n",
    "\n",
    "import sys\n",
    "sys.path.insert(1, \"/home/maxim/Projects/git2/PYSEQM_dev/\") # PATH TO PYSEQM\n",
    "\n",
    "import seqm\n",
    "from seqm.seqm_functions.constants import Constants\n",
    "from seqm.seqm_functions.make_dm_guess import make_dm_guess\n",
    "from seqm.Molecule import Molecule\n",
    "from seqm.ElectronicStructure import Electronic_Structure\n",
    "from seqm.seqm_functions.read_xyz import read_xyz\n",
    "\n",
    "from matplotlib.ticker import MaxNLocator\n",
    "import matplotlib.pyplot as plt\n",
    "import matplotlib.ticker as ticker\n",
    "\n",
    "import os\n",
    "import numpy as np\n",
    "\n",
    "seqm.seqm_functions.scf_loop.debug=True\n",
    "seqm.seqm_functions.scf_loop.MAX_ITER=500\n",
    "\n",
    "DTYPE = torch.float64\n",
    "torch.set_default_dtype(DTYPE)\n",
    "if torch.cuda.is_available():\n",
    "    device = torch.device('cuda')\n",
    "else:\n",
    "    device = torch.device('cpu')"
   ]
  },
  {
   "cell_type": "code",
   "execution_count": 41,
   "id": "1b6aef5a-f107-4151-bd46-e19af5a759dc",
   "metadata": {
    "scrolled": true,
    "tags": []
   },
   "outputs": [
    {
     "name": "stdout",
     "output_type": "stream",
     "text": [
      "scf  0 162.9290240440854 5 0.20192980766296387\n",
      "scf  1 46.45832159787335 5 0.140899658203125\n",
      "scf  2 8.993806268891092 5 0.12546849250793457\n",
      "scf  3 1.9401746586516424 5 0.0876169204711914\n",
      "scf  4 0.6026012521201665 5 0.08928966522216797\n",
      "scf  5 0.20288523476443743 5 0.12214279174804688\n",
      "scf  6 0.10973329959142575 5 0.13244390487670898\n",
      "scf  7 0.10972942315572709 5 0.15432000160217285\n",
      "scf  8 0.11960946471526768 5 0.15456676483154297\n",
      "scf  9 0.13918681369563046 5 0.15081357955932617\n",
      "scf  10 0.17202618774055622 4 0.13640499114990234\n",
      "scf  11 0.22501517146642414 4 0.11614847183227539\n",
      "scf  12 0.3082230790109861 3 0.11536908149719238\n",
      "scf  13 0.43010396622415215 3 0.09498786926269531\n",
      "scf  14 0.5795471243194754 2 0.08931231498718262\n",
      "scf  15 0.7015496985500818 2 0.06026005744934082\n",
      "scf  16 0.7211362889869122 2 0.07138586044311523\n",
      "scf  17 0.6237496539345386 1 0.12117838859558105\n",
      "scf  18 0.46699327979746386 1 0.06827139854431152\n",
      "scf  19 0.31369072032782697 1 0.05253195762634277\n",
      "scf  20 0.19457683354494293 1 0.042966365814208984\n",
      "scf  21 0.1138545793397725 1 0.041959285736083984\n",
      "scf  22 0.06387308291417071 1 0.052071332931518555\n",
      "scf  23 0.03478192842203498 1 0.04243206977844238\n",
      "scf  24 0.01855449483852567 1 0.05138587951660156\n",
      "scf  25 0.009761186483615347 1 0.043276071548461914\n",
      "scf  26 0.005088460756951463 1 0.04436302185058594\n",
      "scf  27 0.002637417710872114 1 0.0426023006439209\n",
      "scf  28 0.0013625336465850069 1 0.04194164276123047\n",
      "scf  29 0.0007028824560393332 1 0.050389766693115234\n",
      "scf  30 0.00036257443142062584 1 0.04224729537963867\n",
      "scf  31 0.0001872363106656394 1 0.05158591270446777\n",
      "scf  32 9.689341140983743e-05 1 0.043282508850097656\n",
      "scf  33 5.029288954006006e-05 1 0.05127525329589844\n",
      "scf  34 2.6206412343299235e-05 1 0.043373823165893555\n",
      "scf  35 1.3720571047315389e-05 1 0.04758930206298828\n",
      "scf  36 7.467546538464376e-06 0 0.043000221252441406\n"
     ]
    }
   ],
   "source": [
    "species = torch.as_tensor([[16,16],[22,22],[22,16],[35,17],[24,22]],dtype=torch.int64, device=device)\n",
    "\n",
    "coordinates = torch.tensor([\n",
    "        [[0.0000,    0.0,    0.0000],\n",
    "         [0.0000,    1.2,    0.0000]],\n",
    "    \n",
    "        [[0.0000,    0.0,    0.0000],\n",
    "         [0.0000,    1.2,    0.0000]],\n",
    "    \n",
    "        [[0.0000,    0.0,    0.0000],\n",
    "         [0.0000,    1.2,    0.0000]],\n",
    "    \n",
    "        [[0.0000,    0.0,    0.0000],\n",
    "         [0.0000,    1.2,    0.0000]],\n",
    "    \n",
    "        [[0.0000,    0.0,    0.0000],\n",
    "         [0.0000,    1.2,    0.0000]],\n",
    "                 ], device=device)\n",
    "\n",
    "\n",
    "# species = torch.as_tensor([[17,17,17,17,6]],dtype=torch.int64, device=device)\n",
    "\n",
    "# coordinates = torch.tensor([\n",
    "#                   [\n",
    "#                    [0.0000,    0.0000,    1.7700],\n",
    "#                    [1.7700,    0.0000,    0.0000],\n",
    "#                    [-1.250,    1.2500,    0.0000],\n",
    "#                    [-1.250,   -1.2500,    0.0000],\n",
    "#                    [0.0000,    0.0000,    0.0000]\n",
    "#                   ]\n",
    "#                  ], device=device)\n",
    "\n",
    "const = Constants().to(device)\n",
    "#may need to add scaling factor for length and energy on const, check constants.py\n",
    "\n",
    "elements = [0]+sorted(set(species.reshape(-1).tolist()))\n",
    "seqm_parameters = {\n",
    "                   'method' : 'PM6',  # AM1, MNDO, PM#\n",
    "                   'scf_eps' : 1.0e-5,  # unit eV, change of electric energy, as nuclear energy doesnt' change during SCF\n",
    "                   'scf_converger' : [0,0.2], # converger used for scf loop\n",
    "                                         # [0, 0.1], [0, alpha] constant mixing, P = alpha*P + (1.0-alpha)*Pnew\n",
    "                                         # [1], adaptive mixing\n",
    "                                         # [2], adaptive mixing, then pulay\n",
    "                   'sp2' : [False, 1.0e-5],  # whether to use sp2 algorithm in scf loop,\n",
    "                                            #[True, eps] or [False], eps for SP2 conve criteria\n",
    "                   'elements' : elements, #[0,1,6,8],\n",
    "                   'learned' : [], # learned parameters name list, e.g ['U_ss']\n",
    "                   #'parameter_file_dir' : '../seqm/params/', # file directory for other required parameters\n",
    "                   'pair_outer_cutoff' : 1.0e10, # consistent with the unit on coordinates\n",
    "                   'eig' : False,\n",
    "                    \"Hf_flag\": True,\n",
    "                    'scf_backward' : 0,\n",
    "                    'UHF' : False,\n",
    "                   }\n",
    "\n",
    "molecules = Molecule(const, seqm_parameters, coordinates, species).to(device)\n",
    "esdriver = Electronic_Structure(seqm_parameters).to(device)\n",
    "esdriver(molecules)"
   ]
  },
  {
   "cell_type": "markdown",
   "id": "6b1f1b1a-4e34-4e8f-8973-d7bcd081b103",
   "metadata": {},
   "source": [
    "# Total E"
   ]
  },
  {
   "cell_type": "code",
   "execution_count": 42,
   "id": "3875ea74-a938-4fcb-b7ed-8bfbafc52b01",
   "metadata": {},
   "outputs": [
    {
     "data": {
      "text/plain": [
       "tensor(-331.8060, device='cuda:0')"
      ]
     },
     "execution_count": 42,
     "metadata": {},
     "output_type": "execute_result"
    }
   ],
   "source": [
    "molecules.Etot[0] # S2. MOPAC Etot = -333.8287 EV"
   ]
  },
  {
   "cell_type": "code",
   "execution_count": 43,
   "id": "c448596c-f4ce-42a2-b4f5-73100d1e26e2",
   "metadata": {},
   "outputs": [
    {
     "data": {
      "text/plain": [
       "tensor(-120.0784, device='cuda:0')"
      ]
     },
     "execution_count": 43,
     "metadata": {},
     "output_type": "execute_result"
    }
   ],
   "source": [
    "molecules.Etot[1] # Ti2. MOPAC Etot = -120.0651 EV"
   ]
  },
  {
   "cell_type": "code",
   "execution_count": 44,
   "id": "f24a4e38-8197-449a-87a2-28e4930f8ecd",
   "metadata": {},
   "outputs": [
    {
     "data": {
      "text/plain": [
       "tensor(-283.9792, device='cuda:0')"
      ]
     },
     "execution_count": 44,
     "metadata": {},
     "output_type": "execute_result"
    }
   ],
   "source": [
    "molecules.Etot[2] # TiS. MOPAC Etot = -221.2701 EV  !!!!!!!!!!!!!!!!!!!!!"
   ]
  },
  {
   "cell_type": "code",
   "execution_count": 45,
   "id": "6a339a48-2992-479b-b6c1-6a31f170d5b7",
   "metadata": {},
   "outputs": [
    {
     "data": {
      "text/plain": [
       "tensor(-458.4182, device='cuda:0')"
      ]
     },
     "execution_count": 45,
     "metadata": {},
     "output_type": "execute_result"
    }
   ],
   "source": [
    "molecules.Etot[3] # BrCl. MOPAC Etot = -458.5855 EV"
   ]
  },
  {
   "cell_type": "code",
   "execution_count": 46,
   "id": "c1009387-c3e4-49b3-b17f-71c1ec716ced",
   "metadata": {},
   "outputs": [
    {
     "data": {
      "text/plain": [
       "tensor(-366.0346, device='cuda:0')"
      ]
     },
     "execution_count": 46,
     "metadata": {},
     "output_type": "execute_result"
    }
   ],
   "source": [
    "molecules.Etot[4] # CrTi. MOPAC Etot = -150.3163 EV  !!!!!!!!!!!!!!!!!!!!!"
   ]
  },
  {
   "cell_type": "code",
   "execution_count": null,
   "id": "0ee5f699-d1c9-488e-8be2-f136c75be7f4",
   "metadata": {},
   "outputs": [],
   "source": []
  },
  {
   "cell_type": "markdown",
   "id": "2abfacdd-f954-43d3-8986-7d00281f9411",
   "metadata": {},
   "source": [
    "# Nuclear repulsion"
   ]
  },
  {
   "cell_type": "code",
   "execution_count": 47,
   "id": "be316495-70b8-4949-91d4-4d93f53b0026",
   "metadata": {},
   "outputs": [
    {
     "data": {
      "text/plain": [
       "tensor(290.8642, device='cuda:0')"
      ]
     },
     "execution_count": 47,
     "metadata": {},
     "output_type": "execute_result"
    }
   ],
   "source": [
    "molecules.Enuc[0] # S2. MOPAC Enuc = 290.8693 EV"
   ]
  },
  {
   "cell_type": "code",
   "execution_count": 48,
   "id": "9337ff83-8f7b-4db4-a7cf-45545d04e355",
   "metadata": {},
   "outputs": [
    {
     "data": {
      "text/plain": [
       "tensor(97.3926, device='cuda:0')"
      ]
     },
     "execution_count": 48,
     "metadata": {},
     "output_type": "execute_result"
    }
   ],
   "source": [
    "molecules.Enuc[1] # Ti2. MOPAC Enuc = 97.3923 EV"
   ]
  },
  {
   "cell_type": "code",
   "execution_count": 49,
   "id": "917c576c-97a1-4c93-be8a-8163e3e54c9e",
   "metadata": {},
   "outputs": [
    {
     "data": {
      "text/plain": [
       "tensor(176.1500, device='cuda:0')"
      ]
     },
     "execution_count": 49,
     "metadata": {},
     "output_type": "execute_result"
    }
   ],
   "source": [
    "molecules.Enuc[2] # TiS. MOPAC Enuc = 176.1518 EV"
   ]
  },
  {
   "cell_type": "code",
   "execution_count": 50,
   "id": "c06f9c0d-8cb9-4534-b47d-986969d8478e",
   "metadata": {},
   "outputs": [
    {
     "data": {
      "text/plain": [
       "tensor(391.1114, device='cuda:0')"
      ]
     },
     "execution_count": 50,
     "metadata": {},
     "output_type": "execute_result"
    }
   ],
   "source": [
    "molecules.Enuc[3] # BrCl. MOPAC Enuc = 391.1161 EV"
   ]
  },
  {
   "cell_type": "code",
   "execution_count": 51,
   "id": "f8cf1105-3324-4f27-86c3-73f4dcdb7e25",
   "metadata": {},
   "outputs": [
    {
     "data": {
      "text/plain": [
       "tensor(145.6023, device='cuda:0')"
      ]
     },
     "execution_count": 51,
     "metadata": {},
     "output_type": "execute_result"
    }
   ],
   "source": [
    "molecules.Enuc[4] # CrTi. MOPAC Enuc = 251.0941 EV  !!!!!!!!!!!!!!!!!!!!!"
   ]
  },
  {
   "cell_type": "code",
   "execution_count": null,
   "id": "28472491-fcf9-4a2a-b2fd-104bf8565939",
   "metadata": {},
   "outputs": [],
   "source": []
  }
 ],
 "metadata": {
  "kernelspec": {
   "display_name": "hipnn_1",
   "language": "python",
   "name": "hipnn_1"
  },
  "language_info": {
   "codemirror_mode": {
    "name": "ipython",
    "version": 3
   },
   "file_extension": ".py",
   "mimetype": "text/x-python",
   "name": "python",
   "nbconvert_exporter": "python",
   "pygments_lexer": "ipython3",
   "version": "3.9.16"
  }
 },
 "nbformat": 4,
 "nbformat_minor": 5
}
