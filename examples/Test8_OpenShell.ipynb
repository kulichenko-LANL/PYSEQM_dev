{
 "cells": [
  {
   "cell_type": "markdown",
   "id": "f8f7961e-208e-4634-9d1d-13e8090d3fa4",
   "metadata": {},
   "source": [
    "# Open-shell examples\n",
    "\n",
    "### For now, open-shell calculations support only linear and adaptive mixing schemes in SCF optimization. Pulay is for closed-shell only.\n",
    "### + Single point and optimization can be done for open shells.\n",
    "### - MD for open shells will be added soon."
   ]
  },
  {
   "cell_type": "code",
   "execution_count": 1,
   "id": "0b17254d-3c5c-421b-98d4-287de276921f",
   "metadata": {},
   "outputs": [
    {
     "name": "stderr",
     "output_type": "stream",
     "text": [
      "/home/maxim/anaconda3/envs/hipnn_1/lib/python3.9/site-packages/tqdm/auto.py:21: TqdmWarning: IProgress not found. Please update jupyter and ipywidgets. See https://ipywidgets.readthedocs.io/en/stable/user_install.html\n",
      "  from .autonotebook import tqdm as notebook_tqdm\n"
     ]
    }
   ],
   "source": [
    "import numpy as np\n",
    "import matplotlib.pyplot as plt\n",
    "import sys\n",
    "sys.path.insert(1, \"/home/maxim/Projects/git2/PYSEQM_dev/\") # path to PySEQM\n",
    "\n",
    "import torch\n",
    "import seqm\n",
    "from seqm.Molecule import Molecule\n",
    "from seqm.seqm_functions.constants import Constants\n",
    "from seqm.seqm_functions.make_dm_guess import make_dm_guess # for broken symetry initial guesses\n",
    "from seqm.ElectronicStructure import Electronic_Structure # electronic structure driver\n",
    "from seqm.MolecularDynamics import Geometry_Optimization_SD\n",
    "\n",
    "seqm.seqm_functions.scf_loop.debug=False # controlls printing SCF info\n",
    "seqm.seqm_functions.scf_loop.MAX_ITER = 600 # max SCF steps\n",
    "\n",
    "DTYPE = torch.float64\n",
    "torch.set_default_dtype(DTYPE)\n",
    "\n",
    "# small systems are more efficiently computed on CPU\n",
    "device = torch.device('cpu')"
   ]
  },
  {
   "cell_type": "markdown",
   "id": "15d691b1-02d3-45ba-85d0-4512fab356c7",
   "metadata": {},
   "source": [
    "# Ground states of carbene (CH2) and O2 are triplets"
   ]
  },
  {
   "cell_type": "code",
   "execution_count": 2,
   "id": "6334e349-0a22-492e-ae62-a69afee001d1",
   "metadata": {
    "scrolled": true,
    "tags": []
   },
   "outputs": [
    {
     "name": "stdout",
     "output_type": "stream",
     "text": [
      "Step,  Max_Force,      Etot(eV),     dE(eV)\n",
      "1      4.116831e-01 ||3.224979e+00 3.224979e+00 ||-7.541949e-01 -7.541949e-01 \n",
      "2      2.158196e-01 ||3.223851e+00 -1.127876e-03 ||-7.549858e-01 -7.908699e-04 \n",
      "3      1.110453e-01 ||3.223608e+00 -2.437025e-04 ||-7.552148e-01 -2.289652e-04 \n",
      "4      5.940267e-02 ||3.223499e+00 -1.084921e-04 ||-7.552721e-01 -5.736370e-05 \n",
      "5      3.511966e-02 ||3.223444e+00 -5.531265e-05 ||-7.552881e-01 -1.591425e-05 \n",
      "6      2.591950e-02 ||3.223415e+00 -2.888366e-05 ||-7.552926e-01 -4.552837e-06 \n",
      "7      1.925119e-02 ||3.223399e+00 -1.538030e-05 ||-7.552940e-01 -1.416794e-06 \n",
      "8      1.435515e-02 ||3.223391e+00 -8.419744e-06 ||-7.552945e-01 -4.664362e-07 \n",
      "9      1.077378e-02 ||3.223386e+00 -4.781366e-06 ||-7.552947e-01 -1.643690e-07 \n",
      "10      8.362328e-03 ||3.223383e+00 -2.943751e-06 ||-7.552947e-01 -4.960384e-08 \n",
      "converged with 10 step, Max Force = 8.362328e-03 (eV/Ang), dE = -1.496678e-06 (eV)\n",
      "\n",
      "Total energies: tensor([-146.4011, -580.1751])\n"
     ]
    }
   ],
   "source": [
    "# Atomic numbers need to sorted be in descending order\n",
    "species = torch.as_tensor([\n",
    "                            [6,1,1],\n",
    "                            [8,8,0]\n",
    "                          ], dtype=torch.int64, device=device)\n",
    "\n",
    "coordinates = torch.tensor([\n",
    "                            [[ 0.23,  0.08,  0.32],\n",
    "                             [ 1.07, -0.06, -0.22],\n",
    "                             [-0.61,  0.22,  0.88]],\n",
    "\n",
    "                            [[ 0.00,  0.00,  0.03],\n",
    "                             [ 0.00,  0.00,  1.13],\n",
    "                             [ 0.00,  0.00,  0.00]]\n",
    "    \n",
    "                            ], device=device)\n",
    "\n",
    "const = Constants().to(device)\n",
    "elements = [0]+sorted(set(species.reshape(-1).tolist()))\n",
    "seqm_parameters = {\n",
    "                   'method' : 'PM6_SP', # AM1, MNDO, PM3, PM6, PM6_SP. PM6_SP is PM6 without d-orbitals. Effectively, PM6 for the first two rows of periodic table\n",
    "                   'scf_eps' : 1.0e-6,  # unit eV, change of electric energy, as nuclear energy doesnt' change during SCF\n",
    "                   'scf_converger' : [0,0.5],# converger used for SCF loop\n",
    "                                             # [0, alpha] constant linear mixing, P = alpha*P + (1.0-alpha)*Pnew\n",
    "                                             # [1], adaptive mixing\n",
    "                                             # [1, K, L, M], advanced adaptive mixing.\n",
    "                                             #               First, it does linear mixing for M steps. Mixing coeff is K the first 5 SCF steps.\n",
    "                                             #               Then it incrementally goes to L and becomes L at M-5 SCF step. From M-5 to M it's equal to L.\n",
    "                                             #               After M'th SCF step, adaptive mixing begins.\n",
    "                                             # \n",
    "                                             # [2], adaptive mixing, then pulay\n",
    "                   'sp2' : [False, 1.0e-5],  # whether to use sp2 algorithm in scf loop,\n",
    "                   'elements' : elements, #[0,1,6,8],\n",
    "                   'learned' : [], # learned parameters name list, e.g ['U_ss']\n",
    "                   'pair_outer_cutoff' : 1.0e10, # consistent with the unit on coordinates\n",
    "                   'eig' : True, # store MO energies\n",
    "                   'UHF' : True, ### use spin-unrestricted formalism (open shell)\n",
    "                   }\n",
    "\n",
    "# Charge and multiplicity for each molecule in a batch need to be passed to a Molecule object.\n",
    "# Otherwise, neutral singlets are assumed by default.\n",
    "charges = torch.tensor([0,0],dtype=torch.int64, device=device)\n",
    "mult = torch.tensor([3,3], device=device)\n",
    "molecule = Molecule(const, seqm_parameters, coordinates, species, charges, mult).to(device)\n",
    "\n",
    "# geometry optimization\n",
    "opt =  Geometry_Optimization_SD(seqm_parameters, alpha=0.01, force_tol=1.0e-2, max_evl=400).to(device)\n",
    "max_force, dE =  opt.run(molecule)\n",
    "\n",
    "print('\\nTotal energies:', molecule.Etot)"
   ]
  },
  {
   "cell_type": "markdown",
   "id": "220987f1-929c-4e0b-8cda-a58f83ea2204",
   "metadata": {},
   "source": [
    "## Compare with energies of singlets"
   ]
  },
  {
   "cell_type": "code",
   "execution_count": 3,
   "id": "8625ab0e-9e8a-4366-acf3-8bca172ace94",
   "metadata": {
    "scrolled": true,
    "tags": []
   },
   "outputs": [
    {
     "name": "stdout",
     "output_type": "stream",
     "text": [
      "Step,  Max_Force,      Etot(eV),     dE(eV)\n",
      "1      1.596853e-01 ||4.593026e+00 4.593026e+00 ||1.809494e+00 1.809494e+00 \n",
      "2      8.011179e-02 ||4.592697e+00 -3.286943e-04 ||1.809477e+00 -1.685616e-05 \n",
      "3      4.317614e-02 ||4.592615e+00 -8.251366e-05 ||1.809473e+00 -3.535021e-06 \n",
      "4      2.531305e-02 ||4.592587e+00 -2.740916e-05 ||1.809472e+00 -9.943396e-07 \n",
      "5      1.634113e-02 ||4.592574e+00 -1.312518e-05 ||1.809472e+00 -3.416417e-07 \n",
      "6      1.352779e-02 ||4.592566e+00 -8.392873e-06 ||1.809472e+00 -1.548336e-07 \n",
      "7      1.252765e-02 ||4.592560e+00 -6.252763e-06 ||1.809472e+00 -7.195433e-08 \n",
      "8      1.156583e-02 ||4.592555e+00 -4.985928e-06 ||1.809472e+00 -2.730735e-08 \n",
      "9      1.063653e-02 ||4.592551e+00 -4.059514e-06 ||1.809472e+00 -3.053344e-08 \n",
      "10      9.780423e-03 ||4.592547e+00 -3.355209e-06 ||1.809472e+00 5.453444e-09 \n",
      "converged with 10 step, Max Force = 9.780423e-03 (eV/Ang), dE = -1.674878e-06 (eV)\n",
      "\n",
      "Total energies: tensor([-145.0319, -577.6103])\n"
     ]
    }
   ],
   "source": [
    "coordinates = torch.tensor([\n",
    "                            [[ 0.00,  0.00,  0.00],\n",
    "                             [ 1.08,  0.00,  0.01],\n",
    "                             [-0.39,  0.24,  0.97]],\n",
    "\n",
    "                            [[ 0.00,  0.00,  0.03],\n",
    "                             [ 0.00,  0.00,  1.14],\n",
    "                             [ 0.00,  0.00,  0.00]]\n",
    "    \n",
    "                            ], device=device)\n",
    "\n",
    "charges = torch.tensor([0,0],dtype=torch.int64, device=device)\n",
    "mult = torch.tensor([1,1], device=device)\n",
    "molecule = Molecule(const, seqm_parameters, coordinates, species, charges, mult).to(device)\n",
    "\n",
    "opt =  Geometry_Optimization_SD(seqm_parameters, alpha=0.01, force_tol=1.0e-2, max_evl=400).to(device)\n",
    "max_force, dE =  opt.run(molecule)\n",
    "\n",
    "print('\\nTotal energies:', molecule.Etot)"
   ]
  },
  {
   "cell_type": "markdown",
   "id": "2efcf273-2978-4cf3-a0ed-0f36c02ac23b",
   "metadata": {
    "tags": []
   },
   "source": [
    "# Open-shell singlet\n",
    "## H2 and HF separation scans\n",
    "### The symmetry of a wavefunction needs to be broken. Otherwise, closed-shell solution."
   ]
  },
  {
   "cell_type": "code",
   "execution_count": 4,
   "id": "4ec73366-a4e6-4f13-b931-6736ff32b659",
   "metadata": {},
   "outputs": [],
   "source": [
    "# equilibrium distances for H-H and H-F\n",
    "HH_equilibrium = 0.7\n",
    "HF_equilibrium = 0.9\n",
    "\n",
    "# array for separation scan\n",
    "d_r = np.linspace(0.0, 5, 26)\n",
    "\n",
    "species = torch.as_tensor([\n",
    "                       [1,1],\n",
    "                       [9,1],\n",
    "                            ],\n",
    "                      dtype=torch.int64, device=device)\n",
    "const = Constants().to(device)\n",
    "elements = [0]+sorted(set(species.reshape(-1).tolist()))"
   ]
  },
  {
   "cell_type": "markdown",
   "id": "902a0e73-7023-4f17-bd8b-a7c907b421fd",
   "metadata": {},
   "source": [
    "### Broken symmetry open-shell bond scan. Here, a broken symmetry wfn guess is made for each point along the scan."
   ]
  },
  {
   "cell_type": "code",
   "execution_count": 5,
   "id": "0711c25c-8004-4c8d-8c85-6b39d0837e92",
   "metadata": {
    "scrolled": true,
    "tags": []
   },
   "outputs": [
    {
     "name": "stdout",
     "output_type": "stream",
     "text": [
      "added distance:  0.0\n"
     ]
    },
    {
     "name": "stderr",
     "output_type": "stream",
     "text": [
      "/home/maxim/Projects/git2/PYSEQM_dev/seqm/seqm_functions/make_dm_guess.py:270: UserWarning: The use of `x.T` on tensors of dimension other than 2 to reverse their shape is deprecated and it will throw an error in a future release. Consider `x.mT` to transpose batches of matrices or `x.permute(*torch.arange(x.ndim - 1, -1, -1))` to reverse the dimensions of a tensor. (Triggered internally at /opt/conda/conda-bld/pytorch_1670525551200/work/aten/src/ATen/native/TensorShape.cpp:3277.)\n",
      "  v_lumo = v[:,0].gather(2, molecule.nocc[:,0].unsqueeze(0).unsqueeze(0).T.repeat(1,v.shape[-1],1))\n"
     ]
    },
    {
     "name": "stdout",
     "output_type": "stream",
     "text": [
      "added distance:  0.2\n",
      "added distance:  0.4\n",
      "added distance:  0.6000000000000001\n",
      "added distance:  0.8\n",
      "added distance:  1.0\n",
      "added distance:  1.2000000000000002\n",
      "added distance:  1.4000000000000001\n",
      "added distance:  1.6\n",
      "added distance:  1.8\n",
      "added distance:  2.0\n",
      "added distance:  2.2\n",
      "added distance:  2.4000000000000004\n",
      "added distance:  2.6\n",
      "added distance:  2.8000000000000003\n",
      "added distance:  3.0\n",
      "added distance:  3.2\n",
      "added distance:  3.4000000000000004\n",
      "added distance:  3.6\n",
      "added distance:  3.8000000000000003\n",
      "added distance:  4.0\n",
      "added distance:  4.2\n",
      "added distance:  4.4\n",
      "added distance:  4.6000000000000005\n",
      "added distance:  4.800000000000001\n",
      "added distance:  5.0\n",
      "CPU times: user 3min 11s, sys: 3.64 s, total: 3min 14s\n",
      "Wall time: 9.81 s\n"
     ]
    }
   ],
   "source": [
    "%%time\n",
    "\n",
    "# arrays to record energies and charges from open-shell (OS) broken-symmetry (BS) calculations along bond separation scan\n",
    "E_OS_BS = np.empty((0,2))\n",
    "Q_OS_BS = np.empty((0,2,2))\n",
    "\n",
    "# bond scan\n",
    "for i in d_r:\n",
    "    print('added distance: ', i)\n",
    "    coordinates = torch.tensor([\n",
    "        \n",
    "                              [[0.00,    0.00,    0.00],\n",
    "                               [0.00,    0.00,    HH_equilibrium + i]],\n",
    "        \n",
    "                              [[0.00,    0.00,    0.00],\n",
    "                               [0.00,    0.00,    HF_equilibrium + i]],\n",
    "        \n",
    "                               ], device=device)\n",
    "    \n",
    "    seqm_parameters = {\n",
    "                   'method' : 'PM6_SP',  # AM1, MNDO, PM#\n",
    "                   'scf_eps' : 1.0e-5,  # unit eV, change of electric energy, as nuclear energy doesnt' change during SCF\n",
    "                   'scf_converger' : [1,0.8, 0.95, 15], # converger used for scf loop\n",
    "                                           # [0, 0.1], [0, alpha] constant mixing, P = alpha*P + (1.0-alpha)*Pnew\n",
    "                                           # [1], adaptive mixing\n",
    "                                           # [1, K, L, M], advanced adaptive mixing.\n",
    "                                           #               First, it does linear mixing for M steps. Mixing coeff is K the first 5 SCF steps.\n",
    "                                           #               Then it incrementally goes to L and becomes L at M-5 SCF step. From M-5 to M it's equal to L.\n",
    "                                           #               After M'th SCF step, adaptive mixing begins.\n",
    "                                           # \n",
    "                                           # [2], adaptive mixing, then pulay\n",
    "                   'sp2' : [False, 1.0e-5],  # whether to use sp2 algorithm in scf loop,\n",
    "                                            #[True, eps] or [False], eps for SP2 conve criteria\n",
    "                   'elements' : elements, #[0,1,6,8],\n",
    "                   'learned' : [], # learned parameters name list, e.g ['U_ss']\n",
    "                   'pair_outer_cutoff' : 1.0e10, # consistent with the unit on coordinates\n",
    "                   'eig' : True,\n",
    "                   'UHF' : True, # use unrestricted HF\n",
    "                   }\n",
    "    \n",
    "    # neutral singlets by default if charges and multiplicities are not specified \n",
    "    molecule = Molecule(const, seqm_parameters, coordinates, species).to(device)\n",
    "    \n",
    "    ### Break the symmetry of a DM guess: HOMO_alpha = 0.1*HOMO + 0.9*LUMO   (mix_coeff=0.9)\n",
    "    make_dm_guess(molecule, seqm_parameters, mix_homo_lumo=True, mix_coeff=0.9, overwrite_existing_dm=True);\n",
    "    \n",
    "    # Single point calculation with the current bond length\n",
    "    esdriver = Electronic_Structure(seqm_parameters).to(device)\n",
    "    esdriver(molecule, P0=molecule.dm) # molecule.dm is a guess assigned to molecule after calling make_dm_guess\n",
    "    \n",
    "    # store energies and charges\n",
    "    E_OS_BS = np.vstack((E_OS_BS,molecule.Etot.cpu().numpy()))\n",
    "    Q_OS_BS = np.vstack((Q_OS_BS,[molecule.q.cpu().numpy()]))\n",
    "    \n"
   ]
  },
  {
   "cell_type": "markdown",
   "id": "32e39b7c-7e32-454d-a8a0-33da4c3f2509",
   "metadata": {},
   "source": [
    "###  Closed-shell (equivalent to open-shell without breaking the symetry)."
   ]
  },
  {
   "cell_type": "code",
   "execution_count": 6,
   "id": "56771340-093c-497a-962c-85492c5ab69f",
   "metadata": {
    "scrolled": true,
    "tags": []
   },
   "outputs": [
    {
     "name": "stdout",
     "output_type": "stream",
     "text": [
      "Bond length: 0.0\n",
      "Bond length: 0.2\n",
      "Bond length: 0.4\n",
      "Bond length: 0.6000000000000001\n",
      "Bond length: 0.8\n",
      "Bond length: 1.0\n",
      "Bond length: 1.2000000000000002\n",
      "Bond length: 1.4000000000000001\n",
      "Bond length: 1.6\n",
      "Bond length: 1.8\n",
      "Bond length: 2.0\n",
      "Bond length: 2.2\n",
      "Bond length: 2.4000000000000004\n",
      "Bond length: 2.6\n",
      "Bond length: 2.8000000000000003\n",
      "Bond length: 3.0\n",
      "Bond length: 3.2\n",
      "Bond length: 3.4000000000000004\n",
      "Bond length: 3.6\n",
      "Bond length: 3.8000000000000003\n",
      "Bond length: 4.0\n",
      "Bond length: 4.2\n",
      "Bond length: 4.4\n",
      "Bond length: 4.6000000000000005\n",
      "Bond length: 4.800000000000001\n",
      "Bond length: 5.0\n",
      "CPU times: user 1min 4s, sys: 1.3 s, total: 1min 6s\n",
      "Wall time: 3.4 s\n"
     ]
    }
   ],
   "source": [
    "%%time\n",
    "\n",
    "# arrays to record energies and charges from closed-shell (CS) calculations along bond separation scan\n",
    "E_CS = np.empty((0,2))\n",
    "Q_CS = np.empty((0,2,2))\n",
    "\n",
    "# Closed-shell bond separation is problematic to converge.\n",
    "# Here, density matrix (dm) from the previous point on the scan is used as a guess for the next one to accelerate convergence\n",
    "dm=None \n",
    "for i in d_r:\n",
    "    print('Bond length:', i)\n",
    "    coordinates = torch.tensor([\n",
    "                              [[ 0.00,    0.00,    0.00],\n",
    "                               [ 0.00,    0.00,    HH_equilibrium+i]],\n",
    "        \n",
    "                              [[0.00,    0.00,    0.00],\n",
    "                               [0.00,    0.00,    HF_equilibrium+i]],\n",
    "                            ], device=device)\n",
    "    \n",
    "    seqm_parameters = {\n",
    "                   'method' : 'PM6_SP',  # AM1, MNDO, PM#\n",
    "                   'scf_eps' : 1.0e-5,  # unit eV, change of electric energy, as nuclear energy doesnt' change during SCF\n",
    "                   'scf_converger' : [0, 0.5], # converger used for scf loop\n",
    "                                         # [0, 0.1], [0, alpha] constant mixing, P = alpha*P + (1.0-alpha)*Pnew\n",
    "                                         # [1], adaptive mixing\n",
    "                                         # [2], adaptive mixing, then pulay\n",
    "                   'sp2' : [False, 1.0e-5],  # whether to use sp2 algorithm in scf loop,\n",
    "                                            #[True, eps] or [False], eps for SP2 conve criteria\n",
    "                   'elements' : elements, #[0,1,6,8],\n",
    "                   'learned' : [], # learned parameters name list, e.g ['U_ss']\n",
    "                   #'parameter_file_dir' : '../seqm/params/', # file directory for other required parameters\n",
    "                   'pair_outer_cutoff' : 1.0e10, # consistent with the unit on coordinates\n",
    "                   'eig' : True,\n",
    "                   'scf_backward' : 0,\n",
    "                   'UHF' : False, # use unrestricted HF\n",
    "                   }\n",
    "    \n",
    "    molecule = Molecule(const, seqm_parameters, coordinates, species).to(device)\n",
    "    esdriver = Electronic_Structure(seqm_parameters).to(device)\n",
    "    esdriver(molecule, P0=dm)\n",
    "    dm = molecule.dm.clone() # store density matrix for the initial guess in the next step\n",
    "    \n",
    "    # store energies and charges\n",
    "    E_CS = np.vstack((E_CS,molecule.Etot.cpu().numpy()))\n",
    "    Q_CS = np.vstack((Q_CS,[molecule.q.cpu().numpy()]))\n",
    "    "
   ]
  },
  {
   "cell_type": "markdown",
   "id": "388c9868-2f95-4646-941b-49054d44c4af",
   "metadata": {},
   "source": [
    "### H-H separation energy curve."
   ]
  },
  {
   "cell_type": "code",
   "execution_count": 7,
   "id": "94e9096e-36ea-4766-96d3-5ef425f3a027",
   "metadata": {},
   "outputs": [
    {
     "data": {
      "image/png": "[encoded data removed]",
      "text/plain": [
       "<Figure size 640x480 with 1 Axes>"
      ]
     },
     "metadata": {},
     "output_type": "display_data"
    }
   ],
   "source": [
    "plt.plot(d_r + HH_equilibrium, E_CS[:,0] - min(E_CS[:,0]), label='RHF')\n",
    "plt.plot(d_r + HH_equilibrium, E_OS_BS[:,0] - min(E_OS_BS[:,0]), label='UHF')\n",
    "plt.legend()\n",
    "plt.xlabel('H-H distance, Å')\n",
    "plt.ylabel('Relative energy, eV')\n",
    "plt.show()"
   ]
  },
  {
   "cell_type": "markdown",
   "id": "d2a7e17d-bf0e-4f9d-a9c9-3239bd96b551",
   "metadata": {},
   "source": [
    "### H-F separation energy curve."
   ]
  },
  {
   "cell_type": "code",
   "execution_count": 8,
   "id": "f2dc2b91-3085-4bf9-94ac-de8a16df2e8c",
   "metadata": {},
   "outputs": [
    {
     "data": {
      "image/png": "[encoded data removed]",
      "text/plain": [
       "<Figure size 640x480 with 1 Axes>"
      ]
     },
     "metadata": {},
     "output_type": "display_data"
    }
   ],
   "source": [
    "plt.plot(d_r + HF_equilibrium, E_CS[:,1]-min(E_CS[:,1]), label='RHF')\n",
    "plt.plot(d_r + HF_equilibrium, E_OS_BS[:,1] - min(E_OS_BS[:,1]), label='UHF')\n",
    "plt.xlabel('H-F distance, Å')\n",
    "plt.ylabel('Relative energy, eV')\n",
    "plt.show()"
   ]
  },
  {
   "cell_type": "markdown",
   "id": "57f0f79d-e32a-4248-99a1-adc6b513eab9",
   "metadata": {
    "tags": []
   },
   "source": [
    "### Charges on F and H at equilibrium distance."
   ]
  },
  {
   "cell_type": "markdown",
   "id": "4a6e9a7b-a59a-4501-adfd-17eaf27bd973",
   "metadata": {},
   "source": [
    "#### Broken symmetry open-shell singlet"
   ]
  },
  {
   "cell_type": "code",
   "execution_count": 9,
   "id": "fcf307fd-b0a7-42d0-b2f3-7c9c3a7b885f",
   "metadata": {},
   "outputs": [
    {
     "data": {
      "text/plain": [
       "(-0.26185603434791105, 0.26185603488846465)"
      ]
     },
     "execution_count": 9,
     "metadata": {},
     "output_type": "execute_result"
    }
   ],
   "source": [
    "# F                    H\n",
    "Q_OS_BS[:,1,0][0], Q_OS_BS[:,1,1][0]"
   ]
  },
  {
   "cell_type": "markdown",
   "id": "3d099798-adde-48a8-955d-cdddd63e4470",
   "metadata": {},
   "source": [
    "#### Closed-shell singlet"
   ]
  },
  {
   "cell_type": "code",
   "execution_count": 10,
   "id": "d5655794-e4b4-4e56-98d6-46a1114f0d38",
   "metadata": {},
   "outputs": [
    {
     "data": {
      "text/plain": [
       "(-0.2620707050711424, 0.26207070507114194)"
      ]
     },
     "execution_count": 10,
     "metadata": {},
     "output_type": "execute_result"
    }
   ],
   "source": [
    "# F                    H\n",
    "Q_CS[:,1,0][0], Q_CS[:,1,1][0]"
   ]
  },
  {
   "cell_type": "markdown",
   "id": "49d272cd-5970-43ef-8bb4-14100803c2ff",
   "metadata": {
    "tags": []
   },
   "source": [
    "### Charges on F and H at 6 Å distance."
   ]
  },
  {
   "cell_type": "markdown",
   "id": "9c151fd3-f541-49d5-916b-df59ccc77f35",
   "metadata": {},
   "source": [
    "#### Broken symmetry open-shell singlet. Almost zero, which is correct for homolytic separation."
   ]
  },
  {
   "cell_type": "code",
   "execution_count": 11,
   "id": "26500e1c-cde0-4222-8909-69359ffd7392",
   "metadata": {},
   "outputs": [
    {
     "data": {
      "text/plain": [
       "(-6.78469724846309e-10, 1.2399326772366638e-08)"
      ]
     },
     "execution_count": 11,
     "metadata": {},
     "output_type": "execute_result"
    }
   ],
   "source": [
    "# F                    H\n",
    "Q_OS_BS[:,1,0][-1], Q_OS_BS[:,1,1][-1]"
   ]
  },
  {
   "cell_type": "markdown",
   "id": "2bcb05dd-a04e-46f1-8f97-c527167a047e",
   "metadata": {},
   "source": [
    "#### Closed-shell singlet. Non-zero charges, which is incorrect. In gas phase, separation should proceed homolytically."
   ]
  },
  {
   "cell_type": "code",
   "execution_count": 12,
   "id": "9d28eeb5-7038-4f0b-a211-264fdd19ee9c",
   "metadata": {},
   "outputs": [
    {
     "data": {
      "text/plain": [
       "(-0.4066206075601775, 0.4066206075601766)"
      ]
     },
     "execution_count": 12,
     "metadata": {},
     "output_type": "execute_result"
    }
   ],
   "source": [
    "# F                    H\n",
    "Q_CS[:,1,0][-1], Q_CS[:,1,1][-1]"
   ]
  }
 ],
 "metadata": {
  "kernelspec": {
   "display_name": "hipnn_1",
   "language": "python",
   "name": "hipnn_1"
  },
  "language_info": {
   "codemirror_mode": {
    "name": "ipython",
    "version": 3
   },
   "file_extension": ".py",
   "mimetype": "text/x-python",
   "name": "python",
   "nbconvert_exporter": "python",
   "pygments_lexer": "ipython3",
   "version": "3.9.16"
  }
 },
 "nbformat": 4,
 "nbformat_minor": 5
}
