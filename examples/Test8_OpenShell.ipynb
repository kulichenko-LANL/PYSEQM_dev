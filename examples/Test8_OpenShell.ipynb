{
 "cells": [
  {
   "cell_type": "markdown",
   "id": "f8f7961e-208e-4634-9d1d-13e8090d3fa4",
   "metadata": {},
   "source": [
    "# Open-shell\n",
    "\n",
    "## Currently, open-shell calculations support only linear mixing in SCF optimization.\n",
    "## Can do geometry optimization but not MD.\n",
    "## Will be fixed soon."
   ]
  },
  {
   "cell_type": "code",
   "execution_count": 10,
   "id": "0b17254d-3c5c-421b-98d4-287de276921f",
   "metadata": {},
   "outputs": [],
   "source": [
    "import sys\n",
    "sys.path.insert(1, \"/home/maxim/Projects/git2/PYSEQM_dev/\")\n",
    "\n",
    "import torch\n",
    "import seqm\n",
    "from seqm.seqm_functions.constants import Constants\n",
    "from seqm.seqm_functions.make_dm_guess import make_dm_guess\n",
    "import matplotlib.pyplot as plt\n",
    "\n",
    "from seqm.Molecule import Molecule\n",
    "from seqm.ElectronicStructure import Electronic_Structure\n",
    "import numpy as np\n",
    "from seqm.seqm_functions.read_xyz import read_xyz\n",
    "from seqm.MolecularDynamics import Geometry_Optimization_SD\n",
    "\n",
    "DTYPE = torch.float64\n",
    "torch.set_default_dtype(DTYPE)\n",
    "if torch.cuda.is_available():\n",
    "    device = torch.device('cuda')\n",
    "else:\n",
    "    device = torch.device('cpu')\n",
    "\n",
    "device = torch.device('cpu')"
   ]
  },
  {
   "cell_type": "markdown",
   "id": "15d691b1-02d3-45ba-85d0-4512fab356c7",
   "metadata": {},
   "source": [
    "# Carbene (CH2) and O2, triplets"
   ]
  },
  {
   "cell_type": "code",
   "execution_count": 25,
   "id": "6334e349-0a22-492e-ae62-a69afee001d1",
   "metadata": {},
   "outputs": [],
   "source": [
    "species = torch.as_tensor([\n",
    "                            [6,1,1],\n",
    "                            [8,8,0]\n",
    "                          ], dtype=torch.int64, device=device)\n",
    "\n",
    "coordinates = torch.tensor([\n",
    "                            [[ 1.2437e-01,  4.4651e-02,  1.7825e-01],\n",
    "                             [ 1.1301e+00, -3.9041e-02, -1.5585e-01],\n",
    "                             [-5.6454e-01,  2.4138e-01,  9.6361e-01]],\n",
    "\n",
    "                            [[ 1.9663e-04,  3.0676e-04, -1.0761e-03],\n",
    "                             [ 3.0337e-04,  9.3247e-05,  1.1676e+00],\n",
    "                             [ 0.0000e+00,  0.0000e+00,  0.0000e+00]]\n",
    "    \n",
    "                            ], device=device)\n",
    "\n",
    "const = Constants().to(device)\n",
    "\n",
    "elements = [0]+sorted(set(species.reshape(-1).tolist()))\n",
    "\n",
    "seqm_parameters = {\n",
    "                   'method' : 'PM3',\n",
    "                   'scf_eps' : 1.0e-6,  # unit eV, change of electric energy, as nuclear energy doesnt' change during SCF\n",
    "                   'scf_converger' : [0,0.5], # converger used for scf loop\n",
    "                   'sp2' : [False, 1.0e-5],  # whether to use sp2 algorithm in scf loop,\n",
    "                   'elements' : elements, #[0,1,6,8],\n",
    "                   'learned' : [], # learned parameters name list, e.g ['U_ss']\n",
    "                   'pair_outer_cutoff' : 1.0e10, # consistent with the unit on coordinates\n",
    "                   'eig' : True,\n",
    "                   'scf_backward' : 0,\n",
    "                   'UHF' : True, ### use unrestricted HF\n",
    "                   }\n",
    "\n",
    "# specify charges and multiplicity\n",
    "charges = torch.tensor([0,0],dtype=torch.int64, device=device)\n",
    "mult = torch.tensor([3,3], device=device)\n",
    "\n",
    "molecule = Molecule(const, seqm_parameters, coordinates, species, charges, mult).to(device)"
   ]
  },
  {
   "cell_type": "code",
   "execution_count": 18,
   "id": "a4e6f552-4591-45bd-adfa-0041762d9ce2",
   "metadata": {
    "scrolled": true,
    "tags": []
   },
   "outputs": [
    {
     "name": "stdout",
     "output_type": "stream",
     "text": [
      "Step,  Max_Force,      Etot(eV),     dE(eV)\n",
      "1      1.240424e-02 ||3.106370e+00 3.106370e+00 ||-1.812874e-01 -1.812874e-01 \n",
      "2      1.240370e-02 ||3.106369e+00 -1.023533e-06 ||-1.812878e-01 -3.990707e-07 \n",
      "3      1.237618e-02 ||3.106368e+00 -9.693262e-07 ||-1.812877e-01 2.534443e-08 \n",
      "4      1.215040e-02 ||3.106367e+00 -8.987652e-07 ||-1.812880e-01 -2.690333e-07 \n",
      "5      1.214668e-02 ||3.106366e+00 -9.161870e-07 ||-1.812880e-01 4.560388e-08 \n",
      "6      1.192769e-02 ||3.106365e+00 -8.628552e-07 ||-1.812879e-01 8.527309e-08 \n",
      "7      1.192929e-02 ||3.106364e+00 -8.808334e-07 ||-1.812880e-01 -1.253107e-07 \n",
      "8      1.171359e-02 ||3.106363e+00 -8.326412e-07 ||-1.812881e-01 -4.996275e-08 \n",
      "9      1.171539e-02 ||3.106363e+00 -8.499014e-07 ||-1.812880e-01 1.034607e-07 \n",
      "10      1.150270e-02 ||3.106362e+00 -8.045193e-07 ||-1.812881e-01 -1.139786e-07 \n",
      "11      1.150379e-02 ||3.106361e+00 -8.208544e-07 ||-1.812881e-01 -9.975452e-09 \n",
      "12      1.129457e-02 ||3.106360e+00 -7.776447e-07 ||-1.812880e-01 4.943013e-08 \n",
      "13      1.111198e-02 ||3.106359e+00 -7.589728e-07 ||-1.812880e-01 -1.250328e-09 \n",
      "14      1.114358e-02 ||3.106359e+00 -7.811034e-07 ||-1.812880e-01 6.854327e-08 \n",
      "15      1.095192e-02 ||3.106358e+00 -7.376289e-07 ||-1.812880e-01 -1.004037e-08 \n",
      "16      1.078379e-02 ||3.106357e+00 -7.206677e-07 ||-1.812880e-01 7.620429e-09 \n",
      "17      1.082656e-02 ||3.106356e+00 -7.438825e-07 ||-1.812881e-01 -1.184153e-07 \n",
      "18      1.064532e-02 ||3.106356e+00 -7.009896e-07 ||-1.812880e-01 7.132758e-08 \n",
      "19      1.048607e-02 ||3.106355e+00 -6.850966e-07 ||-1.812879e-01 7.454798e-08 \n",
      "20      1.053310e-02 ||3.106354e+00 -7.079580e-07 ||-1.812880e-01 -5.617414e-08 \n",
      "21      1.035941e-02 ||3.106354e+00 -6.665556e-07 ||-1.812880e-01 2.071965e-08 \n",
      "22      1.020674e-02 ||3.106353e+00 -6.515374e-07 ||-1.812881e-01 -1.077797e-07 \n",
      "23      1.007035e-02 ||3.106352e+00 -6.387219e-07 ||-1.812881e-01 -1.124340e-08 \n",
      "24      1.013727e-02 ||3.106352e+00 -6.642101e-07 ||-1.812880e-01 1.034518e-07 \n",
      "25      9.978448e-03 ||3.106351e+00 -6.229104e-07 ||-1.812880e-01 1.682110e-08 \n",
      "converged with 25 step, Max Force = 9.978448e-03 (eV/Ang), dE = -3.030447e-07 (eV)\n"
     ]
    }
   ],
   "source": [
    "# optimize geometry\n",
    "opt =  Geometry_Optimization_SD(seqm_parameters, alpha=0.002, force_tol=1.0e-2, max_evl=400).to(device)\n",
    "max_force, dE =  opt.run(molecule)"
   ]
  },
  {
   "cell_type": "code",
   "execution_count": 28,
   "id": "4ebeab1b-6278-4cba-9184-54ad7b81f96d",
   "metadata": {},
   "outputs": [
    {
     "data": {
      "text/plain": [
       "tensor([-146.1992, -584.0310])"
      ]
     },
     "execution_count": 28,
     "metadata": {},
     "output_type": "execute_result"
    }
   ],
   "source": [
    "# Total energy\n",
    "molecule.Etot"
   ]
  },
  {
   "cell_type": "markdown",
   "id": "220987f1-929c-4e0b-8cda-a58f83ea2204",
   "metadata": {},
   "source": [
    "## Compare with energies of singlets"
   ]
  },
  {
   "cell_type": "code",
   "execution_count": 29,
   "id": "8625ab0e-9e8a-4366-acf3-8bca172ace94",
   "metadata": {},
   "outputs": [],
   "source": [
    "coordinates = torch.tensor([\n",
    "                            [[-2.2974e-02, -7.9243e-03, -3.1638e-02],\n",
    "                             [ 1.0669e+00,  9.8889e-03,  3.9484e-02],\n",
    "                             [-3.5404e-01,  2.4503e-01,  9.7816e-01]],\n",
    "\n",
    "                            [[ 1.9159e-04,  3.1941e-04, -1.4933e-03],\n",
    "                             [ 3.0841e-04,  8.0601e-05,  1.1680e+00],\n",
    "                             [ 0.0000e+00,  0.0000e+00,  0.0000e+00]]\n",
    "    \n",
    "                            ], device=device)\n",
    "\n",
    "charges = torch.tensor([0,0],dtype=torch.int64, device=device)\n",
    "mult = torch.tensor([1,1], device=device)\n",
    "\n",
    "molecule = Molecule(const, seqm_parameters, coordinates, species, charges, mult).to(device)\n"
   ]
  },
  {
   "cell_type": "code",
   "execution_count": 31,
   "id": "2faa90ef-4531-4f57-911d-62bad7aa8b63",
   "metadata": {
    "scrolled": true,
    "tags": []
   },
   "outputs": [
    {
     "name": "stdout",
     "output_type": "stream",
     "text": [
      "Step,  Max_Force,      Etot(eV),     dE(eV)\n",
      "1      8.329278e-03 ||4.909875e+00 4.909875e+00 ||7.971809e-01 7.971809e-01 \n",
      "converged with 1 step, Max Force = 8.329278e-03 (eV/Ang), dE = 2.853528e+00 (eV)\n"
     ]
    }
   ],
   "source": [
    "opt =  Geometry_Optimization_SD(seqm_parameters, alpha=0.01, force_tol=1.0e-2, max_evl=400).to(device)\n",
    "max_force, dE =  opt.run(molecule)"
   ]
  },
  {
   "cell_type": "code",
   "execution_count": 33,
   "id": "75f0096b-b48c-4d2e-aa0d-facb44b137bd",
   "metadata": {},
   "outputs": [
    {
     "data": {
      "text/plain": [
       "tensor([-144.3957, -583.0526])"
      ]
     },
     "execution_count": 33,
     "metadata": {},
     "output_type": "execute_result"
    }
   ],
   "source": [
    "# Energies of singlets are higher than energies of triplets, as expected\n",
    "molecule.Etot"
   ]
  },
  {
   "cell_type": "markdown",
   "id": "2efcf273-2978-4cf3-a0ed-0f36c02ac23b",
   "metadata": {
    "tags": []
   },
   "source": [
    "# Open-shell singlet\n",
    "### H2 and HF separation\n",
    "### The symmetry needs to be broken. Otherwise, closed-shell solution.\n",
    "### Calculations will take a while because of linear mixing which is not the most efficient SCF optimization algorythm. Adaptive mixing for open shells will be added soon."
   ]
  },
  {
   "cell_type": "code",
   "execution_count": 34,
   "id": "4ec73366-a4e6-4f13-b931-6736ff32b659",
   "metadata": {},
   "outputs": [],
   "source": [
    "# array of bond lengths\n",
    "bond_l = np.linspace(0.7, 10.0, 41)\n",
    "\n",
    "species = torch.as_tensor([\n",
    "                       [1,1],\n",
    "                       [9,1],\n",
    "                            ],\n",
    "                      dtype=torch.int64, device=device)\n",
    "const = Constants().to(device)\n",
    "elements = [0]+sorted(set(species.reshape(-1).tolist()))\n",
    "charges = torch.tensor([0,0],dtype=torch.int64, device=device)"
   ]
  },
  {
   "cell_type": "markdown",
   "id": "902a0e73-7023-4f17-bd8b-a7c907b421fd",
   "metadata": {},
   "source": [
    "### Broken symmetry open-shell."
   ]
  },
  {
   "cell_type": "code",
   "execution_count": 42,
   "id": "0711c25c-8004-4c8d-8c85-6b39d0837e92",
   "metadata": {
    "scrolled": true,
    "tags": []
   },
   "outputs": [
    {
     "name": "stdout",
     "output_type": "stream",
     "text": [
      "0.7\n",
      "0.9325\n",
      "1.165\n",
      "1.3975\n",
      "1.63\n",
      "1.8625\n",
      "2.0949999999999998\n",
      "2.3275\n",
      "2.56\n",
      "2.7925000000000004\n",
      "3.0250000000000004\n",
      "3.2575000000000003\n",
      "3.49\n",
      "3.7225\n",
      "3.955\n",
      "4.1875\n",
      "4.42\n",
      "4.6525\n",
      "4.885000000000001\n",
      "5.117500000000001\n",
      "5.3500000000000005\n",
      "5.5825000000000005\n",
      "5.815\n",
      "6.0475\n",
      "6.28\n",
      "6.5125\n",
      "6.745\n",
      "6.977500000000001\n",
      "7.210000000000001\n",
      "7.442500000000001\n",
      "7.675000000000001\n",
      "7.907500000000001\n",
      "8.14\n",
      "8.3725\n",
      "8.605\n",
      "8.8375\n",
      "9.07\n",
      "9.3025\n",
      "9.535\n",
      "9.7675\n",
      "10.0\n"
     ]
    }
   ],
   "source": [
    "seqm.seqm_functions.scf_loop.debug=False\n",
    "seqm.seqm_functions.scf_loop.MAX_ITER = 1500\n",
    "\n",
    "\n",
    "# arrays to record energies and charges\n",
    "E_os_break = np.array([[0,0]])\n",
    "Q_os_break = np.array([[[0,0],[0,0]]])\n",
    "\n",
    "for i in bond_l:\n",
    "    print(i)\n",
    "    coordinates = torch.tensor([\n",
    "                              [\n",
    "                               [ 0.00,    0.00,    0.00],\n",
    "                               [ 0.00,    0.00,    i],\n",
    "                              ],\n",
    "                              [\n",
    "                               [0.00,    0.00,    0.00],\n",
    "                               [0.00,    0.00,    i],\n",
    "                              ],\n",
    "                            ], device=device)\n",
    "    \n",
    "    seqm_parameters = {\n",
    "                   'method' : 'PM3',  # AM1, MNDO, PM#\n",
    "                   'scf_eps' : 2.0e-5,  # unit eV, change of electric energy, as nuclear energy doesnt' change during SCF\n",
    "                   'scf_converger' : [0,0.96], # converger used for scf loop\n",
    "                                         # [0, 0.1], [0, alpha] constant mixing, P = alpha*P + (1.0-alpha)*Pnew\n",
    "                                         # [1], adaptive mixing\n",
    "                                         # [2], adaptive mixing, then pulay\n",
    "                   'sp2' : [False, 1.0e-5],  # whether to use sp2 algorithm in scf loop,\n",
    "                                            #[True, eps] or [False], eps for SP2 conve criteria\n",
    "                   'elements' : elements, #[0,1,6,8],\n",
    "                   'learned' : [], # learned parameters name list, e.g ['U_ss']\n",
    "                   #'parameter_file_dir' : '../seqm/params/', # file directory for other required parameters\n",
    "                   'pair_outer_cutoff' : 1.0e10, # consistent with the unit on coordinates\n",
    "                   'eig' : True,\n",
    "                   'scf_backward' : 0,\n",
    "                   'UHF' : True, # use unrestricted HF\n",
    "                   }\n",
    "    \n",
    "    mult = torch.tensor([1,1], device=device)\n",
    "    molecule = Molecule(const, seqm_parameters, coordinates, species, charges, mult).to(device)\n",
    "    \n",
    "    ### Break the symmetry of a DM guess: HOMO_alpha = 0.9*HOMO + 0.1*LUMO   (mix_coeff=0.1)\n",
    "    make_dm_guess(molecule, seqm_parameters, mix_homo_lumo=True, mix_coeff=0.1, overwrite_existing_dm=True);\n",
    "    \n",
    "    # Single point calculation with the current bond length\n",
    "    esdriver = Electronic_Structure(seqm_parameters).to(device)\n",
    "    esdriver(molecule, P0=molecule.dm)\n",
    "    \n",
    "    E_os_break = np.vstack((E_os_break,molecule.Etot.cpu().numpy()))\n",
    "    Q_os_break = np.vstack((Q_os_break,[molecule.q.cpu().numpy()]))\n",
    "    \n",
    "E_os_break = E_os_break[1:]\n",
    "Q_os_break = Q_os_break[1:]"
   ]
  },
  {
   "cell_type": "markdown",
   "id": "32e39b7c-7e32-454d-a8a0-33da4c3f2509",
   "metadata": {},
   "source": [
    "###  Closed-shell (equivalent to open-shell without breaking the symetry)."
   ]
  },
  {
   "cell_type": "code",
   "execution_count": 43,
   "id": "56771340-093c-497a-962c-85492c5ab69f",
   "metadata": {
    "scrolled": true,
    "tags": []
   },
   "outputs": [
    {
     "name": "stdout",
     "output_type": "stream",
     "text": [
      "0.7\n",
      "0.9325\n",
      "1.165\n",
      "1.3975\n",
      "1.63\n",
      "1.8625\n",
      "2.0949999999999998\n",
      "2.3275\n",
      "2.56\n",
      "2.7925000000000004\n",
      "3.0250000000000004\n",
      "3.2575000000000003\n",
      "3.49\n",
      "3.7225\n",
      "3.955\n",
      "4.1875\n",
      "4.42\n",
      "4.6525\n",
      "4.885000000000001\n",
      "5.117500000000001\n",
      "5.3500000000000005\n",
      "5.5825000000000005\n",
      "5.815\n",
      "6.0475\n",
      "6.28\n",
      "6.5125\n",
      "6.745\n",
      "6.977500000000001\n",
      "7.210000000000001\n",
      "7.442500000000001\n",
      "7.675000000000001\n",
      "7.907500000000001\n",
      "8.14\n",
      "8.3725\n",
      "8.605\n",
      "8.8375\n",
      "9.07\n",
      "9.3025\n",
      "9.535\n",
      "9.7675\n",
      "10.0\n"
     ]
    }
   ],
   "source": [
    "E_cs = np.array([[0,0]])\n",
    "Q_cs = np.array([[[0,0],[0,0]]])\n",
    "\n",
    "dm=None\n",
    "for i in bond_l:\n",
    "    print(i)\n",
    "    coordinates = torch.tensor([\n",
    "                              [[ 0.00,    0.00,    0.00],\n",
    "                               [ 0.00,    0.00,    i]],\n",
    "        \n",
    "                              [[0.00,    0.00,    0.00],\n",
    "                               [0.00,    0.00,    i]],\n",
    "                            ], device=device)\n",
    "    \n",
    "    \n",
    "    seqm_parameters = {\n",
    "                   'method' : 'PM3',  # AM1, MNDO, PM#\n",
    "                   'scf_eps' : 2.0e-5,  # unit eV, change of electric energy, as nuclear energy doesnt' change during SCF\n",
    "                   'scf_converger' : [0,0.96], # converger used for scf loop\n",
    "                                         # [0, 0.1], [0, alpha] constant mixing, P = alpha*P + (1.0-alpha)*Pnew\n",
    "                                         # [1], adaptive mixing\n",
    "                                         # [2], adaptive mixing, then pulay\n",
    "                   'sp2' : [False, 1.0e-5],  # whether to use sp2 algorithm in scf loop,\n",
    "                                            #[True, eps] or [False], eps for SP2 conve criteria\n",
    "                   'elements' : elements, #[0,1,6,8],\n",
    "                   'learned' : [], # learned parameters name list, e.g ['U_ss']\n",
    "                   #'parameter_file_dir' : '../seqm/params/', # file directory for other required parameters\n",
    "                   'pair_outer_cutoff' : 1.0e10, # consistent with the unit on coordinates\n",
    "                   'eig' : True,\n",
    "                   'scf_backward' : 0,\n",
    "                   'UHF' : False, # use unrestricted HF\n",
    "                   }\n",
    "    \n",
    "    mult = 1\n",
    "    molecule = Molecule(const, seqm_parameters, coordinates, species, charges, mult).to(device)\n",
    "    esdriver = Electronic_Structure(seqm_parameters).to(device)\n",
    "    esdriver(molecule)\n",
    "    E_cs = np.vstack((E_cs,molecule.Etot.cpu().numpy()))\n",
    "    Q_cs = np.vstack((Q_cs,[molecule.q.cpu().numpy()]))\n",
    "\n",
    "E_cs = E_cs[1:]\n",
    "Q_cs = Q_cs[1:]"
   ]
  },
  {
   "cell_type": "markdown",
   "id": "388c9868-2f95-4646-941b-49054d44c4af",
   "metadata": {},
   "source": [
    "### H2 separation energy curve."
   ]
  },
  {
   "cell_type": "code",
   "execution_count": 44,
   "id": "94e9096e-36ea-4766-96d3-5ef425f3a027",
   "metadata": {},
   "outputs": [
    {
     "data": {
      "text/plain": [
       "<matplotlib.legend.Legend at 0x7f79e37bffd0>"
      ]
     },
     "execution_count": 44,
     "metadata": {},
     "output_type": "execute_result"
    },
    {
     "data": {
      "image/png": "[encoded data removed]",
      "text/plain": [
       "<Figure size 640x480 with 1 Axes>"
      ]
     },
     "metadata": {},
     "output_type": "display_data"
    }
   ],
   "source": [
    "plt.plot(bond_l, E_cs[:,0] - min(E_cs[:,0]), label='RHF')\n",
    "plt.plot(bond_l, E_os_break[:,0] - min(E_os_break[:,0]), label='UHF')\n",
    "plt.legend()"
   ]
  },
  {
   "cell_type": "code",
   "execution_count": null,
   "id": "1f4cbc98-a7a3-49ea-8a7a-0ba94532c4aa",
   "metadata": {},
   "outputs": [],
   "source": []
  },
  {
   "cell_type": "markdown",
   "id": "d2a7e17d-bf0e-4f9d-a9c9-3239bd96b551",
   "metadata": {},
   "source": [
    "### HF separation energy curve."
   ]
  },
  {
   "cell_type": "code",
   "execution_count": 45,
   "id": "f2dc2b91-3085-4bf9-94ac-de8a16df2e8c",
   "metadata": {},
   "outputs": [
    {
     "data": {
      "text/plain": [
       "<matplotlib.legend.Legend at 0x7f79e368e3a0>"
      ]
     },
     "execution_count": 45,
     "metadata": {},
     "output_type": "execute_result"
    },
    {
     "data": {
      "image/png": "[encoded data removed]",
      "text/plain": [
       "<Figure size 640x480 with 1 Axes>"
      ]
     },
     "metadata": {},
     "output_type": "display_data"
    }
   ],
   "source": [
    "plt.plot(bond_l, E_cs[:,1]-min(E_cs[:,1]), label='RHF')\n",
    "plt.plot(bond_l, E_os_break[:,1] - min(E_os_break[:,1]), label='UHF')\n",
    "#plt.plot(E_os_break_reuse_dm[:,1])\n",
    "plt.legend()"
   ]
  },
  {
   "cell_type": "markdown",
   "id": "57f0f79d-e32a-4248-99a1-adc6b513eab9",
   "metadata": {
    "tags": []
   },
   "source": [
    "### Charges on F and H at 0.93 Å (equilibrium) distance."
   ]
  },
  {
   "cell_type": "markdown",
   "id": "4a6e9a7b-a59a-4501-adfd-17eaf27bd973",
   "metadata": {},
   "source": [
    "#### Broken symmetry open-shell singlet"
   ]
  },
  {
   "cell_type": "code",
   "execution_count": 47,
   "id": "fcf307fd-b0a7-42d0-b2f3-7c9c3a7b885f",
   "metadata": {},
   "outputs": [
    {
     "data": {
      "text/plain": [
       "(-0.1651833519837571, 0.16519613817030337)"
      ]
     },
     "execution_count": 47,
     "metadata": {},
     "output_type": "execute_result"
    }
   ],
   "source": [
    "# F                    H\n",
    "Q_os_break[:,1,0][1], Q_os_break[:,1,1][1]"
   ]
  },
  {
   "cell_type": "markdown",
   "id": "3d099798-adde-48a8-955d-cdddd63e4470",
   "metadata": {},
   "source": [
    "#### Closed-shell singlet"
   ]
  },
  {
   "cell_type": "code",
   "execution_count": 48,
   "id": "d5655794-e4b4-4e56-98d6-46a1114f0d38",
   "metadata": {},
   "outputs": [
    {
     "data": {
      "text/plain": [
       "(-0.16502516327662242, 0.16502516327662187)"
      ]
     },
     "execution_count": 48,
     "metadata": {},
     "output_type": "execute_result"
    }
   ],
   "source": [
    "# F                    H\n",
    "Q_cs[:,1,0][1], Q_cs[:,1,1][1]"
   ]
  },
  {
   "cell_type": "code",
   "execution_count": null,
   "id": "fd23734b-ddfc-427d-95ba-9be1a6b9ebeb",
   "metadata": {},
   "outputs": [],
   "source": []
  },
  {
   "cell_type": "markdown",
   "id": "49d272cd-5970-43ef-8bb4-14100803c2ff",
   "metadata": {
    "tags": []
   },
   "source": [
    "### Charges on F and H at 10 Å distance."
   ]
  },
  {
   "cell_type": "markdown",
   "id": "9c151fd3-f541-49d5-916b-df59ccc77f35",
   "metadata": {},
   "source": [
    "#### Broken symmetry open-shell singlet. Almost zero (homolytic separation), which is correct."
   ]
  },
  {
   "cell_type": "code",
   "execution_count": 49,
   "id": "26500e1c-cde0-4222-8909-69359ffd7392",
   "metadata": {},
   "outputs": [
    {
     "data": {
      "text/plain": [
       "(-1.0888147075505117e-05, 1.5496246730233638e-05)"
      ]
     },
     "execution_count": 49,
     "metadata": {},
     "output_type": "execute_result"
    }
   ],
   "source": [
    "# F                    H\n",
    "Q_os_break[:,1,0][-1], Q_os_break[:,1,1][-1]"
   ]
  },
  {
   "cell_type": "markdown",
   "id": "2bcb05dd-a04e-46f1-8f97-c527167a047e",
   "metadata": {},
   "source": [
    "#### Closed-shell singlet. Non-zero charges, which is incorrect. In gas phase, separation shoud proceed homolytically."
   ]
  },
  {
   "cell_type": "code",
   "execution_count": 50,
   "id": "9d28eeb5-7038-4f0b-a211-264fdd19ee9c",
   "metadata": {},
   "outputs": [
    {
     "data": {
      "text/plain": [
       "(-0.2920764818165722, 0.29207648181656987)"
      ]
     },
     "execution_count": 50,
     "metadata": {},
     "output_type": "execute_result"
    }
   ],
   "source": [
    "# F                    H\n",
    "Q_cs[:,1,0][-1], Q_cs[:,1,1][-1]"
   ]
  },
  {
   "cell_type": "code",
   "execution_count": null,
   "id": "986fbf22-3ebb-4989-9ff0-a87541e6065d",
   "metadata": {},
   "outputs": [],
   "source": []
  }
 ],
 "metadata": {
  "kernelspec": {
   "display_name": "hipnn_1",
   "language": "python",
   "name": "hipnn_1"
  },
  "language_info": {
   "codemirror_mode": {
    "name": "ipython",
    "version": 3
   },
   "file_extension": ".py",
   "mimetype": "text/x-python",
   "name": "python",
   "nbconvert_exporter": "python",
   "pygments_lexer": "ipython3",
   "version": "3.9.16"
  }
 },
 "nbformat": 4,
 "nbformat_minor": 5
}
