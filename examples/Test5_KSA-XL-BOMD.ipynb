{
 "cells": [
  {
   "cell_type": "markdown",
   "id": "6c88f6b0-f6cc-4ab9-b0e6-3ab3e95cd977",
   "metadata": {},
   "source": [
    "# Krylov Subspace Approximation XL-BOMD (KSA-XL-BOMD)\n",
    "### see https://pubs.acs.org/doi/full/10.1021/acs.jctc.0c00264 for details."
   ]
  },
  {
   "cell_type": "code",
   "execution_count": 1,
   "id": "2abd45e9-9b13-40a1-b3ae-730270169cfd",
   "metadata": {},
   "outputs": [
    {
     "name": "stderr",
     "output_type": "stream",
     "text": [
      "/home/maxim/anaconda3/envs/hipnn_1/lib/python3.9/site-packages/tqdm/auto.py:21: TqdmWarning: IProgress not found. Please update jupyter and ipywidgets. See https://ipywidgets.readthedocs.io/en/stable/user_install.html\n",
      "  from .autonotebook import tqdm as notebook_tqdm\n"
     ]
    }
   ],
   "source": [
    "import sys\n",
    "### path to PYSEQM ###\n",
    "sys.path.insert(1, \"/home/maxim/Projects/git2/PYSEQM_dev/\")\n",
    "\n",
    "import torch\n",
    "from seqm.seqm_functions.constants import Constants\n",
    "from seqm.Molecule import Molecule\n",
    "from seqm.MolecularDynamics import KSA_XL_BOMD\n",
    "\n",
    "torch.set_default_dtype(torch.float64)\n",
    "if torch.cuda.is_available():\n",
    "    device = torch.device('cuda')\n",
    "else:\n",
    "    device = torch.device('cpu')"
   ]
  },
  {
   "cell_type": "code",
   "execution_count": 2,
   "id": "90a457d9-7eff-4e0b-8e77-3b19cc54fdf7",
   "metadata": {},
   "outputs": [
    {
     "name": "stdout",
     "output_type": "stream",
     "text": [
      "Initialize velocities: zero_com\n",
      "Doing initialization\n",
      "Step,    Temp,    E(kinetic),  E(potential),  E(total)\n",
      "     1   279.98   1.447585e-01 -1.350261e+00 -1.205502e+00 ||    377.92   1.953992e-01 1.466852e+00 1.662251e+00 || \n",
      "     2   241.10   1.246600e-01 -1.330656e+00 -1.205996e+00 ||    338.43   1.749815e-01 1.487067e+00 1.662049e+00 || \n",
      "     3   192.51   9.953741e-02 -1.305247e+00 -1.205710e+00 ||    328.68   1.699427e-01 1.492087e+00 1.662030e+00 || \n",
      "     4   140.54   7.266691e-02 -1.277618e+00 -1.204951e+00 ||    347.27   1.795516e-01 1.482426e+00 1.661977e+00 || \n",
      "     5    91.22   4.716693e-02 -1.251883e+00 -1.204716e+00 ||    388.91   2.010823e-01 1.460577e+00 1.661659e+00 || \n",
      "     6    50.88   2.630948e-02 -1.230846e+00 -1.204537e+00 ||    445.68   2.304341e-01 1.430967e+00 1.661401e+00 || \n",
      "     7    25.21   1.303558e-02 -1.217602e+00 -1.204567e+00 ||    507.98   2.626448e-01 1.398328e+00 1.660972e+00 || \n",
      "     8    17.43   9.009704e-03 -1.213547e+00 -1.204537e+00 ||    565.87   2.925763e-01 1.367950e+00 1.660526e+00 || \n",
      "     9    27.68   1.431373e-02 -1.218916e+00 -1.204602e+00 ||    610.64   3.157266e-01 1.344428e+00 1.660155e+00 || \n",
      "    10    53.79   2.781231e-02 -1.232658e+00 -1.204845e+00 ||    635.74   3.287037e-01 1.331347e+00 1.660050e+00 || \n",
      "CPU times: user 7.54 s, sys: 778 ms, total: 8.32 s\n",
      "Wall time: 8.39 s\n"
     ]
    }
   ],
   "source": [
    "%%time\n",
    "torch.manual_seed(0)\n",
    "\n",
    "species = torch.as_tensor([[8,6,1,1],[5,1,1,1]],dtype=torch.int64, device=device)[:]\n",
    "coordinates = torch.tensor([\n",
    "                  [\n",
    "                   [ 0.00,  0.0,  0.0],\n",
    "                   [ 1.22,  0.0,  0.0],\n",
    "                   [ 1.82,  0.94, 0.0],\n",
    "                   [ 1.82, -0.94, 0.0]\n",
    "                  ],\n",
    "                  [\n",
    "                   [ 0.00,  0.00,  0.00],\n",
    "                   [ 1.20,  0.00,  0.00],\n",
    "                   [-0.60,  1.03,  0.00],\n",
    "                   [-0.60, -1.03,  0.00]\n",
    "                  ]\n",
    "                 ], device=device)[:]\n",
    "\n",
    "const = Constants().to(device)\n",
    "\n",
    "elements = [0]+sorted(set(species.reshape(-1).tolist()))\n",
    "seqm_parameters = {\n",
    "                   'method' : 'AM1',  # AM1, MNDO, PM#\n",
    "                   'scf_eps' : 1.0e-6,  # unit eV, change of electric energy, as nuclear energy doesnt' change during SCF\n",
    "                   'scf_converger' : [2,0.0], # converger used for scf loop\n",
    "                                         # [0, 0.1], [0, alpha] constant mixing, P = alpha*P + (1.0-alpha)*Pnew\n",
    "                                         # [1], adaptive mixing\n",
    "                                         # [2], adaptive mixing, then pulay\n",
    "                   'sp2' : [False, 1.0e-5],  # whether to use sp2 algorithm in scf loop,\n",
    "                                            #[True, eps] or [False], eps for SP2 conve criteria\n",
    "                   'elements' : elements, #[0,1,6,8],\n",
    "                   'learned' : [], # learned parameters name list, e.g ['U_ss']\n",
    "                   #'parameter_file_dir' : '../seqm/params/', # file directory for other required parameters\n",
    "                   'pair_outer_cutoff' : 1.0e10, # consistent with the unit on coordinates\n",
    "                   'eig' : True\n",
    "                   }\n",
    "\n",
    "\n",
    "molecule = Molecule(const, seqm_parameters, coordinates, species).to(device)\n",
    "\n",
    "# Set max_rank for a low-rank approximation. See https://pubs.acs.org/doi/full/10.1021/acs.jctc.0c00264 for details.\n",
    "# Set err_threshold for low-rank approximation error tollerance. Set err_threshold=0.0 to keep max_rank constant.\n",
    "# T_el - electronic temperature for thermmal HF.\n",
    "# Set k for the dissipative electronic force term. See https://aip.scitation.org/doi/full/10.1063/1.3148075 for details.\n",
    "\n",
    "output={'molid':[0, 1], 'thermo':1, 'dump':1, 'prefix':'Outputs/5_KSA_XL-BOMD'}\n",
    "xl_bomd_params={'k':6, 'max_rank':3, 'err_threshold':0.0, 'T_el':1500}\n",
    "\n",
    "md = KSA_XL_BOMD(xl_bomd_params=xl_bomd_params,\n",
    "                   seqm_parameters=seqm_parameters, Temp=400.0, timestep=0.4, output=output).to(device)\n",
    "\n",
    "md.initialize_velocity(molecule )\n",
    "#remove center of mass velocity\n",
    "# Info_log flag generates .txt wtih additional info for every step (orbital energies, dipole)\n",
    "_ = md.run(molecule, 10, remove_com=[True, 1], Info_log=True)"
   ]
  },
  {
   "cell_type": "code",
   "execution_count": null,
   "id": "93ef0a80-599a-4e53-bdd0-b24b52ef2185",
   "metadata": {},
   "outputs": [],
   "source": []
  },
  {
   "cell_type": "markdown",
   "id": "ca93e2c4-3915-4904-83cb-dd6c059a4355",
   "metadata": {},
   "source": [
    "## Damping (Langevin)"
   ]
  },
  {
   "cell_type": "code",
   "execution_count": 3,
   "id": "fc30cc21-1342-4e0c-8beb-d759d6ce41b5",
   "metadata": {},
   "outputs": [
    {
     "name": "stdout",
     "output_type": "stream",
     "text": [
      "Initialize velocities: zero_com\n",
      "Doing initialization\n",
      "Step,    Temp,    E(kinetic),  E(potential),  E(total)\n",
      "     1   285.76   1.477473e-01 -1.350201e+00 -1.202454e+00 ||    380.21   1.965831e-01 1.468533e+00 1.665116e+00 || \n",
      "     2   253.02   1.308200e-01 -1.329788e+00 -1.198968e+00 ||    364.13   1.882684e-01 1.489851e+00 1.678119e+00 || \n",
      "     3   213.15   1.102080e-01 -1.302890e+00 -1.192682e+00 ||    362.56   1.874579e-01 1.496257e+00 1.683715e+00 || \n",
      "     4   172.45   8.916226e-02 -1.271479e+00 -1.182316e+00 ||    394.61   2.040309e-01 1.487860e+00 1.691891e+00 || \n",
      "     5   124.14   6.418390e-02 -1.240602e+00 -1.176418e+00 ||    458.67   2.371522e-01 1.464519e+00 1.701671e+00 || \n",
      "     6    71.01   3.671379e-02 -1.213835e+00 -1.177121e+00 ||    515.64   2.666080e-01 1.436034e+00 1.702642e+00 || \n",
      "     7    29.70   1.535480e-02 -1.197870e+00 -1.182515e+00 ||    573.25   2.963938e-01 1.405430e+00 1.701823e+00 || \n",
      "     8    13.91   7.193439e-03 -1.192542e+00 -1.185349e+00 ||    611.21   3.160218e-01 1.377847e+00 1.693869e+00 || \n",
      "     9    23.89   1.235464e-02 -1.197631e+00 -1.185277e+00 ||    650.55   3.363602e-01 1.359205e+00 1.695565e+00 || \n",
      "    10    68.35   3.534158e-02 -1.213597e+00 -1.178256e+00 ||    695.75   3.597306e-01 1.351215e+00 1.710945e+00 || \n",
      "CPU times: user 6.98 s, sys: 5.69 ms, total: 6.99 s\n",
      "Wall time: 6.99 s\n"
     ]
    }
   ],
   "source": [
    "%%time\n",
    "torch.manual_seed(0)\n",
    "\n",
    "species = torch.as_tensor([[8,6,1,1],[5,1,1,1]],dtype=torch.int64, device=device)[:]\n",
    "coordinates = torch.tensor([\n",
    "                  [\n",
    "                   [ 0.00,  0.0,  0.0],\n",
    "                   [ 1.22,  0.0,  0.0],\n",
    "                   [ 1.82,  0.94, 0.0],\n",
    "                   [ 1.82, -0.94, 0.0]\n",
    "                  ],\n",
    "                  [\n",
    "                   [ 0.00,  0.00,  0.00],\n",
    "                   [ 1.20,  0.00,  0.00],\n",
    "                   [-0.60,  1.03,  0.00],\n",
    "                   [-0.60, -1.03,  0.00]\n",
    "                  ]\n",
    "                 ], device=device)[:]\n",
    "\n",
    "const = Constants().to(device)\n",
    "\n",
    "elements = [0]+sorted(set(species.reshape(-1).tolist()))\n",
    "seqm_parameters = {\n",
    "                   'method' : 'AM1',  # AM1, MNDO, PM#\n",
    "                   'scf_eps' : 1.0e-6,  # unit eV, change of electric energy, as nuclear energy doesnt' change during SCF\n",
    "                   'scf_converger' : [2,0.0], # converger used for scf loop\n",
    "                                         # [0, 0.1], [0, alpha] constant mixing, P = alpha*P + (1.0-alpha)*Pnew\n",
    "                                         # [1], adaptive mixing\n",
    "                                         # [2], adaptive mixing, then pulay\n",
    "                   'sp2' : [False, 1.0e-5],  # whether to use sp2 algorithm in scf loop,\n",
    "                                            #[True, eps] or [False], eps for SP2 conve criteria\n",
    "                   'elements' : elements, #[0,1,6,8],\n",
    "                   'learned' : [], # learned parameters name list, e.g ['U_ss']\n",
    "                   #'parameter_file_dir' : '../seqm/params/', # file directory for other required parameters\n",
    "                   'pair_outer_cutoff' : 1.0e10, # consistent with the unit on coordinates\n",
    "                   'eig' : True\n",
    "                   }\n",
    "\n",
    "\n",
    "molecule = Molecule(const, seqm_parameters, coordinates, species).to(device)\n",
    "\n",
    "# Set max_rank for a low-rank approximation. See https://pubs.acs.org/doi/full/10.1021/acs.jctc.0c00264 for details.\n",
    "# Set err_threshold for low-rank approximation error tollerance. Set err_threshold=0.0 to keep max_rank constant.\n",
    "# T_el - electronic temperature for thermmal HF.\n",
    "# Set k for the dissipative electronic force term. See https://aip.scitation.org/doi/full/10.1063/1.3148075 for details.\n",
    "\n",
    "output={'molid':[0, 1], 'thermo':1, 'dump':1, 'prefix':'Outputs/5_KSA_XL-BOMD_damp'}\n",
    "xl_bomd_params={'k':6, 'max_rank':3, 'err_threshold':0.0, 'T_el':1500}\n",
    "\n",
    "md = KSA_XL_BOMD(xl_bomd_params=xl_bomd_params, damp=100,\n",
    "                   seqm_parameters=seqm_parameters, Temp=400.0, timestep=0.4, output=output).to(device)\n",
    "\n",
    "md.initialize_velocity(molecule )\n",
    "#remove center of mass velocity\n",
    "# Info_log flag generates .txt wtih additional info for every step (orbital energies, dipole)\n",
    "_ = md.run(molecule, 10, remove_com=[True, 1], Info_log=True)"
   ]
  },
  {
   "cell_type": "code",
   "execution_count": null,
   "id": "40a68921-5cec-41f4-a9ce-5fd71a29a9e4",
   "metadata": {},
   "outputs": [],
   "source": []
  }
 ],
 "metadata": {
  "kernelspec": {
   "display_name": "hipnn_1",
   "language": "python",
   "name": "hipnn_1"
  },
  "language_info": {
   "codemirror_mode": {
    "name": "ipython",
    "version": 3
   },
   "file_extension": ".py",
   "mimetype": "text/x-python",
   "name": "python",
   "nbconvert_exporter": "python",
   "pygments_lexer": "ipython3",
   "version": "3.9.16"
  }
 },
 "nbformat": 4,
 "nbformat_minor": 5
}
