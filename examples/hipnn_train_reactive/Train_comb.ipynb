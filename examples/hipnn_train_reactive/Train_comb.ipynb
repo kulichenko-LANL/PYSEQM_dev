{
 "cells": [
  {
   "cell_type": "code",
   "execution_count": 1,
   "id": "a5478a27-32c6-40fd-b8fc-b5481f1133af",
   "metadata": {},
   "outputs": [
    {
     "data": {
      "application/javascript": [
       "IPython.notebook.set_autosave_interval(50000)"
      ]
     },
     "metadata": {},
     "output_type": "display_data"
    },
    {
     "name": "stdout",
     "output_type": "stream",
     "text": [
      "Autosaving every 50 seconds\n"
     ]
    },
    {
     "name": "stderr",
     "output_type": "stream",
     "text": [
      "/home/maxim/anaconda3/envs/hipnn_1/lib/python3.9/site-packages/tqdm/auto.py:21: TqdmWarning: IProgress not found. Please update jupyter and ipywidgets. See https://ipywidgets.readthedocs.io/en/stable/user_install.html\n",
      "  from .autonotebook import tqdm as notebook_tqdm\n"
     ]
    },
    {
     "name": "stdout",
     "output_type": "stream",
     "text": [
      "Decorating your function! <function KSA_XL_BOMD.one_step at 0x7f546d607940>\n"
     ]
    }
   ],
   "source": [
    "# to save output in log file #\n",
    "# ---------------------------- #\n",
    "##############################################\n",
    "import sys\n",
    "import logging\n",
    "\n",
    "nblog = open(\"train1.log\", \"w+\")\n",
    "\n",
    "sys.stdout.echo = nblog\n",
    "sys.stderr.echo = nblog\n",
    "\n",
    "get_ipython().log.handlers[0].stream = nblog\n",
    "get_ipython().log.setLevel(logging.INFO)\n",
    "\n",
    "%autosave 50\n",
    "##############################################\n",
    "\n",
    "\n",
    "# ---------------- #\n",
    "# Imported Modules #\n",
    "# ---------------- #\n",
    "import os\n",
    "import sys\n",
    "### path to PYSEQM ###\n",
    "sys.path.insert(1, \"/home/maxim/Projects/git2/PYSEQM_dev/\")\n",
    "#sys.path.insert(1, '/home/maxim/Projects/pyseqm_d/My_d_combined/PYSEQM_dev/')\n",
    "\n",
    "\n",
    "### path to HIPNN ###\n",
    "sys.path.append('/home/maxim/Projects/hipnn/hippynn/')\n",
    "\n",
    "import numpy as np\n",
    "import torch\n",
    "from hippynn.interfaces.pyseqm_interface.seqm_nodes import *\n",
    "from hippynn.interfaces.pyseqm_interface.callback import update_scf_eps, save_and_stop_after\n",
    "import hippynn.interfaces.pyseqm_interface\n",
    "import hippynn\n",
    "from hippynn.graphs import inputs, networks, targets, physics\n",
    "from hippynn.graphs import loss\n",
    "from hippynn import plotting\n",
    "from hippynn.databases import DirectoryDatabase\n",
    "from hippynn.experiment.assembly import assemble_for_training\n",
    "from hippynn.experiment.controllers import RaiseBatchSizeOnPlateau,PatienceController\n",
    "from hippynn.experiment import setup_training\n",
    "from hippynn.experiment import train_model\n",
    "import seqm\n",
    "from seqm.basics import parameterlist\n",
    "\n",
    "from numba import cuda\n",
    "### keeps SCF loops silent ###\n",
    "seqm.seqm_functions.scf_loop.debug = False\n",
    "\n",
    "hippynn.interfaces.pyseqm_interface.check.debug = True\n",
    "\n",
    "### maximum allowed SCF iterations ###\n",
    "seqm.seqm_functions.scf_loop.MAX_ITER = 90\n",
    "\n",
    "# torch.cuda.set_device(0) # Don't try this if you want CPU training!\n",
    "\n",
    "from torch.profiler import profile, record_function, ProfilerActivity\n",
    "\n",
    "import matplotlib\n",
    "matplotlib.use(\"agg\")"
   ]
  },
  {
   "cell_type": "code",
   "execution_count": null,
   "id": "648b13e5-1273-4bf6-a36b-e582042f928f",
   "metadata": {},
   "outputs": [],
   "source": [
    "Etot_DFT = np.load(\"/home/maxim/Projects/TESTS/pyseqm_tests/HIPNN_TRAIN/comb_t1x_ani_bse/combined_datasets/Etot_no_outlier.npy\")\n"
   ]
  },
  {
   "cell_type": "code",
   "execution_count": null,
   "id": "7dac3761-282d-4964-983f-cc4254c83f04",
   "metadata": {
    "scrolled": true,
    "tags": []
   },
   "outputs": [
    {
     "name": "stdout",
     "output_type": "stream",
     "text": [
      "Determined Inputs: [\"Species(db_name='Z_no_outlier')-true\", \"Species(db_name='Z_no_outlier')\", 'SEQM_Energy.mol_energy-true', \"Positions(db_name='R_no_outlier')\"]\n",
      "Determined Outputs: ['SEQM_MaskMol_Pred', 'SEQM_MaskMolAtom_Pred', 'Atom_Mask', 'SEQM_PerAtom_Pred', 'Scale', 'SEQM_Atom_Params.atom_charges', 'L^P_Reg(HIPNN_seqm,p=2)', 'SEQM_MolMask', 'PeratomTrue']\n",
      "Determined Targets: ['SEQM_Energy.mol_energy', 'gradients']\n",
      "Device was not specified. Attempting to default to device: cuda:0\n",
      "Inputs:\n",
      "\t I0 : LossTrueNode('Species(db_name='Z_no_outlier')-true')<0x7f54520fafa0>\n",
      "\t I1 : SpeciesNode('Species(db_name='Z_no_outlier')')<0x7f546d54e640>\n",
      "\t I2 : LossTrueNode('SEQM_Energy.mol_energy-true')<0x7f546d5821c0>\n",
      "\t I3 : PositionsNode('Positions(db_name='R_no_outlier')')<0x7f546d54e670>\n",
      "Outputs:\n",
      "\t O0 : SEQM_MaskOnMolNode('SEQM_MaskMol_Pred')<0x7f546d582220>\n",
      "\t O1 : SEQM_MaskOnMolAtomNode('SEQM_MaskMolAtom_Pred')<0x7f546d582100>\n",
      "\t O2 : AtomMaskNode('Atom_Mask')<0x7f546d582520>\n",
      "\t O3 : SEQM_MaskOnMolNode('SEQM_PerAtom_Pred')<0x7f54520fff70>\n",
      "\t O4 : ScaleNode('Scale')<0x7f546d54e940>\n",
      "\t O5 : IndexNode('SEQM_Atom_Params.atom_charges')<0x7f546d531730>\n",
      "\t O6 : _LPReg('L^P_Reg(HIPNN_seqm,p=2)')<0x7f546d578730>\n",
      "\t O7 : SEQM_MolMaskNode('SEQM_MolMask')<0x7f546d582970>\n",
      "\t O8 : PerAtom('PeratomTrue')<0x7f54520fafd0>\n",
      "Order:\n",
      "I2-------------------> H0  : Atleast2D(LossTrueNode('SEQM_Energy.mol_energy-true')<0x7f546d5821c0>)\n",
      "I1-------------------> H1  : OneHot\n",
      "H1-------------------> H2  : OneHot.nonblank\n",
      "H1-------------------> H3  : OneHot.encoding\n",
      "I1-------------------> O2  : Atom_Mask\n",
      "H3,H2----------------> H5  : PaddingIndexer\n",
      "H5-------------------> H6  : PaddingIndexer.indexed_features\n",
      "H5-------------------> H7  : PaddingIndexer.mol_index\n",
      "H5-------------------> H8  : PaddingIndexer.inv_real_atoms\n",
      "H5-------------------> H9  : PaddingIndexer.atom_index\n",
      "H5-------------------> H10 : PaddingIndexer.n_atoms_max\n",
      "H5-------------------> H11 : PaddingIndexer.n_molecules\n",
      "H0,I0----------------> O8  : PeratomTrue\n",
      "H5-------------------> H13 : PaddingIndexer.real_atoms\n",
      "H13,H8,H2,I3---------> H14 : PairIndexer\n",
      "H14------------------> H15 : PairIndexer.pair_coord\n",
      "H14------------------> H16 : PairIndexer.pair_second\n",
      "H14------------------> H17 : PairIndexer.pair_first\n",
      "H14------------------> H18 : PairIndexer.pair_dist\n",
      "H6,H16,H17,H18-------> H19 : HIPNN_seqm\n",
      "H19------------------> H20 : SEQM_Atom_Params\n",
      "H20------------------> H21 : SEQM_Atom_Params.partial_sums\n",
      "H20------------------> H22 : SEQM_Atom_Params.charge_hierarchality\n",
      "H20------------------> O5  : SEQM_Atom_Params.atom_charges\n",
      "I1,O5,I3-------------> H24 : SEQM_Energy\n",
      "H24------------------> H25 : SEQM_Energy.single_particle_density_matrix\n",
      "H24------------------> H26 : SEQM_Energy.electric_energy\n",
      "H24------------------> H27 : SEQM_Energy.mol_energy\n",
      "H27,I3---------------> H28 : gradients\n",
      "H24------------------> H29 : SEQM_Energy.Etot_m_Eiso\n",
      "H24------------------> H30 : SEQM_Energy.orbital_energies\n",
      "H24------------------> H31 : SEQM_Energy.atomic_charge\n",
      "H24------------------> H32 : SEQM_Energy.notconverged\n",
      "H32------------------> O4  : Scale\n",
      "H32------------------> O7  : SEQM_MolMask\n",
      "O7,O2,H28------------> O1  : SEQM_MaskMolAtom_Pred\n",
      "H27,O7---------------> O0  : SEQM_MaskMol_Pred\n",
      "H24------------------> H37 : SEQM_Energy.orbital_charges\n",
      "H24------------------> H38 : SEQM_Energy.nuclear_energy\n",
      "H19------------------> O6  : L^P_Reg(HIPNN_seqm,p=2)\n",
      "I1,H27---------------> H40 : PeratomPredicted\n",
      "O7,H40---------------> O3  : SEQM_PerAtom_Pred\n",
      "H24------------------> H42 : SEQM_Energy.isolated_atom_energy\n",
      "Arrays found:  {'Grad_no_outlier': 'Grad_no_outlier.npy', 'F_PM6': 'F_PM6.npy', 'R': 'R.npy', 'Z': 'Z.npy', 'Etot_PM6': 'Etot_PM6.npy', 'Eatomiz_PM6_no_outlier': 'Eatomiz_PM6_no_outlier.npy', 'Etot_PM6_no_outlier': 'Etot_PM6_no_outlier.npy', 'Q': 'Q.npy', 'Eatomiz_PM6': 'Eatomiz_PM6.npy', 'R_no_outlier': 'R_no_outlier.npy', 'Z_no_outlier': 'Z_no_outlier.npy', 'F': 'F.npy', 'Etot_no_outlier': 'Etot_no_outlier.npy', 'Etot': 'Etot.npy', 'F_no_outlier': 'F_no_outlier.npy', 'Q_no_outlier': 'Q_no_outlier.npy', 'Etot_m_BIAS_no_outlier': 'Etot_m_BIAS_no_outlier.npy', 'F_PM6_no_outlier': 'F_PM6_no_outlier.npy'}\n",
      "Data types:\n",
      "{'Grad_no_outlier': dtype('float64'), 'R_no_outlier': dtype('float64'), 'Z_no_outlier': dtype('int64'), 'Etot_m_BIAS_no_outlier': dtype('float64')}\n",
      "All arrays:\n",
      "--------------------------------------------------------------------------------------\n",
      "| Name               | dtype              | shape                                    |\n",
      "--------------------------------------------------------------------------------------\n",
      "| Grad_no_outlier    | dtype('float64')   | (150750, 20, 3)                          |\n",
      "| R_no_outlier       | dtype('float64')   | (150750, 20, 3)                          |\n",
      "| Z_no_outlier       | dtype('int64')     | (150750, 20)                             |\n",
      "| Etot_m_BIAS_no_outlier | dtype('float64')   | (150750,)                                |\n",
      "--------------------------------------------------------------------------------------\n",
      "Database: Using auto-generated data indices\n",
      "Arrays for split: ignore\n",
      "--------------------------------------------------------------------------------------\n",
      "| Name               | dtype              | shape                                    |\n",
      "--------------------------------------------------------------------------------------\n",
      "| Grad_no_outlier    | torch.float64      | torch.Size([90450, 20, 3])               |\n",
      "| R_no_outlier       | torch.float64      | torch.Size([90450, 20, 3])               |\n",
      "| Z_no_outlier       | torch.int64        | torch.Size([90450, 20])                  |\n",
      "| Etot_m_BIAS_no_outlier | torch.float64      | torch.Size([90450])                      |\n",
      "| indices            | torch.int64        | torch.Size([90450])                      |\n",
      "| split_indices      | torch.int64        | torch.Size([90450])                      |\n",
      "--------------------------------------------------------------------------------------\n",
      "Arrays for split: test\n",
      "--------------------------------------------------------------------------------------\n",
      "| Name               | dtype              | shape                                    |\n",
      "--------------------------------------------------------------------------------------\n",
      "| Grad_no_outlier    | torch.float64      | torch.Size([6030, 20, 3])                |\n",
      "| R_no_outlier       | torch.float64      | torch.Size([6030, 20, 3])                |\n",
      "| Z_no_outlier       | torch.int64        | torch.Size([6030, 20])                   |\n",
      "| Etot_m_BIAS_no_outlier | torch.float64      | torch.Size([6030])                       |\n",
      "| indices            | torch.int64        | torch.Size([6030])                       |\n",
      "| split_indices      | torch.int64        | torch.Size([6030])                       |\n",
      "--------------------------------------------------------------------------------------\n",
      "Arrays for split: valid\n",
      "--------------------------------------------------------------------------------------\n",
      "| Name               | dtype              | shape                                    |\n",
      "--------------------------------------------------------------------------------------\n",
      "| Grad_no_outlier    | torch.float64      | torch.Size([6030, 20, 3])                |\n",
      "| R_no_outlier       | torch.float64      | torch.Size([6030, 20, 3])                |\n",
      "| Z_no_outlier       | torch.int64        | torch.Size([6030, 20])                   |\n",
      "| Etot_m_BIAS_no_outlier | torch.float64      | torch.Size([6030])                       |\n",
      "| indices            | torch.int64        | torch.Size([6030])                       |\n",
      "| split_indices      | torch.int64        | torch.Size([6030])                       |\n",
      "--------------------------------------------------------------------------------------\n",
      "Arrays for split: train\n",
      "--------------------------------------------------------------------------------------\n",
      "| Name               | dtype              | shape                                    |\n",
      "--------------------------------------------------------------------------------------\n",
      "| Grad_no_outlier    | torch.float64      | torch.Size([48240, 20, 3])               |\n",
      "| R_no_outlier       | torch.float64      | torch.Size([48240, 20, 3])               |\n",
      "| Z_no_outlier       | torch.int64        | torch.Size([48240, 20])                  |\n",
      "| Etot_m_BIAS_no_outlier | torch.float64      | torch.Size([48240])                      |\n",
      "| indices            | torch.int64        | torch.Size([48240])                      |\n",
      "| split_indices      | torch.int64        | torch.Size([48240])                      |\n",
      "--------------------------------------------------------------------------------------\n",
      "SetupParams(device='cuda', controller=<hippynn.experiment.controllers.PatienceController object at 0x7f546d494ac0>, stopping_key=None, optimizer=<class 'torch.optim.adam.Adam'>, learning_rate=None, scheduler=None, batch_size=None, eval_batch_size=None, max_epochs=None, fraction_train_eval=0.1)\n",
      "Using device:  cuda\n",
      "Beginning training.\n",
      "Model:\n",
      "Inputs:\n",
      "\t I0 : LossTrueNode('Species(db_name='Z_no_outlier')-true')<0x7f54520fafa0>\n",
      "\t I1 : SpeciesNode('Species(db_name='Z_no_outlier')')<0x7f546d54e640>\n",
      "\t I2 : LossTrueNode('SEQM_Energy.mol_energy-true')<0x7f546d5821c0>\n",
      "\t I3 : PositionsNode('Positions(db_name='R_no_outlier')')<0x7f546d54e670>\n",
      "Outputs:\n",
      "\t O0 : SEQM_MaskOnMolNode('SEQM_MaskMol_Pred')<0x7f546d582220>\n",
      "\t O1 : SEQM_MaskOnMolAtomNode('SEQM_MaskMolAtom_Pred')<0x7f546d582100>\n",
      "\t O2 : AtomMaskNode('Atom_Mask')<0x7f546d582520>\n",
      "\t O3 : SEQM_MaskOnMolNode('SEQM_PerAtom_Pred')<0x7f54520fff70>\n",
      "\t O4 : ScaleNode('Scale')<0x7f546d54e940>\n",
      "\t O5 : IndexNode('SEQM_Atom_Params.atom_charges')<0x7f546d531730>\n",
      "\t O6 : _LPReg('L^P_Reg(HIPNN_seqm,p=2)')<0x7f546d578730>\n",
      "\t O7 : SEQM_MolMaskNode('SEQM_MolMask')<0x7f546d582970>\n",
      "\t O8 : PerAtom('PeratomTrue')<0x7f54520fafd0>\n",
      "Order:\n",
      "I2-------------------> H0  : Atleast2D(LossTrueNode('SEQM_Energy.mol_energy-true')<0x7f546d5821c0>)\n",
      "I1-------------------> H1  : OneHot\n",
      "H1-------------------> H2  : OneHot.nonblank\n",
      "H1-------------------> H3  : OneHot.encoding\n",
      "I1-------------------> O2  : Atom_Mask\n",
      "H3,H2----------------> H5  : PaddingIndexer\n",
      "H5-------------------> H6  : PaddingIndexer.indexed_features\n",
      "H5-------------------> H7  : PaddingIndexer.mol_index\n",
      "H5-------------------> H8  : PaddingIndexer.inv_real_atoms\n",
      "H5-------------------> H9  : PaddingIndexer.atom_index\n",
      "H5-------------------> H10 : PaddingIndexer.n_atoms_max\n",
      "H5-------------------> H11 : PaddingIndexer.n_molecules\n",
      "H0,I0----------------> O8  : PeratomTrue\n",
      "H5-------------------> H13 : PaddingIndexer.real_atoms\n",
      "H13,H8,H2,I3---------> H14 : PairIndexer\n",
      "H14------------------> H15 : PairIndexer.pair_coord\n",
      "H14------------------> H16 : PairIndexer.pair_second\n",
      "H14------------------> H17 : PairIndexer.pair_first\n",
      "H14------------------> H18 : PairIndexer.pair_dist\n",
      "H6,H16,H17,H18-------> H19 : HIPNN_seqm\n",
      "H19------------------> H20 : SEQM_Atom_Params\n",
      "H20------------------> H21 : SEQM_Atom_Params.partial_sums\n",
      "H20------------------> H22 : SEQM_Atom_Params.charge_hierarchality\n",
      "H20------------------> O5  : SEQM_Atom_Params.atom_charges\n",
      "I1,O5,I3-------------> H24 : SEQM_Energy\n",
      "H24------------------> H25 : SEQM_Energy.single_particle_density_matrix\n",
      "H24------------------> H26 : SEQM_Energy.electric_energy\n",
      "H24------------------> H27 : SEQM_Energy.mol_energy\n",
      "H27,I3---------------> H28 : gradients\n",
      "H24------------------> H29 : SEQM_Energy.Etot_m_Eiso\n",
      "H24------------------> H30 : SEQM_Energy.orbital_energies\n",
      "H24------------------> H31 : SEQM_Energy.atomic_charge\n",
      "H24------------------> H32 : SEQM_Energy.notconverged\n",
      "H32------------------> O4  : Scale\n",
      "H32------------------> O7  : SEQM_MolMask\n",
      "O7,O2,H28------------> O1  : SEQM_MaskMolAtom_Pred\n",
      "H27,O7---------------> O0  : SEQM_MaskMol_Pred\n",
      "H24------------------> H37 : SEQM_Energy.orbital_charges\n",
      "H24------------------> H38 : SEQM_Energy.nuclear_energy\n",
      "H19------------------> O6  : L^P_Reg(HIPNN_seqm,p=2)\n",
      "I1,H27---------------> H40 : PeratomPredicted\n",
      "O7,H40---------------> O3  : SEQM_PerAtom_Pred\n",
      "H24------------------> H42 : SEQM_Energy.isolated_atom_energy\n",
      "Model Params:\n",
      "cuda:0 Fixed torch.int64 torch.Size([9]) moddict.node1.species_map\n",
      "cuda:0 Learned torch.float64 torch.Size([20, 60, 4]) moddict.node19.blocks.0.0.base_layer.int_weights\n",
      "cuda:0 Learned torch.float64 torch.Size([1, 20]) moddict.node19.blocks.0.0.base_layer.sensitivity.mu\n",
      "cuda:0 Learned torch.float64 torch.Size([1, 20]) moddict.node19.blocks.0.0.base_layer.sensitivity.sigma\n",
      "cuda:0 Learned torch.float64 torch.Size([60, 4]) moddict.node19.blocks.0.0.base_layer.selfint.weight\n",
      "cuda:0 Learned torch.float64 torch.Size([60]) moddict.node19.blocks.0.0.base_layer.selfint.bias\n",
      "cuda:0 Learned torch.float64 torch.Size([60, 60]) moddict.node19.blocks.0.0.res_layer.weight\n",
      "cuda:0 Learned torch.float64 torch.Size([60]) moddict.node19.blocks.0.0.res_layer.bias\n",
      "cuda:0 Learned torch.float64 torch.Size([60, 4]) moddict.node19.blocks.0.0.adjust_layer.weight\n",
      "cuda:0 Learned torch.float64 torch.Size([60, 60]) moddict.node19.blocks.0.1.base_layer.weight\n",
      "cuda:0 Learned torch.float64 torch.Size([60]) moddict.node19.blocks.0.1.base_layer.bias\n",
      "cuda:0 Learned torch.float64 torch.Size([60, 60]) moddict.node19.blocks.0.1.res_layer.weight\n",
      "cuda:0 Learned torch.float64 torch.Size([60]) moddict.node19.blocks.0.1.res_layer.bias\n",
      "cuda:0 Learned torch.float64 torch.Size([60, 60]) moddict.node19.blocks.0.2.base_layer.weight\n",
      "cuda:0 Learned torch.float64 torch.Size([60]) moddict.node19.blocks.0.2.base_layer.bias\n",
      "cuda:0 Learned torch.float64 torch.Size([60, 60]) moddict.node19.blocks.0.2.res_layer.weight\n",
      "cuda:0 Learned torch.float64 torch.Size([60]) moddict.node19.blocks.0.2.res_layer.bias\n",
      "cuda:0 Learned torch.float64 torch.Size([60, 60]) moddict.node19.blocks.0.3.base_layer.weight\n",
      "cuda:0 Learned torch.float64 torch.Size([60]) moddict.node19.blocks.0.3.base_layer.bias\n",
      "cuda:0 Learned torch.float64 torch.Size([60, 60]) moddict.node19.blocks.0.3.res_layer.weight\n",
      "cuda:0 Learned torch.float64 torch.Size([60]) moddict.node19.blocks.0.3.res_layer.bias\n",
      "cuda:0 Learned torch.float64 torch.Size([20, 60, 60]) moddict.node19.blocks.1.0.base_layer.int_weights\n",
      "cuda:0 Learned torch.float64 torch.Size([1, 20]) moddict.node19.blocks.1.0.base_layer.sensitivity.mu\n",
      "cuda:0 Learned torch.float64 torch.Size([1, 20]) moddict.node19.blocks.1.0.base_layer.sensitivity.sigma\n",
      "cuda:0 Learned torch.float64 torch.Size([60, 60]) moddict.node19.blocks.1.0.base_layer.selfint.weight\n",
      "cuda:0 Learned torch.float64 torch.Size([60]) moddict.node19.blocks.1.0.base_layer.selfint.bias\n",
      "cuda:0 Learned torch.float64 torch.Size([60, 60]) moddict.node19.blocks.1.0.res_layer.weight\n",
      "cuda:0 Learned torch.float64 torch.Size([60]) moddict.node19.blocks.1.0.res_layer.bias\n",
      "cuda:0 Learned torch.float64 torch.Size([60, 60]) moddict.node19.blocks.1.1.base_layer.weight\n",
      "cuda:0 Learned torch.float64 torch.Size([60]) moddict.node19.blocks.1.1.base_layer.bias\n",
      "cuda:0 Learned torch.float64 torch.Size([60, 60]) moddict.node19.blocks.1.1.res_layer.weight\n",
      "cuda:0 Learned torch.float64 torch.Size([60]) moddict.node19.blocks.1.1.res_layer.bias\n",
      "cuda:0 Learned torch.float64 torch.Size([60, 60]) moddict.node19.blocks.1.2.base_layer.weight\n",
      "cuda:0 Learned torch.float64 torch.Size([60]) moddict.node19.blocks.1.2.base_layer.bias\n",
      "cuda:0 Learned torch.float64 torch.Size([60, 60]) moddict.node19.blocks.1.2.res_layer.weight\n",
      "cuda:0 Learned torch.float64 torch.Size([60]) moddict.node19.blocks.1.2.res_layer.bias\n",
      "cuda:0 Learned torch.float64 torch.Size([60, 60]) moddict.node19.blocks.1.3.base_layer.weight\n",
      "cuda:0 Learned torch.float64 torch.Size([60]) moddict.node19.blocks.1.3.base_layer.bias\n",
      "cuda:0 Learned torch.float64 torch.Size([60, 60]) moddict.node19.blocks.1.3.res_layer.weight\n",
      "cuda:0 Learned torch.float64 torch.Size([60]) moddict.node19.blocks.1.3.res_layer.bias\n",
      "cuda:0 Learned torch.float64 torch.Size([9, 4]) moddict.node20.layers.0.weight\n",
      "cuda:0 Learned torch.float64 torch.Size([9]) moddict.node20.layers.0.bias\n",
      "cuda:0 Learned torch.float64 torch.Size([9, 60]) moddict.node20.layers.1.weight\n",
      "cuda:0 Learned torch.float64 torch.Size([9]) moddict.node20.layers.1.bias\n",
      "cuda:0 Learned torch.float64 torch.Size([9, 60]) moddict.node20.layers.2.weight\n",
      "cuda:0 Learned torch.float64 torch.Size([9]) moddict.node20.layers.2.bias\n",
      "cuda:0 Fixed torch.float64 torch.Size([9, 9]) moddict.node24.p\n",
      "cuda:0 Fixed torch.float64 torch.Size([9]) moddict.node24.weight\n",
      "cuda:0 Fixed torch.float64 torch.Size([9, 21]) moddict.node24.energy.packpar.p\n",
      "cuda:0 Fixed torch.float64 torch.Size([9, 9]) moddict.node24.energy.packpar.alpha\n",
      "cuda:0 Fixed torch.float64 torch.Size([9, 9]) moddict.node24.energy.packpar.chi\n",
      "cuda:0 Fixed torch.float64 torch.Size([]) moddict.node24.energy.hamiltonian.eps\n",
      "cuda:0 Fixed torch.float64 torch.Size([]) moddict.node24.energy.hamiltonian.scf_backward_eps\n",
      "cuda:0 Fixed torch.float64 torch.Size([73]) moddict.node24.const.atomic_num\n",
      "cuda:0 Fixed torch.float64 torch.Size([73]) moddict.node24.const.tore\n",
      "cuda:0 Fixed torch.float64 torch.Size([73]) moddict.node24.const.iso\n",
      "cuda:0 Fixed torch.float64 torch.Size([73]) moddict.node24.const.qn\n",
      "cuda:0 Fixed torch.int64 torch.Size([73]) moddict.node24.const.qn_int\n",
      "cuda:0 Fixed torch.int64 torch.Size([73]) moddict.node24.const.qnD_int\n",
      "cuda:0 Fixed torch.float64 torch.Size([73]) moddict.node24.const.ussc\n",
      "cuda:0 Fixed torch.float64 torch.Size([73]) moddict.node24.const.uppc\n",
      "cuda:0 Fixed torch.float64 torch.Size([73]) moddict.node24.const.gssc\n",
      "cuda:0 Fixed torch.float64 torch.Size([73]) moddict.node24.const.gspc\n",
      "cuda:0 Fixed torch.float64 torch.Size([73]) moddict.node24.const.hspc\n",
      "cuda:0 Fixed torch.float64 torch.Size([73]) moddict.node24.const.gp2c\n",
      "cuda:0 Fixed torch.float64 torch.Size([73]) moddict.node24.const.gppc\n",
      "cuda:0 Fixed torch.float64 torch.Size([73]) moddict.node24.const.eheat\n",
      "cuda:0 Fixed torch.float64 torch.Size([73]) moddict.node24.const.mass\n",
      "Total Count: 135010\n",
      "At least 20 epochs will be run\n",
      "__________________________________________________\n",
      "Epoch 0:\n",
      "Learning rate:     1e-05\n"
     ]
    },
    {
     "name": "stderr",
     "output_type": "stream",
     "text": [
      "Training Batches:   0%|          | 0/652 [00:00<?, ?batch/s]"
     ]
    },
    {
     "name": "stdout",
     "output_type": "stream",
     "text": [
      "hipnn_automatic_doublet flag is True. Molecules with odd number of electrons are treated as doublets.\n",
      "\n"
     ]
    },
    {
     "name": "stderr",
     "output_type": "stream",
     "text": [
      "/home/maxim/Projects/git2/PYSEQM_dev/seqm/seqm_functions/make_dm_guess.py:291: UserWarning: The use of `x.T` on tensors of dimension other than 2 to reverse their shape is deprecated and it will throw an error in a future release. Consider `x.mT` to transpose batches of matrices or `x.permute(*torch.arange(x.ndim - 1, -1, -1))` to reverse the dimensions of a tensor. (Triggered internally at /opt/conda/conda-bld/pytorch_1670525551200/work/aten/src/ATen/native/TensorShape.cpp:3277.)\n",
      "  v_lumo = v[:,0].gather(2, molecule.nocc[:,0].unsqueeze(0).unsqueeze(0).T.repeat(1,v.shape[-1],1))\n"
     ]
    },
    {
     "name": "stdout",
     "output_type": "stream",
     "text": [
      "hipnn_automatic_doublet flag is True. Molecules with odd number of electrons are treated as doublets.\n",
      "\n"
     ]
    },
    {
     "name": "stderr",
     "output_type": "stream",
     "text": [
      "Training Batches:   0%|          | 1/652 [00:27<4:57:38, 27.43s/batch]"
     ]
    },
    {
     "name": "stdout",
     "output_type": "stream",
     "text": [
      "hipnn_automatic_doublet flag is True. Molecules with odd number of electrons are treated as doublets.\n",
      "\n",
      "hipnn_automatic_doublet flag is True. Molecules with odd number of electrons are treated as doublets.\n",
      "\n"
     ]
    },
    {
     "name": "stderr",
     "output_type": "stream",
     "text": [
      "Training Batches:   0%|          | 2/652 [00:51<4:37:30, 25.62s/batch]"
     ]
    },
    {
     "name": "stdout",
     "output_type": "stream",
     "text": [
      "hipnn_automatic_doublet flag is True. Molecules with odd number of electrons are treated as doublets.\n",
      "\n",
      "hipnn_automatic_doublet flag is True. Molecules with odd number of electrons are treated as doublets.\n",
      "\n"
     ]
    },
    {
     "name": "stderr",
     "output_type": "stream",
     "text": [
      "Training Batches:   0%|          | 3/652 [01:15<4:29:52, 24.95s/batch]"
     ]
    },
    {
     "name": "stdout",
     "output_type": "stream",
     "text": [
      "hipnn_automatic_doublet flag is True. Molecules with odd number of electrons are treated as doublets.\n",
      "\n",
      "hipnn_automatic_doublet flag is True. Molecules with odd number of electrons are treated as doublets.\n",
      "\n"
     ]
    },
    {
     "name": "stderr",
     "output_type": "stream",
     "text": [
      "Training Batches:   1%|          | 4/652 [01:39<4:23:16, 24.38s/batch]"
     ]
    },
    {
     "name": "stdout",
     "output_type": "stream",
     "text": [
      "hipnn_automatic_doublet flag is True. Molecules with odd number of electrons are treated as doublets.\n",
      "\n",
      "hipnn_automatic_doublet flag is True. Molecules with odd number of electrons are treated as doublets.\n",
      "\n",
      "did not converge 1\n"
     ]
    },
    {
     "name": "stderr",
     "output_type": "stream",
     "text": [
      "/home/maxim/Projects/git2/PYSEQM_dev/seqm/seqm_functions/scf_loop.py:1376: UserWarning: SCF for 1/74 molecules doesn't converge after 90 iterations\n",
      "  warnings.warn(\"SCF for %d/%d molecules doesn't converge after %d iterations\" % (nnot, nmol, MAX_ITER))\n",
      "Training Batches:   1%|          | 5/652 [02:04<4:25:52, 24.66s/batch]"
     ]
    },
    {
     "name": "stdout",
     "output_type": "stream",
     "text": [
      "hipnn_automatic_doublet flag is True. Molecules with odd number of electrons are treated as doublets.\n",
      "\n",
      "hipnn_automatic_doublet flag is True. Molecules with odd number of electrons are treated as doublets.\n",
      "\n"
     ]
    },
    {
     "name": "stderr",
     "output_type": "stream",
     "text": [
      "Training Batches:   1%|          | 6/652 [02:28<4:23:08, 24.44s/batch]"
     ]
    },
    {
     "name": "stdout",
     "output_type": "stream",
     "text": [
      "hipnn_automatic_doublet flag is True. Molecules with odd number of electrons are treated as doublets.\n",
      "\n",
      "hipnn_automatic_doublet flag is True. Molecules with odd number of electrons are treated as doublets.\n",
      "\n"
     ]
    },
    {
     "name": "stderr",
     "output_type": "stream",
     "text": [
      "Training Batches:   1%|          | 7/652 [02:51<4:17:33, 23.96s/batch]"
     ]
    },
    {
     "name": "stdout",
     "output_type": "stream",
     "text": [
      "hipnn_automatic_doublet flag is True. Molecules with odd number of electrons are treated as doublets.\n",
      "\n",
      "hipnn_automatic_doublet flag is True. Molecules with odd number of electrons are treated as doublets.\n",
      "\n"
     ]
    },
    {
     "name": "stderr",
     "output_type": "stream",
     "text": [
      "Training Batches:   1%|          | 8/652 [03:17<4:24:52, 24.68s/batch]"
     ]
    },
    {
     "name": "stdout",
     "output_type": "stream",
     "text": [
      "hipnn_automatic_doublet flag is True. Molecules with odd number of electrons are treated as doublets.\n",
      "\n",
      "hipnn_automatic_doublet flag is True. Molecules with odd number of electrons are treated as doublets.\n",
      "\n"
     ]
    },
    {
     "name": "stderr",
     "output_type": "stream",
     "text": [
      "Training Batches:   1%|▏         | 9/652 [03:41<4:20:38, 24.32s/batch]"
     ]
    },
    {
     "name": "stdout",
     "output_type": "stream",
     "text": [
      "hipnn_automatic_doublet flag is True. Molecules with odd number of electrons are treated as doublets.\n",
      "\n",
      "hipnn_automatic_doublet flag is True. Molecules with odd number of electrons are treated as doublets.\n",
      "\n"
     ]
    },
    {
     "name": "stderr",
     "output_type": "stream",
     "text": [
      "Training Batches:   2%|▏         | 10/652 [04:04<4:15:47, 23.91s/batch]"
     ]
    },
    {
     "name": "stdout",
     "output_type": "stream",
     "text": [
      "hipnn_automatic_doublet flag is True. Molecules with odd number of electrons are treated as doublets.\n",
      "\n",
      "hipnn_automatic_doublet flag is True. Molecules with odd number of electrons are treated as doublets.\n",
      "\n",
      "did not converge 1\n"
     ]
    },
    {
     "name": "stderr",
     "output_type": "stream",
     "text": [
      "Training Batches:   2%|▏         | 11/652 [04:28<4:16:47, 24.04s/batch]"
     ]
    },
    {
     "name": "stdout",
     "output_type": "stream",
     "text": [
      "did not converge 1\n"
     ]
    },
    {
     "name": "stderr",
     "output_type": "stream",
     "text": [
      "Training Batches:   2%|▏         | 12/652 [04:53<4:19:29, 24.33s/batch]"
     ]
    },
    {
     "name": "stdout",
     "output_type": "stream",
     "text": [
      "hipnn_automatic_doublet flag is True. Molecules with odd number of electrons are treated as doublets.\n",
      "\n",
      "hipnn_automatic_doublet flag is True. Molecules with odd number of electrons are treated as doublets.\n",
      "\n"
     ]
    },
    {
     "name": "stderr",
     "output_type": "stream",
     "text": [
      "Training Batches:   2%|▏         | 13/652 [05:16<4:13:41, 23.82s/batch]"
     ]
    },
    {
     "name": "stdout",
     "output_type": "stream",
     "text": [
      "hipnn_automatic_doublet flag is True. Molecules with odd number of electrons are treated as doublets.\n",
      "\n",
      "hipnn_automatic_doublet flag is True. Molecules with odd number of electrons are treated as doublets.\n",
      "\n"
     ]
    },
    {
     "name": "stderr",
     "output_type": "stream",
     "text": [
      "Training Batches:   2%|▏         | 14/652 [05:38<4:09:43, 23.49s/batch]"
     ]
    },
    {
     "name": "stdout",
     "output_type": "stream",
     "text": [
      "hipnn_automatic_doublet flag is True. Molecules with odd number of electrons are treated as doublets.\n",
      "\n",
      "hipnn_automatic_doublet flag is True. Molecules with odd number of electrons are treated as doublets.\n",
      "\n",
      "did not converge 1\n"
     ]
    },
    {
     "name": "stderr",
     "output_type": "stream",
     "text": [
      "Training Batches:   2%|▏         | 15/652 [06:04<4:16:17, 24.14s/batch]"
     ]
    },
    {
     "name": "stdout",
     "output_type": "stream",
     "text": [
      "hipnn_automatic_doublet flag is True. Molecules with odd number of electrons are treated as doublets.\n",
      "\n",
      "hipnn_automatic_doublet flag is True. Molecules with odd number of electrons are treated as doublets.\n",
      "\n"
     ]
    },
    {
     "name": "stderr",
     "output_type": "stream",
     "text": [
      "Training Batches:   2%|▏         | 16/652 [06:29<4:18:24, 24.38s/batch]"
     ]
    },
    {
     "name": "stdout",
     "output_type": "stream",
     "text": [
      "hipnn_automatic_doublet flag is True. Molecules with odd number of electrons are treated as doublets.\n",
      "\n",
      "hipnn_automatic_doublet flag is True. Molecules with odd number of electrons are treated as doublets.\n",
      "\n"
     ]
    },
    {
     "name": "stderr",
     "output_type": "stream",
     "text": [
      "Training Batches:   3%|▎         | 17/652 [06:56<4:25:02, 25.04s/batch]"
     ]
    },
    {
     "name": "stdout",
     "output_type": "stream",
     "text": [
      "hipnn_automatic_doublet flag is True. Molecules with odd number of electrons are treated as doublets.\n",
      "\n",
      "hipnn_automatic_doublet flag is True. Molecules with odd number of electrons are treated as doublets.\n",
      "\n"
     ]
    },
    {
     "name": "stderr",
     "output_type": "stream",
     "text": [
      "Training Batches:   3%|▎         | 18/652 [07:21<4:24:19, 25.02s/batch]"
     ]
    },
    {
     "name": "stdout",
     "output_type": "stream",
     "text": [
      "hipnn_automatic_doublet flag is True. Molecules with odd number of electrons are treated as doublets.\n",
      "\n",
      "hipnn_automatic_doublet flag is True. Molecules with odd number of electrons are treated as doublets.\n",
      "\n",
      "did not converge 2\n"
     ]
    },
    {
     "name": "stderr",
     "output_type": "stream",
     "text": [
      "/home/maxim/Projects/git2/PYSEQM_dev/seqm/seqm_functions/scf_loop.py:1376: UserWarning: SCF for 2/74 molecules doesn't converge after 90 iterations\n",
      "  warnings.warn(\"SCF for %d/%d molecules doesn't converge after %d iterations\" % (nnot, nmol, MAX_ITER))\n",
      "Training Batches:   3%|▎         | 19/652 [07:45<4:23:01, 24.93s/batch]"
     ]
    },
    {
     "name": "stdout",
     "output_type": "stream",
     "text": [
      "hipnn_automatic_doublet flag is True. Molecules with odd number of electrons are treated as doublets.\n",
      "\n",
      "hipnn_automatic_doublet flag is True. Molecules with odd number of electrons are treated as doublets.\n",
      "\n"
     ]
    },
    {
     "name": "stderr",
     "output_type": "stream",
     "text": [
      "Training Batches:   3%|▎         | 20/652 [08:09<4:18:50, 24.57s/batch]"
     ]
    },
    {
     "name": "stdout",
     "output_type": "stream",
     "text": [
      "hipnn_automatic_doublet flag is True. Molecules with odd number of electrons are treated as doublets.\n",
      "\n",
      "hipnn_automatic_doublet flag is True. Molecules with odd number of electrons are treated as doublets.\n",
      "\n"
     ]
    },
    {
     "name": "stderr",
     "output_type": "stream",
     "text": [
      "Training Batches:   3%|▎         | 21/652 [08:32<4:13:15, 24.08s/batch]"
     ]
    },
    {
     "name": "stdout",
     "output_type": "stream",
     "text": [
      "hipnn_automatic_doublet flag is True. Molecules with odd number of electrons are treated as doublets.\n",
      "\n",
      "hipnn_automatic_doublet flag is True. Molecules with odd number of electrons are treated as doublets.\n",
      "\n"
     ]
    },
    {
     "name": "stderr",
     "output_type": "stream",
     "text": [
      "Training Batches:   3%|▎         | 22/652 [08:54<4:07:10, 23.54s/batch]"
     ]
    },
    {
     "name": "stdout",
     "output_type": "stream",
     "text": [
      "hipnn_automatic_doublet flag is True. Molecules with odd number of electrons are treated as doublets.\n",
      "\n",
      "hipnn_automatic_doublet flag is True. Molecules with odd number of electrons are treated as doublets.\n",
      "\n"
     ]
    },
    {
     "name": "stderr",
     "output_type": "stream",
     "text": [
      "Training Batches:   4%|▍         | 25/652 [10:04<4:03:01, 23.26s/batch]"
     ]
    },
    {
     "name": "stdout",
     "output_type": "stream",
     "text": [
      "hipnn_automatic_doublet flag is True. Molecules with odd number of electrons are treated as doublets.\n",
      "\n",
      "hipnn_automatic_doublet flag is True. Molecules with odd number of electrons are treated as doublets.\n",
      "\n",
      "did not converge 2\n"
     ]
    },
    {
     "name": "stderr",
     "output_type": "stream",
     "text": [
      "Training Batches:   4%|▍         | 26/652 [10:31<4:13:35, 24.31s/batch]"
     ]
    },
    {
     "name": "stdout",
     "output_type": "stream",
     "text": [
      "hipnn_automatic_doublet flag is True. Molecules with odd number of electrons are treated as doublets.\n",
      "\n",
      "hipnn_automatic_doublet flag is True. Molecules with odd number of electrons are treated as doublets.\n",
      "\n"
     ]
    },
    {
     "name": "stderr",
     "output_type": "stream",
     "text": [
      "Training Batches:   4%|▍         | 27/652 [10:55<4:14:01, 24.39s/batch]"
     ]
    },
    {
     "name": "stdout",
     "output_type": "stream",
     "text": [
      "hipnn_automatic_doublet flag is True. Molecules with odd number of electrons are treated as doublets.\n",
      "\n",
      "hipnn_automatic_doublet flag is True. Molecules with odd number of electrons are treated as doublets.\n",
      "\n"
     ]
    },
    {
     "name": "stderr",
     "output_type": "stream",
     "text": [
      "Training Batches:   4%|▍         | 28/652 [11:19<4:12:08, 24.24s/batch]"
     ]
    },
    {
     "name": "stdout",
     "output_type": "stream",
     "text": [
      "hipnn_automatic_doublet flag is True. Molecules with odd number of electrons are treated as doublets.\n",
      "\n",
      "hipnn_automatic_doublet flag is True. Molecules with odd number of electrons are treated as doublets.\n",
      "\n"
     ]
    },
    {
     "name": "stderr",
     "output_type": "stream",
     "text": [
      "Training Batches:   4%|▍         | 29/652 [11:42<4:08:01, 23.89s/batch]"
     ]
    },
    {
     "name": "stdout",
     "output_type": "stream",
     "text": [
      "hipnn_automatic_doublet flag is True. Molecules with odd number of electrons are treated as doublets.\n",
      "\n",
      "hipnn_automatic_doublet flag is True. Molecules with odd number of electrons are treated as doublets.\n",
      "\n"
     ]
    },
    {
     "name": "stderr",
     "output_type": "stream",
     "text": [
      "Training Batches:   5%|▍         | 30/652 [12:06<4:06:42, 23.80s/batch]"
     ]
    },
    {
     "name": "stdout",
     "output_type": "stream",
     "text": [
      "hipnn_automatic_doublet flag is True. Molecules with odd number of electrons are treated as doublets.\n",
      "\n",
      "hipnn_automatic_doublet flag is True. Molecules with odd number of electrons are treated as doublets.\n",
      "\n"
     ]
    },
    {
     "name": "stderr",
     "output_type": "stream",
     "text": [
      "Training Batches:   5%|▍         | 31/652 [12:28<4:01:48, 23.36s/batch]"
     ]
    },
    {
     "name": "stdout",
     "output_type": "stream",
     "text": [
      "hipnn_automatic_doublet flag is True. Molecules with odd number of electrons are treated as doublets.\n",
      "\n",
      "hipnn_automatic_doublet flag is True. Molecules with odd number of electrons are treated as doublets.\n",
      "\n"
     ]
    },
    {
     "name": "stderr",
     "output_type": "stream",
     "text": [
      "Training Batches:   5%|▍         | 32/652 [12:53<4:06:20, 23.84s/batch]"
     ]
    },
    {
     "name": "stdout",
     "output_type": "stream",
     "text": [
      "hipnn_automatic_doublet flag is True. Molecules with odd number of electrons are treated as doublets.\n",
      "\n",
      "hipnn_automatic_doublet flag is True. Molecules with odd number of electrons are treated as doublets.\n",
      "\n",
      "did not converge 1\n"
     ]
    },
    {
     "name": "stderr",
     "output_type": "stream",
     "text": [
      "Training Batches:   5%|▌         | 33/652 [13:18<4:09:56, 24.23s/batch]"
     ]
    },
    {
     "name": "stdout",
     "output_type": "stream",
     "text": [
      "hipnn_automatic_doublet flag is True. Molecules with odd number of electrons are treated as doublets.\n",
      "\n",
      "hipnn_automatic_doublet flag is True. Molecules with odd number of electrons are treated as doublets.\n",
      "\n"
     ]
    },
    {
     "name": "stderr",
     "output_type": "stream",
     "text": [
      "Training Batches:   5%|▌         | 34/652 [13:43<4:11:02, 24.37s/batch]"
     ]
    },
    {
     "name": "stdout",
     "output_type": "stream",
     "text": [
      "hipnn_automatic_doublet flag is True. Molecules with odd number of electrons are treated as doublets.\n",
      "\n",
      "hipnn_automatic_doublet flag is True. Molecules with odd number of electrons are treated as doublets.\n",
      "\n",
      "did not converge 1\n"
     ]
    },
    {
     "name": "stderr",
     "output_type": "stream",
     "text": [
      "Training Batches:   5%|▌         | 35/652 [14:08<4:13:42, 24.67s/batch]"
     ]
    },
    {
     "name": "stdout",
     "output_type": "stream",
     "text": [
      "hipnn_automatic_doublet flag is True. Molecules with odd number of electrons are treated as doublets.\n",
      "\n",
      "hipnn_automatic_doublet flag is True. Molecules with odd number of electrons are treated as doublets.\n",
      "\n",
      "did not converge 3\n"
     ]
    },
    {
     "name": "stderr",
     "output_type": "stream",
     "text": [
      "/home/maxim/Projects/git2/PYSEQM_dev/seqm/seqm_functions/scf_loop.py:1376: UserWarning: SCF for 3/74 molecules doesn't converge after 90 iterations\n",
      "  warnings.warn(\"SCF for %d/%d molecules doesn't converge after %d iterations\" % (nnot, nmol, MAX_ITER))\n",
      "Training Batches:   6%|▌         | 36/652 [14:36<4:23:09, 25.63s/batch]"
     ]
    },
    {
     "name": "stdout",
     "output_type": "stream",
     "text": [
      "hipnn_automatic_doublet flag is True. Molecules with odd number of electrons are treated as doublets.\n",
      "\n",
      "hipnn_automatic_doublet flag is True. Molecules with odd number of electrons are treated as doublets.\n",
      "\n"
     ]
    },
    {
     "name": "stderr",
     "output_type": "stream",
     "text": [
      "Training Batches:   6%|▌         | 37/652 [15:01<4:20:26, 25.41s/batch]"
     ]
    },
    {
     "name": "stdout",
     "output_type": "stream",
     "text": [
      "hipnn_automatic_doublet flag is True. Molecules with odd number of electrons are treated as doublets.\n",
      "\n",
      "hipnn_automatic_doublet flag is True. Molecules with odd number of electrons are treated as doublets.\n",
      "\n"
     ]
    },
    {
     "name": "stderr",
     "output_type": "stream",
     "text": [
      "Training Batches:   6%|▌         | 38/652 [15:26<4:17:14, 25.14s/batch]"
     ]
    },
    {
     "name": "stdout",
     "output_type": "stream",
     "text": [
      "hipnn_automatic_doublet flag is True. Molecules with odd number of electrons are treated as doublets.\n",
      "\n",
      "hipnn_automatic_doublet flag is True. Molecules with odd number of electrons are treated as doublets.\n",
      "\n"
     ]
    },
    {
     "name": "stderr",
     "output_type": "stream",
     "text": [
      "Training Batches:   6%|▌         | 39/652 [15:48<4:09:50, 24.45s/batch]"
     ]
    },
    {
     "name": "stdout",
     "output_type": "stream",
     "text": [
      "hipnn_automatic_doublet flag is True. Molecules with odd number of electrons are treated as doublets.\n",
      "\n",
      "hipnn_automatic_doublet flag is True. Molecules with odd number of electrons are treated as doublets.\n",
      "\n"
     ]
    },
    {
     "name": "stderr",
     "output_type": "stream",
     "text": [
      "Training Batches:   6%|▌         | 40/652 [16:13<4:08:49, 24.39s/batch]"
     ]
    },
    {
     "name": "stdout",
     "output_type": "stream",
     "text": [
      "hipnn_automatic_doublet flag is True. Molecules with odd number of electrons are treated as doublets.\n",
      "\n",
      "hipnn_automatic_doublet flag is True. Molecules with odd number of electrons are treated as doublets.\n",
      "\n",
      "did not converge 1\n"
     ]
    },
    {
     "name": "stderr",
     "output_type": "stream",
     "text": [
      "Training Batches:   6%|▋         | 41/652 [16:38<4:10:24, 24.59s/batch]"
     ]
    },
    {
     "name": "stdout",
     "output_type": "stream",
     "text": [
      "hipnn_automatic_doublet flag is True. Molecules with odd number of electrons are treated as doublets.\n",
      "\n",
      "hipnn_automatic_doublet flag is True. Molecules with odd number of electrons are treated as doublets.\n",
      "\n"
     ]
    },
    {
     "name": "stderr",
     "output_type": "stream",
     "text": [
      "Training Batches:   6%|▋         | 42/652 [17:00<4:03:25, 23.94s/batch]"
     ]
    },
    {
     "name": "stdout",
     "output_type": "stream",
     "text": [
      "hipnn_automatic_doublet flag is True. Molecules with odd number of electrons are treated as doublets.\n",
      "\n",
      "hipnn_automatic_doublet flag is True. Molecules with odd number of electrons are treated as doublets.\n",
      "\n"
     ]
    },
    {
     "name": "stderr",
     "output_type": "stream",
     "text": [
      "Training Batches:   7%|▋         | 43/652 [17:25<4:04:27, 24.08s/batch]"
     ]
    },
    {
     "name": "stdout",
     "output_type": "stream",
     "text": [
      "hipnn_automatic_doublet flag is True. Molecules with odd number of electrons are treated as doublets.\n",
      "\n",
      "hipnn_automatic_doublet flag is True. Molecules with odd number of electrons are treated as doublets.\n",
      "\n"
     ]
    },
    {
     "name": "stderr",
     "output_type": "stream",
     "text": [
      "Training Batches:   7%|▋         | 44/652 [17:49<4:05:02, 24.18s/batch]"
     ]
    },
    {
     "name": "stdout",
     "output_type": "stream",
     "text": [
      "hipnn_automatic_doublet flag is True. Molecules with odd number of electrons are treated as doublets.\n",
      "\n",
      "hipnn_automatic_doublet flag is True. Molecules with odd number of electrons are treated as doublets.\n",
      "\n",
      "did not converge 2\n"
     ]
    },
    {
     "name": "stderr",
     "output_type": "stream",
     "text": [
      "Training Batches:   7%|▋         | 45/652 [18:14<4:06:11, 24.33s/batch]"
     ]
    },
    {
     "name": "stdout",
     "output_type": "stream",
     "text": [
      "hipnn_automatic_doublet flag is True. Molecules with odd number of electrons are treated as doublets.\n",
      "\n",
      "hipnn_automatic_doublet flag is True. Molecules with odd number of electrons are treated as doublets.\n",
      "\n"
     ]
    },
    {
     "name": "stderr",
     "output_type": "stream",
     "text": [
      "Training Batches:   7%|▋         | 46/652 [18:38<4:06:52, 24.44s/batch]"
     ]
    },
    {
     "name": "stdout",
     "output_type": "stream",
     "text": [
      "hipnn_automatic_doublet flag is True. Molecules with odd number of electrons are treated as doublets.\n",
      "\n",
      "hipnn_automatic_doublet flag is True. Molecules with odd number of electrons are treated as doublets.\n",
      "\n"
     ]
    },
    {
     "name": "stderr",
     "output_type": "stream",
     "text": [
      "Training Batches:   7%|▋         | 47/652 [19:02<4:03:31, 24.15s/batch]"
     ]
    },
    {
     "name": "stdout",
     "output_type": "stream",
     "text": [
      "hipnn_automatic_doublet flag is True. Molecules with odd number of electrons are treated as doublets.\n",
      "\n",
      "hipnn_automatic_doublet flag is True. Molecules with odd number of electrons are treated as doublets.\n",
      "\n",
      "did not converge 1\n"
     ]
    },
    {
     "name": "stderr",
     "output_type": "stream",
     "text": [
      "Training Batches:   7%|▋         | 48/652 [19:27<4:05:24, 24.38s/batch]"
     ]
    },
    {
     "name": "stdout",
     "output_type": "stream",
     "text": [
      "hipnn_automatic_doublet flag is True. Molecules with odd number of electrons are treated as doublets.\n",
      "\n",
      "hipnn_automatic_doublet flag is True. Molecules with odd number of electrons are treated as doublets.\n",
      "\n"
     ]
    },
    {
     "name": "stderr",
     "output_type": "stream",
     "text": [
      "Training Batches:   8%|▊         | 49/652 [19:52<4:06:58, 24.58s/batch]"
     ]
    },
    {
     "name": "stdout",
     "output_type": "stream",
     "text": [
      "hipnn_automatic_doublet flag is True. Molecules with odd number of electrons are treated as doublets.\n",
      "\n",
      "hipnn_automatic_doublet flag is True. Molecules with odd number of electrons are treated as doublets.\n",
      "\n"
     ]
    },
    {
     "name": "stderr",
     "output_type": "stream",
     "text": [
      "Training Batches:   8%|▊         | 50/652 [20:16<4:04:37, 24.38s/batch]"
     ]
    },
    {
     "name": "stdout",
     "output_type": "stream",
     "text": [
      "hipnn_automatic_doublet flag is True. Molecules with odd number of electrons are treated as doublets.\n",
      "\n",
      "hipnn_automatic_doublet flag is True. Molecules with odd number of electrons are treated as doublets.\n",
      "\n"
     ]
    },
    {
     "name": "stderr",
     "output_type": "stream",
     "text": [
      "Training Batches:   8%|▊         | 51/652 [20:40<4:03:12, 24.28s/batch]"
     ]
    },
    {
     "name": "stdout",
     "output_type": "stream",
     "text": [
      "hipnn_automatic_doublet flag is True. Molecules with odd number of electrons are treated as doublets.\n",
      "\n",
      "hipnn_automatic_doublet flag is True. Molecules with odd number of electrons are treated as doublets.\n",
      "\n",
      "did not converge 1\n"
     ]
    },
    {
     "name": "stderr",
     "output_type": "stream",
     "text": [
      "Training Batches:   8%|▊         | 52/652 [21:06<4:07:52, 24.79s/batch]"
     ]
    },
    {
     "name": "stdout",
     "output_type": "stream",
     "text": [
      "hipnn_automatic_doublet flag is True. Molecules with odd number of electrons are treated as doublets.\n",
      "\n",
      "hipnn_automatic_doublet flag is True. Molecules with odd number of electrons are treated as doublets.\n",
      "\n"
     ]
    },
    {
     "name": "stderr",
     "output_type": "stream",
     "text": [
      "Training Batches:   8%|▊         | 53/652 [21:28<4:01:30, 24.19s/batch]"
     ]
    },
    {
     "name": "stdout",
     "output_type": "stream",
     "text": [
      "hipnn_automatic_doublet flag is True. Molecules with odd number of electrons are treated as doublets.\n",
      "\n",
      "hipnn_automatic_doublet flag is True. Molecules with odd number of electrons are treated as doublets.\n",
      "\n",
      "did not converge 1\n"
     ]
    },
    {
     "name": "stderr",
     "output_type": "stream",
     "text": [
      "Training Batches:   8%|▊         | 54/652 [21:54<4:06:07, 24.69s/batch]"
     ]
    },
    {
     "name": "stdout",
     "output_type": "stream",
     "text": [
      "hipnn_automatic_doublet flag is True. Molecules with odd number of electrons are treated as doublets.\n",
      "\n",
      "hipnn_automatic_doublet flag is True. Molecules with odd number of electrons are treated as doublets.\n",
      "\n"
     ]
    },
    {
     "name": "stderr",
     "output_type": "stream",
     "text": [
      "Training Batches:   8%|▊         | 55/652 [22:17<4:00:39, 24.19s/batch]"
     ]
    },
    {
     "name": "stdout",
     "output_type": "stream",
     "text": [
      "hipnn_automatic_doublet flag is True. Molecules with odd number of electrons are treated as doublets.\n",
      "\n",
      "hipnn_automatic_doublet flag is True. Molecules with odd number of electrons are treated as doublets.\n",
      "\n"
     ]
    },
    {
     "name": "stderr",
     "output_type": "stream",
     "text": [
      "Training Batches:   9%|▊         | 56/652 [22:40<3:54:29, 23.61s/batch]"
     ]
    },
    {
     "name": "stdout",
     "output_type": "stream",
     "text": [
      "hipnn_automatic_doublet flag is True. Molecules with odd number of electrons are treated as doublets.\n",
      "\n",
      "hipnn_automatic_doublet flag is True. Molecules with odd number of electrons are treated as doublets.\n",
      "\n",
      "did not converge 1\n"
     ]
    },
    {
     "name": "stderr",
     "output_type": "stream",
     "text": [
      "Training Batches:   9%|▊         | 57/652 [23:06<4:00:53, 24.29s/batch]"
     ]
    },
    {
     "name": "stdout",
     "output_type": "stream",
     "text": [
      "hipnn_automatic_doublet flag is True. Molecules with odd number of electrons are treated as doublets.\n",
      "\n",
      "hipnn_automatic_doublet flag is True. Molecules with odd number of electrons are treated as doublets.\n",
      "\n"
     ]
    },
    {
     "name": "stderr",
     "output_type": "stream",
     "text": [
      "Training Batches:   9%|▉         | 58/652 [23:29<3:58:20, 24.08s/batch]"
     ]
    },
    {
     "name": "stdout",
     "output_type": "stream",
     "text": [
      "hipnn_automatic_doublet flag is True. Molecules with odd number of electrons are treated as doublets.\n",
      "\n",
      "hipnn_automatic_doublet flag is True. Molecules with odd number of electrons are treated as doublets.\n",
      "\n"
     ]
    },
    {
     "name": "stderr",
     "output_type": "stream",
     "text": [
      "Training Batches:   9%|▉         | 59/652 [23:53<3:56:34, 23.94s/batch]"
     ]
    },
    {
     "name": "stdout",
     "output_type": "stream",
     "text": [
      "hipnn_automatic_doublet flag is True. Molecules with odd number of electrons are treated as doublets.\n",
      "\n",
      "hipnn_automatic_doublet flag is True. Molecules with odd number of electrons are treated as doublets.\n",
      "\n"
     ]
    },
    {
     "name": "stderr",
     "output_type": "stream",
     "text": [
      "Training Batches:   9%|▉         | 60/652 [24:19<4:02:43, 24.60s/batch]"
     ]
    },
    {
     "name": "stdout",
     "output_type": "stream",
     "text": [
      "hipnn_automatic_doublet flag is True. Molecules with odd number of electrons are treated as doublets.\n",
      "\n",
      "hipnn_automatic_doublet flag is True. Molecules with odd number of electrons are treated as doublets.\n",
      "\n"
     ]
    },
    {
     "name": "stderr",
     "output_type": "stream",
     "text": [
      "Training Batches:   9%|▉         | 61/652 [24:43<3:59:50, 24.35s/batch]"
     ]
    },
    {
     "name": "stdout",
     "output_type": "stream",
     "text": [
      "hipnn_automatic_doublet flag is True. Molecules with odd number of electrons are treated as doublets.\n",
      "\n",
      "hipnn_automatic_doublet flag is True. Molecules with odd number of electrons are treated as doublets.\n",
      "\n"
     ]
    },
    {
     "name": "stderr",
     "output_type": "stream",
     "text": [
      "Training Batches:  10%|▉         | 62/652 [25:06<3:55:54, 23.99s/batch]"
     ]
    },
    {
     "name": "stdout",
     "output_type": "stream",
     "text": [
      "hipnn_automatic_doublet flag is True. Molecules with odd number of electrons are treated as doublets.\n",
      "\n",
      "hipnn_automatic_doublet flag is True. Molecules with odd number of electrons are treated as doublets.\n",
      "\n"
     ]
    },
    {
     "name": "stderr",
     "output_type": "stream",
     "text": [
      "Training Batches:  10%|▉         | 63/652 [25:29<3:53:55, 23.83s/batch]"
     ]
    },
    {
     "name": "stdout",
     "output_type": "stream",
     "text": [
      "hipnn_automatic_doublet flag is True. Molecules with odd number of electrons are treated as doublets.\n",
      "\n",
      "hipnn_automatic_doublet flag is True. Molecules with odd number of electrons are treated as doublets.\n",
      "\n"
     ]
    },
    {
     "name": "stderr",
     "output_type": "stream",
     "text": [
      "Training Batches:  10%|▉         | 64/652 [25:53<3:52:19, 23.71s/batch]"
     ]
    },
    {
     "name": "stdout",
     "output_type": "stream",
     "text": [
      "hipnn_automatic_doublet flag is True. Molecules with odd number of electrons are treated as doublets.\n",
      "\n",
      "hipnn_automatic_doublet flag is True. Molecules with odd number of electrons are treated as doublets.\n",
      "\n"
     ]
    },
    {
     "name": "stderr",
     "output_type": "stream",
     "text": [
      "Training Batches:  10%|▉         | 65/652 [26:15<3:48:57, 23.40s/batch]"
     ]
    },
    {
     "name": "stdout",
     "output_type": "stream",
     "text": [
      "hipnn_automatic_doublet flag is True. Molecules with odd number of electrons are treated as doublets.\n",
      "\n",
      "hipnn_automatic_doublet flag is True. Molecules with odd number of electrons are treated as doublets.\n",
      "\n"
     ]
    },
    {
     "name": "stderr",
     "output_type": "stream",
     "text": [
      "Training Batches:  10%|█         | 66/652 [26:39<3:48:14, 23.37s/batch]"
     ]
    },
    {
     "name": "stdout",
     "output_type": "stream",
     "text": [
      "hipnn_automatic_doublet flag is True. Molecules with odd number of electrons are treated as doublets.\n",
      "\n",
      "hipnn_automatic_doublet flag is True. Molecules with odd number of electrons are treated as doublets.\n",
      "\n"
     ]
    },
    {
     "name": "stderr",
     "output_type": "stream",
     "text": [
      "Training Batches:  10%|█         | 67/652 [27:02<3:48:59, 23.49s/batch]"
     ]
    },
    {
     "name": "stdout",
     "output_type": "stream",
     "text": [
      "hipnn_automatic_doublet flag is True. Molecules with odd number of electrons are treated as doublets.\n",
      "\n",
      "hipnn_automatic_doublet flag is True. Molecules with odd number of electrons are treated as doublets.\n",
      "\n",
      "did not converge 1\n"
     ]
    },
    {
     "name": "stderr",
     "output_type": "stream",
     "text": [
      "Training Batches:  10%|█         | 68/652 [27:27<3:53:05, 23.95s/batch]"
     ]
    },
    {
     "name": "stdout",
     "output_type": "stream",
     "text": [
      "hipnn_automatic_doublet flag is True. Molecules with odd number of electrons are treated as doublets.\n",
      "\n",
      "hipnn_automatic_doublet flag is True. Molecules with odd number of electrons are treated as doublets.\n",
      "\n"
     ]
    },
    {
     "name": "stderr",
     "output_type": "stream",
     "text": [
      "Training Batches:  11%|█         | 69/652 [27:52<3:54:42, 24.16s/batch]"
     ]
    },
    {
     "name": "stdout",
     "output_type": "stream",
     "text": [
      "hipnn_automatic_doublet flag is True. Molecules with odd number of electrons are treated as doublets.\n",
      "\n",
      "hipnn_automatic_doublet flag is True. Molecules with odd number of electrons are treated as doublets.\n",
      "\n",
      "did not converge 1\n"
     ]
    },
    {
     "name": "stderr",
     "output_type": "stream",
     "text": [
      "Training Batches:  11%|█         | 70/652 [28:17<3:55:35, 24.29s/batch]"
     ]
    },
    {
     "name": "stdout",
     "output_type": "stream",
     "text": [
      "hipnn_automatic_doublet flag is True. Molecules with odd number of electrons are treated as doublets.\n",
      "\n",
      "hipnn_automatic_doublet flag is True. Molecules with odd number of electrons are treated as doublets.\n",
      "\n",
      "did not converge 1\n"
     ]
    },
    {
     "name": "stderr",
     "output_type": "stream",
     "text": [
      "Training Batches:  11%|█         | 71/652 [28:40<3:52:55, 24.05s/batch]"
     ]
    },
    {
     "name": "stdout",
     "output_type": "stream",
     "text": [
      "hipnn_automatic_doublet flag is True. Molecules with odd number of electrons are treated as doublets.\n",
      "\n",
      "hipnn_automatic_doublet flag is True. Molecules with odd number of electrons are treated as doublets.\n",
      "\n"
     ]
    },
    {
     "name": "stderr",
     "output_type": "stream",
     "text": [
      "Training Batches:  11%|█         | 72/652 [29:04<3:51:07, 23.91s/batch]"
     ]
    },
    {
     "name": "stdout",
     "output_type": "stream",
     "text": [
      "hipnn_automatic_doublet flag is True. Molecules with odd number of electrons are treated as doublets.\n",
      "\n",
      "hipnn_automatic_doublet flag is True. Molecules with odd number of electrons are treated as doublets.\n",
      "\n"
     ]
    },
    {
     "name": "stderr",
     "output_type": "stream",
     "text": [
      "Training Batches:  11%|█         | 73/652 [29:27<3:49:37, 23.80s/batch]"
     ]
    },
    {
     "name": "stdout",
     "output_type": "stream",
     "text": [
      "hipnn_automatic_doublet flag is True. Molecules with odd number of electrons are treated as doublets.\n",
      "\n",
      "hipnn_automatic_doublet flag is True. Molecules with odd number of electrons are treated as doublets.\n",
      "\n"
     ]
    },
    {
     "name": "stderr",
     "output_type": "stream",
     "text": [
      "Training Batches:  11%|█▏        | 74/652 [29:52<3:50:39, 23.94s/batch]"
     ]
    },
    {
     "name": "stdout",
     "output_type": "stream",
     "text": [
      "hipnn_automatic_doublet flag is True. Molecules with odd number of electrons are treated as doublets.\n",
      "\n",
      "hipnn_automatic_doublet flag is True. Molecules with odd number of electrons are treated as doublets.\n",
      "\n"
     ]
    },
    {
     "name": "stderr",
     "output_type": "stream",
     "text": [
      "Training Batches:  12%|█▏        | 75/652 [30:16<3:52:08, 24.14s/batch]"
     ]
    },
    {
     "name": "stdout",
     "output_type": "stream",
     "text": [
      "hipnn_automatic_doublet flag is True. Molecules with odd number of electrons are treated as doublets.\n",
      "\n",
      "hipnn_automatic_doublet flag is True. Molecules with odd number of electrons are treated as doublets.\n",
      "\n",
      "did not converge 1\n"
     ]
    },
    {
     "name": "stderr",
     "output_type": "stream",
     "text": [
      "Training Batches:  12%|█▏        | 76/652 [30:42<3:55:34, 24.54s/batch]"
     ]
    },
    {
     "name": "stdout",
     "output_type": "stream",
     "text": [
      "hipnn_automatic_doublet flag is True. Molecules with odd number of electrons are treated as doublets.\n",
      "\n",
      "hipnn_automatic_doublet flag is True. Molecules with odd number of electrons are treated as doublets.\n",
      "\n",
      "did not converge 1\n"
     ]
    },
    {
     "name": "stderr",
     "output_type": "stream",
     "text": [
      "Training Batches:  12%|█▏        | 77/652 [31:09<4:02:13, 25.27s/batch]"
     ]
    },
    {
     "name": "stdout",
     "output_type": "stream",
     "text": [
      "hipnn_automatic_doublet flag is True. Molecules with odd number of electrons are treated as doublets.\n",
      "\n",
      "hipnn_automatic_doublet flag is True. Molecules with odd number of electrons are treated as doublets.\n",
      "\n"
     ]
    },
    {
     "name": "stderr",
     "output_type": "stream",
     "text": [
      "Training Batches:  12%|█▏        | 78/652 [31:32<3:57:13, 24.80s/batch]"
     ]
    },
    {
     "name": "stdout",
     "output_type": "stream",
     "text": [
      "hipnn_automatic_doublet flag is True. Molecules with odd number of electrons are treated as doublets.\n",
      "\n",
      "hipnn_automatic_doublet flag is True. Molecules with odd number of electrons are treated as doublets.\n",
      "\n"
     ]
    },
    {
     "name": "stderr",
     "output_type": "stream",
     "text": [
      "Training Batches:  12%|█▏        | 79/652 [31:57<3:57:12, 24.84s/batch]"
     ]
    },
    {
     "name": "stdout",
     "output_type": "stream",
     "text": [
      "hipnn_automatic_doublet flag is True. Molecules with odd number of electrons are treated as doublets.\n",
      "\n",
      "hipnn_automatic_doublet flag is True. Molecules with odd number of electrons are treated as doublets.\n",
      "\n"
     ]
    },
    {
     "name": "stderr",
     "output_type": "stream",
     "text": [
      "Training Batches:  12%|█▏        | 80/652 [32:20<3:51:35, 24.29s/batch]"
     ]
    },
    {
     "name": "stdout",
     "output_type": "stream",
     "text": [
      "hipnn_automatic_doublet flag is True. Molecules with odd number of electrons are treated as doublets.\n",
      "\n",
      "hipnn_automatic_doublet flag is True. Molecules with odd number of electrons are treated as doublets.\n",
      "\n"
     ]
    },
    {
     "name": "stderr",
     "output_type": "stream",
     "text": [
      "Training Batches:  12%|█▏        | 81/652 [32:45<3:52:10, 24.40s/batch]"
     ]
    },
    {
     "name": "stdout",
     "output_type": "stream",
     "text": [
      "hipnn_automatic_doublet flag is True. Molecules with odd number of electrons are treated as doublets.\n",
      "\n",
      "hipnn_automatic_doublet flag is True. Molecules with odd number of electrons are treated as doublets.\n",
      "\n"
     ]
    },
    {
     "name": "stderr",
     "output_type": "stream",
     "text": [
      "Training Batches:  13%|█▎        | 82/652 [33:07<3:44:11, 23.60s/batch]"
     ]
    },
    {
     "name": "stdout",
     "output_type": "stream",
     "text": [
      "hipnn_automatic_doublet flag is True. Molecules with odd number of electrons are treated as doublets.\n",
      "\n",
      "hipnn_automatic_doublet flag is True. Molecules with odd number of electrons are treated as doublets.\n",
      "\n"
     ]
    },
    {
     "name": "stderr",
     "output_type": "stream",
     "text": [
      "Training Batches:  13%|█▎        | 83/652 [33:31<3:44:43, 23.70s/batch]"
     ]
    },
    {
     "name": "stdout",
     "output_type": "stream",
     "text": [
      "hipnn_automatic_doublet flag is True. Molecules with odd number of electrons are treated as doublets.\n",
      "\n",
      "hipnn_automatic_doublet flag is True. Molecules with odd number of electrons are treated as doublets.\n",
      "\n",
      "did not converge 1\n"
     ]
    },
    {
     "name": "stderr",
     "output_type": "stream",
     "text": [
      "Training Batches:  13%|█▎        | 84/652 [33:55<3:45:51, 23.86s/batch]"
     ]
    },
    {
     "name": "stdout",
     "output_type": "stream",
     "text": [
      "hipnn_automatic_doublet flag is True. Molecules with odd number of electrons are treated as doublets.\n",
      "\n",
      "hipnn_automatic_doublet flag is True. Molecules with odd number of electrons are treated as doublets.\n",
      "\n"
     ]
    },
    {
     "name": "stderr",
     "output_type": "stream",
     "text": [
      "Training Batches:  13%|█▎        | 85/652 [34:19<3:47:44, 24.10s/batch]"
     ]
    },
    {
     "name": "stdout",
     "output_type": "stream",
     "text": [
      "hipnn_automatic_doublet flag is True. Molecules with odd number of electrons are treated as doublets.\n",
      "\n",
      "hipnn_automatic_doublet flag is True. Molecules with odd number of electrons are treated as doublets.\n",
      "\n"
     ]
    },
    {
     "name": "stderr",
     "output_type": "stream",
     "text": [
      "Training Batches:  13%|█▎        | 86/652 [34:44<3:49:34, 24.34s/batch]"
     ]
    },
    {
     "name": "stdout",
     "output_type": "stream",
     "text": [
      "hipnn_automatic_doublet flag is True. Molecules with odd number of electrons are treated as doublets.\n",
      "\n",
      "hipnn_automatic_doublet flag is True. Molecules with odd number of electrons are treated as doublets.\n",
      "\n"
     ]
    },
    {
     "name": "stderr",
     "output_type": "stream",
     "text": [
      "Training Batches:  13%|█▎        | 87/652 [35:08<3:46:12, 24.02s/batch]"
     ]
    },
    {
     "name": "stdout",
     "output_type": "stream",
     "text": [
      "hipnn_automatic_doublet flag is True. Molecules with odd number of electrons are treated as doublets.\n",
      "\n",
      "hipnn_automatic_doublet flag is True. Molecules with odd number of electrons are treated as doublets.\n",
      "\n"
     ]
    },
    {
     "name": "stderr",
     "output_type": "stream",
     "text": [
      "Training Batches:  13%|█▎        | 88/652 [35:31<3:42:47, 23.70s/batch]"
     ]
    },
    {
     "name": "stdout",
     "output_type": "stream",
     "text": [
      "hipnn_automatic_doublet flag is True. Molecules with odd number of electrons are treated as doublets.\n",
      "\n",
      "hipnn_automatic_doublet flag is True. Molecules with odd number of electrons are treated as doublets.\n",
      "\n"
     ]
    },
    {
     "name": "stderr",
     "output_type": "stream",
     "text": [
      "Training Batches:  14%|█▎        | 89/652 [35:57<3:49:15, 24.43s/batch]"
     ]
    },
    {
     "name": "stdout",
     "output_type": "stream",
     "text": [
      "hipnn_automatic_doublet flag is True. Molecules with odd number of electrons are treated as doublets.\n",
      "\n",
      "hipnn_automatic_doublet flag is True. Molecules with odd number of electrons are treated as doublets.\n",
      "\n"
     ]
    },
    {
     "name": "stderr",
     "output_type": "stream",
     "text": [
      "Training Batches:  14%|█▍        | 90/652 [36:20<3:46:39, 24.20s/batch]"
     ]
    },
    {
     "name": "stdout",
     "output_type": "stream",
     "text": [
      "hipnn_automatic_doublet flag is True. Molecules with odd number of electrons are treated as doublets.\n",
      "\n",
      "hipnn_automatic_doublet flag is True. Molecules with odd number of electrons are treated as doublets.\n",
      "\n"
     ]
    },
    {
     "name": "stderr",
     "output_type": "stream",
     "text": [
      "Training Batches:  14%|█▍        | 91/652 [36:44<3:44:17, 23.99s/batch]"
     ]
    },
    {
     "name": "stdout",
     "output_type": "stream",
     "text": [
      "hipnn_automatic_doublet flag is True. Molecules with odd number of electrons are treated as doublets.\n",
      "\n",
      "hipnn_automatic_doublet flag is True. Molecules with odd number of electrons are treated as doublets.\n",
      "\n",
      "did not converge 1\n"
     ]
    },
    {
     "name": "stderr",
     "output_type": "stream",
     "text": [
      "Training Batches:  14%|█▍        | 92/652 [37:09<3:47:44, 24.40s/batch]"
     ]
    },
    {
     "name": "stdout",
     "output_type": "stream",
     "text": [
      "hipnn_automatic_doublet flag is True. Molecules with odd number of electrons are treated as doublets.\n",
      "\n",
      "hipnn_automatic_doublet flag is True. Molecules with odd number of electrons are treated as doublets.\n",
      "\n"
     ]
    },
    {
     "name": "stderr",
     "output_type": "stream",
     "text": [
      "Training Batches:  14%|█▍        | 93/652 [37:33<3:46:10, 24.28s/batch]"
     ]
    },
    {
     "name": "stdout",
     "output_type": "stream",
     "text": [
      "hipnn_automatic_doublet flag is True. Molecules with odd number of electrons are treated as doublets.\n",
      "\n",
      "hipnn_automatic_doublet flag is True. Molecules with odd number of electrons are treated as doublets.\n",
      "\n"
     ]
    },
    {
     "name": "stderr",
     "output_type": "stream",
     "text": [
      "Training Batches:  14%|█▍        | 94/652 [37:57<3:44:35, 24.15s/batch]"
     ]
    },
    {
     "name": "stdout",
     "output_type": "stream",
     "text": [
      "hipnn_automatic_doublet flag is True. Molecules with odd number of electrons are treated as doublets.\n",
      "\n",
      "hipnn_automatic_doublet flag is True. Molecules with odd number of electrons are treated as doublets.\n",
      "\n"
     ]
    },
    {
     "name": "stderr",
     "output_type": "stream",
     "text": [
      "Training Batches:  15%|█▍        | 95/652 [38:20<3:41:24, 23.85s/batch]"
     ]
    },
    {
     "name": "stdout",
     "output_type": "stream",
     "text": [
      "hipnn_automatic_doublet flag is True. Molecules with odd number of electrons are treated as doublets.\n",
      "\n",
      "hipnn_automatic_doublet flag is True. Molecules with odd number of electrons are treated as doublets.\n",
      "\n"
     ]
    },
    {
     "name": "stderr",
     "output_type": "stream",
     "text": [
      "Training Batches:  15%|█▍        | 96/652 [38:44<3:39:30, 23.69s/batch]"
     ]
    },
    {
     "name": "stdout",
     "output_type": "stream",
     "text": [
      "hipnn_automatic_doublet flag is True. Molecules with odd number of electrons are treated as doublets.\n",
      "\n",
      "hipnn_automatic_doublet flag is True. Molecules with odd number of electrons are treated as doublets.\n",
      "\n"
     ]
    },
    {
     "name": "stderr",
     "output_type": "stream",
     "text": [
      "Training Batches:  15%|█▍        | 97/652 [39:08<3:40:08, 23.80s/batch]"
     ]
    },
    {
     "name": "stdout",
     "output_type": "stream",
     "text": [
      "hipnn_automatic_doublet flag is True. Molecules with odd number of electrons are treated as doublets.\n",
      "\n",
      "hipnn_automatic_doublet flag is True. Molecules with odd number of electrons are treated as doublets.\n",
      "\n",
      "did not converge 1\n"
     ]
    },
    {
     "name": "stderr",
     "output_type": "stream",
     "text": [
      "Training Batches:  15%|█▌        | 98/652 [39:35<3:50:18, 24.94s/batch]"
     ]
    },
    {
     "name": "stdout",
     "output_type": "stream",
     "text": [
      "hipnn_automatic_doublet flag is True. Molecules with odd number of electrons are treated as doublets.\n",
      "\n",
      "hipnn_automatic_doublet flag is True. Molecules with odd number of electrons are treated as doublets.\n",
      "\n"
     ]
    },
    {
     "name": "stderr",
     "output_type": "stream",
     "text": [
      "Training Batches:  15%|█▌        | 99/652 [39:58<3:44:50, 24.40s/batch]"
     ]
    },
    {
     "name": "stdout",
     "output_type": "stream",
     "text": [
      "hipnn_automatic_doublet flag is True. Molecules with odd number of electrons are treated as doublets.\n",
      "\n",
      "hipnn_automatic_doublet flag is True. Molecules with odd number of electrons are treated as doublets.\n",
      "\n"
     ]
    },
    {
     "name": "stderr",
     "output_type": "stream",
     "text": [
      "Training Batches:  15%|█▌        | 100/652 [40:23<3:43:58, 24.34s/batch]"
     ]
    },
    {
     "name": "stdout",
     "output_type": "stream",
     "text": [
      "hipnn_automatic_doublet flag is True. Molecules with odd number of electrons are treated as doublets.\n",
      "\n",
      "hipnn_automatic_doublet flag is True. Molecules with odd number of electrons are treated as doublets.\n",
      "\n"
     ]
    },
    {
     "name": "stderr",
     "output_type": "stream",
     "text": [
      "Training Batches:  15%|█▌        | 101/652 [40:47<3:44:38, 24.46s/batch]"
     ]
    },
    {
     "name": "stdout",
     "output_type": "stream",
     "text": [
      "hipnn_automatic_doublet flag is True. Molecules with odd number of electrons are treated as doublets.\n",
      "\n",
      "hipnn_automatic_doublet flag is True. Molecules with odd number of electrons are treated as doublets.\n",
      "\n",
      "did not converge 1\n"
     ]
    },
    {
     "name": "stderr",
     "output_type": "stream",
     "text": [
      "Training Batches:  16%|█▌        | 102/652 [41:12<3:45:11, 24.57s/batch]"
     ]
    },
    {
     "name": "stdout",
     "output_type": "stream",
     "text": [
      "hipnn_automatic_doublet flag is True. Molecules with odd number of electrons are treated as doublets.\n",
      "\n",
      "hipnn_automatic_doublet flag is True. Molecules with odd number of electrons are treated as doublets.\n",
      "\n"
     ]
    },
    {
     "name": "stderr",
     "output_type": "stream",
     "text": [
      "Training Batches:  16%|█▌        | 103/652 [41:37<3:45:40, 24.66s/batch]"
     ]
    },
    {
     "name": "stdout",
     "output_type": "stream",
     "text": [
      "hipnn_automatic_doublet flag is True. Molecules with odd number of electrons are treated as doublets.\n",
      "\n",
      "hipnn_automatic_doublet flag is True. Molecules with odd number of electrons are treated as doublets.\n",
      "\n",
      "did not converge 1\n"
     ]
    },
    {
     "name": "stderr",
     "output_type": "stream",
     "text": [
      "Training Batches:  16%|█▌        | 104/652 [42:03<3:48:23, 25.01s/batch]"
     ]
    },
    {
     "name": "stdout",
     "output_type": "stream",
     "text": [
      "hipnn_automatic_doublet flag is True. Molecules with odd number of electrons are treated as doublets.\n",
      "\n",
      "hipnn_automatic_doublet flag is True. Molecules with odd number of electrons are treated as doublets.\n",
      "\n"
     ]
    },
    {
     "name": "stderr",
     "output_type": "stream",
     "text": [
      "Training Batches:  16%|█▌        | 105/652 [42:28<3:48:48, 25.10s/batch]"
     ]
    },
    {
     "name": "stdout",
     "output_type": "stream",
     "text": [
      "hipnn_automatic_doublet flag is True. Molecules with odd number of electrons are treated as doublets.\n",
      "\n",
      "hipnn_automatic_doublet flag is True. Molecules with odd number of electrons are treated as doublets.\n",
      "\n"
     ]
    },
    {
     "name": "stderr",
     "output_type": "stream",
     "text": [
      "Training Batches:  16%|█▋        | 106/652 [42:51<3:41:44, 24.37s/batch]"
     ]
    },
    {
     "name": "stdout",
     "output_type": "stream",
     "text": [
      "hipnn_automatic_doublet flag is True. Molecules with odd number of electrons are treated as doublets.\n",
      "\n",
      "hipnn_automatic_doublet flag is True. Molecules with odd number of electrons are treated as doublets.\n",
      "\n"
     ]
    },
    {
     "name": "stderr",
     "output_type": "stream",
     "text": [
      "Training Batches:  16%|█▋        | 107/652 [43:14<3:37:09, 23.91s/batch]"
     ]
    },
    {
     "name": "stdout",
     "output_type": "stream",
     "text": [
      "hipnn_automatic_doublet flag is True. Molecules with odd number of electrons are treated as doublets.\n",
      "\n",
      "hipnn_automatic_doublet flag is True. Molecules with odd number of electrons are treated as doublets.\n",
      "\n"
     ]
    },
    {
     "name": "stderr",
     "output_type": "stream",
     "text": [
      "Training Batches:  17%|█▋        | 108/652 [43:37<3:35:39, 23.79s/batch]"
     ]
    },
    {
     "name": "stdout",
     "output_type": "stream",
     "text": [
      "hipnn_automatic_doublet flag is True. Molecules with odd number of electrons are treated as doublets.\n",
      "\n",
      "hipnn_automatic_doublet flag is True. Molecules with odd number of electrons are treated as doublets.\n",
      "\n",
      "did not converge 1\n"
     ]
    },
    {
     "name": "stderr",
     "output_type": "stream",
     "text": [
      "Training Batches:  17%|█▋        | 109/652 [44:00<3:32:57, 23.53s/batch]"
     ]
    },
    {
     "name": "stdout",
     "output_type": "stream",
     "text": [
      "hipnn_automatic_doublet flag is True. Molecules with odd number of electrons are treated as doublets.\n",
      "\n",
      "hipnn_automatic_doublet flag is True. Molecules with odd number of electrons are treated as doublets.\n",
      "\n"
     ]
    },
    {
     "name": "stderr",
     "output_type": "stream",
     "text": [
      "Training Batches:  17%|█▋        | 110/652 [44:24<3:34:52, 23.79s/batch]"
     ]
    },
    {
     "name": "stdout",
     "output_type": "stream",
     "text": [
      "hipnn_automatic_doublet flag is True. Molecules with odd number of electrons are treated as doublets.\n",
      "\n",
      "hipnn_automatic_doublet flag is True. Molecules with odd number of electrons are treated as doublets.\n",
      "\n"
     ]
    },
    {
     "name": "stderr",
     "output_type": "stream",
     "text": [
      "Training Batches:  17%|█▋        | 111/652 [44:49<3:35:54, 23.95s/batch]"
     ]
    },
    {
     "name": "stdout",
     "output_type": "stream",
     "text": [
      "hipnn_automatic_doublet flag is True. Molecules with odd number of electrons are treated as doublets.\n",
      "\n",
      "hipnn_automatic_doublet flag is True. Molecules with odd number of electrons are treated as doublets.\n",
      "\n",
      "did not converge 1\n"
     ]
    },
    {
     "name": "stderr",
     "output_type": "stream",
     "text": [
      "Training Batches:  17%|█▋        | 112/652 [45:15<3:41:09, 24.57s/batch]"
     ]
    },
    {
     "name": "stdout",
     "output_type": "stream",
     "text": [
      "hipnn_automatic_doublet flag is True. Molecules with odd number of electrons are treated as doublets.\n",
      "\n",
      "hipnn_automatic_doublet flag is True. Molecules with odd number of electrons are treated as doublets.\n",
      "\n",
      "did not converge 1\n"
     ]
    },
    {
     "name": "stderr",
     "output_type": "stream",
     "text": [
      "Training Batches:  17%|█▋        | 113/652 [45:40<3:41:24, 24.65s/batch]"
     ]
    },
    {
     "name": "stdout",
     "output_type": "stream",
     "text": [
      "hipnn_automatic_doublet flag is True. Molecules with odd number of electrons are treated as doublets.\n",
      "\n",
      "hipnn_automatic_doublet flag is True. Molecules with odd number of electrons are treated as doublets.\n",
      "\n"
     ]
    },
    {
     "name": "stderr",
     "output_type": "stream",
     "text": [
      "Training Batches:  17%|█▋        | 114/652 [46:02<3:35:50, 24.07s/batch]"
     ]
    },
    {
     "name": "stdout",
     "output_type": "stream",
     "text": [
      "hipnn_automatic_doublet flag is True. Molecules with odd number of electrons are treated as doublets.\n",
      "\n",
      "hipnn_automatic_doublet flag is True. Molecules with odd number of electrons are treated as doublets.\n",
      "\n",
      "did not converge 1\n"
     ]
    },
    {
     "name": "stderr",
     "output_type": "stream",
     "text": [
      "Training Batches:  18%|█▊        | 115/652 [46:28<3:39:11, 24.49s/batch]"
     ]
    },
    {
     "name": "stdout",
     "output_type": "stream",
     "text": [
      "hipnn_automatic_doublet flag is True. Molecules with odd number of electrons are treated as doublets.\n",
      "\n",
      "hipnn_automatic_doublet flag is True. Molecules with odd number of electrons are treated as doublets.\n",
      "\n"
     ]
    },
    {
     "name": "stderr",
     "output_type": "stream",
     "text": [
      "Training Batches:  18%|█▊        | 116/652 [46:53<3:41:16, 24.77s/batch]"
     ]
    },
    {
     "name": "stdout",
     "output_type": "stream",
     "text": [
      "hipnn_automatic_doublet flag is True. Molecules with odd number of electrons are treated as doublets.\n",
      "\n",
      "hipnn_automatic_doublet flag is True. Molecules with odd number of electrons are treated as doublets.\n",
      "\n"
     ]
    },
    {
     "name": "stderr",
     "output_type": "stream",
     "text": [
      "Training Batches:  18%|█▊        | 117/652 [47:17<3:37:13, 24.36s/batch]"
     ]
    },
    {
     "name": "stdout",
     "output_type": "stream",
     "text": [
      "hipnn_automatic_doublet flag is True. Molecules with odd number of electrons are treated as doublets.\n",
      "\n",
      "hipnn_automatic_doublet flag is True. Molecules with odd number of electrons are treated as doublets.\n",
      "\n"
     ]
    },
    {
     "name": "stderr",
     "output_type": "stream",
     "text": [
      "Training Batches:  18%|█▊        | 118/652 [47:42<3:39:30, 24.66s/batch]"
     ]
    },
    {
     "name": "stdout",
     "output_type": "stream",
     "text": [
      "hipnn_automatic_doublet flag is True. Molecules with odd number of electrons are treated as doublets.\n",
      "\n",
      "hipnn_automatic_doublet flag is True. Molecules with odd number of electrons are treated as doublets.\n",
      "\n"
     ]
    },
    {
     "name": "stderr",
     "output_type": "stream",
     "text": [
      "Training Batches:  18%|█▊        | 119/652 [48:07<3:38:59, 24.65s/batch]"
     ]
    },
    {
     "name": "stdout",
     "output_type": "stream",
     "text": [
      "hipnn_automatic_doublet flag is True. Molecules with odd number of electrons are treated as doublets.\n",
      "\n",
      "hipnn_automatic_doublet flag is True. Molecules with odd number of electrons are treated as doublets.\n",
      "\n"
     ]
    },
    {
     "name": "stderr",
     "output_type": "stream",
     "text": [
      "Training Batches:  18%|█▊        | 120/652 [48:34<3:45:09, 25.39s/batch]"
     ]
    },
    {
     "name": "stdout",
     "output_type": "stream",
     "text": [
      "hipnn_automatic_doublet flag is True. Molecules with odd number of electrons are treated as doublets.\n",
      "\n",
      "hipnn_automatic_doublet flag is True. Molecules with odd number of electrons are treated as doublets.\n",
      "\n"
     ]
    },
    {
     "name": "stderr",
     "output_type": "stream",
     "text": [
      "Training Batches:  19%|█▊        | 121/652 [48:59<3:43:23, 25.24s/batch]"
     ]
    },
    {
     "name": "stdout",
     "output_type": "stream",
     "text": [
      "hipnn_automatic_doublet flag is True. Molecules with odd number of electrons are treated as doublets.\n",
      "\n",
      "hipnn_automatic_doublet flag is True. Molecules with odd number of electrons are treated as doublets.\n",
      "\n",
      "did not converge 2\n"
     ]
    },
    {
     "name": "stderr",
     "output_type": "stream",
     "text": [
      "Training Batches:  19%|█▊        | 122/652 [49:25<3:45:26, 25.52s/batch]"
     ]
    },
    {
     "name": "stdout",
     "output_type": "stream",
     "text": [
      "hipnn_automatic_doublet flag is True. Molecules with odd number of electrons are treated as doublets.\n",
      "\n",
      "hipnn_automatic_doublet flag is True. Molecules with odd number of electrons are treated as doublets.\n",
      "\n",
      "did not converge 1\n"
     ]
    },
    {
     "name": "stderr",
     "output_type": "stream",
     "text": [
      "Training Batches:  19%|█▉        | 123/652 [49:49<3:42:09, 25.20s/batch]"
     ]
    },
    {
     "name": "stdout",
     "output_type": "stream",
     "text": [
      "hipnn_automatic_doublet flag is True. Molecules with odd number of electrons are treated as doublets.\n",
      "\n",
      "hipnn_automatic_doublet flag is True. Molecules with odd number of electrons are treated as doublets.\n",
      "\n",
      "did not converge 1\n"
     ]
    },
    {
     "name": "stderr",
     "output_type": "stream",
     "text": [
      "Training Batches:  19%|█▉        | 124/652 [50:15<3:42:01, 25.23s/batch]"
     ]
    },
    {
     "name": "stdout",
     "output_type": "stream",
     "text": [
      "hipnn_automatic_doublet flag is True. Molecules with odd number of electrons are treated as doublets.\n",
      "\n",
      "hipnn_automatic_doublet flag is True. Molecules with odd number of electrons are treated as doublets.\n",
      "\n"
     ]
    },
    {
     "name": "stderr",
     "output_type": "stream",
     "text": [
      "Training Batches:  19%|█▉        | 125/652 [50:39<3:38:56, 24.93s/batch]"
     ]
    },
    {
     "name": "stdout",
     "output_type": "stream",
     "text": [
      "hipnn_automatic_doublet flag is True. Molecules with odd number of electrons are treated as doublets.\n",
      "\n",
      "hipnn_automatic_doublet flag is True. Molecules with odd number of electrons are treated as doublets.\n",
      "\n"
     ]
    },
    {
     "name": "stderr",
     "output_type": "stream",
     "text": [
      "Training Batches:  19%|█▉        | 126/652 [51:02<3:33:41, 24.38s/batch]"
     ]
    },
    {
     "name": "stdout",
     "output_type": "stream",
     "text": [
      "hipnn_automatic_doublet flag is True. Molecules with odd number of electrons are treated as doublets.\n",
      "\n",
      "hipnn_automatic_doublet flag is True. Molecules with odd number of electrons are treated as doublets.\n",
      "\n",
      "did not converge 1\n"
     ]
    },
    {
     "name": "stderr",
     "output_type": "stream",
     "text": [
      "Training Batches:  19%|█▉        | 127/652 [51:26<3:33:46, 24.43s/batch]"
     ]
    },
    {
     "name": "stdout",
     "output_type": "stream",
     "text": [
      "hipnn_automatic_doublet flag is True. Molecules with odd number of electrons are treated as doublets.\n",
      "\n",
      "hipnn_automatic_doublet flag is True. Molecules with odd number of electrons are treated as doublets.\n",
      "\n"
     ]
    },
    {
     "name": "stderr",
     "output_type": "stream",
     "text": [
      "Training Batches:  20%|█▉        | 128/652 [51:50<3:29:57, 24.04s/batch]"
     ]
    },
    {
     "name": "stdout",
     "output_type": "stream",
     "text": [
      "hipnn_automatic_doublet flag is True. Molecules with odd number of electrons are treated as doublets.\n",
      "\n",
      "hipnn_automatic_doublet flag is True. Molecules with odd number of electrons are treated as doublets.\n",
      "\n",
      "did not converge 1\n"
     ]
    },
    {
     "name": "stderr",
     "output_type": "stream",
     "text": [
      "Training Batches:  20%|█▉        | 129/652 [52:13<3:28:18, 23.90s/batch]"
     ]
    },
    {
     "name": "stdout",
     "output_type": "stream",
     "text": [
      "hipnn_automatic_doublet flag is True. Molecules with odd number of electrons are treated as doublets.\n",
      "\n",
      "hipnn_automatic_doublet flag is True. Molecules with odd number of electrons are treated as doublets.\n",
      "\n",
      "did not converge 2\n"
     ]
    },
    {
     "name": "stderr",
     "output_type": "stream",
     "text": [
      "Training Batches:  20%|█▉        | 130/652 [52:40<3:34:29, 24.65s/batch]"
     ]
    },
    {
     "name": "stdout",
     "output_type": "stream",
     "text": [
      "hipnn_automatic_doublet flag is True. Molecules with odd number of electrons are treated as doublets.\n",
      "\n",
      "hipnn_automatic_doublet flag is True. Molecules with odd number of electrons are treated as doublets.\n",
      "\n"
     ]
    },
    {
     "name": "stderr",
     "output_type": "stream",
     "text": [
      "Training Batches:  20%|██        | 131/652 [53:06<3:38:00, 25.11s/batch]"
     ]
    },
    {
     "name": "stdout",
     "output_type": "stream",
     "text": [
      "hipnn_automatic_doublet flag is True. Molecules with odd number of electrons are treated as doublets.\n",
      "\n",
      "hipnn_automatic_doublet flag is True. Molecules with odd number of electrons are treated as doublets.\n",
      "\n"
     ]
    },
    {
     "name": "stderr",
     "output_type": "stream",
     "text": [
      "Training Batches:  20%|██        | 132/652 [53:32<3:40:21, 25.43s/batch]"
     ]
    },
    {
     "name": "stdout",
     "output_type": "stream",
     "text": [
      "hipnn_automatic_doublet flag is True. Molecules with odd number of electrons are treated as doublets.\n",
      "\n",
      "hipnn_automatic_doublet flag is True. Molecules with odd number of electrons are treated as doublets.\n",
      "\n"
     ]
    },
    {
     "name": "stderr",
     "output_type": "stream",
     "text": [
      "Training Batches:  20%|██        | 133/652 [53:55<3:35:17, 24.89s/batch]"
     ]
    },
    {
     "name": "stdout",
     "output_type": "stream",
     "text": [
      "hipnn_automatic_doublet flag is True. Molecules with odd number of electrons are treated as doublets.\n",
      "\n",
      "hipnn_automatic_doublet flag is True. Molecules with odd number of electrons are treated as doublets.\n",
      "\n"
     ]
    },
    {
     "name": "stderr",
     "output_type": "stream",
     "text": [
      "Training Batches:  21%|██        | 134/652 [54:19<3:32:31, 24.62s/batch]"
     ]
    },
    {
     "name": "stdout",
     "output_type": "stream",
     "text": [
      "hipnn_automatic_doublet flag is True. Molecules with odd number of electrons are treated as doublets.\n",
      "\n",
      "hipnn_automatic_doublet flag is True. Molecules with odd number of electrons are treated as doublets.\n",
      "\n",
      "did not converge 1\n"
     ]
    },
    {
     "name": "stderr",
     "output_type": "stream",
     "text": [
      "Training Batches:  21%|██        | 135/652 [54:45<3:33:44, 24.81s/batch]"
     ]
    },
    {
     "name": "stdout",
     "output_type": "stream",
     "text": [
      "hipnn_automatic_doublet flag is True. Molecules with odd number of electrons are treated as doublets.\n",
      "\n",
      "hipnn_automatic_doublet flag is True. Molecules with odd number of electrons are treated as doublets.\n",
      "\n"
     ]
    },
    {
     "name": "stderr",
     "output_type": "stream",
     "text": [
      "Training Batches:  21%|██        | 136/652 [55:09<3:31:54, 24.64s/batch]"
     ]
    },
    {
     "name": "stdout",
     "output_type": "stream",
     "text": [
      "hipnn_automatic_doublet flag is True. Molecules with odd number of electrons are treated as doublets.\n",
      "\n",
      "hipnn_automatic_doublet flag is True. Molecules with odd number of electrons are treated as doublets.\n",
      "\n",
      "did not converge 1\n"
     ]
    },
    {
     "name": "stderr",
     "output_type": "stream",
     "text": [
      "Training Batches:  21%|██        | 137/652 [55:34<3:32:54, 24.81s/batch]"
     ]
    },
    {
     "name": "stdout",
     "output_type": "stream",
     "text": [
      "hipnn_automatic_doublet flag is True. Molecules with odd number of electrons are treated as doublets.\n",
      "\n",
      "hipnn_automatic_doublet flag is True. Molecules with odd number of electrons are treated as doublets.\n",
      "\n"
     ]
    },
    {
     "name": "stderr",
     "output_type": "stream",
     "text": [
      "Training Batches:  21%|██        | 138/652 [55:57<3:26:23, 24.09s/batch]"
     ]
    },
    {
     "name": "stdout",
     "output_type": "stream",
     "text": [
      "hipnn_automatic_doublet flag is True. Molecules with odd number of electrons are treated as doublets.\n",
      "\n",
      "hipnn_automatic_doublet flag is True. Molecules with odd number of electrons are treated as doublets.\n",
      "\n"
     ]
    },
    {
     "name": "stderr",
     "output_type": "stream",
     "text": [
      "Training Batches:  21%|██▏       | 139/652 [56:20<3:23:53, 23.85s/batch]"
     ]
    },
    {
     "name": "stdout",
     "output_type": "stream",
     "text": [
      "hipnn_automatic_doublet flag is True. Molecules with odd number of electrons are treated as doublets.\n",
      "\n",
      "hipnn_automatic_doublet flag is True. Molecules with odd number of electrons are treated as doublets.\n",
      "\n"
     ]
    },
    {
     "name": "stderr",
     "output_type": "stream",
     "text": [
      "Training Batches:  21%|██▏       | 140/652 [56:42<3:20:18, 23.47s/batch]"
     ]
    },
    {
     "name": "stdout",
     "output_type": "stream",
     "text": [
      "hipnn_automatic_doublet flag is True. Molecules with odd number of electrons are treated as doublets.\n",
      "\n",
      "hipnn_automatic_doublet flag is True. Molecules with odd number of electrons are treated as doublets.\n",
      "\n"
     ]
    },
    {
     "name": "stderr",
     "output_type": "stream",
     "text": [
      "Training Batches:  22%|██▏       | 141/652 [57:05<3:17:16, 23.16s/batch]"
     ]
    },
    {
     "name": "stdout",
     "output_type": "stream",
     "text": [
      "hipnn_automatic_doublet flag is True. Molecules with odd number of electrons are treated as doublets.\n",
      "\n",
      "hipnn_automatic_doublet flag is True. Molecules with odd number of electrons are treated as doublets.\n",
      "\n"
     ]
    },
    {
     "name": "stderr",
     "output_type": "stream",
     "text": [
      "Training Batches:  22%|██▏       | 142/652 [57:29<3:18:04, 23.30s/batch]"
     ]
    },
    {
     "name": "stdout",
     "output_type": "stream",
     "text": [
      "hipnn_automatic_doublet flag is True. Molecules with odd number of electrons are treated as doublets.\n",
      "\n",
      "hipnn_automatic_doublet flag is True. Molecules with odd number of electrons are treated as doublets.\n",
      "\n"
     ]
    },
    {
     "name": "stderr",
     "output_type": "stream",
     "text": [
      "Training Batches:  22%|██▏       | 143/652 [57:54<3:22:27, 23.87s/batch]"
     ]
    },
    {
     "name": "stdout",
     "output_type": "stream",
     "text": [
      "hipnn_automatic_doublet flag is True. Molecules with odd number of electrons are treated as doublets.\n",
      "\n",
      "hipnn_automatic_doublet flag is True. Molecules with odd number of electrons are treated as doublets.\n",
      "\n",
      "did not converge 1\n"
     ]
    },
    {
     "name": "stderr",
     "output_type": "stream",
     "text": [
      "Training Batches:  22%|██▏       | 144/652 [58:19<3:26:02, 24.34s/batch]"
     ]
    },
    {
     "name": "stdout",
     "output_type": "stream",
     "text": [
      "hipnn_automatic_doublet flag is True. Molecules with odd number of electrons are treated as doublets.\n",
      "\n",
      "hipnn_automatic_doublet flag is True. Molecules with odd number of electrons are treated as doublets.\n",
      "\n",
      "did not converge 1\n"
     ]
    },
    {
     "name": "stderr",
     "output_type": "stream",
     "text": [
      "Training Batches:  22%|██▏       | 145/652 [58:44<3:25:49, 24.36s/batch]"
     ]
    },
    {
     "name": "stdout",
     "output_type": "stream",
     "text": [
      "hipnn_automatic_doublet flag is True. Molecules with odd number of electrons are treated as doublets.\n",
      "\n",
      "hipnn_automatic_doublet flag is True. Molecules with odd number of electrons are treated as doublets.\n",
      "\n"
     ]
    },
    {
     "name": "stderr",
     "output_type": "stream",
     "text": [
      "Training Batches:  22%|██▏       | 146/652 [59:08<3:26:23, 24.47s/batch]"
     ]
    },
    {
     "name": "stdout",
     "output_type": "stream",
     "text": [
      "hipnn_automatic_doublet flag is True. Molecules with odd number of electrons are treated as doublets.\n",
      "\n",
      "hipnn_automatic_doublet flag is True. Molecules with odd number of electrons are treated as doublets.\n",
      "\n"
     ]
    },
    {
     "name": "stderr",
     "output_type": "stream",
     "text": [
      "Training Batches:  23%|██▎       | 147/652 [59:32<3:22:56, 24.11s/batch]"
     ]
    },
    {
     "name": "stdout",
     "output_type": "stream",
     "text": [
      "hipnn_automatic_doublet flag is True. Molecules with odd number of electrons are treated as doublets.\n",
      "\n",
      "hipnn_automatic_doublet flag is True. Molecules with odd number of electrons are treated as doublets.\n",
      "\n",
      "did not converge 1\n"
     ]
    },
    {
     "name": "stderr",
     "output_type": "stream",
     "text": [
      "Training Batches:  23%|██▎       | 148/652 [59:56<3:24:34, 24.35s/batch]"
     ]
    },
    {
     "name": "stdout",
     "output_type": "stream",
     "text": [
      "hipnn_automatic_doublet flag is True. Molecules with odd number of electrons are treated as doublets.\n",
      "\n",
      "hipnn_automatic_doublet flag is True. Molecules with odd number of electrons are treated as doublets.\n",
      "\n"
     ]
    },
    {
     "name": "stderr",
     "output_type": "stream",
     "text": [
      "Training Batches:  23%|██▎       | 149/652 [1:00:20<3:22:52, 24.20s/batch]"
     ]
    },
    {
     "name": "stdout",
     "output_type": "stream",
     "text": [
      "hipnn_automatic_doublet flag is True. Molecules with odd number of electrons are treated as doublets.\n",
      "\n",
      "hipnn_automatic_doublet flag is True. Molecules with odd number of electrons are treated as doublets.\n",
      "\n"
     ]
    },
    {
     "name": "stderr",
     "output_type": "stream",
     "text": [
      "Training Batches:  23%|██▎       | 150/652 [1:00:43<3:19:43, 23.87s/batch]"
     ]
    },
    {
     "name": "stdout",
     "output_type": "stream",
     "text": [
      "hipnn_automatic_doublet flag is True. Molecules with odd number of electrons are treated as doublets.\n",
      "\n",
      "hipnn_automatic_doublet flag is True. Molecules with odd number of electrons are treated as doublets.\n",
      "\n"
     ]
    },
    {
     "name": "stderr",
     "output_type": "stream",
     "text": [
      "Training Batches:  23%|██▎       | 151/652 [1:01:08<3:21:36, 24.14s/batch]"
     ]
    },
    {
     "name": "stdout",
     "output_type": "stream",
     "text": [
      "hipnn_automatic_doublet flag is True. Molecules with odd number of electrons are treated as doublets.\n",
      "\n",
      "hipnn_automatic_doublet flag is True. Molecules with odd number of electrons are treated as doublets.\n",
      "\n"
     ]
    },
    {
     "name": "stderr",
     "output_type": "stream",
     "text": [
      "Training Batches:  23%|██▎       | 152/652 [1:01:33<3:22:14, 24.27s/batch]"
     ]
    },
    {
     "name": "stdout",
     "output_type": "stream",
     "text": [
      "hipnn_automatic_doublet flag is True. Molecules with odd number of electrons are treated as doublets.\n",
      "\n",
      "hipnn_automatic_doublet flag is True. Molecules with odd number of electrons are treated as doublets.\n",
      "\n"
     ]
    },
    {
     "name": "stderr",
     "output_type": "stream",
     "text": [
      "Training Batches:  23%|██▎       | 153/652 [1:01:58<3:24:29, 24.59s/batch]"
     ]
    },
    {
     "name": "stdout",
     "output_type": "stream",
     "text": [
      "hipnn_automatic_doublet flag is True. Molecules with odd number of electrons are treated as doublets.\n",
      "\n",
      "hipnn_automatic_doublet flag is True. Molecules with odd number of electrons are treated as doublets.\n",
      "\n"
     ]
    },
    {
     "name": "stderr",
     "output_type": "stream",
     "text": [
      "Training Batches:  24%|██▎       | 154/652 [1:02:23<3:23:39, 24.54s/batch]"
     ]
    },
    {
     "name": "stdout",
     "output_type": "stream",
     "text": [
      "hipnn_automatic_doublet flag is True. Molecules with odd number of electrons are treated as doublets.\n",
      "\n",
      "hipnn_automatic_doublet flag is True. Molecules with odd number of electrons are treated as doublets.\n",
      "\n",
      "did not converge 2\n"
     ]
    },
    {
     "name": "stderr",
     "output_type": "stream",
     "text": [
      "Training Batches:  24%|██▍       | 155/652 [1:02:49<3:28:28, 25.17s/batch]"
     ]
    },
    {
     "name": "stdout",
     "output_type": "stream",
     "text": [
      "hipnn_automatic_doublet flag is True. Molecules with odd number of electrons are treated as doublets.\n",
      "\n",
      "hipnn_automatic_doublet flag is True. Molecules with odd number of electrons are treated as doublets.\n",
      "\n",
      "did not converge 1\n"
     ]
    },
    {
     "name": "stderr",
     "output_type": "stream",
     "text": [
      "Training Batches:  24%|██▍       | 156/652 [1:03:15<3:30:30, 25.46s/batch]"
     ]
    },
    {
     "name": "stdout",
     "output_type": "stream",
     "text": [
      "hipnn_automatic_doublet flag is True. Molecules with odd number of electrons are treated as doublets.\n",
      "\n",
      "hipnn_automatic_doublet flag is True. Molecules with odd number of electrons are treated as doublets.\n",
      "\n"
     ]
    },
    {
     "name": "stderr",
     "output_type": "stream",
     "text": [
      "Training Batches:  24%|██▍       | 157/652 [1:03:38<3:22:02, 24.49s/batch]"
     ]
    },
    {
     "name": "stdout",
     "output_type": "stream",
     "text": [
      "hipnn_automatic_doublet flag is True. Molecules with odd number of electrons are treated as doublets.\n",
      "\n",
      "hipnn_automatic_doublet flag is True. Molecules with odd number of electrons are treated as doublets.\n",
      "\n"
     ]
    },
    {
     "name": "stderr",
     "output_type": "stream",
     "text": [
      "Training Batches:  24%|██▍       | 158/652 [1:04:00<3:17:24, 23.98s/batch]"
     ]
    },
    {
     "name": "stdout",
     "output_type": "stream",
     "text": [
      "hipnn_automatic_doublet flag is True. Molecules with odd number of electrons are treated as doublets.\n",
      "\n",
      "hipnn_automatic_doublet flag is True. Molecules with odd number of electrons are treated as doublets.\n",
      "\n"
     ]
    },
    {
     "name": "stderr",
     "output_type": "stream",
     "text": [
      "Training Batches:  24%|██▍       | 159/652 [1:04:23<3:13:25, 23.54s/batch]"
     ]
    },
    {
     "name": "stdout",
     "output_type": "stream",
     "text": [
      "hipnn_automatic_doublet flag is True. Molecules with odd number of electrons are treated as doublets.\n",
      "\n",
      "hipnn_automatic_doublet flag is True. Molecules with odd number of electrons are treated as doublets.\n",
      "\n"
     ]
    },
    {
     "name": "stderr",
     "output_type": "stream",
     "text": [
      "Training Batches:  25%|██▍       | 160/652 [1:04:47<3:15:16, 23.81s/batch]"
     ]
    },
    {
     "name": "stdout",
     "output_type": "stream",
     "text": [
      "hipnn_automatic_doublet flag is True. Molecules with odd number of electrons are treated as doublets.\n",
      "\n",
      "hipnn_automatic_doublet flag is True. Molecules with odd number of electrons are treated as doublets.\n",
      "\n",
      "did not converge 1\n"
     ]
    },
    {
     "name": "stderr",
     "output_type": "stream",
     "text": [
      "Training Batches:  25%|██▍       | 161/652 [1:05:12<3:16:31, 24.02s/batch]"
     ]
    },
    {
     "name": "stdout",
     "output_type": "stream",
     "text": [
      "hipnn_automatic_doublet flag is True. Molecules with odd number of electrons are treated as doublets.\n",
      "\n",
      "hipnn_automatic_doublet flag is True. Molecules with odd number of electrons are treated as doublets.\n",
      "\n"
     ]
    },
    {
     "name": "stderr",
     "output_type": "stream",
     "text": [
      "Training Batches:  25%|██▍       | 162/652 [1:05:36<3:15:57, 23.99s/batch]"
     ]
    },
    {
     "name": "stdout",
     "output_type": "stream",
     "text": [
      "hipnn_automatic_doublet flag is True. Molecules with odd number of electrons are treated as doublets.\n",
      "\n",
      "hipnn_automatic_doublet flag is True. Molecules with odd number of electrons are treated as doublets.\n",
      "\n"
     ]
    },
    {
     "name": "stderr",
     "output_type": "stream",
     "text": [
      "Training Batches:  25%|██▌       | 163/652 [1:06:00<3:16:22, 24.09s/batch]"
     ]
    },
    {
     "name": "stdout",
     "output_type": "stream",
     "text": [
      "hipnn_automatic_doublet flag is True. Molecules with odd number of electrons are treated as doublets.\n",
      "\n",
      "hipnn_automatic_doublet flag is True. Molecules with odd number of electrons are treated as doublets.\n",
      "\n"
     ]
    },
    {
     "name": "stderr",
     "output_type": "stream",
     "text": [
      "Training Batches:  25%|██▌       | 164/652 [1:06:26<3:19:23, 24.52s/batch]"
     ]
    },
    {
     "name": "stdout",
     "output_type": "stream",
     "text": [
      "hipnn_automatic_doublet flag is True. Molecules with odd number of electrons are treated as doublets.\n",
      "\n",
      "hipnn_automatic_doublet flag is True. Molecules with odd number of electrons are treated as doublets.\n",
      "\n",
      "did not converge 1\n"
     ]
    },
    {
     "name": "stderr",
     "output_type": "stream",
     "text": [
      "Training Batches:  25%|██▌       | 165/652 [1:06:50<3:19:16, 24.55s/batch]"
     ]
    },
    {
     "name": "stdout",
     "output_type": "stream",
     "text": [
      "hipnn_automatic_doublet flag is True. Molecules with odd number of electrons are treated as doublets.\n",
      "\n",
      "hipnn_automatic_doublet flag is True. Molecules with odd number of electrons are treated as doublets.\n",
      "\n"
     ]
    },
    {
     "name": "stderr",
     "output_type": "stream",
     "text": [
      "Training Batches:  25%|██▌       | 166/652 [1:07:16<3:22:36, 25.01s/batch]"
     ]
    },
    {
     "name": "stdout",
     "output_type": "stream",
     "text": [
      "hipnn_automatic_doublet flag is True. Molecules with odd number of electrons are treated as doublets.\n",
      "\n",
      "hipnn_automatic_doublet flag is True. Molecules with odd number of electrons are treated as doublets.\n",
      "\n",
      "did not converge 1\n"
     ]
    },
    {
     "name": "stderr",
     "output_type": "stream",
     "text": [
      "Training Batches:  26%|██▌       | 167/652 [1:07:41<3:21:33, 24.94s/batch]"
     ]
    },
    {
     "name": "stdout",
     "output_type": "stream",
     "text": [
      "hipnn_automatic_doublet flag is True. Molecules with odd number of electrons are treated as doublets.\n",
      "\n",
      "hipnn_automatic_doublet flag is True. Molecules with odd number of electrons are treated as doublets.\n",
      "\n"
     ]
    },
    {
     "name": "stderr",
     "output_type": "stream",
     "text": [
      "Training Batches:  26%|██▌       | 168/652 [1:08:04<3:17:06, 24.43s/batch]"
     ]
    },
    {
     "name": "stdout",
     "output_type": "stream",
     "text": [
      "hipnn_automatic_doublet flag is True. Molecules with odd number of electrons are treated as doublets.\n",
      "\n",
      "hipnn_automatic_doublet flag is True. Molecules with odd number of electrons are treated as doublets.\n",
      "\n",
      "did not converge 1\n"
     ]
    },
    {
     "name": "stderr",
     "output_type": "stream",
     "text": [
      "Training Batches:  26%|██▌       | 169/652 [1:08:30<3:18:49, 24.70s/batch]"
     ]
    },
    {
     "name": "stdout",
     "output_type": "stream",
     "text": [
      "hipnn_automatic_doublet flag is True. Molecules with odd number of electrons are treated as doublets.\n",
      "\n",
      "hipnn_automatic_doublet flag is True. Molecules with odd number of electrons are treated as doublets.\n",
      "\n"
     ]
    },
    {
     "name": "stderr",
     "output_type": "stream",
     "text": [
      "Training Batches:  26%|██▌       | 170/652 [1:08:53<3:14:10, 24.17s/batch]"
     ]
    },
    {
     "name": "stdout",
     "output_type": "stream",
     "text": [
      "hipnn_automatic_doublet flag is True. Molecules with odd number of electrons are treated as doublets.\n",
      "\n",
      "hipnn_automatic_doublet flag is True. Molecules with odd number of electrons are treated as doublets.\n",
      "\n"
     ]
    },
    {
     "name": "stderr",
     "output_type": "stream",
     "text": [
      "Training Batches:  26%|██▌       | 171/652 [1:09:16<3:11:39, 23.91s/batch]"
     ]
    },
    {
     "name": "stdout",
     "output_type": "stream",
     "text": [
      "hipnn_automatic_doublet flag is True. Molecules with odd number of electrons are treated as doublets.\n",
      "\n",
      "hipnn_automatic_doublet flag is True. Molecules with odd number of electrons are treated as doublets.\n",
      "\n"
     ]
    },
    {
     "name": "stderr",
     "output_type": "stream",
     "text": [
      "Training Batches:  26%|██▋       | 172/652 [1:09:40<3:12:10, 24.02s/batch]"
     ]
    },
    {
     "name": "stdout",
     "output_type": "stream",
     "text": [
      "hipnn_automatic_doublet flag is True. Molecules with odd number of electrons are treated as doublets.\n",
      "\n",
      "hipnn_automatic_doublet flag is True. Molecules with odd number of electrons are treated as doublets.\n",
      "\n",
      "did not converge 1\n"
     ]
    },
    {
     "name": "stderr",
     "output_type": "stream",
     "text": [
      "Training Batches:  27%|██▋       | 173/652 [1:10:07<3:18:28, 24.86s/batch]"
     ]
    },
    {
     "name": "stdout",
     "output_type": "stream",
     "text": [
      "hipnn_automatic_doublet flag is True. Molecules with odd number of electrons are treated as doublets.\n",
      "\n",
      "hipnn_automatic_doublet flag is True. Molecules with odd number of electrons are treated as doublets.\n",
      "\n",
      "did not converge 1\n"
     ]
    },
    {
     "name": "stderr",
     "output_type": "stream",
     "text": [
      "Training Batches:  27%|██▋       | 174/652 [1:10:34<3:22:08, 25.37s/batch]"
     ]
    },
    {
     "name": "stdout",
     "output_type": "stream",
     "text": [
      "hipnn_automatic_doublet flag is True. Molecules with odd number of electrons are treated as doublets.\n",
      "\n",
      "hipnn_automatic_doublet flag is True. Molecules with odd number of electrons are treated as doublets.\n",
      "\n"
     ]
    },
    {
     "name": "stderr",
     "output_type": "stream",
     "text": [
      "Training Batches:  27%|██▋       | 175/652 [1:10:59<3:22:13, 25.44s/batch]"
     ]
    },
    {
     "name": "stdout",
     "output_type": "stream",
     "text": [
      "hipnn_automatic_doublet flag is True. Molecules with odd number of electrons are treated as doublets.\n",
      "\n",
      "hipnn_automatic_doublet flag is True. Molecules with odd number of electrons are treated as doublets.\n",
      "\n"
     ]
    },
    {
     "name": "stderr",
     "output_type": "stream",
     "text": [
      "Training Batches:  27%|██▋       | 176/652 [1:11:24<3:21:25, 25.39s/batch]"
     ]
    },
    {
     "name": "stdout",
     "output_type": "stream",
     "text": [
      "hipnn_automatic_doublet flag is True. Molecules with odd number of electrons are treated as doublets.\n",
      "\n",
      "hipnn_automatic_doublet flag is True. Molecules with odd number of electrons are treated as doublets.\n",
      "\n"
     ]
    },
    {
     "name": "stderr",
     "output_type": "stream",
     "text": [
      "Training Batches:  27%|██▋       | 177/652 [1:11:51<3:22:54, 25.63s/batch]"
     ]
    },
    {
     "name": "stdout",
     "output_type": "stream",
     "text": [
      "hipnn_automatic_doublet flag is True. Molecules with odd number of electrons are treated as doublets.\n",
      "\n",
      "hipnn_automatic_doublet flag is True. Molecules with odd number of electrons are treated as doublets.\n",
      "\n"
     ]
    },
    {
     "name": "stderr",
     "output_type": "stream",
     "text": [
      "Training Batches:  27%|██▋       | 178/652 [1:12:16<3:22:21, 25.62s/batch]"
     ]
    },
    {
     "name": "stdout",
     "output_type": "stream",
     "text": [
      "hipnn_automatic_doublet flag is True. Molecules with odd number of electrons are treated as doublets.\n",
      "\n",
      "hipnn_automatic_doublet flag is True. Molecules with odd number of electrons are treated as doublets.\n",
      "\n"
     ]
    },
    {
     "name": "stderr",
     "output_type": "stream",
     "text": [
      "Training Batches:  27%|██▋       | 179/652 [1:12:39<3:14:45, 24.70s/batch]"
     ]
    },
    {
     "name": "stdout",
     "output_type": "stream",
     "text": [
      "hipnn_automatic_doublet flag is True. Molecules with odd number of electrons are treated as doublets.\n",
      "\n",
      "hipnn_automatic_doublet flag is True. Molecules with odd number of electrons are treated as doublets.\n",
      "\n"
     ]
    },
    {
     "name": "stderr",
     "output_type": "stream",
     "text": [
      "Training Batches:  28%|██▊       | 180/652 [1:13:02<3:10:02, 24.16s/batch]"
     ]
    },
    {
     "name": "stdout",
     "output_type": "stream",
     "text": [
      "hipnn_automatic_doublet flag is True. Molecules with odd number of electrons are treated as doublets.\n",
      "\n",
      "hipnn_automatic_doublet flag is True. Molecules with odd number of electrons are treated as doublets.\n",
      "\n"
     ]
    },
    {
     "name": "stderr",
     "output_type": "stream",
     "text": [
      "Training Batches:  28%|██▊       | 181/652 [1:13:29<3:16:49, 25.07s/batch]"
     ]
    },
    {
     "name": "stdout",
     "output_type": "stream",
     "text": [
      "hipnn_automatic_doublet flag is True. Molecules with odd number of electrons are treated as doublets.\n",
      "\n",
      "hipnn_automatic_doublet flag is True. Molecules with odd number of electrons are treated as doublets.\n",
      "\n",
      "did not converge 1\n"
     ]
    },
    {
     "name": "stderr",
     "output_type": "stream",
     "text": [
      "Training Batches:  28%|██▊       | 182/652 [1:13:55<3:19:44, 25.50s/batch]"
     ]
    },
    {
     "name": "stdout",
     "output_type": "stream",
     "text": [
      "hipnn_automatic_doublet flag is True. Molecules with odd number of electrons are treated as doublets.\n",
      "\n",
      "hipnn_automatic_doublet flag is True. Molecules with odd number of electrons are treated as doublets.\n",
      "\n"
     ]
    },
    {
     "name": "stderr",
     "output_type": "stream",
     "text": [
      "Training Batches:  28%|██▊       | 183/652 [1:14:20<3:17:25, 25.26s/batch]"
     ]
    },
    {
     "name": "stdout",
     "output_type": "stream",
     "text": [
      "hipnn_automatic_doublet flag is True. Molecules with odd number of electrons are treated as doublets.\n",
      "\n",
      "hipnn_automatic_doublet flag is True. Molecules with odd number of electrons are treated as doublets.\n",
      "\n"
     ]
    },
    {
     "name": "stderr",
     "output_type": "stream",
     "text": [
      "Training Batches:  28%|██▊       | 184/652 [1:14:43<3:12:47, 24.72s/batch]"
     ]
    },
    {
     "name": "stdout",
     "output_type": "stream",
     "text": [
      "hipnn_automatic_doublet flag is True. Molecules with odd number of electrons are treated as doublets.\n",
      "\n",
      "hipnn_automatic_doublet flag is True. Molecules with odd number of electrons are treated as doublets.\n",
      "\n"
     ]
    },
    {
     "name": "stderr",
     "output_type": "stream",
     "text": [
      "Training Batches:  28%|██▊       | 185/652 [1:15:08<3:11:32, 24.61s/batch]"
     ]
    },
    {
     "name": "stdout",
     "output_type": "stream",
     "text": [
      "hipnn_automatic_doublet flag is True. Molecules with odd number of electrons are treated as doublets.\n",
      "\n",
      "hipnn_automatic_doublet flag is True. Molecules with odd number of electrons are treated as doublets.\n",
      "\n",
      "did not converge 1\n"
     ]
    },
    {
     "name": "stderr",
     "output_type": "stream",
     "text": [
      "Training Batches:  29%|██▊       | 186/652 [1:15:33<3:12:46, 24.82s/batch]"
     ]
    },
    {
     "name": "stdout",
     "output_type": "stream",
     "text": [
      "hipnn_automatic_doublet flag is True. Molecules with odd number of electrons are treated as doublets.\n",
      "\n",
      "hipnn_automatic_doublet flag is True. Molecules with odd number of electrons are treated as doublets.\n",
      "\n"
     ]
    },
    {
     "name": "stderr",
     "output_type": "stream",
     "text": [
      "Training Batches:  29%|██▊       | 187/652 [1:15:59<3:14:05, 25.04s/batch]"
     ]
    },
    {
     "name": "stdout",
     "output_type": "stream",
     "text": [
      "hipnn_automatic_doublet flag is True. Molecules with odd number of electrons are treated as doublets.\n",
      "\n",
      "hipnn_automatic_doublet flag is True. Molecules with odd number of electrons are treated as doublets.\n",
      "\n"
     ]
    },
    {
     "name": "stderr",
     "output_type": "stream",
     "text": [
      "Training Batches:  29%|██▉       | 188/652 [1:16:24<3:13:57, 25.08s/batch]"
     ]
    },
    {
     "name": "stdout",
     "output_type": "stream",
     "text": [
      "hipnn_automatic_doublet flag is True. Molecules with odd number of electrons are treated as doublets.\n",
      "\n",
      "hipnn_automatic_doublet flag is True. Molecules with odd number of electrons are treated as doublets.\n",
      "\n",
      "did not converge 1\n"
     ]
    },
    {
     "name": "stderr",
     "output_type": "stream",
     "text": [
      "Training Batches:  29%|██▉       | 189/652 [1:16:51<3:18:48, 25.76s/batch]"
     ]
    },
    {
     "name": "stdout",
     "output_type": "stream",
     "text": [
      "hipnn_automatic_doublet flag is True. Molecules with odd number of electrons are treated as doublets.\n",
      "\n",
      "hipnn_automatic_doublet flag is True. Molecules with odd number of electrons are treated as doublets.\n",
      "\n"
     ]
    },
    {
     "name": "stderr",
     "output_type": "stream",
     "text": [
      "Training Batches:  29%|██▉       | 190/652 [1:17:16<3:15:11, 25.35s/batch]"
     ]
    },
    {
     "name": "stdout",
     "output_type": "stream",
     "text": [
      "hipnn_automatic_doublet flag is True. Molecules with odd number of electrons are treated as doublets.\n",
      "\n",
      "hipnn_automatic_doublet flag is True. Molecules with odd number of electrons are treated as doublets.\n",
      "\n",
      "did not converge 1\n"
     ]
    },
    {
     "name": "stderr",
     "output_type": "stream",
     "text": [
      "Training Batches:  29%|██▉       | 191/652 [1:17:42<3:16:30, 25.58s/batch]"
     ]
    },
    {
     "name": "stdout",
     "output_type": "stream",
     "text": [
      "hipnn_automatic_doublet flag is True. Molecules with odd number of electrons are treated as doublets.\n",
      "\n",
      "hipnn_automatic_doublet flag is True. Molecules with odd number of electrons are treated as doublets.\n",
      "\n"
     ]
    },
    {
     "name": "stderr",
     "output_type": "stream",
     "text": [
      "Training Batches:  29%|██▉       | 192/652 [1:18:07<3:14:35, 25.38s/batch]"
     ]
    },
    {
     "name": "stdout",
     "output_type": "stream",
     "text": [
      "hipnn_automatic_doublet flag is True. Molecules with odd number of electrons are treated as doublets.\n",
      "\n",
      "hipnn_automatic_doublet flag is True. Molecules with odd number of electrons are treated as doublets.\n",
      "\n"
     ]
    },
    {
     "name": "stderr",
     "output_type": "stream",
     "text": [
      "Training Batches:  30%|██▉       | 193/652 [1:18:31<3:12:21, 25.15s/batch]"
     ]
    },
    {
     "name": "stdout",
     "output_type": "stream",
     "text": [
      "hipnn_automatic_doublet flag is True. Molecules with odd number of electrons are treated as doublets.\n",
      "\n",
      "hipnn_automatic_doublet flag is True. Molecules with odd number of electrons are treated as doublets.\n",
      "\n"
     ]
    },
    {
     "name": "stderr",
     "output_type": "stream",
     "text": [
      "Training Batches:  30%|██▉       | 194/652 [1:18:56<3:10:31, 24.96s/batch]"
     ]
    },
    {
     "name": "stdout",
     "output_type": "stream",
     "text": [
      "hipnn_automatic_doublet flag is True. Molecules with odd number of electrons are treated as doublets.\n",
      "\n",
      "hipnn_automatic_doublet flag is True. Molecules with odd number of electrons are treated as doublets.\n",
      "\n"
     ]
    },
    {
     "name": "stderr",
     "output_type": "stream",
     "text": [
      "Training Batches:  30%|██▉       | 195/652 [1:19:21<3:11:39, 25.16s/batch]"
     ]
    },
    {
     "name": "stdout",
     "output_type": "stream",
     "text": [
      "hipnn_automatic_doublet flag is True. Molecules with odd number of electrons are treated as doublets.\n",
      "\n",
      "hipnn_automatic_doublet flag is True. Molecules with odd number of electrons are treated as doublets.\n",
      "\n",
      "did not converge 1\n"
     ]
    },
    {
     "name": "stderr",
     "output_type": "stream",
     "text": [
      "Training Batches:  30%|███       | 196/652 [1:19:47<3:12:44, 25.36s/batch]"
     ]
    },
    {
     "name": "stdout",
     "output_type": "stream",
     "text": [
      "hipnn_automatic_doublet flag is True. Molecules with odd number of electrons are treated as doublets.\n",
      "\n",
      "hipnn_automatic_doublet flag is True. Molecules with odd number of electrons are treated as doublets.\n",
      "\n",
      "did not converge 3\n"
     ]
    },
    {
     "name": "stderr",
     "output_type": "stream",
     "text": [
      "Training Batches:  30%|███       | 197/652 [1:20:14<3:15:16, 25.75s/batch]"
     ]
    },
    {
     "name": "stdout",
     "output_type": "stream",
     "text": [
      "hipnn_automatic_doublet flag is True. Molecules with odd number of electrons are treated as doublets.\n",
      "\n",
      "hipnn_automatic_doublet flag is True. Molecules with odd number of electrons are treated as doublets.\n",
      "\n"
     ]
    },
    {
     "name": "stderr",
     "output_type": "stream",
     "text": [
      "Training Batches:  30%|███       | 198/652 [1:20:38<3:10:24, 25.16s/batch]"
     ]
    },
    {
     "name": "stdout",
     "output_type": "stream",
     "text": [
      "hipnn_automatic_doublet flag is True. Molecules with odd number of electrons are treated as doublets.\n",
      "\n",
      "hipnn_automatic_doublet flag is True. Molecules with odd number of electrons are treated as doublets.\n",
      "\n",
      "did not converge 1\n"
     ]
    },
    {
     "name": "stderr",
     "output_type": "stream",
     "text": [
      "Training Batches:  31%|███       | 199/652 [1:21:02<3:08:23, 24.95s/batch]"
     ]
    },
    {
     "name": "stdout",
     "output_type": "stream",
     "text": [
      "hipnn_automatic_doublet flag is True. Molecules with odd number of electrons are treated as doublets.\n",
      "\n",
      "hipnn_automatic_doublet flag is True. Molecules with odd number of electrons are treated as doublets.\n",
      "\n"
     ]
    },
    {
     "name": "stderr",
     "output_type": "stream",
     "text": [
      "Training Batches:  31%|███       | 200/652 [1:21:28<3:10:21, 25.27s/batch]"
     ]
    },
    {
     "name": "stdout",
     "output_type": "stream",
     "text": [
      "hipnn_automatic_doublet flag is True. Molecules with odd number of electrons are treated as doublets.\n",
      "\n",
      "hipnn_automatic_doublet flag is True. Molecules with odd number of electrons are treated as doublets.\n",
      "\n"
     ]
    },
    {
     "name": "stderr",
     "output_type": "stream",
     "text": [
      "Training Batches:  31%|███       | 201/652 [1:21:53<3:09:22, 25.20s/batch]"
     ]
    },
    {
     "name": "stdout",
     "output_type": "stream",
     "text": [
      "hipnn_automatic_doublet flag is True. Molecules with odd number of electrons are treated as doublets.\n",
      "\n",
      "hipnn_automatic_doublet flag is True. Molecules with odd number of electrons are treated as doublets.\n",
      "\n"
     ]
    },
    {
     "name": "stderr",
     "output_type": "stream",
     "text": [
      "Training Batches:  31%|███       | 202/652 [1:22:18<3:08:32, 25.14s/batch]"
     ]
    },
    {
     "name": "stdout",
     "output_type": "stream",
     "text": [
      "hipnn_automatic_doublet flag is True. Molecules with odd number of electrons are treated as doublets.\n",
      "\n",
      "hipnn_automatic_doublet flag is True. Molecules with odd number of electrons are treated as doublets.\n",
      "\n"
     ]
    },
    {
     "name": "stderr",
     "output_type": "stream",
     "text": [
      "Training Batches:  31%|███       | 203/652 [1:22:43<3:06:21, 24.90s/batch]"
     ]
    },
    {
     "name": "stdout",
     "output_type": "stream",
     "text": [
      "hipnn_automatic_doublet flag is True. Molecules with odd number of electrons are treated as doublets.\n",
      "\n",
      "hipnn_automatic_doublet flag is True. Molecules with odd number of electrons are treated as doublets.\n",
      "\n"
     ]
    },
    {
     "name": "stderr",
     "output_type": "stream",
     "text": [
      "Training Batches:  31%|███▏      | 204/652 [1:23:08<3:07:09, 25.06s/batch]"
     ]
    },
    {
     "name": "stdout",
     "output_type": "stream",
     "text": [
      "hipnn_automatic_doublet flag is True. Molecules with odd number of electrons are treated as doublets.\n",
      "\n",
      "hipnn_automatic_doublet flag is True. Molecules with odd number of electrons are treated as doublets.\n",
      "\n"
     ]
    },
    {
     "name": "stderr",
     "output_type": "stream",
     "text": [
      "Training Batches:  31%|███▏      | 205/652 [1:23:33<3:07:41, 25.19s/batch]"
     ]
    },
    {
     "name": "stdout",
     "output_type": "stream",
     "text": [
      "hipnn_automatic_doublet flag is True. Molecules with odd number of electrons are treated as doublets.\n",
      "\n",
      "hipnn_automatic_doublet flag is True. Molecules with odd number of electrons are treated as doublets.\n",
      "\n",
      "did not converge 1\n"
     ]
    },
    {
     "name": "stderr",
     "output_type": "stream",
     "text": [
      "Training Batches:  32%|███▏      | 206/652 [1:23:57<3:04:20, 24.80s/batch]"
     ]
    },
    {
     "name": "stdout",
     "output_type": "stream",
     "text": [
      "hipnn_automatic_doublet flag is True. Molecules with odd number of electrons are treated as doublets.\n",
      "\n",
      "hipnn_automatic_doublet flag is True. Molecules with odd number of electrons are treated as doublets.\n",
      "\n"
     ]
    },
    {
     "name": "stderr",
     "output_type": "stream",
     "text": [
      "Training Batches:  32%|███▏      | 207/652 [1:24:22<3:04:27, 24.87s/batch]"
     ]
    },
    {
     "name": "stdout",
     "output_type": "stream",
     "text": [
      "hipnn_automatic_doublet flag is True. Molecules with odd number of electrons are treated as doublets.\n",
      "\n",
      "hipnn_automatic_doublet flag is True. Molecules with odd number of electrons are treated as doublets.\n",
      "\n",
      "did not converge 1\n"
     ]
    },
    {
     "name": "stderr",
     "output_type": "stream",
     "text": [
      "Training Batches:  32%|███▏      | 208/652 [1:24:49<3:08:00, 25.41s/batch]"
     ]
    },
    {
     "name": "stdout",
     "output_type": "stream",
     "text": [
      "hipnn_automatic_doublet flag is True. Molecules with odd number of electrons are treated as doublets.\n",
      "\n",
      "hipnn_automatic_doublet flag is True. Molecules with odd number of electrons are treated as doublets.\n",
      "\n"
     ]
    },
    {
     "name": "stderr",
     "output_type": "stream",
     "text": [
      "Training Batches:  32%|███▏      | 209/652 [1:25:14<3:07:24, 25.38s/batch]"
     ]
    },
    {
     "name": "stdout",
     "output_type": "stream",
     "text": [
      "hipnn_automatic_doublet flag is True. Molecules with odd number of electrons are treated as doublets.\n",
      "\n",
      "hipnn_automatic_doublet flag is True. Molecules with odd number of electrons are treated as doublets.\n",
      "\n",
      "did not converge 1\n"
     ]
    },
    {
     "name": "stderr",
     "output_type": "stream",
     "text": [
      "Training Batches:  32%|███▏      | 210/652 [1:25:38<3:04:01, 24.98s/batch]"
     ]
    },
    {
     "name": "stdout",
     "output_type": "stream",
     "text": [
      "hipnn_automatic_doublet flag is True. Molecules with odd number of electrons are treated as doublets.\n",
      "\n",
      "hipnn_automatic_doublet flag is True. Molecules with odd number of electrons are treated as doublets.\n",
      "\n"
     ]
    },
    {
     "name": "stderr",
     "output_type": "stream",
     "text": [
      "Training Batches:  32%|███▏      | 211/652 [1:26:04<3:04:32, 25.11s/batch]"
     ]
    },
    {
     "name": "stdout",
     "output_type": "stream",
     "text": [
      "hipnn_automatic_doublet flag is True. Molecules with odd number of electrons are treated as doublets.\n",
      "\n",
      "hipnn_automatic_doublet flag is True. Molecules with odd number of electrons are treated as doublets.\n",
      "\n",
      "did not converge 2\n"
     ]
    },
    {
     "name": "stderr",
     "output_type": "stream",
     "text": [
      "Training Batches:  33%|███▎      | 212/652 [1:26:30<3:07:33, 25.58s/batch]"
     ]
    },
    {
     "name": "stdout",
     "output_type": "stream",
     "text": [
      "hipnn_automatic_doublet flag is True. Molecules with odd number of electrons are treated as doublets.\n",
      "\n",
      "hipnn_automatic_doublet flag is True. Molecules with odd number of electrons are treated as doublets.\n",
      "\n"
     ]
    },
    {
     "name": "stderr",
     "output_type": "stream",
     "text": [
      "Training Batches:  33%|███▎      | 213/652 [1:26:55<3:04:58, 25.28s/batch]"
     ]
    },
    {
     "name": "stdout",
     "output_type": "stream",
     "text": [
      "hipnn_automatic_doublet flag is True. Molecules with odd number of electrons are treated as doublets.\n",
      "\n",
      "hipnn_automatic_doublet flag is True. Molecules with odd number of electrons are treated as doublets.\n",
      "\n"
     ]
    },
    {
     "name": "stderr",
     "output_type": "stream",
     "text": [
      "Training Batches:  33%|███▎      | 214/652 [1:27:19<3:02:14, 24.96s/batch]"
     ]
    },
    {
     "name": "stdout",
     "output_type": "stream",
     "text": [
      "hipnn_automatic_doublet flag is True. Molecules with odd number of electrons are treated as doublets.\n",
      "\n",
      "hipnn_automatic_doublet flag is True. Molecules with odd number of electrons are treated as doublets.\n",
      "\n"
     ]
    },
    {
     "name": "stderr",
     "output_type": "stream",
     "text": [
      "Training Batches:  33%|███▎      | 215/652 [1:27:43<2:59:00, 24.58s/batch]"
     ]
    },
    {
     "name": "stdout",
     "output_type": "stream",
     "text": [
      "hipnn_automatic_doublet flag is True. Molecules with odd number of electrons are treated as doublets.\n",
      "\n",
      "hipnn_automatic_doublet flag is True. Molecules with odd number of electrons are treated as doublets.\n",
      "\n",
      "did not converge 1\n"
     ]
    },
    {
     "name": "stderr",
     "output_type": "stream",
     "text": [
      "Training Batches:  33%|███▎      | 216/652 [1:28:09<3:01:28, 24.97s/batch]"
     ]
    },
    {
     "name": "stdout",
     "output_type": "stream",
     "text": [
      "hipnn_automatic_doublet flag is True. Molecules with odd number of electrons are treated as doublets.\n",
      "\n",
      "hipnn_automatic_doublet flag is True. Molecules with odd number of electrons are treated as doublets.\n",
      "\n"
     ]
    },
    {
     "name": "stderr",
     "output_type": "stream",
     "text": [
      "Training Batches:  33%|███▎      | 217/652 [1:28:34<3:00:33, 24.91s/batch]"
     ]
    },
    {
     "name": "stdout",
     "output_type": "stream",
     "text": [
      "hipnn_automatic_doublet flag is True. Molecules with odd number of electrons are treated as doublets.\n",
      "\n",
      "hipnn_automatic_doublet flag is True. Molecules with odd number of electrons are treated as doublets.\n",
      "\n"
     ]
    },
    {
     "name": "stderr",
     "output_type": "stream",
     "text": [
      "Training Batches:  33%|███▎      | 218/652 [1:28:57<2:56:13, 24.36s/batch]"
     ]
    },
    {
     "name": "stdout",
     "output_type": "stream",
     "text": [
      "hipnn_automatic_doublet flag is True. Molecules with odd number of electrons are treated as doublets.\n",
      "\n",
      "hipnn_automatic_doublet flag is True. Molecules with odd number of electrons are treated as doublets.\n",
      "\n"
     ]
    },
    {
     "name": "stderr",
     "output_type": "stream",
     "text": [
      "Training Batches:  34%|███▎      | 219/652 [1:29:21<2:56:13, 24.42s/batch]"
     ]
    },
    {
     "name": "stdout",
     "output_type": "stream",
     "text": [
      "hipnn_automatic_doublet flag is True. Molecules with odd number of electrons are treated as doublets.\n",
      "\n",
      "hipnn_automatic_doublet flag is True. Molecules with odd number of electrons are treated as doublets.\n",
      "\n",
      "did not converge 1\n"
     ]
    },
    {
     "name": "stderr",
     "output_type": "stream",
     "text": [
      "Training Batches:  34%|███▎      | 220/652 [1:29:46<2:56:52, 24.57s/batch]"
     ]
    },
    {
     "name": "stdout",
     "output_type": "stream",
     "text": [
      "hipnn_automatic_doublet flag is True. Molecules with odd number of electrons are treated as doublets.\n",
      "\n",
      "hipnn_automatic_doublet flag is True. Molecules with odd number of electrons are treated as doublets.\n",
      "\n"
     ]
    },
    {
     "name": "stderr",
     "output_type": "stream",
     "text": [
      "Training Batches:  34%|███▍      | 221/652 [1:30:10<2:55:00, 24.36s/batch]"
     ]
    },
    {
     "name": "stdout",
     "output_type": "stream",
     "text": [
      "hipnn_automatic_doublet flag is True. Molecules with odd number of electrons are treated as doublets.\n",
      "\n",
      "hipnn_automatic_doublet flag is True. Molecules with odd number of electrons are treated as doublets.\n",
      "\n"
     ]
    },
    {
     "name": "stderr",
     "output_type": "stream",
     "text": [
      "Training Batches:  34%|███▍      | 222/652 [1:30:34<2:53:18, 24.18s/batch]"
     ]
    },
    {
     "name": "stdout",
     "output_type": "stream",
     "text": [
      "hipnn_automatic_doublet flag is True. Molecules with odd number of electrons are treated as doublets.\n",
      "\n",
      "hipnn_automatic_doublet flag is True. Molecules with odd number of electrons are treated as doublets.\n",
      "\n"
     ]
    },
    {
     "name": "stderr",
     "output_type": "stream",
     "text": [
      "Training Batches:  34%|███▍      | 223/652 [1:30:59<2:54:13, 24.37s/batch]"
     ]
    },
    {
     "name": "stdout",
     "output_type": "stream",
     "text": [
      "hipnn_automatic_doublet flag is True. Molecules with odd number of electrons are treated as doublets.\n",
      "\n",
      "hipnn_automatic_doublet flag is True. Molecules with odd number of electrons are treated as doublets.\n",
      "\n"
     ]
    },
    {
     "name": "stderr",
     "output_type": "stream",
     "text": [
      "Training Batches:  34%|███▍      | 224/652 [1:31:22<2:52:43, 24.21s/batch]"
     ]
    },
    {
     "name": "stdout",
     "output_type": "stream",
     "text": [
      "hipnn_automatic_doublet flag is True. Molecules with odd number of electrons are treated as doublets.\n",
      "\n",
      "hipnn_automatic_doublet flag is True. Molecules with odd number of electrons are treated as doublets.\n",
      "\n"
     ]
    },
    {
     "name": "stderr",
     "output_type": "stream",
     "text": [
      "Training Batches:  35%|███▍      | 225/652 [1:31:47<2:52:57, 24.30s/batch]"
     ]
    },
    {
     "name": "stdout",
     "output_type": "stream",
     "text": [
      "hipnn_automatic_doublet flag is True. Molecules with odd number of electrons are treated as doublets.\n",
      "\n",
      "hipnn_automatic_doublet flag is True. Molecules with odd number of electrons are treated as doublets.\n",
      "\n",
      "did not converge 1\n"
     ]
    },
    {
     "name": "stderr",
     "output_type": "stream",
     "text": [
      "Training Batches:  35%|███▍      | 226/652 [1:32:11<2:51:52, 24.21s/batch]"
     ]
    },
    {
     "name": "stdout",
     "output_type": "stream",
     "text": [
      "hipnn_automatic_doublet flag is True. Molecules with odd number of electrons are treated as doublets.\n",
      "\n",
      "hipnn_automatic_doublet flag is True. Molecules with odd number of electrons are treated as doublets.\n",
      "\n"
     ]
    },
    {
     "name": "stderr",
     "output_type": "stream",
     "text": [
      "Training Batches:  35%|███▍      | 227/652 [1:32:34<2:49:14, 23.89s/batch]"
     ]
    },
    {
     "name": "stdout",
     "output_type": "stream",
     "text": [
      "hipnn_automatic_doublet flag is True. Molecules with odd number of electrons are treated as doublets.\n",
      "\n",
      "hipnn_automatic_doublet flag is True. Molecules with odd number of electrons are treated as doublets.\n",
      "\n"
     ]
    },
    {
     "name": "stderr",
     "output_type": "stream",
     "text": [
      "Training Batches:  35%|███▍      | 228/652 [1:32:57<2:46:30, 23.56s/batch]"
     ]
    },
    {
     "name": "stdout",
     "output_type": "stream",
     "text": [
      "hipnn_automatic_doublet flag is True. Molecules with odd number of electrons are treated as doublets.\n",
      "\n",
      "hipnn_automatic_doublet flag is True. Molecules with odd number of electrons are treated as doublets.\n",
      "\n"
     ]
    },
    {
     "name": "stderr",
     "output_type": "stream",
     "text": [
      "Training Batches:  35%|███▌      | 229/652 [1:33:22<2:49:54, 24.10s/batch]"
     ]
    },
    {
     "name": "stdout",
     "output_type": "stream",
     "text": [
      "hipnn_automatic_doublet flag is True. Molecules with odd number of electrons are treated as doublets.\n",
      "\n",
      "hipnn_automatic_doublet flag is True. Molecules with odd number of electrons are treated as doublets.\n",
      "\n"
     ]
    },
    {
     "name": "stderr",
     "output_type": "stream",
     "text": [
      "Training Batches:  35%|███▌      | 230/652 [1:33:47<2:51:47, 24.43s/batch]"
     ]
    },
    {
     "name": "stdout",
     "output_type": "stream",
     "text": [
      "hipnn_automatic_doublet flag is True. Molecules with odd number of electrons are treated as doublets.\n",
      "\n",
      "hipnn_automatic_doublet flag is True. Molecules with odd number of electrons are treated as doublets.\n",
      "\n"
     ]
    },
    {
     "name": "stderr",
     "output_type": "stream",
     "text": [
      "Training Batches:  35%|███▌      | 231/652 [1:34:14<2:56:27, 25.15s/batch]"
     ]
    },
    {
     "name": "stdout",
     "output_type": "stream",
     "text": [
      "hipnn_automatic_doublet flag is True. Molecules with odd number of electrons are treated as doublets.\n",
      "\n",
      "hipnn_automatic_doublet flag is True. Molecules with odd number of electrons are treated as doublets.\n",
      "\n"
     ]
    },
    {
     "name": "stderr",
     "output_type": "stream",
     "text": [
      "Training Batches:  36%|███▌      | 232/652 [1:34:39<2:55:55, 25.13s/batch]"
     ]
    },
    {
     "name": "stdout",
     "output_type": "stream",
     "text": [
      "hipnn_automatic_doublet flag is True. Molecules with odd number of electrons are treated as doublets.\n",
      "\n",
      "hipnn_automatic_doublet flag is True. Molecules with odd number of electrons are treated as doublets.\n",
      "\n"
     ]
    },
    {
     "name": "stderr",
     "output_type": "stream",
     "text": [
      "Training Batches:  36%|███▌      | 233/652 [1:35:04<2:53:58, 24.91s/batch]"
     ]
    },
    {
     "name": "stdout",
     "output_type": "stream",
     "text": [
      "hipnn_automatic_doublet flag is True. Molecules with odd number of electrons are treated as doublets.\n",
      "\n",
      "hipnn_automatic_doublet flag is True. Molecules with odd number of electrons are treated as doublets.\n",
      "\n"
     ]
    },
    {
     "name": "stderr",
     "output_type": "stream",
     "text": [
      "Training Batches:  36%|███▌      | 234/652 [1:35:27<2:50:23, 24.46s/batch]"
     ]
    },
    {
     "name": "stdout",
     "output_type": "stream",
     "text": [
      "hipnn_automatic_doublet flag is True. Molecules with odd number of electrons are treated as doublets.\n",
      "\n",
      "hipnn_automatic_doublet flag is True. Molecules with odd number of electrons are treated as doublets.\n",
      "\n"
     ]
    },
    {
     "name": "stderr",
     "output_type": "stream",
     "text": [
      "Training Batches:  36%|███▌      | 235/652 [1:35:53<2:53:15, 24.93s/batch]"
     ]
    },
    {
     "name": "stdout",
     "output_type": "stream",
     "text": [
      "hipnn_automatic_doublet flag is True. Molecules with odd number of electrons are treated as doublets.\n",
      "\n",
      "hipnn_automatic_doublet flag is True. Molecules with odd number of electrons are treated as doublets.\n",
      "\n",
      "did not converge 1\n"
     ]
    },
    {
     "name": "stderr",
     "output_type": "stream",
     "text": [
      "Training Batches:  36%|███▌      | 236/652 [1:36:22<2:59:50, 25.94s/batch]"
     ]
    },
    {
     "name": "stdout",
     "output_type": "stream",
     "text": [
      "hipnn_automatic_doublet flag is True. Molecules with odd number of electrons are treated as doublets.\n",
      "\n",
      "hipnn_automatic_doublet flag is True. Molecules with odd number of electrons are treated as doublets.\n",
      "\n"
     ]
    },
    {
     "name": "stderr",
     "output_type": "stream",
     "text": [
      "Training Batches:  36%|███▋      | 237/652 [1:36:46<2:56:01, 25.45s/batch]"
     ]
    },
    {
     "name": "stdout",
     "output_type": "stream",
     "text": [
      "hipnn_automatic_doublet flag is True. Molecules with odd number of electrons are treated as doublets.\n",
      "\n",
      "hipnn_automatic_doublet flag is True. Molecules with odd number of electrons are treated as doublets.\n",
      "\n"
     ]
    },
    {
     "name": "stderr",
     "output_type": "stream",
     "text": [
      "Training Batches:  37%|███▋      | 238/652 [1:37:11<2:55:32, 25.44s/batch]"
     ]
    },
    {
     "name": "stdout",
     "output_type": "stream",
     "text": [
      "hipnn_automatic_doublet flag is True. Molecules with odd number of electrons are treated as doublets.\n",
      "\n",
      "hipnn_automatic_doublet flag is True. Molecules with odd number of electrons are treated as doublets.\n",
      "\n"
     ]
    },
    {
     "name": "stderr",
     "output_type": "stream",
     "text": [
      "Training Batches:  37%|███▋      | 239/652 [1:37:36<2:53:18, 25.18s/batch]"
     ]
    },
    {
     "name": "stdout",
     "output_type": "stream",
     "text": [
      "hipnn_automatic_doublet flag is True. Molecules with odd number of electrons are treated as doublets.\n",
      "\n",
      "hipnn_automatic_doublet flag is True. Molecules with odd number of electrons are treated as doublets.\n",
      "\n"
     ]
    },
    {
     "name": "stderr",
     "output_type": "stream",
     "text": [
      "Training Batches:  37%|███▋      | 240/652 [1:38:02<2:53:57, 25.33s/batch]"
     ]
    },
    {
     "name": "stdout",
     "output_type": "stream",
     "text": [
      "hipnn_automatic_doublet flag is True. Molecules with odd number of electrons are treated as doublets.\n",
      "\n",
      "hipnn_automatic_doublet flag is True. Molecules with odd number of electrons are treated as doublets.\n",
      "\n"
     ]
    },
    {
     "name": "stderr",
     "output_type": "stream",
     "text": [
      "Training Batches:  37%|███▋      | 241/652 [1:38:24<2:48:28, 24.59s/batch]"
     ]
    },
    {
     "name": "stdout",
     "output_type": "stream",
     "text": [
      "hipnn_automatic_doublet flag is True. Molecules with odd number of electrons are treated as doublets.\n",
      "\n",
      "hipnn_automatic_doublet flag is True. Molecules with odd number of electrons are treated as doublets.\n",
      "\n"
     ]
    },
    {
     "name": "stderr",
     "output_type": "stream",
     "text": [
      "Training Batches:  37%|███▋      | 243/652 [1:39:18<2:56:55, 25.95s/batch]"
     ]
    },
    {
     "name": "stdout",
     "output_type": "stream",
     "text": [
      "hipnn_automatic_doublet flag is True. Molecules with odd number of electrons are treated as doublets.\n",
      "\n",
      "hipnn_automatic_doublet flag is True. Molecules with odd number of electrons are treated as doublets.\n",
      "\n"
     ]
    },
    {
     "name": "stderr",
     "output_type": "stream",
     "text": [
      "Training Batches:  37%|███▋      | 244/652 [1:39:53<3:14:23, 28.59s/batch]"
     ]
    },
    {
     "name": "stdout",
     "output_type": "stream",
     "text": [
      "hipnn_automatic_doublet flag is True. Molecules with odd number of electrons are treated as doublets.\n",
      "\n",
      "hipnn_automatic_doublet flag is True. Molecules with odd number of electrons are treated as doublets.\n",
      "\n"
     ]
    },
    {
     "name": "stderr",
     "output_type": "stream",
     "text": [
      "Training Batches:  38%|███▊      | 245/652 [1:40:19<3:08:17, 27.76s/batch]"
     ]
    },
    {
     "name": "stdout",
     "output_type": "stream",
     "text": [
      "hipnn_automatic_doublet flag is True. Molecules with odd number of electrons are treated as doublets.\n",
      "\n",
      "hipnn_automatic_doublet flag is True. Molecules with odd number of electrons are treated as doublets.\n",
      "\n"
     ]
    },
    {
     "name": "stderr",
     "output_type": "stream",
     "text": [
      "Training Batches:  38%|███▊      | 246/652 [1:40:43<3:01:16, 26.79s/batch]"
     ]
    },
    {
     "name": "stdout",
     "output_type": "stream",
     "text": [
      "hipnn_automatic_doublet flag is True. Molecules with odd number of electrons are treated as doublets.\n",
      "\n",
      "hipnn_automatic_doublet flag is True. Molecules with odd number of electrons are treated as doublets.\n",
      "\n"
     ]
    },
    {
     "name": "stderr",
     "output_type": "stream",
     "text": [
      "Training Batches:  38%|███▊      | 247/652 [1:41:12<3:03:57, 27.25s/batch]"
     ]
    },
    {
     "name": "stdout",
     "output_type": "stream",
     "text": [
      "hipnn_automatic_doublet flag is True. Molecules with odd number of electrons are treated as doublets.\n",
      "\n",
      "hipnn_automatic_doublet flag is True. Molecules with odd number of electrons are treated as doublets.\n",
      "\n",
      "did not converge 1\n"
     ]
    },
    {
     "name": "stderr",
     "output_type": "stream",
     "text": [
      "Training Batches:  38%|███▊      | 248/652 [1:41:44<3:13:50, 28.79s/batch]"
     ]
    },
    {
     "name": "stdout",
     "output_type": "stream",
     "text": [
      "hipnn_automatic_doublet flag is True. Molecules with odd number of electrons are treated as doublets.\n",
      "\n",
      "hipnn_automatic_doublet flag is True. Molecules with odd number of electrons are treated as doublets.\n",
      "\n"
     ]
    },
    {
     "name": "stderr",
     "output_type": "stream",
     "text": [
      "Training Batches:  38%|███▊      | 249/652 [1:42:10<3:08:40, 28.09s/batch]"
     ]
    },
    {
     "name": "stdout",
     "output_type": "stream",
     "text": [
      "hipnn_automatic_doublet flag is True. Molecules with odd number of electrons are treated as doublets.\n",
      "\n",
      "hipnn_automatic_doublet flag is True. Molecules with odd number of electrons are treated as doublets.\n",
      "\n"
     ]
    },
    {
     "name": "stderr",
     "output_type": "stream",
     "text": [
      "Training Batches:  38%|███▊      | 250/652 [1:42:33<2:57:39, 26.52s/batch]"
     ]
    },
    {
     "name": "stdout",
     "output_type": "stream",
     "text": [
      "hipnn_automatic_doublet flag is True. Molecules with odd number of electrons are treated as doublets.\n",
      "\n",
      "hipnn_automatic_doublet flag is True. Molecules with odd number of electrons are treated as doublets.\n",
      "\n"
     ]
    },
    {
     "name": "stderr",
     "output_type": "stream",
     "text": [
      "Training Batches:  38%|███▊      | 251/652 [1:42:57<2:52:21, 25.79s/batch]"
     ]
    },
    {
     "name": "stdout",
     "output_type": "stream",
     "text": [
      "hipnn_automatic_doublet flag is True. Molecules with odd number of electrons are treated as doublets.\n",
      "\n",
      "hipnn_automatic_doublet flag is True. Molecules with odd number of electrons are treated as doublets.\n",
      "\n"
     ]
    },
    {
     "name": "stderr",
     "output_type": "stream",
     "text": [
      "Training Batches:  39%|███▊      | 252/652 [1:43:23<2:51:35, 25.74s/batch]"
     ]
    },
    {
     "name": "stdout",
     "output_type": "stream",
     "text": [
      "hipnn_automatic_doublet flag is True. Molecules with odd number of electrons are treated as doublets.\n",
      "\n",
      "hipnn_automatic_doublet flag is True. Molecules with odd number of electrons are treated as doublets.\n",
      "\n"
     ]
    },
    {
     "name": "stderr",
     "output_type": "stream",
     "text": [
      "Training Batches:  39%|███▉      | 253/652 [1:43:49<2:51:06, 25.73s/batch]"
     ]
    },
    {
     "name": "stdout",
     "output_type": "stream",
     "text": [
      "hipnn_automatic_doublet flag is True. Molecules with odd number of electrons are treated as doublets.\n",
      "\n",
      "hipnn_automatic_doublet flag is True. Molecules with odd number of electrons are treated as doublets.\n",
      "\n",
      "did not converge 3\n"
     ]
    },
    {
     "name": "stderr",
     "output_type": "stream",
     "text": [
      "Training Batches:  39%|███▉      | 254/652 [1:44:14<2:49:46, 25.59s/batch]"
     ]
    },
    {
     "name": "stdout",
     "output_type": "stream",
     "text": [
      "hipnn_automatic_doublet flag is True. Molecules with odd number of electrons are treated as doublets.\n",
      "\n",
      "hipnn_automatic_doublet flag is True. Molecules with odd number of electrons are treated as doublets.\n",
      "\n",
      "did not converge 1\n"
     ]
    },
    {
     "name": "stderr",
     "output_type": "stream",
     "text": [
      "Training Batches:  39%|███▉      | 255/652 [1:44:39<2:48:57, 25.54s/batch]"
     ]
    },
    {
     "name": "stdout",
     "output_type": "stream",
     "text": [
      "hipnn_automatic_doublet flag is True. Molecules with odd number of electrons are treated as doublets.\n",
      "\n",
      "hipnn_automatic_doublet flag is True. Molecules with odd number of electrons are treated as doublets.\n",
      "\n"
     ]
    },
    {
     "name": "stderr",
     "output_type": "stream",
     "text": [
      "Training Batches:  39%|███▉      | 256/652 [1:45:04<2:47:35, 25.39s/batch]"
     ]
    },
    {
     "name": "stdout",
     "output_type": "stream",
     "text": [
      "hipnn_automatic_doublet flag is True. Molecules with odd number of electrons are treated as doublets.\n",
      "\n",
      "hipnn_automatic_doublet flag is True. Molecules with odd number of electrons are treated as doublets.\n",
      "\n"
     ]
    },
    {
     "name": "stderr",
     "output_type": "stream",
     "text": [
      "Training Batches:  39%|███▉      | 257/652 [1:45:28<2:43:44, 24.87s/batch]"
     ]
    },
    {
     "name": "stdout",
     "output_type": "stream",
     "text": [
      "hipnn_automatic_doublet flag is True. Molecules with odd number of electrons are treated as doublets.\n",
      "\n",
      "hipnn_automatic_doublet flag is True. Molecules with odd number of electrons are treated as doublets.\n",
      "\n"
     ]
    },
    {
     "name": "stderr",
     "output_type": "stream",
     "text": [
      "Training Batches:  40%|███▉      | 258/652 [1:45:54<2:45:33, 25.21s/batch]"
     ]
    },
    {
     "name": "stdout",
     "output_type": "stream",
     "text": [
      "hipnn_automatic_doublet flag is True. Molecules with odd number of electrons are treated as doublets.\n",
      "\n",
      "hipnn_automatic_doublet flag is True. Molecules with odd number of electrons are treated as doublets.\n",
      "\n"
     ]
    },
    {
     "name": "stderr",
     "output_type": "stream",
     "text": [
      "Training Batches:  40%|███▉      | 259/652 [1:46:20<2:45:53, 25.33s/batch]"
     ]
    },
    {
     "name": "stdout",
     "output_type": "stream",
     "text": [
      "hipnn_automatic_doublet flag is True. Molecules with odd number of electrons are treated as doublets.\n",
      "\n",
      "hipnn_automatic_doublet flag is True. Molecules with odd number of electrons are treated as doublets.\n",
      "\n"
     ]
    },
    {
     "name": "stderr",
     "output_type": "stream",
     "text": [
      "Training Batches:  40%|███▉      | 260/652 [1:46:43<2:42:18, 24.84s/batch]"
     ]
    },
    {
     "name": "stdout",
     "output_type": "stream",
     "text": [
      "hipnn_automatic_doublet flag is True. Molecules with odd number of electrons are treated as doublets.\n",
      "\n",
      "hipnn_automatic_doublet flag is True. Molecules with odd number of electrons are treated as doublets.\n",
      "\n",
      "did not converge 1\n"
     ]
    },
    {
     "name": "stderr",
     "output_type": "stream",
     "text": [
      "Training Batches:  40%|████      | 261/652 [1:47:08<2:42:28, 24.93s/batch]"
     ]
    },
    {
     "name": "stdout",
     "output_type": "stream",
     "text": [
      "hipnn_automatic_doublet flag is True. Molecules with odd number of electrons are treated as doublets.\n",
      "\n",
      "hipnn_automatic_doublet flag is True. Molecules with odd number of electrons are treated as doublets.\n",
      "\n"
     ]
    },
    {
     "name": "stderr",
     "output_type": "stream",
     "text": [
      "Training Batches:  40%|████      | 262/652 [1:47:33<2:41:20, 24.82s/batch]"
     ]
    },
    {
     "name": "stdout",
     "output_type": "stream",
     "text": [
      "hipnn_automatic_doublet flag is True. Molecules with odd number of electrons are treated as doublets.\n",
      "\n",
      "hipnn_automatic_doublet flag is True. Molecules with odd number of electrons are treated as doublets.\n",
      "\n"
     ]
    },
    {
     "name": "stderr",
     "output_type": "stream",
     "text": [
      "Training Batches:  40%|████      | 263/652 [1:47:58<2:41:26, 24.90s/batch]"
     ]
    },
    {
     "name": "stdout",
     "output_type": "stream",
     "text": [
      "hipnn_automatic_doublet flag is True. Molecules with odd number of electrons are treated as doublets.\n",
      "\n",
      "hipnn_automatic_doublet flag is True. Molecules with odd number of electrons are treated as doublets.\n",
      "\n"
     ]
    },
    {
     "name": "stderr",
     "output_type": "stream",
     "text": [
      "Training Batches:  40%|████      | 264/652 [1:48:23<2:40:46, 24.86s/batch]"
     ]
    },
    {
     "name": "stdout",
     "output_type": "stream",
     "text": [
      "hipnn_automatic_doublet flag is True. Molecules with odd number of electrons are treated as doublets.\n",
      "\n",
      "hipnn_automatic_doublet flag is True. Molecules with odd number of electrons are treated as doublets.\n",
      "\n"
     ]
    },
    {
     "name": "stderr",
     "output_type": "stream",
     "text": [
      "Training Batches:  41%|████      | 265/652 [1:48:47<2:39:47, 24.77s/batch]"
     ]
    },
    {
     "name": "stdout",
     "output_type": "stream",
     "text": [
      "hipnn_automatic_doublet flag is True. Molecules with odd number of electrons are treated as doublets.\n",
      "\n",
      "hipnn_automatic_doublet flag is True. Molecules with odd number of electrons are treated as doublets.\n",
      "\n"
     ]
    },
    {
     "name": "stderr",
     "output_type": "stream",
     "text": [
      "Training Batches:  41%|████      | 266/652 [1:49:12<2:38:05, 24.57s/batch]"
     ]
    },
    {
     "name": "stdout",
     "output_type": "stream",
     "text": [
      "hipnn_automatic_doublet flag is True. Molecules with odd number of electrons are treated as doublets.\n",
      "\n",
      "hipnn_automatic_doublet flag is True. Molecules with odd number of electrons are treated as doublets.\n",
      "\n"
     ]
    },
    {
     "name": "stderr",
     "output_type": "stream",
     "text": [
      "Training Batches:  41%|████      | 267/652 [1:49:37<2:38:31, 24.70s/batch]"
     ]
    },
    {
     "name": "stdout",
     "output_type": "stream",
     "text": [
      "hipnn_automatic_doublet flag is True. Molecules with odd number of electrons are treated as doublets.\n",
      "\n",
      "hipnn_automatic_doublet flag is True. Molecules with odd number of electrons are treated as doublets.\n",
      "\n"
     ]
    },
    {
     "name": "stderr",
     "output_type": "stream",
     "text": [
      "Training Batches:  41%|████      | 268/652 [1:50:02<2:39:03, 24.85s/batch]"
     ]
    },
    {
     "name": "stdout",
     "output_type": "stream",
     "text": [
      "hipnn_automatic_doublet flag is True. Molecules with odd number of electrons are treated as doublets.\n",
      "\n",
      "hipnn_automatic_doublet flag is True. Molecules with odd number of electrons are treated as doublets.\n",
      "\n",
      "did not converge 1\n"
     ]
    },
    {
     "name": "stderr",
     "output_type": "stream",
     "text": [
      "Training Batches:  41%|████▏     | 269/652 [1:50:27<2:38:47, 24.88s/batch]"
     ]
    },
    {
     "name": "stdout",
     "output_type": "stream",
     "text": [
      "hipnn_automatic_doublet flag is True. Molecules with odd number of electrons are treated as doublets.\n",
      "\n",
      "hipnn_automatic_doublet flag is True. Molecules with odd number of electrons are treated as doublets.\n",
      "\n"
     ]
    },
    {
     "name": "stderr",
     "output_type": "stream",
     "text": [
      "Training Batches:  41%|████▏     | 270/652 [1:50:52<2:39:54, 25.12s/batch]"
     ]
    },
    {
     "name": "stdout",
     "output_type": "stream",
     "text": [
      "hipnn_automatic_doublet flag is True. Molecules with odd number of electrons are treated as doublets.\n",
      "\n",
      "hipnn_automatic_doublet flag is True. Molecules with odd number of electrons are treated as doublets.\n",
      "\n"
     ]
    },
    {
     "name": "stderr",
     "output_type": "stream",
     "text": [
      "Training Batches:  42%|████▏     | 271/652 [1:51:25<2:53:09, 27.27s/batch]"
     ]
    },
    {
     "name": "stdout",
     "output_type": "stream",
     "text": [
      "hipnn_automatic_doublet flag is True. Molecules with odd number of electrons are treated as doublets.\n",
      "\n",
      "hipnn_automatic_doublet flag is True. Molecules with odd number of electrons are treated as doublets.\n",
      "\n"
     ]
    },
    {
     "name": "stderr",
     "output_type": "stream",
     "text": [
      "Training Batches:  42%|████▏     | 272/652 [1:51:49<2:46:57, 26.36s/batch]"
     ]
    },
    {
     "name": "stdout",
     "output_type": "stream",
     "text": [
      "hipnn_automatic_doublet flag is True. Molecules with odd number of electrons are treated as doublets.\n",
      "\n",
      "hipnn_automatic_doublet flag is True. Molecules with odd number of electrons are treated as doublets.\n",
      "\n",
      "did not converge 2\n"
     ]
    },
    {
     "name": "stderr",
     "output_type": "stream",
     "text": [
      "Training Batches:  42%|████▏     | 273/652 [1:52:15<2:45:13, 26.16s/batch]"
     ]
    },
    {
     "name": "stdout",
     "output_type": "stream",
     "text": [
      "hipnn_automatic_doublet flag is True. Molecules with odd number of electrons are treated as doublets.\n",
      "\n",
      "hipnn_automatic_doublet flag is True. Molecules with odd number of electrons are treated as doublets.\n",
      "\n"
     ]
    },
    {
     "name": "stderr",
     "output_type": "stream",
     "text": [
      "Training Batches:  42%|████▏     | 274/652 [1:52:40<2:42:35, 25.81s/batch]"
     ]
    },
    {
     "name": "stdout",
     "output_type": "stream",
     "text": [
      "hipnn_automatic_doublet flag is True. Molecules with odd number of electrons are treated as doublets.\n",
      "\n",
      "hipnn_automatic_doublet flag is True. Molecules with odd number of electrons are treated as doublets.\n",
      "\n"
     ]
    },
    {
     "name": "stderr",
     "output_type": "stream",
     "text": [
      "Training Batches:  42%|████▏     | 275/652 [1:53:04<2:39:26, 25.37s/batch]"
     ]
    },
    {
     "name": "stdout",
     "output_type": "stream",
     "text": [
      "hipnn_automatic_doublet flag is True. Molecules with odd number of electrons are treated as doublets.\n",
      "\n",
      "hipnn_automatic_doublet flag is True. Molecules with odd number of electrons are treated as doublets.\n",
      "\n"
     ]
    },
    {
     "name": "stderr",
     "output_type": "stream",
     "text": [
      "Training Batches:  42%|████▏     | 276/652 [1:53:30<2:39:55, 25.52s/batch]"
     ]
    },
    {
     "name": "stdout",
     "output_type": "stream",
     "text": [
      "hipnn_automatic_doublet flag is True. Molecules with odd number of electrons are treated as doublets.\n",
      "\n",
      "hipnn_automatic_doublet flag is True. Molecules with odd number of electrons are treated as doublets.\n",
      "\n"
     ]
    },
    {
     "name": "stderr",
     "output_type": "stream",
     "text": [
      "Training Batches:  42%|████▏     | 277/652 [1:53:55<2:39:22, 25.50s/batch]"
     ]
    },
    {
     "name": "stdout",
     "output_type": "stream",
     "text": [
      "hipnn_automatic_doublet flag is True. Molecules with odd number of electrons are treated as doublets.\n",
      "\n",
      "hipnn_automatic_doublet flag is True. Molecules with odd number of electrons are treated as doublets.\n",
      "\n"
     ]
    },
    {
     "name": "stderr",
     "output_type": "stream",
     "text": [
      "Training Batches:  43%|████▎     | 278/652 [1:54:21<2:38:38, 25.45s/batch]"
     ]
    },
    {
     "name": "stdout",
     "output_type": "stream",
     "text": [
      "hipnn_automatic_doublet flag is True. Molecules with odd number of electrons are treated as doublets.\n",
      "\n",
      "hipnn_automatic_doublet flag is True. Molecules with odd number of electrons are treated as doublets.\n",
      "\n"
     ]
    },
    {
     "name": "stderr",
     "output_type": "stream",
     "text": [
      "Training Batches:  43%|████▎     | 279/652 [1:54:45<2:36:45, 25.22s/batch]"
     ]
    },
    {
     "name": "stdout",
     "output_type": "stream",
     "text": [
      "hipnn_automatic_doublet flag is True. Molecules with odd number of electrons are treated as doublets.\n",
      "\n",
      "hipnn_automatic_doublet flag is True. Molecules with odd number of electrons are treated as doublets.\n",
      "\n"
     ]
    },
    {
     "name": "stderr",
     "output_type": "stream",
     "text": [
      "Training Batches:  43%|████▎     | 280/652 [1:55:08<2:32:12, 24.55s/batch]"
     ]
    },
    {
     "name": "stdout",
     "output_type": "stream",
     "text": [
      "hipnn_automatic_doublet flag is True. Molecules with odd number of electrons are treated as doublets.\n",
      "\n",
      "hipnn_automatic_doublet flag is True. Molecules with odd number of electrons are treated as doublets.\n",
      "\n"
     ]
    },
    {
     "name": "stderr",
     "output_type": "stream",
     "text": [
      "Training Batches:  43%|████▎     | 281/652 [1:55:34<2:33:42, 24.86s/batch]"
     ]
    },
    {
     "name": "stdout",
     "output_type": "stream",
     "text": [
      "hipnn_automatic_doublet flag is True. Molecules with odd number of electrons are treated as doublets.\n",
      "\n",
      "hipnn_automatic_doublet flag is True. Molecules with odd number of electrons are treated as doublets.\n",
      "\n"
     ]
    },
    {
     "name": "stderr",
     "output_type": "stream",
     "text": [
      "Training Batches:  43%|████▎     | 282/652 [1:55:58<2:32:11, 24.68s/batch]"
     ]
    },
    {
     "name": "stdout",
     "output_type": "stream",
     "text": [
      "hipnn_automatic_doublet flag is True. Molecules with odd number of electrons are treated as doublets.\n",
      "\n",
      "hipnn_automatic_doublet flag is True. Molecules with odd number of electrons are treated as doublets.\n",
      "\n"
     ]
    },
    {
     "name": "stderr",
     "output_type": "stream",
     "text": [
      "Training Batches:  43%|████▎     | 283/652 [1:56:22<2:30:09, 24.42s/batch]"
     ]
    },
    {
     "name": "stdout",
     "output_type": "stream",
     "text": [
      "hipnn_automatic_doublet flag is True. Molecules with odd number of electrons are treated as doublets.\n",
      "\n",
      "hipnn_automatic_doublet flag is True. Molecules with odd number of electrons are treated as doublets.\n",
      "\n"
     ]
    },
    {
     "name": "stderr",
     "output_type": "stream",
     "text": [
      "Training Batches:  44%|████▎     | 284/652 [1:56:48<2:32:13, 24.82s/batch]"
     ]
    },
    {
     "name": "stdout",
     "output_type": "stream",
     "text": [
      "hipnn_automatic_doublet flag is True. Molecules with odd number of electrons are treated as doublets.\n",
      "\n",
      "hipnn_automatic_doublet flag is True. Molecules with odd number of electrons are treated as doublets.\n",
      "\n",
      "did not converge 1\n"
     ]
    },
    {
     "name": "stderr",
     "output_type": "stream",
     "text": [
      "Training Batches:  44%|████▎     | 285/652 [1:57:14<2:34:33, 25.27s/batch]"
     ]
    },
    {
     "name": "stdout",
     "output_type": "stream",
     "text": [
      "hipnn_automatic_doublet flag is True. Molecules with odd number of electrons are treated as doublets.\n",
      "\n",
      "hipnn_automatic_doublet flag is True. Molecules with odd number of electrons are treated as doublets.\n",
      "\n"
     ]
    },
    {
     "name": "stderr",
     "output_type": "stream",
     "text": [
      "Training Batches:  44%|████▍     | 286/652 [1:57:40<2:36:20, 25.63s/batch]"
     ]
    },
    {
     "name": "stdout",
     "output_type": "stream",
     "text": [
      "hipnn_automatic_doublet flag is True. Molecules with odd number of electrons are treated as doublets.\n",
      "\n",
      "hipnn_automatic_doublet flag is True. Molecules with odd number of electrons are treated as doublets.\n",
      "\n"
     ]
    },
    {
     "name": "stderr",
     "output_type": "stream",
     "text": [
      "Training Batches:  44%|████▍     | 287/652 [1:58:05<2:34:09, 25.34s/batch]"
     ]
    },
    {
     "name": "stdout",
     "output_type": "stream",
     "text": [
      "hipnn_automatic_doublet flag is True. Molecules with odd number of electrons are treated as doublets.\n",
      "\n",
      "hipnn_automatic_doublet flag is True. Molecules with odd number of electrons are treated as doublets.\n",
      "\n"
     ]
    },
    {
     "name": "stderr",
     "output_type": "stream",
     "text": [
      "Training Batches:  44%|████▍     | 288/652 [1:58:30<2:33:04, 25.23s/batch]"
     ]
    },
    {
     "name": "stdout",
     "output_type": "stream",
     "text": [
      "hipnn_automatic_doublet flag is True. Molecules with odd number of electrons are treated as doublets.\n",
      "\n",
      "hipnn_automatic_doublet flag is True. Molecules with odd number of electrons are treated as doublets.\n",
      "\n"
     ]
    },
    {
     "name": "stderr",
     "output_type": "stream",
     "text": [
      "Training Batches:  44%|████▍     | 289/652 [1:58:54<2:29:33, 24.72s/batch]"
     ]
    },
    {
     "name": "stdout",
     "output_type": "stream",
     "text": [
      "hipnn_automatic_doublet flag is True. Molecules with odd number of electrons are treated as doublets.\n",
      "\n",
      "hipnn_automatic_doublet flag is True. Molecules with odd number of electrons are treated as doublets.\n",
      "\n"
     ]
    },
    {
     "name": "stderr",
     "output_type": "stream",
     "text": [
      "Training Batches:  44%|████▍     | 290/652 [1:59:19<2:30:37, 24.96s/batch]"
     ]
    },
    {
     "name": "stdout",
     "output_type": "stream",
     "text": [
      "hipnn_automatic_doublet flag is True. Molecules with odd number of electrons are treated as doublets.\n",
      "\n",
      "hipnn_automatic_doublet flag is True. Molecules with odd number of electrons are treated as doublets.\n",
      "\n"
     ]
    },
    {
     "name": "stderr",
     "output_type": "stream",
     "text": [
      "Training Batches:  45%|████▍     | 291/652 [1:59:44<2:30:22, 24.99s/batch]"
     ]
    },
    {
     "name": "stdout",
     "output_type": "stream",
     "text": [
      "hipnn_automatic_doublet flag is True. Molecules with odd number of electrons are treated as doublets.\n",
      "\n",
      "hipnn_automatic_doublet flag is True. Molecules with odd number of electrons are treated as doublets.\n",
      "\n",
      "did not converge 1\n"
     ]
    },
    {
     "name": "stderr",
     "output_type": "stream",
     "text": [
      "Training Batches:  45%|████▍     | 292/652 [2:00:10<2:32:10, 25.36s/batch]"
     ]
    },
    {
     "name": "stdout",
     "output_type": "stream",
     "text": [
      "hipnn_automatic_doublet flag is True. Molecules with odd number of electrons are treated as doublets.\n",
      "\n",
      "hipnn_automatic_doublet flag is True. Molecules with odd number of electrons are treated as doublets.\n",
      "\n"
     ]
    },
    {
     "name": "stderr",
     "output_type": "stream",
     "text": [
      "Training Batches:  45%|████▍     | 293/652 [2:00:35<2:29:37, 25.01s/batch]"
     ]
    },
    {
     "name": "stdout",
     "output_type": "stream",
     "text": [
      "hipnn_automatic_doublet flag is True. Molecules with odd number of electrons are treated as doublets.\n",
      "\n",
      "hipnn_automatic_doublet flag is True. Molecules with odd number of electrons are treated as doublets.\n",
      "\n"
     ]
    },
    {
     "name": "stderr",
     "output_type": "stream",
     "text": [
      "Training Batches:  45%|████▌     | 294/652 [2:01:00<2:29:16, 25.02s/batch]"
     ]
    },
    {
     "name": "stdout",
     "output_type": "stream",
     "text": [
      "hipnn_automatic_doublet flag is True. Molecules with odd number of electrons are treated as doublets.\n",
      "\n",
      "hipnn_automatic_doublet flag is True. Molecules with odd number of electrons are treated as doublets.\n",
      "\n"
     ]
    },
    {
     "name": "stderr",
     "output_type": "stream",
     "text": [
      "Training Batches:  45%|████▌     | 295/652 [2:01:24<2:27:21, 24.77s/batch]"
     ]
    },
    {
     "name": "stdout",
     "output_type": "stream",
     "text": [
      "hipnn_automatic_doublet flag is True. Molecules with odd number of electrons are treated as doublets.\n",
      "\n",
      "hipnn_automatic_doublet flag is True. Molecules with odd number of electrons are treated as doublets.\n",
      "\n"
     ]
    },
    {
     "name": "stderr",
     "output_type": "stream",
     "text": [
      "Training Batches:  45%|████▌     | 296/652 [2:01:47<2:24:42, 24.39s/batch]"
     ]
    },
    {
     "name": "stdout",
     "output_type": "stream",
     "text": [
      "hipnn_automatic_doublet flag is True. Molecules with odd number of electrons are treated as doublets.\n",
      "\n",
      "hipnn_automatic_doublet flag is True. Molecules with odd number of electrons are treated as doublets.\n",
      "\n",
      "did not converge 1\n"
     ]
    },
    {
     "name": "stderr",
     "output_type": "stream",
     "text": [
      "Training Batches:  46%|████▌     | 297/652 [2:02:13<2:26:37, 24.78s/batch]"
     ]
    },
    {
     "name": "stdout",
     "output_type": "stream",
     "text": [
      "hipnn_automatic_doublet flag is True. Molecules with odd number of electrons are treated as doublets.\n",
      "\n",
      "hipnn_automatic_doublet flag is True. Molecules with odd number of electrons are treated as doublets.\n",
      "\n"
     ]
    },
    {
     "name": "stderr",
     "output_type": "stream",
     "text": [
      "Training Batches:  46%|████▌     | 298/652 [2:02:38<2:27:19, 24.97s/batch]"
     ]
    },
    {
     "name": "stdout",
     "output_type": "stream",
     "text": [
      "hipnn_automatic_doublet flag is True. Molecules with odd number of electrons are treated as doublets.\n",
      "\n",
      "hipnn_automatic_doublet flag is True. Molecules with odd number of electrons are treated as doublets.\n",
      "\n"
     ]
    },
    {
     "name": "stderr",
     "output_type": "stream",
     "text": [
      "Training Batches:  46%|████▌     | 299/652 [2:03:04<2:27:06, 25.00s/batch]"
     ]
    },
    {
     "name": "stdout",
     "output_type": "stream",
     "text": [
      "hipnn_automatic_doublet flag is True. Molecules with odd number of electrons are treated as doublets.\n",
      "\n",
      "hipnn_automatic_doublet flag is True. Molecules with odd number of electrons are treated as doublets.\n",
      "\n"
     ]
    },
    {
     "name": "stderr",
     "output_type": "stream",
     "text": [
      "Training Batches:  46%|████▌     | 300/652 [2:03:28<2:26:02, 24.89s/batch]"
     ]
    },
    {
     "name": "stdout",
     "output_type": "stream",
     "text": [
      "hipnn_automatic_doublet flag is True. Molecules with odd number of electrons are treated as doublets.\n",
      "\n",
      "hipnn_automatic_doublet flag is True. Molecules with odd number of electrons are treated as doublets.\n",
      "\n"
     ]
    },
    {
     "name": "stderr",
     "output_type": "stream",
     "text": [
      "Training Batches:  46%|████▌     | 301/652 [2:03:54<2:26:26, 25.03s/batch]"
     ]
    },
    {
     "name": "stdout",
     "output_type": "stream",
     "text": [
      "hipnn_automatic_doublet flag is True. Molecules with odd number of electrons are treated as doublets.\n",
      "\n",
      "hipnn_automatic_doublet flag is True. Molecules with odd number of electrons are treated as doublets.\n",
      "\n"
     ]
    },
    {
     "name": "stderr",
     "output_type": "stream",
     "text": [
      "Training Batches:  46%|████▋     | 302/652 [2:04:18<2:25:33, 24.95s/batch]"
     ]
    },
    {
     "name": "stdout",
     "output_type": "stream",
     "text": [
      "hipnn_automatic_doublet flag is True. Molecules with odd number of electrons are treated as doublets.\n",
      "\n",
      "hipnn_automatic_doublet flag is True. Molecules with odd number of electrons are treated as doublets.\n",
      "\n"
     ]
    },
    {
     "name": "stderr",
     "output_type": "stream",
     "text": [
      "Training Batches:  46%|████▋     | 303/652 [2:04:43<2:25:00, 24.93s/batch]"
     ]
    },
    {
     "name": "stdout",
     "output_type": "stream",
     "text": [
      "hipnn_automatic_doublet flag is True. Molecules with odd number of electrons are treated as doublets.\n",
      "\n",
      "hipnn_automatic_doublet flag is True. Molecules with odd number of electrons are treated as doublets.\n",
      "\n"
     ]
    },
    {
     "name": "stderr",
     "output_type": "stream",
     "text": [
      "Training Batches:  47%|████▋     | 304/652 [2:05:08<2:24:53, 24.98s/batch]"
     ]
    },
    {
     "name": "stdout",
     "output_type": "stream",
     "text": [
      "hipnn_automatic_doublet flag is True. Molecules with odd number of electrons are treated as doublets.\n",
      "\n",
      "hipnn_automatic_doublet flag is True. Molecules with odd number of electrons are treated as doublets.\n",
      "\n",
      "did not converge 1\n"
     ]
    },
    {
     "name": "stderr",
     "output_type": "stream",
     "text": [
      "Training Batches:  47%|████▋     | 305/652 [2:05:33<2:23:43, 24.85s/batch]"
     ]
    },
    {
     "name": "stdout",
     "output_type": "stream",
     "text": [
      "hipnn_automatic_doublet flag is True. Molecules with odd number of electrons are treated as doublets.\n",
      "\n",
      "hipnn_automatic_doublet flag is True. Molecules with odd number of electrons are treated as doublets.\n",
      "\n"
     ]
    },
    {
     "name": "stderr",
     "output_type": "stream",
     "text": [
      "Training Batches:  47%|████▋     | 306/652 [2:05:58<2:23:31, 24.89s/batch]"
     ]
    },
    {
     "name": "stdout",
     "output_type": "stream",
     "text": [
      "hipnn_automatic_doublet flag is True. Molecules with odd number of electrons are treated as doublets.\n",
      "\n",
      "hipnn_automatic_doublet flag is True. Molecules with odd number of electrons are treated as doublets.\n",
      "\n"
     ]
    },
    {
     "name": "stderr",
     "output_type": "stream",
     "text": [
      "Training Batches:  47%|████▋     | 307/652 [2:06:22<2:21:12, 24.56s/batch]"
     ]
    },
    {
     "name": "stdout",
     "output_type": "stream",
     "text": [
      "hipnn_automatic_doublet flag is True. Molecules with odd number of electrons are treated as doublets.\n",
      "\n",
      "hipnn_automatic_doublet flag is True. Molecules with odd number of electrons are treated as doublets.\n",
      "\n"
     ]
    },
    {
     "name": "stderr",
     "output_type": "stream",
     "text": [
      "Training Batches:  47%|████▋     | 308/652 [2:06:45<2:19:31, 24.34s/batch]"
     ]
    },
    {
     "name": "stdout",
     "output_type": "stream",
     "text": [
      "hipnn_automatic_doublet flag is True. Molecules with odd number of electrons are treated as doublets.\n",
      "\n",
      "hipnn_automatic_doublet flag is True. Molecules with odd number of electrons are treated as doublets.\n",
      "\n"
     ]
    },
    {
     "name": "stderr",
     "output_type": "stream",
     "text": [
      "Training Batches:  47%|████▋     | 309/652 [2:07:11<2:20:53, 24.64s/batch]"
     ]
    },
    {
     "name": "stdout",
     "output_type": "stream",
     "text": [
      "hipnn_automatic_doublet flag is True. Molecules with odd number of electrons are treated as doublets.\n",
      "\n",
      "hipnn_automatic_doublet flag is True. Molecules with odd number of electrons are treated as doublets.\n",
      "\n"
     ]
    },
    {
     "name": "stderr",
     "output_type": "stream",
     "text": [
      "Training Batches:  48%|████▊     | 310/652 [2:07:34<2:18:41, 24.33s/batch]"
     ]
    },
    {
     "name": "stdout",
     "output_type": "stream",
     "text": [
      "hipnn_automatic_doublet flag is True. Molecules with odd number of electrons are treated as doublets.\n",
      "\n",
      "hipnn_automatic_doublet flag is True. Molecules with odd number of electrons are treated as doublets.\n",
      "\n"
     ]
    },
    {
     "name": "stderr",
     "output_type": "stream",
     "text": [
      "Training Batches:  48%|████▊     | 311/652 [2:07:58<2:17:38, 24.22s/batch]"
     ]
    },
    {
     "name": "stdout",
     "output_type": "stream",
     "text": [
      "hipnn_automatic_doublet flag is True. Molecules with odd number of electrons are treated as doublets.\n",
      "\n",
      "hipnn_automatic_doublet flag is True. Molecules with odd number of electrons are treated as doublets.\n",
      "\n"
     ]
    },
    {
     "name": "stderr",
     "output_type": "stream",
     "text": [
      "Training Batches:  48%|████▊     | 312/652 [2:08:22<2:17:00, 24.18s/batch]"
     ]
    },
    {
     "name": "stdout",
     "output_type": "stream",
     "text": [
      "hipnn_automatic_doublet flag is True. Molecules with odd number of electrons are treated as doublets.\n",
      "\n",
      "hipnn_automatic_doublet flag is True. Molecules with odd number of electrons are treated as doublets.\n",
      "\n"
     ]
    },
    {
     "name": "stderr",
     "output_type": "stream",
     "text": [
      "Training Batches:  48%|████▊     | 313/652 [2:08:49<2:20:08, 24.80s/batch]"
     ]
    },
    {
     "name": "stdout",
     "output_type": "stream",
     "text": [
      "hipnn_automatic_doublet flag is True. Molecules with odd number of electrons are treated as doublets.\n",
      "\n",
      "hipnn_automatic_doublet flag is True. Molecules with odd number of electrons are treated as doublets.\n",
      "\n"
     ]
    },
    {
     "name": "stderr",
     "output_type": "stream",
     "text": [
      "Training Batches:  48%|████▊     | 314/652 [2:09:14<2:20:48, 24.99s/batch]"
     ]
    },
    {
     "name": "stdout",
     "output_type": "stream",
     "text": [
      "hipnn_automatic_doublet flag is True. Molecules with odd number of electrons are treated as doublets.\n",
      "\n",
      "hipnn_automatic_doublet flag is True. Molecules with odd number of electrons are treated as doublets.\n",
      "\n"
     ]
    },
    {
     "name": "stderr",
     "output_type": "stream",
     "text": [
      "Training Batches:  48%|████▊     | 315/652 [2:09:40<2:22:39, 25.40s/batch]"
     ]
    },
    {
     "name": "stdout",
     "output_type": "stream",
     "text": [
      "hipnn_automatic_doublet flag is True. Molecules with odd number of electrons are treated as doublets.\n",
      "\n",
      "hipnn_automatic_doublet flag is True. Molecules with odd number of electrons are treated as doublets.\n",
      "\n"
     ]
    },
    {
     "name": "stderr",
     "output_type": "stream",
     "text": [
      "Training Batches:  48%|████▊     | 316/652 [2:10:06<2:21:42, 25.31s/batch]"
     ]
    },
    {
     "name": "stdout",
     "output_type": "stream",
     "text": [
      "hipnn_automatic_doublet flag is True. Molecules with odd number of electrons are treated as doublets.\n",
      "\n",
      "hipnn_automatic_doublet flag is True. Molecules with odd number of electrons are treated as doublets.\n",
      "\n",
      "did not converge 1\n"
     ]
    },
    {
     "name": "stderr",
     "output_type": "stream",
     "text": [
      "Training Batches:  49%|████▊     | 317/652 [2:10:32<2:22:52, 25.59s/batch]"
     ]
    },
    {
     "name": "stdout",
     "output_type": "stream",
     "text": [
      "hipnn_automatic_doublet flag is True. Molecules with odd number of electrons are treated as doublets.\n",
      "\n",
      "hipnn_automatic_doublet flag is True. Molecules with odd number of electrons are treated as doublets.\n",
      "\n"
     ]
    },
    {
     "name": "stderr",
     "output_type": "stream",
     "text": [
      "Training Batches:  49%|████▉     | 318/652 [2:10:56<2:19:46, 25.11s/batch]"
     ]
    },
    {
     "name": "stdout",
     "output_type": "stream",
     "text": [
      "hipnn_automatic_doublet flag is True. Molecules with odd number of electrons are treated as doublets.\n",
      "\n",
      "hipnn_automatic_doublet flag is True. Molecules with odd number of electrons are treated as doublets.\n",
      "\n",
      "did not converge 1\n"
     ]
    },
    {
     "name": "stderr",
     "output_type": "stream",
     "text": [
      "Training Batches:  49%|████▉     | 319/652 [2:11:23<2:22:20, 25.65s/batch]"
     ]
    },
    {
     "name": "stdout",
     "output_type": "stream",
     "text": [
      "hipnn_automatic_doublet flag is True. Molecules with odd number of electrons are treated as doublets.\n",
      "\n",
      "hipnn_automatic_doublet flag is True. Molecules with odd number of electrons are treated as doublets.\n",
      "\n"
     ]
    },
    {
     "name": "stderr",
     "output_type": "stream",
     "text": [
      "Training Batches:  49%|████▉     | 320/652 [2:11:47<2:20:06, 25.32s/batch]"
     ]
    },
    {
     "name": "stdout",
     "output_type": "stream",
     "text": [
      "hipnn_automatic_doublet flag is True. Molecules with odd number of electrons are treated as doublets.\n",
      "\n",
      "hipnn_automatic_doublet flag is True. Molecules with odd number of electrons are treated as doublets.\n",
      "\n"
     ]
    },
    {
     "name": "stderr",
     "output_type": "stream",
     "text": [
      "Training Batches:  49%|████▉     | 321/652 [2:12:12<2:19:25, 25.27s/batch]"
     ]
    },
    {
     "name": "stdout",
     "output_type": "stream",
     "text": [
      "hipnn_automatic_doublet flag is True. Molecules with odd number of electrons are treated as doublets.\n",
      "\n",
      "hipnn_automatic_doublet flag is True. Molecules with odd number of electrons are treated as doublets.\n",
      "\n",
      "did not converge 1\n"
     ]
    },
    {
     "name": "stderr",
     "output_type": "stream",
     "text": [
      "Training Batches:  49%|████▉     | 322/652 [2:12:38<2:18:46, 25.23s/batch]"
     ]
    },
    {
     "name": "stdout",
     "output_type": "stream",
     "text": [
      "hipnn_automatic_doublet flag is True. Molecules with odd number of electrons are treated as doublets.\n",
      "\n",
      "hipnn_automatic_doublet flag is True. Molecules with odd number of electrons are treated as doublets.\n",
      "\n",
      "did not converge 1\n"
     ]
    },
    {
     "name": "stderr",
     "output_type": "stream",
     "text": [
      "Training Batches:  50%|████▉     | 323/652 [2:13:03<2:18:45, 25.31s/batch]"
     ]
    },
    {
     "name": "stdout",
     "output_type": "stream",
     "text": [
      "hipnn_automatic_doublet flag is True. Molecules with odd number of electrons are treated as doublets.\n",
      "\n",
      "hipnn_automatic_doublet flag is True. Molecules with odd number of electrons are treated as doublets.\n",
      "\n"
     ]
    },
    {
     "name": "stderr",
     "output_type": "stream",
     "text": [
      "Training Batches:  50%|████▉     | 324/652 [2:13:28<2:18:36, 25.35s/batch]"
     ]
    },
    {
     "name": "stdout",
     "output_type": "stream",
     "text": [
      "hipnn_automatic_doublet flag is True. Molecules with odd number of electrons are treated as doublets.\n",
      "\n",
      "hipnn_automatic_doublet flag is True. Molecules with odd number of electrons are treated as doublets.\n",
      "\n"
     ]
    },
    {
     "name": "stderr",
     "output_type": "stream",
     "text": [
      "Training Batches:  50%|████▉     | 325/652 [2:13:53<2:17:18, 25.19s/batch]"
     ]
    },
    {
     "name": "stdout",
     "output_type": "stream",
     "text": [
      "hipnn_automatic_doublet flag is True. Molecules with odd number of electrons are treated as doublets.\n",
      "\n",
      "hipnn_automatic_doublet flag is True. Molecules with odd number of electrons are treated as doublets.\n",
      "\n"
     ]
    },
    {
     "name": "stderr",
     "output_type": "stream",
     "text": [
      "Training Batches:  50%|█████     | 326/652 [2:14:16<2:13:35, 24.59s/batch]"
     ]
    },
    {
     "name": "stdout",
     "output_type": "stream",
     "text": [
      "hipnn_automatic_doublet flag is True. Molecules with odd number of electrons are treated as doublets.\n",
      "\n",
      "hipnn_automatic_doublet flag is True. Molecules with odd number of electrons are treated as doublets.\n",
      "\n"
     ]
    },
    {
     "name": "stderr",
     "output_type": "stream",
     "text": [
      "Training Batches:  50%|█████     | 327/652 [2:14:41<2:13:26, 24.64s/batch]"
     ]
    },
    {
     "name": "stdout",
     "output_type": "stream",
     "text": [
      "hipnn_automatic_doublet flag is True. Molecules with odd number of electrons are treated as doublets.\n",
      "\n",
      "hipnn_automatic_doublet flag is True. Molecules with odd number of electrons are treated as doublets.\n",
      "\n"
     ]
    },
    {
     "name": "stderr",
     "output_type": "stream",
     "text": [
      "Training Batches:  50%|█████     | 328/652 [2:15:04<2:10:22, 24.14s/batch]"
     ]
    },
    {
     "name": "stdout",
     "output_type": "stream",
     "text": [
      "hipnn_automatic_doublet flag is True. Molecules with odd number of electrons are treated as doublets.\n",
      "\n",
      "hipnn_automatic_doublet flag is True. Molecules with odd number of electrons are treated as doublets.\n",
      "\n"
     ]
    },
    {
     "name": "stderr",
     "output_type": "stream",
     "text": [
      "Training Batches:  50%|█████     | 329/652 [2:15:26<2:05:35, 23.33s/batch]"
     ]
    },
    {
     "name": "stdout",
     "output_type": "stream",
     "text": [
      "hipnn_automatic_doublet flag is True. Molecules with odd number of electrons are treated as doublets.\n",
      "\n",
      "hipnn_automatic_doublet flag is True. Molecules with odd number of electrons are treated as doublets.\n",
      "\n"
     ]
    },
    {
     "name": "stderr",
     "output_type": "stream",
     "text": [
      "Training Batches:  51%|█████     | 330/652 [2:15:49<2:05:35, 23.40s/batch]"
     ]
    },
    {
     "name": "stdout",
     "output_type": "stream",
     "text": [
      "hipnn_automatic_doublet flag is True. Molecules with odd number of electrons are treated as doublets.\n",
      "\n",
      "hipnn_automatic_doublet flag is True. Molecules with odd number of electrons are treated as doublets.\n",
      "\n",
      "did not converge 2\n"
     ]
    },
    {
     "name": "stderr",
     "output_type": "stream",
     "text": [
      "Training Batches:  51%|█████     | 331/652 [2:16:14<2:07:09, 23.77s/batch]"
     ]
    },
    {
     "name": "stdout",
     "output_type": "stream",
     "text": [
      "hipnn_automatic_doublet flag is True. Molecules with odd number of electrons are treated as doublets.\n",
      "\n",
      "hipnn_automatic_doublet flag is True. Molecules with odd number of electrons are treated as doublets.\n",
      "\n"
     ]
    },
    {
     "name": "stderr",
     "output_type": "stream",
     "text": [
      "Training Batches:  51%|█████     | 332/652 [2:16:38<2:06:34, 23.73s/batch]"
     ]
    },
    {
     "name": "stdout",
     "output_type": "stream",
     "text": [
      "hipnn_automatic_doublet flag is True. Molecules with odd number of electrons are treated as doublets.\n",
      "\n",
      "hipnn_automatic_doublet flag is True. Molecules with odd number of electrons are treated as doublets.\n",
      "\n"
     ]
    },
    {
     "name": "stderr",
     "output_type": "stream",
     "text": [
      "Training Batches:  51%|█████     | 333/652 [2:17:00<2:04:26, 23.41s/batch]"
     ]
    },
    {
     "name": "stdout",
     "output_type": "stream",
     "text": [
      "hipnn_automatic_doublet flag is True. Molecules with odd number of electrons are treated as doublets.\n",
      "\n",
      "hipnn_automatic_doublet flag is True. Molecules with odd number of electrons are treated as doublets.\n",
      "\n"
     ]
    },
    {
     "name": "stderr",
     "output_type": "stream",
     "text": [
      "Training Batches:  51%|█████     | 334/652 [2:17:25<2:05:53, 23.75s/batch]"
     ]
    },
    {
     "name": "stdout",
     "output_type": "stream",
     "text": [
      "hipnn_automatic_doublet flag is True. Molecules with odd number of electrons are treated as doublets.\n",
      "\n",
      "hipnn_automatic_doublet flag is True. Molecules with odd number of electrons are treated as doublets.\n",
      "\n",
      "did not converge 1\n"
     ]
    },
    {
     "name": "stderr",
     "output_type": "stream",
     "text": [
      "Training Batches:  51%|█████▏    | 335/652 [2:17:50<2:08:04, 24.24s/batch]"
     ]
    },
    {
     "name": "stdout",
     "output_type": "stream",
     "text": [
      "hipnn_automatic_doublet flag is True. Molecules with odd number of electrons are treated as doublets.\n",
      "\n",
      "hipnn_automatic_doublet flag is True. Molecules with odd number of electrons are treated as doublets.\n",
      "\n"
     ]
    },
    {
     "name": "stderr",
     "output_type": "stream",
     "text": [
      "Training Batches:  52%|█████▏    | 336/652 [2:18:15<2:08:53, 24.47s/batch]"
     ]
    },
    {
     "name": "stdout",
     "output_type": "stream",
     "text": [
      "hipnn_automatic_doublet flag is True. Molecules with odd number of electrons are treated as doublets.\n",
      "\n",
      "hipnn_automatic_doublet flag is True. Molecules with odd number of electrons are treated as doublets.\n",
      "\n",
      "did not converge 1\n"
     ]
    },
    {
     "name": "stderr",
     "output_type": "stream",
     "text": [
      "Training Batches:  52%|█████▏    | 337/652 [2:18:40<2:09:22, 24.64s/batch]"
     ]
    },
    {
     "name": "stdout",
     "output_type": "stream",
     "text": [
      "hipnn_automatic_doublet flag is True. Molecules with odd number of electrons are treated as doublets.\n",
      "\n",
      "hipnn_automatic_doublet flag is True. Molecules with odd number of electrons are treated as doublets.\n",
      "\n"
     ]
    },
    {
     "name": "stderr",
     "output_type": "stream",
     "text": [
      "Training Batches:  52%|█████▏    | 338/652 [2:19:04<2:07:22, 24.34s/batch]"
     ]
    },
    {
     "name": "stdout",
     "output_type": "stream",
     "text": [
      "hipnn_automatic_doublet flag is True. Molecules with odd number of electrons are treated as doublets.\n",
      "\n",
      "hipnn_automatic_doublet flag is True. Molecules with odd number of electrons are treated as doublets.\n",
      "\n"
     ]
    },
    {
     "name": "stderr",
     "output_type": "stream",
     "text": [
      "Training Batches:  52%|█████▏    | 339/652 [2:19:27<2:05:28, 24.05s/batch]"
     ]
    },
    {
     "name": "stdout",
     "output_type": "stream",
     "text": [
      "hipnn_automatic_doublet flag is True. Molecules with odd number of electrons are treated as doublets.\n",
      "\n",
      "hipnn_automatic_doublet flag is True. Molecules with odd number of electrons are treated as doublets.\n",
      "\n"
     ]
    },
    {
     "name": "stderr",
     "output_type": "stream",
     "text": [
      "Training Batches:  52%|█████▏    | 340/652 [2:19:51<2:05:04, 24.05s/batch]"
     ]
    },
    {
     "name": "stdout",
     "output_type": "stream",
     "text": [
      "hipnn_automatic_doublet flag is True. Molecules with odd number of electrons are treated as doublets.\n",
      "\n",
      "hipnn_automatic_doublet flag is True. Molecules with odd number of electrons are treated as doublets.\n",
      "\n"
     ]
    },
    {
     "name": "stderr",
     "output_type": "stream",
     "text": [
      "Training Batches:  52%|█████▏    | 341/652 [2:20:16<2:05:47, 24.27s/batch]"
     ]
    },
    {
     "name": "stdout",
     "output_type": "stream",
     "text": [
      "hipnn_automatic_doublet flag is True. Molecules with odd number of electrons are treated as doublets.\n",
      "\n",
      "hipnn_automatic_doublet flag is True. Molecules with odd number of electrons are treated as doublets.\n",
      "\n"
     ]
    },
    {
     "name": "stderr",
     "output_type": "stream",
     "text": [
      "Training Batches:  52%|█████▏    | 342/652 [2:20:40<2:05:09, 24.23s/batch]"
     ]
    },
    {
     "name": "stdout",
     "output_type": "stream",
     "text": [
      "hipnn_automatic_doublet flag is True. Molecules with odd number of electrons are treated as doublets.\n",
      "\n",
      "hipnn_automatic_doublet flag is True. Molecules with odd number of electrons are treated as doublets.\n",
      "\n"
     ]
    },
    {
     "name": "stderr",
     "output_type": "stream",
     "text": [
      "Training Batches:  53%|█████▎    | 343/652 [2:21:05<2:05:26, 24.36s/batch]"
     ]
    },
    {
     "name": "stdout",
     "output_type": "stream",
     "text": [
      "hipnn_automatic_doublet flag is True. Molecules with odd number of electrons are treated as doublets.\n",
      "\n",
      "hipnn_automatic_doublet flag is True. Molecules with odd number of electrons are treated as doublets.\n",
      "\n"
     ]
    },
    {
     "name": "stderr",
     "output_type": "stream",
     "text": [
      "Training Batches:  53%|█████▎    | 344/652 [2:21:29<2:04:07, 24.18s/batch]"
     ]
    },
    {
     "name": "stdout",
     "output_type": "stream",
     "text": [
      "hipnn_automatic_doublet flag is True. Molecules with odd number of electrons are treated as doublets.\n",
      "\n",
      "hipnn_automatic_doublet flag is True. Molecules with odd number of electrons are treated as doublets.\n",
      "\n"
     ]
    },
    {
     "name": "stderr",
     "output_type": "stream",
     "text": [
      "Training Batches:  53%|█████▎    | 345/652 [2:21:55<2:07:37, 24.94s/batch]"
     ]
    },
    {
     "name": "stdout",
     "output_type": "stream",
     "text": [
      "hipnn_automatic_doublet flag is True. Molecules with odd number of electrons are treated as doublets.\n",
      "\n",
      "hipnn_automatic_doublet flag is True. Molecules with odd number of electrons are treated as doublets.\n",
      "\n"
     ]
    },
    {
     "name": "stderr",
     "output_type": "stream",
     "text": [
      "Training Batches:  53%|█████▎    | 346/652 [2:22:20<2:07:33, 25.01s/batch]"
     ]
    },
    {
     "name": "stdout",
     "output_type": "stream",
     "text": [
      "hipnn_automatic_doublet flag is True. Molecules with odd number of electrons are treated as doublets.\n",
      "\n",
      "hipnn_automatic_doublet flag is True. Molecules with odd number of electrons are treated as doublets.\n",
      "\n"
     ]
    },
    {
     "name": "stderr",
     "output_type": "stream",
     "text": [
      "Training Batches:  53%|█████▎    | 347/652 [2:22:47<2:10:08, 25.60s/batch]"
     ]
    },
    {
     "name": "stdout",
     "output_type": "stream",
     "text": [
      "hipnn_automatic_doublet flag is True. Molecules with odd number of electrons are treated as doublets.\n",
      "\n",
      "hipnn_automatic_doublet flag is True. Molecules with odd number of electrons are treated as doublets.\n",
      "\n"
     ]
    },
    {
     "name": "stderr",
     "output_type": "stream",
     "text": [
      "Training Batches:  53%|█████▎    | 348/652 [2:23:15<2:13:06, 26.27s/batch]"
     ]
    },
    {
     "name": "stdout",
     "output_type": "stream",
     "text": [
      "hipnn_automatic_doublet flag is True. Molecules with odd number of electrons are treated as doublets.\n",
      "\n",
      "hipnn_automatic_doublet flag is True. Molecules with odd number of electrons are treated as doublets.\n",
      "\n"
     ]
    },
    {
     "name": "stderr",
     "output_type": "stream",
     "text": [
      "Training Batches:  54%|█████▎    | 349/652 [2:23:39<2:08:47, 25.50s/batch]"
     ]
    },
    {
     "name": "stdout",
     "output_type": "stream",
     "text": [
      "hipnn_automatic_doublet flag is True. Molecules with odd number of electrons are treated as doublets.\n",
      "\n",
      "hipnn_automatic_doublet flag is True. Molecules with odd number of electrons are treated as doublets.\n",
      "\n"
     ]
    },
    {
     "name": "stderr",
     "output_type": "stream",
     "text": [
      "Training Batches:  54%|█████▎    | 350/652 [2:24:05<2:08:27, 25.52s/batch]"
     ]
    },
    {
     "name": "stdout",
     "output_type": "stream",
     "text": [
      "hipnn_automatic_doublet flag is True. Molecules with odd number of electrons are treated as doublets.\n",
      "\n",
      "hipnn_automatic_doublet flag is True. Molecules with odd number of electrons are treated as doublets.\n",
      "\n"
     ]
    },
    {
     "name": "stderr",
     "output_type": "stream",
     "text": [
      "Training Batches:  54%|█████▍    | 351/652 [2:24:29<2:06:43, 25.26s/batch]"
     ]
    },
    {
     "name": "stdout",
     "output_type": "stream",
     "text": [
      "hipnn_automatic_doublet flag is True. Molecules with odd number of electrons are treated as doublets.\n",
      "\n",
      "hipnn_automatic_doublet flag is True. Molecules with odd number of electrons are treated as doublets.\n",
      "\n"
     ]
    },
    {
     "name": "stderr",
     "output_type": "stream",
     "text": [
      "Training Batches:  54%|█████▍    | 352/652 [2:24:56<2:09:06, 25.82s/batch]"
     ]
    },
    {
     "name": "stdout",
     "output_type": "stream",
     "text": [
      "hipnn_automatic_doublet flag is True. Molecules with odd number of electrons are treated as doublets.\n",
      "\n",
      "hipnn_automatic_doublet flag is True. Molecules with odd number of electrons are treated as doublets.\n",
      "\n"
     ]
    },
    {
     "name": "stderr",
     "output_type": "stream",
     "text": [
      "Training Batches:  54%|█████▍    | 353/652 [2:25:20<2:06:06, 25.31s/batch]"
     ]
    },
    {
     "name": "stdout",
     "output_type": "stream",
     "text": [
      "hipnn_automatic_doublet flag is True. Molecules with odd number of electrons are treated as doublets.\n",
      "\n",
      "hipnn_automatic_doublet flag is True. Molecules with odd number of electrons are treated as doublets.\n",
      "\n"
     ]
    },
    {
     "name": "stderr",
     "output_type": "stream",
     "text": [
      "Training Batches:  54%|█████▍    | 354/652 [2:25:43<2:01:45, 24.51s/batch]"
     ]
    },
    {
     "name": "stdout",
     "output_type": "stream",
     "text": [
      "hipnn_automatic_doublet flag is True. Molecules with odd number of electrons are treated as doublets.\n",
      "\n",
      "hipnn_automatic_doublet flag is True. Molecules with odd number of electrons are treated as doublets.\n",
      "\n"
     ]
    },
    {
     "name": "stderr",
     "output_type": "stream",
     "text": [
      "Training Batches:  54%|█████▍    | 355/652 [2:26:08<2:02:03, 24.66s/batch]"
     ]
    },
    {
     "name": "stdout",
     "output_type": "stream",
     "text": [
      "hipnn_automatic_doublet flag is True. Molecules with odd number of electrons are treated as doublets.\n",
      "\n",
      "hipnn_automatic_doublet flag is True. Molecules with odd number of electrons are treated as doublets.\n",
      "\n"
     ]
    },
    {
     "name": "stderr",
     "output_type": "stream",
     "text": [
      "Training Batches:  55%|█████▍    | 356/652 [2:26:33<2:01:41, 24.67s/batch]"
     ]
    },
    {
     "name": "stdout",
     "output_type": "stream",
     "text": [
      "hipnn_automatic_doublet flag is True. Molecules with odd number of electrons are treated as doublets.\n",
      "\n",
      "hipnn_automatic_doublet flag is True. Molecules with odd number of electrons are treated as doublets.\n",
      "\n"
     ]
    },
    {
     "name": "stderr",
     "output_type": "stream",
     "text": [
      "Training Batches:  55%|█████▍    | 357/652 [2:26:58<2:02:09, 24.85s/batch]"
     ]
    },
    {
     "name": "stdout",
     "output_type": "stream",
     "text": [
      "hipnn_automatic_doublet flag is True. Molecules with odd number of electrons are treated as doublets.\n",
      "\n",
      "hipnn_automatic_doublet flag is True. Molecules with odd number of electrons are treated as doublets.\n",
      "\n",
      "did not converge 1\n"
     ]
    },
    {
     "name": "stderr",
     "output_type": "stream",
     "text": [
      "Training Batches:  55%|█████▍    | 358/652 [2:27:23<2:01:44, 24.84s/batch]"
     ]
    },
    {
     "name": "stdout",
     "output_type": "stream",
     "text": [
      "hipnn_automatic_doublet flag is True. Molecules with odd number of electrons are treated as doublets.\n",
      "\n",
      "hipnn_automatic_doublet flag is True. Molecules with odd number of electrons are treated as doublets.\n",
      "\n",
      "did not converge 1\n"
     ]
    },
    {
     "name": "stderr",
     "output_type": "stream",
     "text": [
      "Training Batches:  55%|█████▌    | 359/652 [2:27:48<2:01:02, 24.78s/batch]"
     ]
    },
    {
     "name": "stdout",
     "output_type": "stream",
     "text": [
      "hipnn_automatic_doublet flag is True. Molecules with odd number of electrons are treated as doublets.\n",
      "\n",
      "hipnn_automatic_doublet flag is True. Molecules with odd number of electrons are treated as doublets.\n",
      "\n",
      "did not converge 1\n"
     ]
    },
    {
     "name": "stderr",
     "output_type": "stream",
     "text": [
      "Training Batches:  55%|█████▌    | 360/652 [2:28:13<2:01:57, 25.06s/batch]"
     ]
    },
    {
     "name": "stdout",
     "output_type": "stream",
     "text": [
      "hipnn_automatic_doublet flag is True. Molecules with odd number of electrons are treated as doublets.\n",
      "\n",
      "hipnn_automatic_doublet flag is True. Molecules with odd number of electrons are treated as doublets.\n",
      "\n"
     ]
    },
    {
     "name": "stderr",
     "output_type": "stream",
     "text": [
      "Training Batches:  55%|█████▌    | 361/652 [2:28:35<1:57:02, 24.13s/batch]"
     ]
    },
    {
     "name": "stdout",
     "output_type": "stream",
     "text": [
      "hipnn_automatic_doublet flag is True. Molecules with odd number of electrons are treated as doublets.\n",
      "\n",
      "hipnn_automatic_doublet flag is True. Molecules with odd number of electrons are treated as doublets.\n",
      "\n",
      "did not converge 1\n"
     ]
    },
    {
     "name": "stderr",
     "output_type": "stream",
     "text": [
      "Training Batches:  56%|█████▌    | 362/652 [2:29:00<1:57:56, 24.40s/batch]"
     ]
    },
    {
     "name": "stdout",
     "output_type": "stream",
     "text": [
      "hipnn_automatic_doublet flag is True. Molecules with odd number of electrons are treated as doublets.\n",
      "\n",
      "hipnn_automatic_doublet flag is True. Molecules with odd number of electrons are treated as doublets.\n",
      "\n"
     ]
    },
    {
     "name": "stderr",
     "output_type": "stream",
     "text": [
      "Training Batches:  56%|█████▌    | 363/652 [2:29:26<1:59:57, 24.90s/batch]"
     ]
    },
    {
     "name": "stdout",
     "output_type": "stream",
     "text": [
      "hipnn_automatic_doublet flag is True. Molecules with odd number of electrons are treated as doublets.\n",
      "\n",
      "hipnn_automatic_doublet flag is True. Molecules with odd number of electrons are treated as doublets.\n",
      "\n"
     ]
    },
    {
     "name": "stderr",
     "output_type": "stream",
     "text": [
      "Training Batches:  56%|█████▌    | 364/652 [2:29:50<1:57:15, 24.43s/batch]"
     ]
    },
    {
     "name": "stdout",
     "output_type": "stream",
     "text": [
      "hipnn_automatic_doublet flag is True. Molecules with odd number of electrons are treated as doublets.\n",
      "\n",
      "hipnn_automatic_doublet flag is True. Molecules with odd number of electrons are treated as doublets.\n",
      "\n",
      "did not converge 1\n"
     ]
    },
    {
     "name": "stderr",
     "output_type": "stream",
     "text": [
      "Training Batches:  56%|█████▌    | 365/652 [2:30:14<1:56:37, 24.38s/batch]"
     ]
    },
    {
     "name": "stdout",
     "output_type": "stream",
     "text": [
      "hipnn_automatic_doublet flag is True. Molecules with odd number of electrons are treated as doublets.\n",
      "\n",
      "hipnn_automatic_doublet flag is True. Molecules with odd number of electrons are treated as doublets.\n",
      "\n"
     ]
    },
    {
     "name": "stderr",
     "output_type": "stream",
     "text": [
      "Training Batches:  56%|█████▌    | 366/652 [2:30:38<1:56:19, 24.40s/batch]"
     ]
    },
    {
     "name": "stdout",
     "output_type": "stream",
     "text": [
      "hipnn_automatic_doublet flag is True. Molecules with odd number of electrons are treated as doublets.\n",
      "\n",
      "hipnn_automatic_doublet flag is True. Molecules with odd number of electrons are treated as doublets.\n",
      "\n"
     ]
    },
    {
     "name": "stderr",
     "output_type": "stream",
     "text": [
      "Training Batches:  56%|█████▋    | 367/652 [2:31:02<1:55:33, 24.33s/batch]"
     ]
    },
    {
     "name": "stdout",
     "output_type": "stream",
     "text": [
      "hipnn_automatic_doublet flag is True. Molecules with odd number of electrons are treated as doublets.\n",
      "\n",
      "hipnn_automatic_doublet flag is True. Molecules with odd number of electrons are treated as doublets.\n",
      "\n"
     ]
    },
    {
     "name": "stderr",
     "output_type": "stream",
     "text": [
      "Training Batches:  56%|█████▋    | 368/652 [2:31:27<1:55:43, 24.45s/batch]"
     ]
    },
    {
     "name": "stdout",
     "output_type": "stream",
     "text": [
      "hipnn_automatic_doublet flag is True. Molecules with odd number of electrons are treated as doublets.\n",
      "\n",
      "hipnn_automatic_doublet flag is True. Molecules with odd number of electrons are treated as doublets.\n",
      "\n"
     ]
    },
    {
     "name": "stderr",
     "output_type": "stream",
     "text": [
      "Training Batches:  57%|█████▋    | 369/652 [2:31:51<1:54:34, 24.29s/batch]"
     ]
    },
    {
     "name": "stdout",
     "output_type": "stream",
     "text": [
      "hipnn_automatic_doublet flag is True. Molecules with odd number of electrons are treated as doublets.\n",
      "\n",
      "hipnn_automatic_doublet flag is True. Molecules with odd number of electrons are treated as doublets.\n",
      "\n"
     ]
    },
    {
     "name": "stderr",
     "output_type": "stream",
     "text": [
      "Training Batches:  57%|█████▋    | 370/652 [2:32:15<1:53:14, 24.09s/batch]"
     ]
    },
    {
     "name": "stdout",
     "output_type": "stream",
     "text": [
      "hipnn_automatic_doublet flag is True. Molecules with odd number of electrons are treated as doublets.\n",
      "\n",
      "hipnn_automatic_doublet flag is True. Molecules with odd number of electrons are treated as doublets.\n",
      "\n"
     ]
    },
    {
     "name": "stderr",
     "output_type": "stream",
     "text": [
      "Training Batches:  57%|█████▋    | 371/652 [2:32:38<1:52:00, 23.91s/batch]"
     ]
    },
    {
     "name": "stdout",
     "output_type": "stream",
     "text": [
      "hipnn_automatic_doublet flag is True. Molecules with odd number of electrons are treated as doublets.\n",
      "\n",
      "hipnn_automatic_doublet flag is True. Molecules with odd number of electrons are treated as doublets.\n",
      "\n"
     ]
    },
    {
     "name": "stderr",
     "output_type": "stream",
     "text": [
      "Training Batches:  57%|█████▋    | 372/652 [2:33:02<1:51:19, 23.86s/batch]"
     ]
    },
    {
     "name": "stdout",
     "output_type": "stream",
     "text": [
      "hipnn_automatic_doublet flag is True. Molecules with odd number of electrons are treated as doublets.\n",
      "\n",
      "hipnn_automatic_doublet flag is True. Molecules with odd number of electrons are treated as doublets.\n",
      "\n",
      "did not converge 1\n"
     ]
    },
    {
     "name": "stderr",
     "output_type": "stream",
     "text": [
      "Training Batches:  57%|█████▋    | 373/652 [2:33:27<1:52:32, 24.20s/batch]"
     ]
    },
    {
     "name": "stdout",
     "output_type": "stream",
     "text": [
      "hipnn_automatic_doublet flag is True. Molecules with odd number of electrons are treated as doublets.\n",
      "\n",
      "hipnn_automatic_doublet flag is True. Molecules with odd number of electrons are treated as doublets.\n",
      "\n"
     ]
    },
    {
     "name": "stderr",
     "output_type": "stream",
     "text": [
      "Training Batches:  57%|█████▋    | 374/652 [2:33:52<1:52:40, 24.32s/batch]"
     ]
    },
    {
     "name": "stdout",
     "output_type": "stream",
     "text": [
      "hipnn_automatic_doublet flag is True. Molecules with odd number of electrons are treated as doublets.\n",
      "\n",
      "hipnn_automatic_doublet flag is True. Molecules with odd number of electrons are treated as doublets.\n",
      "\n",
      "did not converge 2\n"
     ]
    },
    {
     "name": "stderr",
     "output_type": "stream",
     "text": [
      "Training Batches:  58%|█████▊    | 375/652 [2:34:17<1:53:56, 24.68s/batch]"
     ]
    },
    {
     "name": "stdout",
     "output_type": "stream",
     "text": [
      "hipnn_automatic_doublet flag is True. Molecules with odd number of electrons are treated as doublets.\n",
      "\n",
      "hipnn_automatic_doublet flag is True. Molecules with odd number of electrons are treated as doublets.\n",
      "\n",
      "did not converge 1\n"
     ]
    },
    {
     "name": "stderr",
     "output_type": "stream",
     "text": [
      "Training Batches:  58%|█████▊    | 376/652 [2:34:42<1:53:40, 24.71s/batch]"
     ]
    },
    {
     "name": "stdout",
     "output_type": "stream",
     "text": [
      "hipnn_automatic_doublet flag is True. Molecules with odd number of electrons are treated as doublets.\n",
      "\n",
      "hipnn_automatic_doublet flag is True. Molecules with odd number of electrons are treated as doublets.\n",
      "\n"
     ]
    },
    {
     "name": "stderr",
     "output_type": "stream",
     "text": [
      "Training Batches:  58%|█████▊    | 377/652 [2:35:06<1:52:59, 24.65s/batch]"
     ]
    },
    {
     "name": "stdout",
     "output_type": "stream",
     "text": [
      "hipnn_automatic_doublet flag is True. Molecules with odd number of electrons are treated as doublets.\n",
      "\n",
      "hipnn_automatic_doublet flag is True. Molecules with odd number of electrons are treated as doublets.\n",
      "\n"
     ]
    },
    {
     "name": "stderr",
     "output_type": "stream",
     "text": [
      "Training Batches:  58%|█████▊    | 378/652 [2:35:32<1:53:12, 24.79s/batch]"
     ]
    },
    {
     "name": "stdout",
     "output_type": "stream",
     "text": [
      "hipnn_automatic_doublet flag is True. Molecules with odd number of electrons are treated as doublets.\n",
      "\n",
      "hipnn_automatic_doublet flag is True. Molecules with odd number of electrons are treated as doublets.\n",
      "\n",
      "did not converge 1\n"
     ]
    },
    {
     "name": "stderr",
     "output_type": "stream",
     "text": [
      "Training Batches:  58%|█████▊    | 379/652 [2:35:57<1:53:11, 24.88s/batch]"
     ]
    },
    {
     "name": "stdout",
     "output_type": "stream",
     "text": [
      "hipnn_automatic_doublet flag is True. Molecules with odd number of electrons are treated as doublets.\n",
      "\n",
      "hipnn_automatic_doublet flag is True. Molecules with odd number of electrons are treated as doublets.\n",
      "\n"
     ]
    },
    {
     "name": "stderr",
     "output_type": "stream",
     "text": [
      "Training Batches:  58%|█████▊    | 380/652 [2:36:19<1:49:09, 24.08s/batch]"
     ]
    },
    {
     "name": "stdout",
     "output_type": "stream",
     "text": [
      "hipnn_automatic_doublet flag is True. Molecules with odd number of electrons are treated as doublets.\n",
      "\n",
      "hipnn_automatic_doublet flag is True. Molecules with odd number of electrons are treated as doublets.\n",
      "\n"
     ]
    },
    {
     "name": "stderr",
     "output_type": "stream",
     "text": [
      "Training Batches:  58%|█████▊    | 381/652 [2:36:45<1:51:40, 24.73s/batch]"
     ]
    },
    {
     "name": "stdout",
     "output_type": "stream",
     "text": [
      "hipnn_automatic_doublet flag is True. Molecules with odd number of electrons are treated as doublets.\n",
      "\n",
      "hipnn_automatic_doublet flag is True. Molecules with odd number of electrons are treated as doublets.\n",
      "\n",
      "did not converge 1\n"
     ]
    },
    {
     "name": "stderr",
     "output_type": "stream",
     "text": [
      "Training Batches:  59%|█████▊    | 382/652 [2:37:12<1:54:50, 25.52s/batch]"
     ]
    },
    {
     "name": "stdout",
     "output_type": "stream",
     "text": [
      "hipnn_automatic_doublet flag is True. Molecules with odd number of electrons are treated as doublets.\n",
      "\n",
      "hipnn_automatic_doublet flag is True. Molecules with odd number of electrons are treated as doublets.\n",
      "\n",
      "did not converge 1\n"
     ]
    },
    {
     "name": "stderr",
     "output_type": "stream",
     "text": [
      "Training Batches:  59%|█████▊    | 383/652 [2:37:38<1:54:42, 25.59s/batch]"
     ]
    },
    {
     "name": "stdout",
     "output_type": "stream",
     "text": [
      "hipnn_automatic_doublet flag is True. Molecules with odd number of electrons are treated as doublets.\n",
      "\n",
      "hipnn_automatic_doublet flag is True. Molecules with odd number of electrons are treated as doublets.\n",
      "\n"
     ]
    },
    {
     "name": "stderr",
     "output_type": "stream",
     "text": [
      "Training Batches:  59%|█████▉    | 384/652 [2:38:04<1:55:13, 25.80s/batch]"
     ]
    },
    {
     "name": "stdout",
     "output_type": "stream",
     "text": [
      "hipnn_automatic_doublet flag is True. Molecules with odd number of electrons are treated as doublets.\n",
      "\n",
      "hipnn_automatic_doublet flag is True. Molecules with odd number of electrons are treated as doublets.\n",
      "\n",
      "did not converge 1\n"
     ]
    },
    {
     "name": "stderr",
     "output_type": "stream",
     "text": [
      "Training Batches:  59%|█████▉    | 385/652 [2:38:31<1:56:08, 26.10s/batch]"
     ]
    },
    {
     "name": "stdout",
     "output_type": "stream",
     "text": [
      "hipnn_automatic_doublet flag is True. Molecules with odd number of electrons are treated as doublets.\n",
      "\n",
      "hipnn_automatic_doublet flag is True. Molecules with odd number of electrons are treated as doublets.\n",
      "\n"
     ]
    },
    {
     "name": "stderr",
     "output_type": "stream",
     "text": [
      "Training Batches:  59%|█████▉    | 386/652 [2:38:56<1:54:30, 25.83s/batch]"
     ]
    },
    {
     "name": "stdout",
     "output_type": "stream",
     "text": [
      "hipnn_automatic_doublet flag is True. Molecules with odd number of electrons are treated as doublets.\n",
      "\n",
      "hipnn_automatic_doublet flag is True. Molecules with odd number of electrons are treated as doublets.\n",
      "\n"
     ]
    },
    {
     "name": "stderr",
     "output_type": "stream",
     "text": [
      "Training Batches:  59%|█████▉    | 387/652 [2:39:21<1:52:42, 25.52s/batch]"
     ]
    },
    {
     "name": "stdout",
     "output_type": "stream",
     "text": [
      "hipnn_automatic_doublet flag is True. Molecules with odd number of electrons are treated as doublets.\n",
      "\n",
      "hipnn_automatic_doublet flag is True. Molecules with odd number of electrons are treated as doublets.\n",
      "\n"
     ]
    }
   ],
   "source": [
    "\n",
    "\n",
    "########\n",
    "current_dir = \"/home/maxim/Projects/TESTS/pyseqm_tests/HIPNN_TRAIN/comb_t1x_ani_bse/\"\n",
    "os.chdir(current_dir)\n",
    "\n",
    "def main():\n",
    "\n",
    "    ### directory csv with semiempirical parameters ###\n",
    "    parameter_file_dir = \"/home/maxim/Projects/git2/PYSEQM_dev/seqm/params/\"\n",
    "    \n",
    "    ### directory with training set ###\n",
    "    #dataset_path = \"/home/maxim/Projects/TESTS/pyseqm_tests/HIPNN_TRAIN/training_set/\" \n",
    "    dataset_path = \"/home/maxim/Projects/TESTS/pyseqm_tests/HIPNN_TRAIN/comb_t1x_ani_bse/combined_datasets/\" \n",
    "    \n",
    "    ### Prefix for arrays in folder ###\n",
    "    dataset_name = ''\n",
    "\n",
    "    ### folder with models and plots ###\n",
    "    netname = 'TEST1'\n",
    "    dirname = netname\n",
    "    if not os.path.exists(dirname):\n",
    "        os.mkdir(dirname)\n",
    "    else:\n",
    "        pass\n",
    "        #raise ValueError(\"Directory {} already exists!\".format(dirname))\n",
    "    os.chdir(dirname)\n",
    "\n",
    "    TAG = 0 #False (0): first run, True(n): continue\n",
    "\n",
    "    dtype=torch.float64\n",
    "    torch.set_default_dtype(dtype)\n",
    "    #device = torch.device('cuda')\n",
    "    DEVICE = 'cuda'\n",
    "    #DEVICE = 'cpu'\n",
    "\n",
    "\n",
    "    ### list of parameters to be learned ###\n",
    "    #\"\"\"\n",
    "    learned = ['U_ss', 'U_pp',\n",
    "               'zeta_s', 'zeta_p',\n",
    "               #'beta_s', \n",
    "               'beta_p',\n",
    "               #'g_ss',\n",
    "               'g_sp', 'g_pp', 'g_p2', 'h_sp',\n",
    "               #'alpha',\n",
    "           # 'Gaussian1_K', 'Gaussian2_K', #'Gaussian3_K','Gaussian4_K',\n",
    "           # 'Gaussian1_L', 'Gaussian2_L', #'Gaussian3_L','Gaussian4_L',\n",
    "           # 'Gaussian1_M', 'Gaussian2_M', #'Gaussian3_M','Gaussian4_M',\n",
    "          ]\n",
    "    #\"\"\"\n",
    "\n",
    "    \n",
    "    ### SEQM parameters ###\n",
    "    seqm_parameters = {\n",
    "                \"method\": \"PM6_SP\",  # AM1, MNDO, PM3#\n",
    "                \"scf_eps\": 27.2114e-5,  # unit eV, change of electric energy, as nuclear energy doesnt' change during SCF\n",
    "                \"scf_converger\": [1, 0.6, 50], # converger used for scf loop\n",
    "                                           # [0, 0.1], [0, alpha] constant mixing, P = alpha*P + (1.0-alpha)*Pnew\n",
    "                                           # [1], adaptive mixing\n",
    "                                           # [2], adaptive mixing, then pulay\n",
    "                \"sp2\": [False, 1.0e-5],  # whether to use sp2 algorithm in scf loop,[True, eps] or [False], eps for SP2 conve criteria\n",
    "                \"elements\": [0, 1, 6, 7, 8],\n",
    "                \"learned\": learned,  # parameterlist[method], #['U_ss'], # learned parameters name list, e.g ['U_ss']\n",
    "                \"parameter_file_dir\": parameter_file_dir + \"/\",  # file directory for other required parameters\n",
    "                \"pair_outer_cutoff\": 1.0e10,  # consistent with the unit on coordinates\n",
    "                \"scf_backward\": 2, # 0: Hellmann–Feynman theorem, 1: recursive formula, 2: backpropagate through SCF (needed for training)\n",
    "                \"Hf_flag\": False,\n",
    "                'UHF' : True, # use unrestricted HF\n",
    "                'BS' : True, \n",
    "                'HIPNN_automatic_doublet': True, # assign doublet state to molecules with odd number of electrons\n",
    "                }\n",
    "\n",
    "    # Log the output of python to `training_log.txt`\n",
    "    with hippynn.tools.log_terminal(\"training_log_tag_%d.txt\" % TAG,'wt'):# and torch.autograd.set_detect_anomaly(True):\n",
    "\n",
    "        ### Hyperparameters for the network ###\n",
    "        network_params = {\n",
    "            \"possible_species\": [0,1,6,7,8],   # Z values of the elements\n",
    "            'n_features': 60,                     # Number of neurons at each layer\n",
    "            \"n_sensitivities\": 20,                # Number of sensitivity functions in an interaction layer\n",
    "            \"dist_soft_min\": 0.7,  # qm7 1.7  qm9 .85  AL100 .85\n",
    "            \"dist_soft_max\": 3.0,  # qm7 10.  qm9 5.   AL100 5.\n",
    "            \"dist_hard_max\": 4.0,  # qm7 15.  qm9 7.5  AL100 7.5\n",
    "            \"n_interaction_layers\": 2,            # Number of interaction blocks\n",
    "            \"n_atom_layers\": 3,                   # Number of atom layers in an interaction block\n",
    "        }\n",
    "\n",
    "\n",
    "        ### Define a model ###\n",
    "\n",
    "        species = inputs.SpeciesNode(db_name=\"Z_no_outlier\")\n",
    "\n",
    "        positions = inputs.PositionsNode(db_name=\"R_no_outlier\")\n",
    "\n",
    "        network = networks.Hipnn(\"HIPNN_seqm\", (species, positions), module_kwargs = network_params)\n",
    "\n",
    "        n_target_peratom = len(seqm_parameters[\"learned\"])\n",
    "\n",
    "        decay_factor = 1e-4\n",
    "        par_atom = HChargeNode(\"SEQM_Atom_Params\",network,module_kwargs=dict(n_target=n_target_peratom,first_is_interacting=True))\n",
    "        with torch.no_grad():\n",
    "            for layer in par_atom.torch_module.layers:\n",
    "                layer.weight.data *= decay_factor\n",
    "                layer.bias.data *= decay_factor\n",
    "\n",
    "        seqm_par = par_atom.atom_charges\n",
    "\n",
    "        lenergy = SEQM_AllNode(\"SEQM_Energy\",(par_atom, positions, species),seqm_parameters, decay_factor = 1.0e-4)\n",
    "\n",
    "        molecule_energy = lenergy.mol_energy\n",
    "        #molecule_energy = lenergy.Etot_m_Eiso\n",
    "\n",
    "        gradient  = physics.GradientNode(\"gradients\", (molecule_energy, positions), sign=+1)\n",
    "\n",
    "        notconverged = lenergy.notconverged\n",
    "        scale = ScaleNode(\"Scale\", (notconverged,))\n",
    "\n",
    "        # gradient.db_name='Gradient_ev'\n",
    "        # molecule_energy.db_name=\"EtEi\"\n",
    "    \n",
    "        gradient.db_name='Grad_no_outlier'\n",
    "        #molecule_energy.db_name=\"EATOMIZ_DFT_no_outlier\"\n",
    "        molecule_energy.db_name=\"Etot_m_BIAS_no_outlier\"\n",
    "        \n",
    "        \n",
    "\n",
    "\n",
    "        mol_mask = SEQM_MolMaskNode(\"SEQM_MolMask\", notconverged)\n",
    "        atom_mask = AtomMaskNode(\"Atom_Mask\", species)\n",
    "        gradient_pred = SEQM_MaskOnMolAtomNode(\"SEQM_MaskMolAtom_Pred\", (gradient, mol_mask, atom_mask)).pred\n",
    "        gradient_true = SEQM_MaskOnMolAtomNode(\"SEQM_MaskMolAtom_True\", (gradient.true, mol_mask.pred, atom_mask.pred))\n",
    "\n",
    "        molecule_energy_pred = SEQM_MaskOnMolNode(\"SEQM_MaskMol_Pred\", (molecule_energy, mol_mask)).pred\n",
    "        molecule_energy_true = SEQM_MaskOnMolNode(\"SEQM_MaskMol_True\", (molecule_energy.true, mol_mask.pred))\n",
    "\n",
    "\n",
    "        ### define loss quantities ###\n",
    "\n",
    "        rmse_gradient = loss.MSELoss(gradient_pred, gradient_true) ** (1./2.)\n",
    "        rmse_mol_energy = loss.MSELoss(molecule_energy_pred, molecule_energy_true) ** (1. / 2.)\n",
    "\n",
    "        #rmse_energy_grad = rmse_gradient + rmse_mol_energy\n",
    "\n",
    "        mae_gradient = loss.MAELoss(gradient_pred, gradient_true)\n",
    "        mae_mol_energy = loss.MAELoss(molecule_energy_pred, molecule_energy_true)\n",
    "\n",
    "        #mae_energy_grad = mae_gradient + mae_mol_energy\n",
    "        \n",
    "        rsq_gradient = loss.Rsq(gradient_pred, gradient_true)\n",
    "        rsq_mol_energy = loss.Rsq(molecule_energy_pred, molecule_energy_true)\n",
    "\n",
    "        ### SLIGHTLY MORE ADVANCED USAGE\n",
    "\n",
    "        #pred_per_atom = physics.PerAtom(\"PeratomPredicted\",(molecule_energy,species)).pred\n",
    "        #true_per_atom = physics.PerAtom(\"PeratomTrue\",(molecule_energy.true,species.true))\n",
    "\n",
    "        pred_per_atom1 = physics.PerAtom(\"PeratomPredicted\",(molecule_energy,species))\n",
    "        true_per_atom1 = physics.PerAtom(\"PeratomTrue\",(molecule_energy.true,species.true))\n",
    "        pred_per_atom = SEQM_MaskOnMolNode(\"SEQM_PerAtom_Pred\", (pred_per_atom1, mol_mask)).pred\n",
    "        true_per_atom = SEQM_MaskOnMolNode(\"SEQM_PerAtom_True\", (true_per_atom1.pred, mol_mask.pred))\n",
    "        mae_per_atom = loss.MAELoss(pred_per_atom,true_per_atom)\n",
    "        rmse_per_atom = loss.MSELoss(pred_per_atom,true_per_atom) ** (1. / 2.)\n",
    "\n",
    "        rmse_par = loss.MeanSq(seqm_par.pred)\n",
    "\n",
    "        ### END SLIGHTLY MORE ADVANCED USAGE\n",
    "\n",
    "        #loss_error = (rmse_energy_grad + mae_energy_grad) + rmse_par*8.0\n",
    "        #loss_error = (0.3*(rmse_gradient + mae_gradient) + (rmse_mol_energy + mae_mol_energy)) + rmse_par*5.0\n",
    "        loss_error = (rmse_mol_energy + mae_mol_energy) + rmse_par*5.0\n",
    "\n",
    "        #rbar = loss.Mean.of_node(hierarchicality)\n",
    "        l2_reg = loss.l2reg(network)\n",
    "        loss_regularization = 1.0e-6 * loss.Mean(l2_reg) #+ rbar    # L2 regularization and hierarchicality regularization\n",
    "\n",
    "        train_loss = loss_error*scale.pred + loss_regularization\n",
    "\n",
    "        # Validation losses are what we check on the data between epochs -- we can only train to\n",
    "        # a single loss, but we can check other metrics too to better understand how the model is training.\n",
    "        # There will also be plots of these things over time when training completes.\n",
    "        validation_losses = {\n",
    "            \"TperAtom RMSE\":rmse_per_atom,\n",
    "            \"TperAtom MAE\" : mae_per_atom,\n",
    "            \"Force-RMSE\"   : rmse_gradient,\n",
    "            \"Force-MAE\"    : mae_gradient,\n",
    "            \"Force-RSQ\"    : rsq_gradient,\n",
    "            \"MolEn-RMSE\"   : rmse_mol_energy,\n",
    "            \"MolEn-MAE\"    : mae_mol_energy,\n",
    "            \"MolEn-RSQ\"    : rsq_mol_energy,\n",
    "            \"L2Reg\"        : l2_reg,\n",
    "            \"Loss-Err\"     : loss_error,\n",
    "            \"Loss-Reg\"     : loss_regularization,\n",
    "            \"Loss\"         : train_loss,\n",
    "        }\n",
    "        early_stopping_key = \"Loss-Err\"\n",
    "\n",
    "\n",
    "\n",
    "        plot_maker = plotting.PlotMaker(\n",
    "            # Simple plots which compare the network to the database\n",
    "\n",
    "            #plotting.Hist2D.compare(molecule_energy, saved=True),\n",
    "            plotting.Hist2D(molecule_energy_true, molecule_energy_pred,\n",
    "                            xlabel=\"True EtEi\",ylabel=\"Predicted EtEi\",\n",
    "                            saved=\"EtEi.png\"),\n",
    "            plotting.Hist2D(gradient_true, gradient_pred,\n",
    "                            xlabel=\"True Force\",ylabel=\"Predicted Force\",\n",
    "                            saved=\"grad.png\"),\n",
    "\n",
    "            #Slightly more advanced control of plotting!\n",
    "            plotting.Hist2D(true_per_atom,pred_per_atom,\n",
    "                            xlabel=\"True Energy/Atom\",ylabel=\"Predicted Energy/Atom\",\n",
    "                            saved=\"PerAtomEn.png\"),\n",
    "\n",
    "            #plotting.HierarchicalityPlot(hierarchicality.pred,\n",
    "            #                             molecule_energy.pred - molecule_energy.true,\n",
    "            #                             saved=\"HierPlot.pdf\"),\n",
    "            plot_every=1,   # How often to make plots -- here, epoch 0, 10, 20...\n",
    "        )\n",
    "\n",
    "        if TAG==0: #TRAINING FROM SCRATCH\n",
    "\n",
    "\n",
    "            training_modules, db_info = \\\n",
    "                assemble_for_training(train_loss,validation_losses,plot_maker=plot_maker)\n",
    "            training_modules[0].print_structure()\n",
    "\n",
    "    # ----------------- #\n",
    "    # Step 3: RUN MODEL #\n",
    "    # ----------------- #\n",
    "\n",
    "            database_params = {\n",
    "                'name': dataset_name,                            # Prefix for arrays in folder\n",
    "                'directory': dataset_path,\n",
    "                'quiet': False,                           # Quiet==True: suppress info about loading database\n",
    "                'seed': 8000,                       # Random seed for data splitting\n",
    "                #'test_size': 0.1,                # Fraction of data used for testing\n",
    "                #'valid_size':0.1,\n",
    "                **db_info                 # Adds the inputs and targets names from the model as things to load\n",
    "            }\n",
    "\n",
    "\n",
    "            database = DirectoryDatabase(**database_params)\n",
    "            \n",
    "            ### a fraction of the data set to ignore (i.e., 0.9 means to ignore 90% of the data set and use 10% for train/test/validation) ###\n",
    "            database.make_random_split(\"ignore\",0.6)\n",
    "            del database.splits['ignore']\n",
    "            database.make_trainvalidtest_split(test_size=0.1,valid_size=0.1)\n",
    "\n",
    "            #from hippynn.pretraining import set_e0_values\n",
    "            #set_e0_values(henergy,database,energy_name=\"T_transpose\",trainable_after=False)\n",
    "\n",
    "            init_lr = 1.0e-5\n",
    "            optimizer = torch.optim.Adam(training_modules.model.parameters(),lr=init_lr)\n",
    "\n",
    "\n",
    "\n",
    "            scheduler =  RaiseBatchSizeOnPlateau(optimizer=optimizer,\n",
    "                                                max_batch_size=74,\n",
    "                                                patience=2,\n",
    "                                                factor=0.5\n",
    "                                                )\n",
    "\n",
    "            controller = PatienceController(optimizer=optimizer,\n",
    "                                            scheduler=scheduler,\n",
    "                                            batch_size=74,\n",
    "                                            eval_batch_size=100,\n",
    "                                            max_epochs=200,\n",
    "                                            termination_patience=20,\n",
    "                                            fraction_train_eval=0.1,\n",
    "                                            stopping_key=early_stopping_key,\n",
    "                                            )\n",
    "\n",
    "            scheduler.set_controller(controller)\n",
    "\n",
    "            experiment_params = hippynn.experiment.SetupParams(\n",
    "                controller = controller,\n",
    "                device=DEVICE,\n",
    "            )\n",
    "            print(experiment_params)\n",
    "\n",
    "            # Parameters describing the training procedure.\n",
    "\n",
    "            training_modules, controller, metric_tracker  = setup_training(training_modules=training_modules,\n",
    "                                                            setup_params=experiment_params)\n",
    "            \n",
    "        if TAG>0: #CONTINUE INTERRUPTED TRAINING\n",
    "            from hippynn.experiment.serialization import load_checkpoint_from_cwd, load_checkpoint\n",
    "            from hippynn.experiment import train_model\n",
    "            \n",
    "            #load best model\n",
    "            #structure = load_checkpoint_from_cwd()\n",
    "            \n",
    "            #load last model\n",
    "            structure = load_checkpoint(\"experiment_structure.pt\", \"best_checkpoint.pt\")\n",
    "            \n",
    "            training_modules = structure[\"training_modules\"]\n",
    "            \n",
    "\n",
    "            training_modules[0].print_structure()\n",
    "            \n",
    "            database = structure[\"database\"]\n",
    "            \n",
    "            ### a fraction of the data set to ignore (i.e., 0.9 means to ignore 90% of the data set and use 10% for train/test/validation) ###\n",
    "            #database.make_random_split(\"ignore\",0.5)\n",
    "            #del database.splits['ignore']\n",
    "            database.make_trainvalidtest_split(test_size=0.1,valid_size=0.1)\n",
    "            \n",
    "\n",
    "            \n",
    "            #controller = structure[\"controller\"]\n",
    "            \n",
    "            init_lr = 5.0e-6\n",
    "            optimizer = torch.optim.SGD(training_modules.model.parameters(),lr=init_lr)\n",
    "            \n",
    "            scheduler =  RaiseBatchSizeOnPlateau(optimizer=optimizer,\n",
    "                                                max_batch_size=75,\n",
    "                                                patience=2,\n",
    "                                                factor=0.5)\n",
    "            \n",
    "            controller = PatienceController(optimizer=optimizer,\n",
    "                                            scheduler=scheduler,\n",
    "                                            batch_size=75,\n",
    "                                            eval_batch_size=100,\n",
    "                                            max_epochs=200,\n",
    "                                            termination_patience=20,\n",
    "                                            fraction_train_eval=0.1,\n",
    "                                            stopping_key=early_stopping_key,\n",
    "                                            )\n",
    "            \n",
    "            metric_tracker = structure[\"metric_tracker\"]\n",
    "    \n",
    "    from hippynn.experiment import train_model\n",
    "    \n",
    "    store_all_better=True\n",
    "    store_best=True\n",
    "    if isinstance(training_modules[0], torch.nn.DataParallel):\n",
    "        seqm_module = training_modules[0].module.node_from_name('SEQM_Energy').torch_module\n",
    "    else:\n",
    "        seqm_module = training_modules[0].node_from_name('SEQM_Energy').torch_module\n",
    "    callbacks = [update_scf_eps(seqm_module, 0.9),\n",
    "                    save_and_stop_after(training_modules, controller, metric_tracker, store_all_better, store_best, [2,0,0,0])]\n",
    "    \n",
    "    train_model(training_modules=training_modules,\n",
    "                database=database,\n",
    "                controller=controller,\n",
    "                metric_tracker=metric_tracker,\n",
    "                callbacks=callbacks,batch_callbacks=None,\n",
    "                store_all_better=store_all_better,\n",
    "                store_best=store_best)\n",
    "\n",
    "if __name__==\"__main__\":\n",
    "    main()\n",
    "\n"
   ]
  },
  {
   "cell_type": "code",
   "execution_count": null,
   "id": "838f504e-e38d-4b21-b6e9-13be6275ae93",
   "metadata": {},
   "outputs": [],
   "source": []
  }
 ],
 "metadata": {
  "kernelspec": {
   "display_name": "hipnn_1",
   "language": "python",
   "name": "hipnn_1"
  },
  "language_info": {
   "codemirror_mode": {
    "name": "ipython",
    "version": 3
   },
   "file_extension": ".py",
   "mimetype": "text/x-python",
   "name": "python",
   "nbconvert_exporter": "python",
   "pygments_lexer": "ipython3",
   "version": "3.9.16"
  }
 },
 "nbformat": 4,
 "nbformat_minor": 5
}
